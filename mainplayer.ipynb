{
 "cells": [
  {
   "cell_type": "code",
   "execution_count": 1,
   "id": "f92c35ad",
   "metadata": {
    "scrolled": true
   },
   "outputs": [
    {
     "name": "stdout",
     "output_type": "stream",
     "text": [
      "Requirement already satisfied: python-vlc in c:\\users\\myhom\\anaconda3\\lib\\site-packages (3.0.101)\n",
      "Note: you may need to restart the kernel to use updated packages.\n"
     ]
    },
    {
     "name": "stderr",
     "output_type": "stream",
     "text": [
      "WARNING: Ignoring invalid distribution -cryptodomex (c:\\users\\myhom\\anaconda3\\lib\\site-packages)\n",
      "WARNING: Ignoring invalid distribution -ycryptodomex (c:\\users\\myhom\\anaconda3\\lib\\site-packages)\n",
      "WARNING: Ignoring invalid distribution - (c:\\users\\myhom\\anaconda3\\lib\\site-packages)\n",
      "WARNING: Ignoring invalid distribution -cryptodomex (c:\\users\\myhom\\anaconda3\\lib\\site-packages)\n",
      "WARNING: Ignoring invalid distribution -ycryptodomex (c:\\users\\myhom\\anaconda3\\lib\\site-packages)\n",
      "WARNING: Ignoring invalid distribution - (c:\\users\\myhom\\anaconda3\\lib\\site-packages)\n",
      "WARNING: Ignoring invalid distribution -cryptodomex (c:\\users\\myhom\\anaconda3\\lib\\site-packages)\n",
      "WARNING: Ignoring invalid distribution -ycryptodomex (c:\\users\\myhom\\anaconda3\\lib\\site-packages)\n",
      "WARNING: Ignoring invalid distribution - (c:\\users\\myhom\\anaconda3\\lib\\site-packages)\n",
      "WARNING: Ignoring invalid distribution -cryptodomex (c:\\users\\myhom\\anaconda3\\lib\\site-packages)\n",
      "WARNING: Ignoring invalid distribution -ycryptodomex (c:\\users\\myhom\\anaconda3\\lib\\site-packages)\n",
      "WARNING: Ignoring invalid distribution - (c:\\users\\myhom\\anaconda3\\lib\\site-packages)\n",
      "WARNING: Ignoring invalid distribution -cryptodomex (c:\\users\\myhom\\anaconda3\\lib\\site-packages)\n",
      "WARNING: Ignoring invalid distribution -ycryptodomex (c:\\users\\myhom\\anaconda3\\lib\\site-packages)\n",
      "WARNING: Ignoring invalid distribution - (c:\\users\\myhom\\anaconda3\\lib\\site-packages)\n",
      "WARNING: Ignoring invalid distribution -cryptodomex (c:\\users\\myhom\\anaconda3\\lib\\site-packages)\n",
      "WARNING: Ignoring invalid distribution -ycryptodomex (c:\\users\\myhom\\anaconda3\\lib\\site-packages)\n",
      "WARNING: Ignoring invalid distribution - (c:\\users\\myhom\\anaconda3\\lib\\site-packages)\n"
     ]
    }
   ],
   "source": [
    "pip install python-vlc"
   ]
  },
  {
   "cell_type": "code",
   "execution_count": 2,
   "id": "80d44078",
   "metadata": {},
   "outputs": [
    {
     "name": "stdout",
     "output_type": "stream",
     "text": [
      "Name: python-vlc\n",
      "Version: 3.0.101\n",
      "Summary: VLC bindings for python.\n",
      "Home-page: http://wiki.videolan.org/PythonBinding\n",
      "Author: Olivier Aubert\n",
      "Author-email: contact@olivieraubert.net\n",
      "License: GPL\n",
      "Location: c:\\users\\myhom\\anaconda3\\lib\\site-packages\n",
      "Requires: \n",
      "Required-by: \n",
      "Note: you may need to restart the kernel to use updated packages.\n"
     ]
    },
    {
     "name": "stderr",
     "output_type": "stream",
     "text": [
      "WARNING: Ignoring invalid distribution -cryptodomex (c:\\users\\myhom\\anaconda3\\lib\\site-packages)\n",
      "WARNING: Ignoring invalid distribution -ycryptodomex (c:\\users\\myhom\\anaconda3\\lib\\site-packages)\n",
      "WARNING: Ignoring invalid distribution - (c:\\users\\myhom\\anaconda3\\lib\\site-packages)\n"
     ]
    }
   ],
   "source": [
    "pip show python-vlc"
   ]
  },
  {
   "cell_type": "code",
   "execution_count": 2,
   "id": "482fbfec",
   "metadata": {},
   "outputs": [
    {
     "ename": "SystemExit",
     "evalue": "0",
     "output_type": "error",
     "traceback": [
      "An exception has occurred, use %tb to see the full traceback.\n",
      "\u001b[1;31mSystemExit\u001b[0m\u001b[1;31m:\u001b[0m 0\n"
     ]
    },
    {
     "name": "stderr",
     "output_type": "stream",
     "text": [
      "C:\\Users\\myhom\\anaconda3\\lib\\site-packages\\IPython\\core\\interactiveshell.py:3468: UserWarning: To exit: use 'exit', 'quit', or Ctrl-D.\n",
      "  warn(\"To exit: use 'exit', 'quit', or Ctrl-D.\", stacklevel=1)\n"
     ]
    }
   ],
   "source": [
    "import os\n",
    "import sys\n",
    "import queue\n",
    "import platform\n",
    "\n",
    "from PyQt5 import QtWidgets, QtGui, QtCore\n",
    "import vlc\n",
    "class MiniPlayer(QtWidgets.QMainWindow):\n",
    "\n",
    "    def __init__(self, data_queue, master=None):\n",
    "        QtWidgets.QMainWindow.__init__(self, master)\n",
    "        self.setWindowTitle(\"Mini Player\")\n",
    "        self.statusbar = self.statusBar()\n",
    "        self.statusbar.showMessage(\"Ready\")\n",
    "        \n",
    "        # Create a basic vlc instance\n",
    "        self.instance = vlc.Instance()\n",
    "        self.media = None\n",
    "        self.mediaplayer = self.instance.media_player_new()\n",
    "\n",
    "        self.init_ui()\n",
    "        self.open_file()\n",
    "        \n",
    "        self.setWindowFlags(QtCore.Qt.WindowStaysOnTopHint)\n",
    "        \n",
    "        self.timer = QtCore.QTimer(self)\n",
    "        self.timer.setInterval(10)\n",
    "        self.timer.timeout.connect(self.update_ui)\n",
    "\n",
    "        self.data_queue = data_queue\n",
    "        self.timer.start()\n",
    "        \n",
    "    def init_ui(self):\n",
    "        self.widget = QtWidgets.QWidget(self)\n",
    "        self.setCentralWidget(self.widget)\n",
    "\n",
    "        if platform.system() == \"Darwin\":  # for MacOS\n",
    "            self.videoframe = QtWidgets.QMacCocoaViewContainer(0)\n",
    "        else:\n",
    "            self.videoframe = QtWidgets.QFrame()\n",
    "\n",
    "        self.palette = self.videoframe.palette()\n",
    "        self.palette.setColor(QtGui.QPalette.Window, QtGui.QColor(0, 0, 0))\n",
    "        self.videoframe.setPalette(self.palette)\n",
    "        self.videoframe.setAutoFillBackground(True)\n",
    "\n",
    "        self.vboxlayout = QtWidgets.QVBoxLayout()\n",
    "        self.vboxlayout.addWidget(self.videoframe)\n",
    "        self.widget.setLayout(self.vboxlayout)\n",
    "\n",
    "    def open_file(self):\n",
    "        \n",
    "        filename =  \"저장 경로 템플릿.f248.webm\"\n",
    "        # getOpenFileName returns a tuple, so use only the actual file name\n",
    "        self.media = self.instance.media_new(filename)\n",
    "\n",
    "        self.mediaplayer.set_media(self.media)\n",
    "\n",
    "        # Parse the metadata of the file\n",
    "        self.media.parse()\n",
    "        \n",
    "        # Set the title of the track as the window title\n",
    "        self.setWindowTitle(\"{}\".format(self.media.get_meta(0)))\n",
    "\n",
    "        if platform.system() == \"Linux\":  # for Linux using the X Server\n",
    "            self.mediaplayer.set_xwindow(int(self.videoframe.winId()))\n",
    "        elif platform.system() == \"Windows\":  # for Windows\n",
    "            self.mediaplayer.set_hwnd(int(self.videoframe.winId()))\n",
    "        elif platform.system() == \"Darwin\":  # for MacOS\n",
    "            self.mediaplayer.set_nsobject(int(self.videoframe.winId()))\n",
    "\n",
    "        self.mediaplayer.play()\n",
    "\n",
    "    def update_ui(self):\n",
    "        self.update_statusbar()\n",
    "        if self.mediaplayer.is_playing()== 0:\n",
    "            self.mediaplayer.stop()\n",
    "            self.mediaplayer.set_position(0.0)\n",
    "            self.mediaplayer.play()\n",
    "\n",
    "        \n",
    "\n",
    "    def update_statusbar(self):\n",
    "        mtime = QtCore.QTime(0, 0, 0, 0)\n",
    "        time = mtime.addMSecs(self.mediaplayer.get_time())\n",
    "        self.statusbar.showMessage(time.toString())\n",
    "\n",
    "\n",
    "def main():\n",
    "    app = QtWidgets.QApplication(sys.argv)\n",
    "\n",
    "    data_queue = queue.Queue()\n",
    "\n",
    "    player = MiniPlayer(data_queue)\n",
    "    player.show()\n",
    "    player.resize(480, 480)\n",
    "    sys.exit(app.exec_())\n",
    "    \n",
    "if __name__ == \"__main__\":\n",
    "    main()\n"
   ]
  },
  {
   "cell_type": "code",
   "execution_count": null,
   "id": "9547a7e7",
   "metadata": {},
   "outputs": [],
   "source": []
  },
  {
   "cell_type": "code",
   "execution_count": null,
   "id": "3cf5a45b",
   "metadata": {},
   "outputs": [],
   "source": []
  }
 ],
 "metadata": {
  "kernelspec": {
   "display_name": "Python 3 (ipykernel)",
   "language": "python",
   "name": "python3"
  },
  "language_info": {
   "codemirror_mode": {
    "name": "ipython",
    "version": 3
   },
   "file_extension": ".py",
   "mimetype": "text/x-python",
   "name": "python",
   "nbconvert_exporter": "python",
   "pygments_lexer": "ipython3",
   "version": "3.10.9"
  }
 },
 "nbformat": 4,
 "nbformat_minor": 5
}
