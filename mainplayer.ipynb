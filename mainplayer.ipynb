{
 "cells": [
  {
   "cell_type": "code",
   "execution_count": 1,
   "id": "31fd596a",
   "metadata": {},
   "outputs": [
    {
     "name": "stderr",
     "output_type": "stream",
     "text": [
      "2023-05-30 10:30:58,950 - network - INFO - Connecting to localhost port 8888\n",
      "2023-05-30 10:30:58,977 - network - INFO - New data receiver thread started.\n"
     ]
    },
    {
     "ename": "SystemExit",
     "evalue": "0",
     "output_type": "error",
     "traceback": [
      "An exception has occurred, use %tb to see the full traceback.\n",
      "\u001b[1;31mSystemExit\u001b[0m\u001b[1;31m:\u001b[0m 0\n"
     ]
    },
    {
     "name": "stderr",
     "output_type": "stream",
     "text": [
      "C:\\Users\\user\\anaconda3\\lib\\site-packages\\IPython\\core\\interactiveshell.py:3468: UserWarning: To exit: use 'exit', 'quit', or Ctrl-D.\n",
      "  warn(\"To exit: use 'exit', 'quit', or Ctrl-D.\", stacklevel=1)\n"
     ]
    }
   ],
   "source": [
    "#! /usr/bin/env python3\n",
    "#\n",
    "# PyQt5-based video-sync example for VLC Python bindings\n",
    "# Copyright (C) 2009-2010 the VideoLAN team\n",
    "#\n",
    "# This program is free software; you can redistribute it and/or modify\n",
    "# it under the terms of the GNU General Public License as published by\n",
    "# the Free Software Foundation; either version 2 of the License, or\n",
    "# (at your option) any later version.\n",
    "#\n",
    "# This program is distributed in the hope that it will be useful,\n",
    "# but WITHOUT ANY WARRANTY; without even the implied warranty of\n",
    "# MERCHANTABILITY or FITNESS FOR A PARTICULAR PURPOSE.  See the\n",
    "# GNU General Public License for more details.\n",
    "#\n",
    "# You should have received a copy of the GNU General Public License\n",
    "# along with this program; if not, write to the Free Software\n",
    "# Foundation, Inc., 51 Franklin Street, Fifth Floor, Boston MA 02110-1301, USA.\n",
    "#\n",
    "\"\"\"\n",
    "This module contains a bare-bones VLC player class to play videos.\n",
    "\n",
    "Author: Saveliy Yusufov, Columbia University, sy2685@columbia.edu\n",
    "Date: 25 January 2019\n",
    "\"\"\"\n",
    "\n",
    "import os\n",
    "import sys\n",
    "import queue\n",
    "import platform\n",
    "\n",
    "from PyQt5 import QtWidgets, QtGui, QtCore\n",
    "import vlc\n",
    "from network import Client\n",
    "\n",
    "\n",
    "class MiniPlayer(QtWidgets.QMainWindow):\n",
    "    \"\"\"Stripped-down PyQt5-based media player class to sync with \"master\" video.\n",
    "    \"\"\"\n",
    "\n",
    "    def __init__(self, data_queue, master=None):\n",
    "        QtWidgets.QMainWindow.__init__(self, master)\n",
    "        self.setWindowTitle(\"Mini Player\")\n",
    "        self.statusbar = self.statusBar()\n",
    "        self.statusbar.showMessage(\"Ready\")\n",
    "\n",
    "        # Create a basic vlc instance\n",
    "        self.instance = vlc.Instance()\n",
    "\n",
    "        self.media = None\n",
    "\n",
    "        # Create an empty vlc media player\n",
    "        self.mediaplayer = self.instance.media_player_new()\n",
    "\n",
    "        self.init_ui()\n",
    "        self.open_file()\n",
    "\n",
    "        self.timer = QtCore.QTimer(self)\n",
    "        self.timer.setInterval(10)\n",
    "        self.timer.timeout.connect(self.update_ui)\n",
    "\n",
    "        self.data_queue = data_queue\n",
    "        self.timer.start()\n",
    "\n",
    "    def init_ui(self):\n",
    "        \"\"\"Set up the user interface\n",
    "        \"\"\"\n",
    "        self.widget = QtWidgets.QWidget(self)\n",
    "        self.setCentralWidget(self.widget)\n",
    "\n",
    "        # In this widget, the video will be drawn\n",
    "        if platform.system() == \"Darwin\":  # for MacOS\n",
    "            self.videoframe = QtWidgets.QMacCocoaViewContainer(0)\n",
    "        else:\n",
    "            self.videoframe = QtWidgets.QFrame()\n",
    "\n",
    "        self.palette = self.videoframe.palette()\n",
    "        self.palette.setColor(QtGui.QPalette.Window, QtGui.QColor(0, 0, 0))\n",
    "        self.videoframe.setPalette(self.palette)\n",
    "        self.videoframe.setAutoFillBackground(True)\n",
    "\n",
    "        self.vboxlayout = QtWidgets.QVBoxLayout()\n",
    "        self.vboxlayout.addWidget(self.videoframe)\n",
    "        self.widget.setLayout(self.vboxlayout)\n",
    "\n",
    "    def open_file(self):\n",
    "        \"\"\"Open a media file in a MediaPlayer\n",
    "        \"\"\"\n",
    "        dialog_txt = \"Choose Media File\"\n",
    "        filename = \"저장 경로 템플릿.f248.webm\"\n",
    "        if not filename[0]:\n",
    "            return\n",
    "\n",
    "        # getOpenFileName returns a tuple, so use only the actual file name\n",
    "        self.media = self.instance.media_new(filename[0])\n",
    "\n",
    "        # Put the media in the media player\n",
    "        self.mediaplayer.set_media(self.media)\n",
    "\n",
    "        # Parse the metadata of the file\n",
    "        self.media.parse()\n",
    "\n",
    "        # Set the title of the track as the window title\n",
    "        self.setWindowTitle(\"{}\".format(self.media.get_meta(0)))\n",
    "\n",
    "        # The media player has to be 'connected' to the QFrame (otherwise the\n",
    "        # video would be displayed in it's own window). This is platform\n",
    "        # specific, so we must give the ID of the QFrame (or similar object) to\n",
    "        # vlc. Different platforms have different functions for this\n",
    "        if platform.system() == \"Linux\":  # for Linux using the X Server\n",
    "            self.mediaplayer.set_xwindow(int(self.videoframe.winId()))\n",
    "        elif platform.system() == \"Windows\":  # for Windows\n",
    "            self.mediaplayer.set_hwnd(int(self.videoframe.winId()))\n",
    "        elif platform.system() == \"Darwin\":  # for MacOS\n",
    "            self.mediaplayer.set_nsobject(int(self.videoframe.winId()))\n",
    "\n",
    "        # Start playing the video as soon as it loads\n",
    "        self.mediaplayer.play()\n",
    "\n",
    "    def update_ui(self):\n",
    "        self.update_statusbar()\n",
    "\n",
    "        try:\n",
    "            val = self.data_queue.get(block=False)\n",
    "        except queue.Empty:\n",
    "            return\n",
    "\n",
    "        if val == '<':\n",
    "            self.mediaplayer.set_rate(self.mediaplayer.get_rate() * 0.5)\n",
    "            return\n",
    "        if val == '>':\n",
    "            self.mediaplayer.set_rate(self.mediaplayer.get_rate() * 2)\n",
    "            return\n",
    "        if val == 'P':\n",
    "            self.mediaplayer.play()\n",
    "            return\n",
    "        if val == 'p':\n",
    "            self.mediaplayer.pause()\n",
    "            return\n",
    "        if val == 'S':\n",
    "            self.mediaplayer.stop()\n",
    "            return\n",
    "\n",
    "        val = int(val)\n",
    "        if val != self.mediaplayer.get_time():\n",
    "            self.mediaplayer.set_time(val)\n",
    "\n",
    "    def update_statusbar(self):\n",
    "        mtime = QtCore.QTime(0, 0, 0, 0)\n",
    "        time = mtime.addMSecs(self.mediaplayer.get_time())\n",
    "        self.statusbar.showMessage(time.toString())\n",
    "\n",
    "\n",
    "def main():\n",
    "    \"\"\"Entry point for our simple vlc player\n",
    "    \"\"\"\n",
    "    app = QtWidgets.QApplication(sys.argv)\n",
    "\n",
    "    data_queue = queue.Queue()\n",
    "\n",
    "    player = MiniPlayer(data_queue)\n",
    "    player.show()\n",
    "    player.resize(480, 480)\n",
    "\n",
    "    _ = Client(\"localhost\", 8888, data_queue)\n",
    "    sys.exit(app.exec_())\n",
    "\n",
    "\n",
    "if __name__ == \"__main__\":\n",
    "    main()\n",
    "\n"
   ]
  },
  {
   "cell_type": "code",
   "execution_count": 2,
   "id": "3073991e",
   "metadata": {},
   "outputs": [
    {
     "name": "stdout",
     "output_type": "stream",
     "text": [
      "Requirement already satisfied: python-vlc in c:\\users\\user\\anaconda3\\lib\\site-packages (3.0.18122)Note: you may need to restart the kernel to use updated packages.\n",
      "\n"
     ]
    }
   ],
   "source": [
    "pip install python-vlc"
   ]
  },
  {
   "cell_type": "code",
   "execution_count": 3,
   "id": "cecf7410",
   "metadata": {},
   "outputs": [
    {
     "name": "stdout",
     "output_type": "stream",
     "text": [
      "Name: python-vlc\n",
      "Version: 3.0.18122\n",
      "Summary: VLC bindings for python.\n",
      "Home-page: http://wiki.videolan.org/PythonBinding\n",
      "Author: Olivier Aubert\n",
      "Author-email: contact@olivieraubert.net\n",
      "License: LGPL-2.1+\n",
      "Location: c:\\users\\user\\anaconda3\\lib\\site-packages\n",
      "Requires: \n",
      "Required-by: \n",
      "Note: you may need to restart the kernel to use updated packages.\n"
     ]
    }
   ],
   "source": [
    "pip show python-vlc"
   ]
  },
  {
   "cell_type": "code",
   "execution_count": 4,
   "id": "13f79ce3",
   "metadata": {},
   "outputs": [
    {
     "name": "stdout",
     "output_type": "stream",
     "text": [
      "Collecting https://github.com/yt-dlp/yt-dlp/archive/master.tar.gzNote: you may need to restart the kernel to use updated packages.\n",
      "\n",
      "  Using cached https://github.com/yt-dlp/yt-dlp/archive/master.tar.gz (2.4 MB)\n",
      "  Installing build dependencies: started\n",
      "  Installing build dependencies: finished with status 'done'\n",
      "  Getting requirements to build wheel: started\n",
      "  Getting requirements to build wheel: finished with status 'done'\n",
      "  Installing backend dependencies: started\n",
      "  Installing backend dependencies: finished with status 'done'\n",
      "  Preparing metadata (pyproject.toml): started\n",
      "  Preparing metadata (pyproject.toml): finished with status 'done'\n",
      "Collecting brotli\n",
      "  Using cached Brotli-1.0.9-cp310-cp310-win_amd64.whl (383 kB)\n",
      "Collecting pycryptodomex\n",
      "  Using cached pycryptodomex-3.18.0-cp35-abi3-win_amd64.whl (1.7 MB)\n",
      "Collecting mutagen\n",
      "  Using cached mutagen-1.46.0-py3-none-any.whl (193 kB)\n",
      "Collecting certifi\n",
      "  Using cached certifi-2023.5.7-py3-none-any.whl (156 kB)\n",
      "Collecting websockets\n",
      "  Using cached websockets-11.0.3-cp310-cp310-win_amd64.whl (124 kB)\n",
      "Building wheels for collected packages: yt-dlp\n",
      "  Building wheel for yt-dlp (pyproject.toml): started\n",
      "  Building wheel for yt-dlp (pyproject.toml): finished with status 'done'\n",
      "  Created wheel for yt-dlp: filename=yt_dlp-2023.3.4-py2.py3-none-any.whl size=2741418 sha256=6bee3978f603a677e5e69bf652eeb1d0107b2c5378dd55fafaf517d4fd80afb0\n",
      "  Stored in directory: C:\\Users\\user\\AppData\\Local\\Temp\\pip-ephem-wheel-cache-kt4no6kz\\wheels\\4c\\91\\d1\\c5369304e2f7afb660bb6eee093af5a7d3c0ea05a3c1e8c797\n",
      "Successfully built yt-dlp\n",
      "Installing collected packages: brotli, websockets, pycryptodomex, mutagen, certifi, yt-dlp\n",
      "  Attempting uninstall: brotli\n",
      "    Found existing installation: Brotli 1.0.9\n",
      "    Uninstalling Brotli-1.0.9:\n",
      "      Successfully uninstalled Brotli-1.0.9\n",
      "  Attempting uninstall: websockets\n",
      "    Found existing installation: websockets 11.0.3\n",
      "    Uninstalling websockets-11.0.3:\n",
      "      Successfully uninstalled websockets-11.0.3\n",
      "  Attempting uninstall: pycryptodomex\n",
      "    Found existing installation: pycryptodomex 3.18.0\n",
      "    Uninstalling pycryptodomex-3.18.0:\n",
      "      Successfully uninstalled pycryptodomex-3.18.0\n",
      "  Attempting uninstall: mutagen\n",
      "    Found existing installation: mutagen 1.46.0\n",
      "    Uninstalling mutagen-1.46.0:\n",
      "      Successfully uninstalled mutagen-1.46.0\n",
      "  Attempting uninstall: certifi\n",
      "    Found existing installation: certifi 2023.5.7\n",
      "    Uninstalling certifi-2023.5.7:\n",
      "      Successfully uninstalled certifi-2023.5.7\n",
      "  Attempting uninstall: yt-dlp\n",
      "    Found existing installation: yt-dlp 2023.3.4\n",
      "    Uninstalling yt-dlp-2023.3.4:\n",
      "      Successfully uninstalled yt-dlp-2023.3.4\n",
      "Successfully installed brotli-1.0.9 certifi-2023.5.7 mutagen-1.46.0 pycryptodomex-3.18.0 websockets-11.0.3 yt-dlp-2023.3.4\n"
     ]
    },
    {
     "name": "stderr",
     "output_type": "stream",
     "text": [
      "ERROR: pip's dependency resolver does not currently take into account all the packages that are installed. This behaviour is the source of the following dependency conflicts.\n",
      "conda-repo-cli 1.0.41 requires requests_mock, which is not installed.\n",
      "conda-repo-cli 1.0.41 requires clyent==1.2.1, but you have clyent 1.2.2 which is incompatible.\n",
      "conda-repo-cli 1.0.41 requires nbformat==5.4.0, but you have nbformat 5.7.0 which is incompatible.\n"
     ]
    }
   ],
   "source": [
    "pip install --force-reinstall https://github.com/yt-dlp/yt-dlp/archive/master.tar.gz"
   ]
  },
  {
   "cell_type": "code",
   "execution_count": 5,
   "id": "2c9ffd66",
   "metadata": {},
   "outputs": [
    {
     "name": "stdout",
     "output_type": "stream",
     "text": [
      "[Youtube] Lr9xbHtpAfU: has already been recorded in the archive\n"
     ]
    }
   ],
   "source": [
    "from __future__ import unicode_literals\n",
    "import yt_dlp as youtube_dl\n",
    "\n",
    "def my_hook(d):\n",
    "    if d['status'] == 'finished':\n",
    "        print('Done downloading, now converting ...')\n",
    "\n",
    "ydl_opts = {\n",
    "    'download_archive': 'archive.txt',\n",
    "    'ignoreerrors': True,\n",
    "    'nooverwrites': True,\n",
    "    'format': 'bestvideo[height<=1080]+bestaudio/best[height<=1080]/best',       \n",
    "    'outtmpl': '저장 경로 템플릿',        \n",
    "    'noplaylist' : False,       \n",
    "    'progress_hooks': [my_hook],  \n",
    "}\n",
    "\n",
    "with youtube_dl.YoutubeDL(ydl_opts) as ydl:\n",
    "    ydl.download(['http://www.youtube.com/watch?v=Lr9xbHtpAfU'])\n",
    "\n",
    "\n"
   ]
  },
  {
   "cell_type": "code",
   "execution_count": null,
   "id": "af551e42",
   "metadata": {},
   "outputs": [],
   "source": [
    "#! /usr/bin/env python3\n",
    "#\n",
    "# PyQt5-based video-sync example for VLC Python bindings\n",
    "# Copyright (C) 2009-2010 the VideoLAN team\n",
    "#\n",
    "# This program is free software; you can redistribute it and/or modify\n",
    "# it under the terms of the GNU General Public License as published by\n",
    "# the Free Software Foundation; either version 2 of the License, or\n",
    "# (at your option) any later version.\n",
    "#\n",
    "# This program is distributed in the hope that it will be useful,\n",
    "# but WITHOUT ANY WARRANTY; without even the implied warranty of\n",
    "# MERCHANTABILITY or FITNESS FOR A PARTICULAR PURPOSE.  See the\n",
    "# GNU General Public License for more details.\n",
    "#\n",
    "# You should have received a copy of the GNU General Public License\n",
    "# along with this program; if not, write to the Free Software\n",
    "# Foundation, Inc., 51 Franklin Street, Fifth Floor, Boston MA 02110-1301, USA.\n",
    "#\n",
    "\"\"\"\n",
    "This module contains a bare-bones VLC player class to play videos.\n",
    "\n",
    "Author: Saveliy Yusufov, Columbia University, sy2685@columbia.edu\n",
    "Date: 25 January 2019\n",
    "\"\"\"\n",
    "\n",
    "import os\n",
    "import sys\n",
    "import queue\n",
    "import platform\n",
    "\n",
    "from PyQt5 import QtWidgets, QtGui, QtCore\n",
    "import vlc\n",
    "from network import Client\n",
    "\n",
    "\n",
    "class MiniPlayer(QtWidgets.QMainWindow):\n",
    "    \"\"\"Stripped-down PyQt5-based media player class to sync with \"master\" video.\n",
    "    \"\"\"\n",
    "\n",
    "    def __init__(self, data_queue, master=None):\n",
    "        QtWidgets.QMainWindow.__init__(self, master)\n",
    "        self.setWindowTitle(\"Mini Player\")\n",
    "        self.statusbar = self.statusBar()\n",
    "        self.statusbar.showMessage(\"Ready\")\n",
    "\n",
    "        # Create a basic vlc instance\n",
    "        self.instance = vlc.Instance()\n",
    "\n",
    "        self.media = None\n",
    "\n",
    "        # Create an empty vlc media player\n",
    "        self.mediaplayer = self.instance.media_player_new()\n",
    "\n",
    "        self.init_ui()\n",
    "        self.open_file()\n",
    "\n",
    "        self.timer = QtCore.QTimer(self)\n",
    "        self.timer.setInterval(10)\n",
    "        self.timer.timeout.connect(self.update_ui)\n",
    "\n",
    "        self.data_queue = data_queue\n",
    "        self.timer.start()\n",
    "\n",
    "    def init_ui(self):\n",
    "        \"\"\"Set up the user interface\n",
    "        \"\"\"\n",
    "        self.widget = QtWidgets.QWidget(self)\n",
    "        self.setCentralWidget(self.widget)\n",
    "\n",
    "        # In this widget, the video will be drawn\n",
    "        if platform.system() == \"Darwin\":  # for MacOS\n",
    "            self.videoframe = QtWidgets.QMacCocoaViewContainer(0)\n",
    "        else:\n",
    "            self.videoframe = QtWidgets.QFrame()\n",
    "\n",
    "        self.palette = self.videoframe.palette()\n",
    "        self.palette.setColor(QtGui.QPalette.Window, QtGui.QColor(0, 0, 0))\n",
    "        self.videoframe.setPalette(self.palette)\n",
    "        self.videoframe.setAutoFillBackground(True)\n",
    "\n",
    "        self.vboxlayout = QtWidgets.QVBoxLayout()\n",
    "        self.vboxlayout.addWidget(self.videoframe)\n",
    "        self.widget.setLayout(self.vboxlayout)\n",
    "\n",
    "    def open_file(self):\n",
    "        \"\"\"Open a media file in a MediaPlayer\n",
    "        \"\"\"\n",
    "        dialog_txt = \"Choose Media File\"\n",
    "        filename = 저장 경로 템플릿.f248.webm\n",
    "        if not filename[0]:\n",
    "            return\n",
    "\n",
    "        # getOpenFileName returns a tuple, so use only the actual file name\n",
    "        self.media = self.instance.media_new(filename[0])\n",
    "\n",
    "        # Put the media in the media player\n",
    "        self.mediaplayer.set_media(self.media)\n",
    "\n",
    "        # Parse the metadata of the file\n",
    "        self.media.parse()\n",
    "\n",
    "        # Set the title of the track as the window title\n",
    "        self.setWindowTitle(\"{}\".format(self.media.get_meta(0)))\n",
    "\n",
    "        # The media player has to be 'connected' to the QFrame (otherwise the\n",
    "        # video would be displayed in it's own window). This is platform\n",
    "        # specific, so we must give the ID of the QFrame (or similar object) to\n",
    "        # vlc. Different platforms have different functions for this\n",
    "        if platform.system() == \"Linux\":  # for Linux using the X Server\n",
    "            self.mediaplayer.set_xwindow(int(self.videoframe.winId()))\n",
    "        elif platform.system() == \"Windows\":  # for Windows\n",
    "            self.mediaplayer.set_hwnd(int(self.videoframe.winId()))\n",
    "        elif platform.system() == \"Darwin\":  # for MacOS\n",
    "            self.mediaplayer.set_nsobject(int(self.videoframe.winId()))\n",
    "\n",
    "        # Start playing the video as soon as it loads\n",
    "        self.mediaplayer.play()\n",
    "\n",
    "    def update_ui(self):\n",
    "        self.update_statusbar()\n",
    "\n",
    "        try:\n",
    "            val = self.data_queue.get(block=False)\n",
    "        except queue.Empty:\n",
    "            return\n",
    "\n",
    "        if val == '<':\n",
    "            self.mediaplayer.set_rate(self.mediaplayer.get_rate() * 0.5)\n",
    "            return\n",
    "        if val == '>':\n",
    "            self.mediaplayer.set_rate(self.mediaplayer.get_rate() * 2)\n",
    "            return\n",
    "        if val == 'P':\n",
    "            self.mediaplayer.play()\n",
    "            return\n",
    "        if val == 'p':\n",
    "            self.mediaplayer.pause()\n",
    "            return\n",
    "        if val == 'S':\n",
    "            self.mediaplayer.stop()\n",
    "            return\n",
    "\n",
    "        val = int(val)\n",
    "        if val != self.mediaplayer.get_time():\n",
    "            self.mediaplayer.set_time(val)\n",
    "\n",
    "    def update_statusbar(self):\n",
    "        mtime = QtCore.QTime(0, 0, 0, 0)\n",
    "        time = mtime.addMSecs(self.mediaplayer.get_time())\n",
    "        self.statusbar.showMessage(time.toString())\n",
    "\n",
    "\n",
    "def main():\n",
    "    \"\"\"Entry point for our simple vlc player\n",
    "    \"\"\"\n",
    "    app = QtWidgets.QApplication(sys.argv)\n",
    "\n",
    "    data_queue = queue.Queue()\n",
    "\n",
    "    player = MiniPlayer(data_queue)\n",
    "    player.show()\n",
    "    player.resize(480, 480)\n",
    "\n",
    "    _ = Client(\"localhost\", 8888, data_queue)\n",
    "    sys.exit(app.exec_())\n",
    "\n",
    "\n",
    "if __name__ == \"__main__\":\n",
    "    main()\n"
   ]
  },
  {
   "cell_type": "code",
   "execution_count": 5,
   "id": "5b6d1a34",
   "metadata": {},
   "outputs": [
    {
     "name": "stderr",
     "output_type": "stream",
     "text": [
      "2023-05-30 10:39:27,309 - network - INFO - Connecting to localhost port 8888\n",
      "2023-05-30 10:39:27,313 - network - INFO - New data receiver thread started.\n"
     ]
    },
    {
     "ename": "SystemExit",
     "evalue": "0",
     "output_type": "error",
     "traceback": [
      "An exception has occurred, use %tb to see the full traceback.\n",
      "\u001b[1;31mSystemExit\u001b[0m\u001b[1;31m:\u001b[0m 0\n"
     ]
    }
   ],
   "source": [
    "#! /usr/bin/env python3\n",
    "#\n",
    "# PyQt5-based video-sync example for VLC Python bindings\n",
    "# Copyright (C) 2009-2010 the VideoLAN team\n",
    "#\n",
    "# This program is free software; you can redistribute it and/or modify\n",
    "# it under the terms of the GNU General Public License as published by\n",
    "# the Free Software Foundation; either version 2 of the License, or\n",
    "# (at your option) any later version.\n",
    "#\n",
    "# This program is distributed in the hope that it will be useful,\n",
    "# but WITHOUT ANY WARRANTY; without even the implied warranty of\n",
    "# MERCHANTABILITY or FITNESS FOR A PARTICULAR PURPOSE.  See the\n",
    "# GNU General Public License for more details.\n",
    "#\n",
    "# You should have received a copy of the GNU General Public License\n",
    "# along with this program; if not, write to the Free Software\n",
    "# Foundation, Inc., 51 Franklin Street, Fifth Floor, Boston MA 02110-1301, USA.\n",
    "#\n",
    "\"\"\"\n",
    "This module contains a bare-bones VLC player class to play videos.\n",
    "\n",
    "Author: Saveliy Yusufov, Columbia University, sy2685@columbia.edu\n",
    "Date: 25 January 2019\n",
    "\"\"\"\n",
    "\n",
    "import os\n",
    "import sys\n",
    "import queue\n",
    "import platform\n",
    "\n",
    "from PyQt5 import QtWidgets, QtGui, QtCore\n",
    "import vlc\n",
    "from network import Client\n",
    "\n",
    "\n",
    "class MiniPlayer(QtWidgets.QMainWindow):\n",
    "    \"\"\"Stripped-down PyQt5-based media player class to sync with \"master\" video.\n",
    "    \"\"\"\n",
    "\n",
    "    def __init__(self, data_queue, master=None):\n",
    "        QtWidgets.QMainWindow.__init__(self, master)\n",
    "        self.setWindowTitle(\"Mini Player\")\n",
    "        self.statusbar = self.statusBar()\n",
    "        self.statusbar.showMessage(\"Ready\")\n",
    "\n",
    "        # Create a basic vlc instance\n",
    "        self.instance = vlc.Instance()\n",
    "\n",
    "        self.media = None\n",
    "        self.playing = False\n",
    "\n",
    "        # Create an empty vlc media player\n",
    "        self.mediaplayer = self.instance.media_player_new()\n",
    "\n",
    "        self.init_ui()\n",
    "        self.open_file()\n",
    "\n",
    "        self.timer = QtCore.QTimer(self)\n",
    "        self.timer.setInterval(10)\n",
    "        self.timer.timeout.connect(self.update_ui)\n",
    "\n",
    "        self.data_queue = data_queue\n",
    "        self.timer.start()\n",
    "\n",
    "    def init_ui(self):\n",
    "        \"\"\"Set up the user interface\n",
    "        \"\"\"\n",
    "        self.widget = QtWidgets.QWidget(self)\n",
    "        self.setCentralWidget(self.widget)\n",
    "\n",
    "        # In this widget, the video will be drawn\n",
    "        if platform.system() == \"Darwin\":  # for MacOS\n",
    "            self.videoframe = QtWidgets.QMacCocoaViewContainer(0)\n",
    "        else:\n",
    "            self.videoframe = QtWidgets.QFrame()\n",
    "\n",
    "        self.palette = self.videoframe.palette()\n",
    "        self.palette.setColor(QtGui.QPalette.Window, QtGui.QColor(0, 0, 0))\n",
    "        self.videoframe.setPalette(self.palette)\n",
    "        self.videoframe.setAutoFillBackground(True)\n",
    "\n",
    "        self.vboxlayout = QtWidgets.QVBoxLayout()\n",
    "        self.vboxlayout.addWidget(self.videoframe)\n",
    "        self.widget.setLayout(self.vboxlayout)\n",
    "\n",
    "    def open_file(self):\n",
    "        \"\"\"Open a media file in a MediaPlayer\n",
    "        \"\"\"\n",
    "        dialog_txt = \"Choose Media File\"\n",
    "        filename = \"저장 경로 템플릿.f248.webm\"\n",
    "        if not filename:\n",
    "            return\n",
    "\n",
    "        # getOpenFileName returns a tuple, so use only the actual file name\n",
    "        self.media = self.instance.media_new(filename[0])\n",
    "\n",
    "        # Put the media in the media player\n",
    "        self.mediaplayer.set_media(self.media)\n",
    "\n",
    "        # Parse the metadata of the file\n",
    "        self.media.parse()\n",
    "\n",
    "        # Set the title of the track as the window title\n",
    "        self.setWindowTitle(\"{}\".format(self.media.get_meta(0)))\n",
    "\n",
    "        # The media player has to be 'connected' to the QFrame (otherwise the\n",
    "        # video would be displayed in it's own window). This is platform\n",
    "        # specific, so we must give the ID of the QFrame (or similar object) to\n",
    "        # vlc. Different platforms have different functions for this\n",
    "        if platform.system() == \"Linux\":  # for Linux using the X Server\n",
    "            self.mediaplayer.set_xwindow(int(self.videoframe.winId()))\n",
    "        elif platform.system() == \"Windows\":  # for Windows\n",
    "            self.mediaplayer.set_hwnd(int(self.videoframe.winId()))\n",
    "        elif platform.system() == \"Darwin\":  # for MacOS\n",
    "            self.mediaplayer.set_nsobject(int(self.videoframe.winId()))\n",
    "\n",
    "        # Start playing the video as soon as it loads\n",
    "        self.mediaplayer.play()\n",
    "\n",
    "    def update_ui(self):\n",
    "        self.update_statusbar()\n",
    "\n",
    "        try:\n",
    "            val = self.data_queue.get(block=False)\n",
    "        except queue.Empty:\n",
    "            return\n",
    "\n",
    "        if val == '<':\n",
    "            self.mediaplayer.set_rate(self.mediaplayer.get_rate() * 0.5)\n",
    "            return\n",
    "        if val == '>':\n",
    "            self.mediaplayer.set_rate(self.mediaplayer.get_rate() * 2)\n",
    "            return\n",
    "        if val == 'P':\n",
    "            if self.playing:\n",
    "                self.mediaplyaer.pause()\n",
    "                self.playing = False\n",
    "            else:\n",
    "                self.mediaplayer.play()\n",
    "                self.playing = True\n",
    "            return\n",
    "        if val == 'p':\n",
    "            self.mediaplayer.pause()\n",
    "            self.playing = False\n",
    "            return\n",
    "        if val == 'S':\n",
    "            self.mediaplayer.stop()\n",
    "            self.playing = False\n",
    "            return\n",
    "\n",
    "        val = int(val)\n",
    "        if val != self.mediaplayer.get_time():\n",
    "            self.mediaplayer.set_time(val)\n",
    "\n",
    "    def update_statusbar(self):\n",
    "        mtime = QtCore.QTime(0, 0, 0, 0)\n",
    "        time = mtime.addMSecs(self.mediaplayer.get_time())\n",
    "        self.statusbar.showMessage(time.toString())\n",
    "\n",
    "\n",
    "def main():\n",
    "    \"\"\"Entry point for our simple vlc player\n",
    "    \"\"\"\n",
    "    app = QtWidgets.QApplication(sys.argv)\n",
    "\n",
    "    data_queue = queue.Queue()\n",
    "\n",
    "    player = MiniPlayer(data_queue)\n",
    "    player.show()\n",
    "    player.resize(480, 480)\n",
    "\n",
    "    _ = Client(\"localhost\", 8888, data_queue)\n",
    "    sys.exit(app.exec_())\n",
    "\n",
    "\n",
    "if __name__ == \"__main__\":\n",
    "    main()\n"
   ]
  },
  {
   "cell_type": "code",
   "execution_count": 2,
   "id": "89904af1",
   "metadata": {},
   "outputs": [
    {
     "name": "stderr",
     "output_type": "stream",
     "text": [
      "2023-05-31 01:21:05,715 - network - INFO - Connecting to localhost port 8888\n",
      "2023-05-31 01:21:05,729 - network - INFO - New data receiver thread started.\n"
     ]
    },
    {
     "ename": "UnboundLocalError",
     "evalue": "local variable 'val' referenced before assignment",
     "output_type": "error",
     "traceback": [
      "\u001b[1;31m---------------------------------------------------------------------------\u001b[0m",
      "\u001b[1;31mUnboundLocalError\u001b[0m                         Traceback (most recent call last)",
      "Cell \u001b[1;32mIn[1], line 127\u001b[0m, in \u001b[0;36mMiniPlayer.update_ui\u001b[1;34m(self)\u001b[0m\n\u001b[0;32m    123\u001b[0m \u001b[38;5;28;01mif\u001b[39;00m \u001b[38;5;129;01mnot\u001b[39;00m \u001b[38;5;28mself\u001b[39m\u001b[38;5;241m.\u001b[39mdata_queue\u001b[38;5;241m.\u001b[39mempty():\n\u001b[0;32m    124\u001b[0m     val \u001b[38;5;241m=\u001b[39m \u001b[38;5;28mself\u001b[39m\u001b[38;5;241m.\u001b[39mdata_queue\u001b[38;5;241m.\u001b[39mget()\n\u001b[1;32m--> 127\u001b[0m \u001b[38;5;28;01mif\u001b[39;00m \u001b[43mval\u001b[49m \u001b[38;5;241m==\u001b[39m \u001b[38;5;124m'\u001b[39m\u001b[38;5;124m<\u001b[39m\u001b[38;5;124m'\u001b[39m:\n\u001b[0;32m    128\u001b[0m     \u001b[38;5;28mself\u001b[39m\u001b[38;5;241m.\u001b[39mmediaplayer\u001b[38;5;241m.\u001b[39mset_rate(\u001b[38;5;28mself\u001b[39m\u001b[38;5;241m.\u001b[39mmediaplayer\u001b[38;5;241m.\u001b[39mget_rate() \u001b[38;5;241m*\u001b[39m \u001b[38;5;241m0.5\u001b[39m)\n\u001b[0;32m    129\u001b[0m     \u001b[38;5;28;01mreturn\u001b[39;00m\n",
      "\u001b[1;31mUnboundLocalError\u001b[0m: local variable 'val' referenced before assignment"
     ]
    },
    {
     "ename": "UnboundLocalError",
     "evalue": "local variable 'val' referenced before assignment",
     "output_type": "error",
     "traceback": [
      "\u001b[1;31m---------------------------------------------------------------------------\u001b[0m",
      "\u001b[1;31mUnboundLocalError\u001b[0m                         Traceback (most recent call last)",
      "Cell \u001b[1;32mIn[1], line 127\u001b[0m, in \u001b[0;36mMiniPlayer.update_ui\u001b[1;34m(self)\u001b[0m\n\u001b[0;32m    123\u001b[0m \u001b[38;5;28;01mif\u001b[39;00m \u001b[38;5;129;01mnot\u001b[39;00m \u001b[38;5;28mself\u001b[39m\u001b[38;5;241m.\u001b[39mdata_queue\u001b[38;5;241m.\u001b[39mempty():\n\u001b[0;32m    124\u001b[0m     val \u001b[38;5;241m=\u001b[39m \u001b[38;5;28mself\u001b[39m\u001b[38;5;241m.\u001b[39mdata_queue\u001b[38;5;241m.\u001b[39mget()\n\u001b[1;32m--> 127\u001b[0m \u001b[38;5;28;01mif\u001b[39;00m \u001b[43mval\u001b[49m \u001b[38;5;241m==\u001b[39m \u001b[38;5;124m'\u001b[39m\u001b[38;5;124m<\u001b[39m\u001b[38;5;124m'\u001b[39m:\n\u001b[0;32m    128\u001b[0m     \u001b[38;5;28mself\u001b[39m\u001b[38;5;241m.\u001b[39mmediaplayer\u001b[38;5;241m.\u001b[39mset_rate(\u001b[38;5;28mself\u001b[39m\u001b[38;5;241m.\u001b[39mmediaplayer\u001b[38;5;241m.\u001b[39mget_rate() \u001b[38;5;241m*\u001b[39m \u001b[38;5;241m0.5\u001b[39m)\n\u001b[0;32m    129\u001b[0m     \u001b[38;5;28;01mreturn\u001b[39;00m\n",
      "\u001b[1;31mUnboundLocalError\u001b[0m: local variable 'val' referenced before assignment"
     ]
    },
    {
     "ename": "UnboundLocalError",
     "evalue": "local variable 'val' referenced before assignment",
     "output_type": "error",
     "traceback": [
      "\u001b[1;31m---------------------------------------------------------------------------\u001b[0m",
      "\u001b[1;31mUnboundLocalError\u001b[0m                         Traceback (most recent call last)",
      "Cell \u001b[1;32mIn[1], line 127\u001b[0m, in \u001b[0;36mMiniPlayer.update_ui\u001b[1;34m(self)\u001b[0m\n\u001b[0;32m    123\u001b[0m \u001b[38;5;28;01mif\u001b[39;00m \u001b[38;5;129;01mnot\u001b[39;00m \u001b[38;5;28mself\u001b[39m\u001b[38;5;241m.\u001b[39mdata_queue\u001b[38;5;241m.\u001b[39mempty():\n\u001b[0;32m    124\u001b[0m     val \u001b[38;5;241m=\u001b[39m \u001b[38;5;28mself\u001b[39m\u001b[38;5;241m.\u001b[39mdata_queue\u001b[38;5;241m.\u001b[39mget()\n\u001b[1;32m--> 127\u001b[0m \u001b[38;5;28;01mif\u001b[39;00m \u001b[43mval\u001b[49m \u001b[38;5;241m==\u001b[39m \u001b[38;5;124m'\u001b[39m\u001b[38;5;124m<\u001b[39m\u001b[38;5;124m'\u001b[39m:\n\u001b[0;32m    128\u001b[0m     \u001b[38;5;28mself\u001b[39m\u001b[38;5;241m.\u001b[39mmediaplayer\u001b[38;5;241m.\u001b[39mset_rate(\u001b[38;5;28mself\u001b[39m\u001b[38;5;241m.\u001b[39mmediaplayer\u001b[38;5;241m.\u001b[39mget_rate() \u001b[38;5;241m*\u001b[39m \u001b[38;5;241m0.5\u001b[39m)\n\u001b[0;32m    129\u001b[0m     \u001b[38;5;28;01mreturn\u001b[39;00m\n",
      "\u001b[1;31mUnboundLocalError\u001b[0m: local variable 'val' referenced before assignment"
     ]
    },
    {
     "ename": "UnboundLocalError",
     "evalue": "local variable 'val' referenced before assignment",
     "output_type": "error",
     "traceback": [
      "\u001b[1;31m---------------------------------------------------------------------------\u001b[0m",
      "\u001b[1;31mUnboundLocalError\u001b[0m                         Traceback (most recent call last)",
      "Cell \u001b[1;32mIn[1], line 127\u001b[0m, in \u001b[0;36mMiniPlayer.update_ui\u001b[1;34m(self)\u001b[0m\n\u001b[0;32m    123\u001b[0m \u001b[38;5;28;01mif\u001b[39;00m \u001b[38;5;129;01mnot\u001b[39;00m \u001b[38;5;28mself\u001b[39m\u001b[38;5;241m.\u001b[39mdata_queue\u001b[38;5;241m.\u001b[39mempty():\n\u001b[0;32m    124\u001b[0m     val \u001b[38;5;241m=\u001b[39m \u001b[38;5;28mself\u001b[39m\u001b[38;5;241m.\u001b[39mdata_queue\u001b[38;5;241m.\u001b[39mget()\n\u001b[1;32m--> 127\u001b[0m \u001b[38;5;28;01mif\u001b[39;00m \u001b[43mval\u001b[49m \u001b[38;5;241m==\u001b[39m \u001b[38;5;124m'\u001b[39m\u001b[38;5;124m<\u001b[39m\u001b[38;5;124m'\u001b[39m:\n\u001b[0;32m    128\u001b[0m     \u001b[38;5;28mself\u001b[39m\u001b[38;5;241m.\u001b[39mmediaplayer\u001b[38;5;241m.\u001b[39mset_rate(\u001b[38;5;28mself\u001b[39m\u001b[38;5;241m.\u001b[39mmediaplayer\u001b[38;5;241m.\u001b[39mget_rate() \u001b[38;5;241m*\u001b[39m \u001b[38;5;241m0.5\u001b[39m)\n\u001b[0;32m    129\u001b[0m     \u001b[38;5;28;01mreturn\u001b[39;00m\n",
      "\u001b[1;31mUnboundLocalError\u001b[0m: local variable 'val' referenced before assignment"
     ]
    },
    {
     "ename": "UnboundLocalError",
     "evalue": "local variable 'val' referenced before assignment",
     "output_type": "error",
     "traceback": [
      "\u001b[1;31m---------------------------------------------------------------------------\u001b[0m",
      "\u001b[1;31mUnboundLocalError\u001b[0m                         Traceback (most recent call last)",
      "Cell \u001b[1;32mIn[1], line 127\u001b[0m, in \u001b[0;36mMiniPlayer.update_ui\u001b[1;34m(self)\u001b[0m\n\u001b[0;32m    123\u001b[0m \u001b[38;5;28;01mif\u001b[39;00m \u001b[38;5;129;01mnot\u001b[39;00m \u001b[38;5;28mself\u001b[39m\u001b[38;5;241m.\u001b[39mdata_queue\u001b[38;5;241m.\u001b[39mempty():\n\u001b[0;32m    124\u001b[0m     val \u001b[38;5;241m=\u001b[39m \u001b[38;5;28mself\u001b[39m\u001b[38;5;241m.\u001b[39mdata_queue\u001b[38;5;241m.\u001b[39mget()\n\u001b[1;32m--> 127\u001b[0m \u001b[38;5;28;01mif\u001b[39;00m \u001b[43mval\u001b[49m \u001b[38;5;241m==\u001b[39m \u001b[38;5;124m'\u001b[39m\u001b[38;5;124m<\u001b[39m\u001b[38;5;124m'\u001b[39m:\n\u001b[0;32m    128\u001b[0m     \u001b[38;5;28mself\u001b[39m\u001b[38;5;241m.\u001b[39mmediaplayer\u001b[38;5;241m.\u001b[39mset_rate(\u001b[38;5;28mself\u001b[39m\u001b[38;5;241m.\u001b[39mmediaplayer\u001b[38;5;241m.\u001b[39mget_rate() \u001b[38;5;241m*\u001b[39m \u001b[38;5;241m0.5\u001b[39m)\n\u001b[0;32m    129\u001b[0m     \u001b[38;5;28;01mreturn\u001b[39;00m\n",
      "\u001b[1;31mUnboundLocalError\u001b[0m: local variable 'val' referenced before assignment"
     ]
    },
    {
     "ename": "UnboundLocalError",
     "evalue": "local variable 'val' referenced before assignment",
     "output_type": "error",
     "traceback": [
      "\u001b[1;31m---------------------------------------------------------------------------\u001b[0m",
      "\u001b[1;31mUnboundLocalError\u001b[0m                         Traceback (most recent call last)",
      "Cell \u001b[1;32mIn[1], line 127\u001b[0m, in \u001b[0;36mMiniPlayer.update_ui\u001b[1;34m(self)\u001b[0m\n\u001b[0;32m    123\u001b[0m \u001b[38;5;28;01mif\u001b[39;00m \u001b[38;5;129;01mnot\u001b[39;00m \u001b[38;5;28mself\u001b[39m\u001b[38;5;241m.\u001b[39mdata_queue\u001b[38;5;241m.\u001b[39mempty():\n\u001b[0;32m    124\u001b[0m     val \u001b[38;5;241m=\u001b[39m \u001b[38;5;28mself\u001b[39m\u001b[38;5;241m.\u001b[39mdata_queue\u001b[38;5;241m.\u001b[39mget()\n\u001b[1;32m--> 127\u001b[0m \u001b[38;5;28;01mif\u001b[39;00m \u001b[43mval\u001b[49m \u001b[38;5;241m==\u001b[39m \u001b[38;5;124m'\u001b[39m\u001b[38;5;124m<\u001b[39m\u001b[38;5;124m'\u001b[39m:\n\u001b[0;32m    128\u001b[0m     \u001b[38;5;28mself\u001b[39m\u001b[38;5;241m.\u001b[39mmediaplayer\u001b[38;5;241m.\u001b[39mset_rate(\u001b[38;5;28mself\u001b[39m\u001b[38;5;241m.\u001b[39mmediaplayer\u001b[38;5;241m.\u001b[39mget_rate() \u001b[38;5;241m*\u001b[39m \u001b[38;5;241m0.5\u001b[39m)\n\u001b[0;32m    129\u001b[0m     \u001b[38;5;28;01mreturn\u001b[39;00m\n",
      "\u001b[1;31mUnboundLocalError\u001b[0m: local variable 'val' referenced before assignment"
     ]
    },
    {
     "ename": "UnboundLocalError",
     "evalue": "local variable 'val' referenced before assignment",
     "output_type": "error",
     "traceback": [
      "\u001b[1;31m---------------------------------------------------------------------------\u001b[0m",
      "\u001b[1;31mUnboundLocalError\u001b[0m                         Traceback (most recent call last)",
      "Cell \u001b[1;32mIn[1], line 127\u001b[0m, in \u001b[0;36mMiniPlayer.update_ui\u001b[1;34m(self)\u001b[0m\n\u001b[0;32m    123\u001b[0m \u001b[38;5;28;01mif\u001b[39;00m \u001b[38;5;129;01mnot\u001b[39;00m \u001b[38;5;28mself\u001b[39m\u001b[38;5;241m.\u001b[39mdata_queue\u001b[38;5;241m.\u001b[39mempty():\n\u001b[0;32m    124\u001b[0m     val \u001b[38;5;241m=\u001b[39m \u001b[38;5;28mself\u001b[39m\u001b[38;5;241m.\u001b[39mdata_queue\u001b[38;5;241m.\u001b[39mget()\n\u001b[1;32m--> 127\u001b[0m \u001b[38;5;28;01mif\u001b[39;00m \u001b[43mval\u001b[49m \u001b[38;5;241m==\u001b[39m \u001b[38;5;124m'\u001b[39m\u001b[38;5;124m<\u001b[39m\u001b[38;5;124m'\u001b[39m:\n\u001b[0;32m    128\u001b[0m     \u001b[38;5;28mself\u001b[39m\u001b[38;5;241m.\u001b[39mmediaplayer\u001b[38;5;241m.\u001b[39mset_rate(\u001b[38;5;28mself\u001b[39m\u001b[38;5;241m.\u001b[39mmediaplayer\u001b[38;5;241m.\u001b[39mget_rate() \u001b[38;5;241m*\u001b[39m \u001b[38;5;241m0.5\u001b[39m)\n\u001b[0;32m    129\u001b[0m     \u001b[38;5;28;01mreturn\u001b[39;00m\n",
      "\u001b[1;31mUnboundLocalError\u001b[0m: local variable 'val' referenced before assignment"
     ]
    },
    {
     "ename": "UnboundLocalError",
     "evalue": "local variable 'val' referenced before assignment",
     "output_type": "error",
     "traceback": [
      "\u001b[1;31m---------------------------------------------------------------------------\u001b[0m",
      "\u001b[1;31mUnboundLocalError\u001b[0m                         Traceback (most recent call last)",
      "Cell \u001b[1;32mIn[1], line 127\u001b[0m, in \u001b[0;36mMiniPlayer.update_ui\u001b[1;34m(self)\u001b[0m\n\u001b[0;32m    123\u001b[0m \u001b[38;5;28;01mif\u001b[39;00m \u001b[38;5;129;01mnot\u001b[39;00m \u001b[38;5;28mself\u001b[39m\u001b[38;5;241m.\u001b[39mdata_queue\u001b[38;5;241m.\u001b[39mempty():\n\u001b[0;32m    124\u001b[0m     val \u001b[38;5;241m=\u001b[39m \u001b[38;5;28mself\u001b[39m\u001b[38;5;241m.\u001b[39mdata_queue\u001b[38;5;241m.\u001b[39mget()\n\u001b[1;32m--> 127\u001b[0m \u001b[38;5;28;01mif\u001b[39;00m \u001b[43mval\u001b[49m \u001b[38;5;241m==\u001b[39m \u001b[38;5;124m'\u001b[39m\u001b[38;5;124m<\u001b[39m\u001b[38;5;124m'\u001b[39m:\n\u001b[0;32m    128\u001b[0m     \u001b[38;5;28mself\u001b[39m\u001b[38;5;241m.\u001b[39mmediaplayer\u001b[38;5;241m.\u001b[39mset_rate(\u001b[38;5;28mself\u001b[39m\u001b[38;5;241m.\u001b[39mmediaplayer\u001b[38;5;241m.\u001b[39mget_rate() \u001b[38;5;241m*\u001b[39m \u001b[38;5;241m0.5\u001b[39m)\n\u001b[0;32m    129\u001b[0m     \u001b[38;5;28;01mreturn\u001b[39;00m\n",
      "\u001b[1;31mUnboundLocalError\u001b[0m: local variable 'val' referenced before assignment"
     ]
    },
    {
     "ename": "UnboundLocalError",
     "evalue": "local variable 'val' referenced before assignment",
     "output_type": "error",
     "traceback": [
      "\u001b[1;31m---------------------------------------------------------------------------\u001b[0m",
      "\u001b[1;31mUnboundLocalError\u001b[0m                         Traceback (most recent call last)",
      "Cell \u001b[1;32mIn[1], line 127\u001b[0m, in \u001b[0;36mMiniPlayer.update_ui\u001b[1;34m(self)\u001b[0m\n\u001b[0;32m    123\u001b[0m \u001b[38;5;28;01mif\u001b[39;00m \u001b[38;5;129;01mnot\u001b[39;00m \u001b[38;5;28mself\u001b[39m\u001b[38;5;241m.\u001b[39mdata_queue\u001b[38;5;241m.\u001b[39mempty():\n\u001b[0;32m    124\u001b[0m     val \u001b[38;5;241m=\u001b[39m \u001b[38;5;28mself\u001b[39m\u001b[38;5;241m.\u001b[39mdata_queue\u001b[38;5;241m.\u001b[39mget()\n\u001b[1;32m--> 127\u001b[0m \u001b[38;5;28;01mif\u001b[39;00m \u001b[43mval\u001b[49m \u001b[38;5;241m==\u001b[39m \u001b[38;5;124m'\u001b[39m\u001b[38;5;124m<\u001b[39m\u001b[38;5;124m'\u001b[39m:\n\u001b[0;32m    128\u001b[0m     \u001b[38;5;28mself\u001b[39m\u001b[38;5;241m.\u001b[39mmediaplayer\u001b[38;5;241m.\u001b[39mset_rate(\u001b[38;5;28mself\u001b[39m\u001b[38;5;241m.\u001b[39mmediaplayer\u001b[38;5;241m.\u001b[39mget_rate() \u001b[38;5;241m*\u001b[39m \u001b[38;5;241m0.5\u001b[39m)\n\u001b[0;32m    129\u001b[0m     \u001b[38;5;28;01mreturn\u001b[39;00m\n",
      "\u001b[1;31mUnboundLocalError\u001b[0m: local variable 'val' referenced before assignment"
     ]
    },
    {
     "ename": "UnboundLocalError",
     "evalue": "local variable 'val' referenced before assignment",
     "output_type": "error",
     "traceback": [
      "\u001b[1;31m---------------------------------------------------------------------------\u001b[0m",
      "\u001b[1;31mUnboundLocalError\u001b[0m                         Traceback (most recent call last)",
      "Cell \u001b[1;32mIn[1], line 127\u001b[0m, in \u001b[0;36mMiniPlayer.update_ui\u001b[1;34m(self)\u001b[0m\n\u001b[0;32m    123\u001b[0m \u001b[38;5;28;01mif\u001b[39;00m \u001b[38;5;129;01mnot\u001b[39;00m \u001b[38;5;28mself\u001b[39m\u001b[38;5;241m.\u001b[39mdata_queue\u001b[38;5;241m.\u001b[39mempty():\n\u001b[0;32m    124\u001b[0m     val \u001b[38;5;241m=\u001b[39m \u001b[38;5;28mself\u001b[39m\u001b[38;5;241m.\u001b[39mdata_queue\u001b[38;5;241m.\u001b[39mget()\n\u001b[1;32m--> 127\u001b[0m \u001b[38;5;28;01mif\u001b[39;00m \u001b[43mval\u001b[49m \u001b[38;5;241m==\u001b[39m \u001b[38;5;124m'\u001b[39m\u001b[38;5;124m<\u001b[39m\u001b[38;5;124m'\u001b[39m:\n\u001b[0;32m    128\u001b[0m     \u001b[38;5;28mself\u001b[39m\u001b[38;5;241m.\u001b[39mmediaplayer\u001b[38;5;241m.\u001b[39mset_rate(\u001b[38;5;28mself\u001b[39m\u001b[38;5;241m.\u001b[39mmediaplayer\u001b[38;5;241m.\u001b[39mget_rate() \u001b[38;5;241m*\u001b[39m \u001b[38;5;241m0.5\u001b[39m)\n\u001b[0;32m    129\u001b[0m     \u001b[38;5;28;01mreturn\u001b[39;00m\n",
      "\u001b[1;31mUnboundLocalError\u001b[0m: local variable 'val' referenced before assignment"
     ]
    },
    {
     "ename": "UnboundLocalError",
     "evalue": "local variable 'val' referenced before assignment",
     "output_type": "error",
     "traceback": [
      "\u001b[1;31m---------------------------------------------------------------------------\u001b[0m",
      "\u001b[1;31mUnboundLocalError\u001b[0m                         Traceback (most recent call last)",
      "Cell \u001b[1;32mIn[1], line 127\u001b[0m, in \u001b[0;36mMiniPlayer.update_ui\u001b[1;34m(self)\u001b[0m\n\u001b[0;32m    123\u001b[0m \u001b[38;5;28;01mif\u001b[39;00m \u001b[38;5;129;01mnot\u001b[39;00m \u001b[38;5;28mself\u001b[39m\u001b[38;5;241m.\u001b[39mdata_queue\u001b[38;5;241m.\u001b[39mempty():\n\u001b[0;32m    124\u001b[0m     val \u001b[38;5;241m=\u001b[39m \u001b[38;5;28mself\u001b[39m\u001b[38;5;241m.\u001b[39mdata_queue\u001b[38;5;241m.\u001b[39mget()\n\u001b[1;32m--> 127\u001b[0m \u001b[38;5;28;01mif\u001b[39;00m \u001b[43mval\u001b[49m \u001b[38;5;241m==\u001b[39m \u001b[38;5;124m'\u001b[39m\u001b[38;5;124m<\u001b[39m\u001b[38;5;124m'\u001b[39m:\n\u001b[0;32m    128\u001b[0m     \u001b[38;5;28mself\u001b[39m\u001b[38;5;241m.\u001b[39mmediaplayer\u001b[38;5;241m.\u001b[39mset_rate(\u001b[38;5;28mself\u001b[39m\u001b[38;5;241m.\u001b[39mmediaplayer\u001b[38;5;241m.\u001b[39mget_rate() \u001b[38;5;241m*\u001b[39m \u001b[38;5;241m0.5\u001b[39m)\n\u001b[0;32m    129\u001b[0m     \u001b[38;5;28;01mreturn\u001b[39;00m\n",
      "\u001b[1;31mUnboundLocalError\u001b[0m: local variable 'val' referenced before assignment"
     ]
    },
    {
     "ename": "UnboundLocalError",
     "evalue": "local variable 'val' referenced before assignment",
     "output_type": "error",
     "traceback": [
      "\u001b[1;31m---------------------------------------------------------------------------\u001b[0m",
      "\u001b[1;31mUnboundLocalError\u001b[0m                         Traceback (most recent call last)",
      "Cell \u001b[1;32mIn[1], line 127\u001b[0m, in \u001b[0;36mMiniPlayer.update_ui\u001b[1;34m(self)\u001b[0m\n\u001b[0;32m    123\u001b[0m \u001b[38;5;28;01mif\u001b[39;00m \u001b[38;5;129;01mnot\u001b[39;00m \u001b[38;5;28mself\u001b[39m\u001b[38;5;241m.\u001b[39mdata_queue\u001b[38;5;241m.\u001b[39mempty():\n\u001b[0;32m    124\u001b[0m     val \u001b[38;5;241m=\u001b[39m \u001b[38;5;28mself\u001b[39m\u001b[38;5;241m.\u001b[39mdata_queue\u001b[38;5;241m.\u001b[39mget()\n\u001b[1;32m--> 127\u001b[0m \u001b[38;5;28;01mif\u001b[39;00m \u001b[43mval\u001b[49m \u001b[38;5;241m==\u001b[39m \u001b[38;5;124m'\u001b[39m\u001b[38;5;124m<\u001b[39m\u001b[38;5;124m'\u001b[39m:\n\u001b[0;32m    128\u001b[0m     \u001b[38;5;28mself\u001b[39m\u001b[38;5;241m.\u001b[39mmediaplayer\u001b[38;5;241m.\u001b[39mset_rate(\u001b[38;5;28mself\u001b[39m\u001b[38;5;241m.\u001b[39mmediaplayer\u001b[38;5;241m.\u001b[39mget_rate() \u001b[38;5;241m*\u001b[39m \u001b[38;5;241m0.5\u001b[39m)\n\u001b[0;32m    129\u001b[0m     \u001b[38;5;28;01mreturn\u001b[39;00m\n",
      "\u001b[1;31mUnboundLocalError\u001b[0m: local variable 'val' referenced before assignment"
     ]
    },
    {
     "ename": "UnboundLocalError",
     "evalue": "local variable 'val' referenced before assignment",
     "output_type": "error",
     "traceback": [
      "\u001b[1;31m---------------------------------------------------------------------------\u001b[0m",
      "\u001b[1;31mUnboundLocalError\u001b[0m                         Traceback (most recent call last)",
      "Cell \u001b[1;32mIn[1], line 127\u001b[0m, in \u001b[0;36mMiniPlayer.update_ui\u001b[1;34m(self)\u001b[0m\n\u001b[0;32m    123\u001b[0m \u001b[38;5;28;01mif\u001b[39;00m \u001b[38;5;129;01mnot\u001b[39;00m \u001b[38;5;28mself\u001b[39m\u001b[38;5;241m.\u001b[39mdata_queue\u001b[38;5;241m.\u001b[39mempty():\n\u001b[0;32m    124\u001b[0m     val \u001b[38;5;241m=\u001b[39m \u001b[38;5;28mself\u001b[39m\u001b[38;5;241m.\u001b[39mdata_queue\u001b[38;5;241m.\u001b[39mget()\n\u001b[1;32m--> 127\u001b[0m \u001b[38;5;28;01mif\u001b[39;00m \u001b[43mval\u001b[49m \u001b[38;5;241m==\u001b[39m \u001b[38;5;124m'\u001b[39m\u001b[38;5;124m<\u001b[39m\u001b[38;5;124m'\u001b[39m:\n\u001b[0;32m    128\u001b[0m     \u001b[38;5;28mself\u001b[39m\u001b[38;5;241m.\u001b[39mmediaplayer\u001b[38;5;241m.\u001b[39mset_rate(\u001b[38;5;28mself\u001b[39m\u001b[38;5;241m.\u001b[39mmediaplayer\u001b[38;5;241m.\u001b[39mget_rate() \u001b[38;5;241m*\u001b[39m \u001b[38;5;241m0.5\u001b[39m)\n\u001b[0;32m    129\u001b[0m     \u001b[38;5;28;01mreturn\u001b[39;00m\n",
      "\u001b[1;31mUnboundLocalError\u001b[0m: local variable 'val' referenced before assignment"
     ]
    },
    {
     "ename": "UnboundLocalError",
     "evalue": "local variable 'val' referenced before assignment",
     "output_type": "error",
     "traceback": [
      "\u001b[1;31m---------------------------------------------------------------------------\u001b[0m",
      "\u001b[1;31mUnboundLocalError\u001b[0m                         Traceback (most recent call last)",
      "Cell \u001b[1;32mIn[1], line 127\u001b[0m, in \u001b[0;36mMiniPlayer.update_ui\u001b[1;34m(self)\u001b[0m\n\u001b[0;32m    123\u001b[0m \u001b[38;5;28;01mif\u001b[39;00m \u001b[38;5;129;01mnot\u001b[39;00m \u001b[38;5;28mself\u001b[39m\u001b[38;5;241m.\u001b[39mdata_queue\u001b[38;5;241m.\u001b[39mempty():\n\u001b[0;32m    124\u001b[0m     val \u001b[38;5;241m=\u001b[39m \u001b[38;5;28mself\u001b[39m\u001b[38;5;241m.\u001b[39mdata_queue\u001b[38;5;241m.\u001b[39mget()\n\u001b[1;32m--> 127\u001b[0m \u001b[38;5;28;01mif\u001b[39;00m \u001b[43mval\u001b[49m \u001b[38;5;241m==\u001b[39m \u001b[38;5;124m'\u001b[39m\u001b[38;5;124m<\u001b[39m\u001b[38;5;124m'\u001b[39m:\n\u001b[0;32m    128\u001b[0m     \u001b[38;5;28mself\u001b[39m\u001b[38;5;241m.\u001b[39mmediaplayer\u001b[38;5;241m.\u001b[39mset_rate(\u001b[38;5;28mself\u001b[39m\u001b[38;5;241m.\u001b[39mmediaplayer\u001b[38;5;241m.\u001b[39mget_rate() \u001b[38;5;241m*\u001b[39m \u001b[38;5;241m0.5\u001b[39m)\n\u001b[0;32m    129\u001b[0m     \u001b[38;5;28;01mreturn\u001b[39;00m\n",
      "\u001b[1;31mUnboundLocalError\u001b[0m: local variable 'val' referenced before assignment"
     ]
    },
    {
     "ename": "UnboundLocalError",
     "evalue": "local variable 'val' referenced before assignment",
     "output_type": "error",
     "traceback": [
      "\u001b[1;31m---------------------------------------------------------------------------\u001b[0m",
      "\u001b[1;31mUnboundLocalError\u001b[0m                         Traceback (most recent call last)",
      "Cell \u001b[1;32mIn[1], line 127\u001b[0m, in \u001b[0;36mMiniPlayer.update_ui\u001b[1;34m(self)\u001b[0m\n\u001b[0;32m    123\u001b[0m \u001b[38;5;28;01mif\u001b[39;00m \u001b[38;5;129;01mnot\u001b[39;00m \u001b[38;5;28mself\u001b[39m\u001b[38;5;241m.\u001b[39mdata_queue\u001b[38;5;241m.\u001b[39mempty():\n\u001b[0;32m    124\u001b[0m     val \u001b[38;5;241m=\u001b[39m \u001b[38;5;28mself\u001b[39m\u001b[38;5;241m.\u001b[39mdata_queue\u001b[38;5;241m.\u001b[39mget()\n\u001b[1;32m--> 127\u001b[0m \u001b[38;5;28;01mif\u001b[39;00m \u001b[43mval\u001b[49m \u001b[38;5;241m==\u001b[39m \u001b[38;5;124m'\u001b[39m\u001b[38;5;124m<\u001b[39m\u001b[38;5;124m'\u001b[39m:\n\u001b[0;32m    128\u001b[0m     \u001b[38;5;28mself\u001b[39m\u001b[38;5;241m.\u001b[39mmediaplayer\u001b[38;5;241m.\u001b[39mset_rate(\u001b[38;5;28mself\u001b[39m\u001b[38;5;241m.\u001b[39mmediaplayer\u001b[38;5;241m.\u001b[39mget_rate() \u001b[38;5;241m*\u001b[39m \u001b[38;5;241m0.5\u001b[39m)\n\u001b[0;32m    129\u001b[0m     \u001b[38;5;28;01mreturn\u001b[39;00m\n",
      "\u001b[1;31mUnboundLocalError\u001b[0m: local variable 'val' referenced before assignment"
     ]
    },
    {
     "ename": "UnboundLocalError",
     "evalue": "local variable 'val' referenced before assignment",
     "output_type": "error",
     "traceback": [
      "\u001b[1;31m---------------------------------------------------------------------------\u001b[0m",
      "\u001b[1;31mUnboundLocalError\u001b[0m                         Traceback (most recent call last)",
      "Cell \u001b[1;32mIn[1], line 127\u001b[0m, in \u001b[0;36mMiniPlayer.update_ui\u001b[1;34m(self)\u001b[0m\n\u001b[0;32m    123\u001b[0m \u001b[38;5;28;01mif\u001b[39;00m \u001b[38;5;129;01mnot\u001b[39;00m \u001b[38;5;28mself\u001b[39m\u001b[38;5;241m.\u001b[39mdata_queue\u001b[38;5;241m.\u001b[39mempty():\n\u001b[0;32m    124\u001b[0m     val \u001b[38;5;241m=\u001b[39m \u001b[38;5;28mself\u001b[39m\u001b[38;5;241m.\u001b[39mdata_queue\u001b[38;5;241m.\u001b[39mget()\n\u001b[1;32m--> 127\u001b[0m \u001b[38;5;28;01mif\u001b[39;00m \u001b[43mval\u001b[49m \u001b[38;5;241m==\u001b[39m \u001b[38;5;124m'\u001b[39m\u001b[38;5;124m<\u001b[39m\u001b[38;5;124m'\u001b[39m:\n\u001b[0;32m    128\u001b[0m     \u001b[38;5;28mself\u001b[39m\u001b[38;5;241m.\u001b[39mmediaplayer\u001b[38;5;241m.\u001b[39mset_rate(\u001b[38;5;28mself\u001b[39m\u001b[38;5;241m.\u001b[39mmediaplayer\u001b[38;5;241m.\u001b[39mget_rate() \u001b[38;5;241m*\u001b[39m \u001b[38;5;241m0.5\u001b[39m)\n\u001b[0;32m    129\u001b[0m     \u001b[38;5;28;01mreturn\u001b[39;00m\n",
      "\u001b[1;31mUnboundLocalError\u001b[0m: local variable 'val' referenced before assignment"
     ]
    },
    {
     "ename": "UnboundLocalError",
     "evalue": "local variable 'val' referenced before assignment",
     "output_type": "error",
     "traceback": [
      "\u001b[1;31m---------------------------------------------------------------------------\u001b[0m",
      "\u001b[1;31mUnboundLocalError\u001b[0m                         Traceback (most recent call last)",
      "Cell \u001b[1;32mIn[1], line 127\u001b[0m, in \u001b[0;36mMiniPlayer.update_ui\u001b[1;34m(self)\u001b[0m\n\u001b[0;32m    123\u001b[0m \u001b[38;5;28;01mif\u001b[39;00m \u001b[38;5;129;01mnot\u001b[39;00m \u001b[38;5;28mself\u001b[39m\u001b[38;5;241m.\u001b[39mdata_queue\u001b[38;5;241m.\u001b[39mempty():\n\u001b[0;32m    124\u001b[0m     val \u001b[38;5;241m=\u001b[39m \u001b[38;5;28mself\u001b[39m\u001b[38;5;241m.\u001b[39mdata_queue\u001b[38;5;241m.\u001b[39mget()\n\u001b[1;32m--> 127\u001b[0m \u001b[38;5;28;01mif\u001b[39;00m \u001b[43mval\u001b[49m \u001b[38;5;241m==\u001b[39m \u001b[38;5;124m'\u001b[39m\u001b[38;5;124m<\u001b[39m\u001b[38;5;124m'\u001b[39m:\n\u001b[0;32m    128\u001b[0m     \u001b[38;5;28mself\u001b[39m\u001b[38;5;241m.\u001b[39mmediaplayer\u001b[38;5;241m.\u001b[39mset_rate(\u001b[38;5;28mself\u001b[39m\u001b[38;5;241m.\u001b[39mmediaplayer\u001b[38;5;241m.\u001b[39mget_rate() \u001b[38;5;241m*\u001b[39m \u001b[38;5;241m0.5\u001b[39m)\n\u001b[0;32m    129\u001b[0m     \u001b[38;5;28;01mreturn\u001b[39;00m\n",
      "\u001b[1;31mUnboundLocalError\u001b[0m: local variable 'val' referenced before assignment"
     ]
    },
    {
     "ename": "UnboundLocalError",
     "evalue": "local variable 'val' referenced before assignment",
     "output_type": "error",
     "traceback": [
      "\u001b[1;31m---------------------------------------------------------------------------\u001b[0m",
      "\u001b[1;31mUnboundLocalError\u001b[0m                         Traceback (most recent call last)",
      "Cell \u001b[1;32mIn[1], line 127\u001b[0m, in \u001b[0;36mMiniPlayer.update_ui\u001b[1;34m(self)\u001b[0m\n\u001b[0;32m    123\u001b[0m \u001b[38;5;28;01mif\u001b[39;00m \u001b[38;5;129;01mnot\u001b[39;00m \u001b[38;5;28mself\u001b[39m\u001b[38;5;241m.\u001b[39mdata_queue\u001b[38;5;241m.\u001b[39mempty():\n\u001b[0;32m    124\u001b[0m     val \u001b[38;5;241m=\u001b[39m \u001b[38;5;28mself\u001b[39m\u001b[38;5;241m.\u001b[39mdata_queue\u001b[38;5;241m.\u001b[39mget()\n\u001b[1;32m--> 127\u001b[0m \u001b[38;5;28;01mif\u001b[39;00m \u001b[43mval\u001b[49m \u001b[38;5;241m==\u001b[39m \u001b[38;5;124m'\u001b[39m\u001b[38;5;124m<\u001b[39m\u001b[38;5;124m'\u001b[39m:\n\u001b[0;32m    128\u001b[0m     \u001b[38;5;28mself\u001b[39m\u001b[38;5;241m.\u001b[39mmediaplayer\u001b[38;5;241m.\u001b[39mset_rate(\u001b[38;5;28mself\u001b[39m\u001b[38;5;241m.\u001b[39mmediaplayer\u001b[38;5;241m.\u001b[39mget_rate() \u001b[38;5;241m*\u001b[39m \u001b[38;5;241m0.5\u001b[39m)\n\u001b[0;32m    129\u001b[0m     \u001b[38;5;28;01mreturn\u001b[39;00m\n",
      "\u001b[1;31mUnboundLocalError\u001b[0m: local variable 'val' referenced before assignment"
     ]
    },
    {
     "ename": "UnboundLocalError",
     "evalue": "local variable 'val' referenced before assignment",
     "output_type": "error",
     "traceback": [
      "\u001b[1;31m---------------------------------------------------------------------------\u001b[0m",
      "\u001b[1;31mUnboundLocalError\u001b[0m                         Traceback (most recent call last)",
      "Cell \u001b[1;32mIn[1], line 127\u001b[0m, in \u001b[0;36mMiniPlayer.update_ui\u001b[1;34m(self)\u001b[0m\n\u001b[0;32m    123\u001b[0m \u001b[38;5;28;01mif\u001b[39;00m \u001b[38;5;129;01mnot\u001b[39;00m \u001b[38;5;28mself\u001b[39m\u001b[38;5;241m.\u001b[39mdata_queue\u001b[38;5;241m.\u001b[39mempty():\n\u001b[0;32m    124\u001b[0m     val \u001b[38;5;241m=\u001b[39m \u001b[38;5;28mself\u001b[39m\u001b[38;5;241m.\u001b[39mdata_queue\u001b[38;5;241m.\u001b[39mget()\n\u001b[1;32m--> 127\u001b[0m \u001b[38;5;28;01mif\u001b[39;00m \u001b[43mval\u001b[49m \u001b[38;5;241m==\u001b[39m \u001b[38;5;124m'\u001b[39m\u001b[38;5;124m<\u001b[39m\u001b[38;5;124m'\u001b[39m:\n\u001b[0;32m    128\u001b[0m     \u001b[38;5;28mself\u001b[39m\u001b[38;5;241m.\u001b[39mmediaplayer\u001b[38;5;241m.\u001b[39mset_rate(\u001b[38;5;28mself\u001b[39m\u001b[38;5;241m.\u001b[39mmediaplayer\u001b[38;5;241m.\u001b[39mget_rate() \u001b[38;5;241m*\u001b[39m \u001b[38;5;241m0.5\u001b[39m)\n\u001b[0;32m    129\u001b[0m     \u001b[38;5;28;01mreturn\u001b[39;00m\n",
      "\u001b[1;31mUnboundLocalError\u001b[0m: local variable 'val' referenced before assignment"
     ]
    },
    {
     "ename": "UnboundLocalError",
     "evalue": "local variable 'val' referenced before assignment",
     "output_type": "error",
     "traceback": [
      "\u001b[1;31m---------------------------------------------------------------------------\u001b[0m",
      "\u001b[1;31mUnboundLocalError\u001b[0m                         Traceback (most recent call last)",
      "Cell \u001b[1;32mIn[1], line 127\u001b[0m, in \u001b[0;36mMiniPlayer.update_ui\u001b[1;34m(self)\u001b[0m\n\u001b[0;32m    123\u001b[0m \u001b[38;5;28;01mif\u001b[39;00m \u001b[38;5;129;01mnot\u001b[39;00m \u001b[38;5;28mself\u001b[39m\u001b[38;5;241m.\u001b[39mdata_queue\u001b[38;5;241m.\u001b[39mempty():\n\u001b[0;32m    124\u001b[0m     val \u001b[38;5;241m=\u001b[39m \u001b[38;5;28mself\u001b[39m\u001b[38;5;241m.\u001b[39mdata_queue\u001b[38;5;241m.\u001b[39mget()\n\u001b[1;32m--> 127\u001b[0m \u001b[38;5;28;01mif\u001b[39;00m \u001b[43mval\u001b[49m \u001b[38;5;241m==\u001b[39m \u001b[38;5;124m'\u001b[39m\u001b[38;5;124m<\u001b[39m\u001b[38;5;124m'\u001b[39m:\n\u001b[0;32m    128\u001b[0m     \u001b[38;5;28mself\u001b[39m\u001b[38;5;241m.\u001b[39mmediaplayer\u001b[38;5;241m.\u001b[39mset_rate(\u001b[38;5;28mself\u001b[39m\u001b[38;5;241m.\u001b[39mmediaplayer\u001b[38;5;241m.\u001b[39mget_rate() \u001b[38;5;241m*\u001b[39m \u001b[38;5;241m0.5\u001b[39m)\n\u001b[0;32m    129\u001b[0m     \u001b[38;5;28;01mreturn\u001b[39;00m\n",
      "\u001b[1;31mUnboundLocalError\u001b[0m: local variable 'val' referenced before assignment"
     ]
    },
    {
     "ename": "UnboundLocalError",
     "evalue": "local variable 'val' referenced before assignment",
     "output_type": "error",
     "traceback": [
      "\u001b[1;31m---------------------------------------------------------------------------\u001b[0m",
      "\u001b[1;31mUnboundLocalError\u001b[0m                         Traceback (most recent call last)",
      "Cell \u001b[1;32mIn[1], line 127\u001b[0m, in \u001b[0;36mMiniPlayer.update_ui\u001b[1;34m(self)\u001b[0m\n\u001b[0;32m    123\u001b[0m \u001b[38;5;28;01mif\u001b[39;00m \u001b[38;5;129;01mnot\u001b[39;00m \u001b[38;5;28mself\u001b[39m\u001b[38;5;241m.\u001b[39mdata_queue\u001b[38;5;241m.\u001b[39mempty():\n\u001b[0;32m    124\u001b[0m     val \u001b[38;5;241m=\u001b[39m \u001b[38;5;28mself\u001b[39m\u001b[38;5;241m.\u001b[39mdata_queue\u001b[38;5;241m.\u001b[39mget()\n\u001b[1;32m--> 127\u001b[0m \u001b[38;5;28;01mif\u001b[39;00m \u001b[43mval\u001b[49m \u001b[38;5;241m==\u001b[39m \u001b[38;5;124m'\u001b[39m\u001b[38;5;124m<\u001b[39m\u001b[38;5;124m'\u001b[39m:\n\u001b[0;32m    128\u001b[0m     \u001b[38;5;28mself\u001b[39m\u001b[38;5;241m.\u001b[39mmediaplayer\u001b[38;5;241m.\u001b[39mset_rate(\u001b[38;5;28mself\u001b[39m\u001b[38;5;241m.\u001b[39mmediaplayer\u001b[38;5;241m.\u001b[39mget_rate() \u001b[38;5;241m*\u001b[39m \u001b[38;5;241m0.5\u001b[39m)\n\u001b[0;32m    129\u001b[0m     \u001b[38;5;28;01mreturn\u001b[39;00m\n",
      "\u001b[1;31mUnboundLocalError\u001b[0m: local variable 'val' referenced before assignment"
     ]
    },
    {
     "ename": "UnboundLocalError",
     "evalue": "local variable 'val' referenced before assignment",
     "output_type": "error",
     "traceback": [
      "\u001b[1;31m---------------------------------------------------------------------------\u001b[0m",
      "\u001b[1;31mUnboundLocalError\u001b[0m                         Traceback (most recent call last)",
      "Cell \u001b[1;32mIn[1], line 127\u001b[0m, in \u001b[0;36mMiniPlayer.update_ui\u001b[1;34m(self)\u001b[0m\n\u001b[0;32m    123\u001b[0m \u001b[38;5;28;01mif\u001b[39;00m \u001b[38;5;129;01mnot\u001b[39;00m \u001b[38;5;28mself\u001b[39m\u001b[38;5;241m.\u001b[39mdata_queue\u001b[38;5;241m.\u001b[39mempty():\n\u001b[0;32m    124\u001b[0m     val \u001b[38;5;241m=\u001b[39m \u001b[38;5;28mself\u001b[39m\u001b[38;5;241m.\u001b[39mdata_queue\u001b[38;5;241m.\u001b[39mget()\n\u001b[1;32m--> 127\u001b[0m \u001b[38;5;28;01mif\u001b[39;00m \u001b[43mval\u001b[49m \u001b[38;5;241m==\u001b[39m \u001b[38;5;124m'\u001b[39m\u001b[38;5;124m<\u001b[39m\u001b[38;5;124m'\u001b[39m:\n\u001b[0;32m    128\u001b[0m     \u001b[38;5;28mself\u001b[39m\u001b[38;5;241m.\u001b[39mmediaplayer\u001b[38;5;241m.\u001b[39mset_rate(\u001b[38;5;28mself\u001b[39m\u001b[38;5;241m.\u001b[39mmediaplayer\u001b[38;5;241m.\u001b[39mget_rate() \u001b[38;5;241m*\u001b[39m \u001b[38;5;241m0.5\u001b[39m)\n\u001b[0;32m    129\u001b[0m     \u001b[38;5;28;01mreturn\u001b[39;00m\n",
      "\u001b[1;31mUnboundLocalError\u001b[0m: local variable 'val' referenced before assignment"
     ]
    },
    {
     "ename": "UnboundLocalError",
     "evalue": "local variable 'val' referenced before assignment",
     "output_type": "error",
     "traceback": [
      "\u001b[1;31m---------------------------------------------------------------------------\u001b[0m",
      "\u001b[1;31mUnboundLocalError\u001b[0m                         Traceback (most recent call last)",
      "Cell \u001b[1;32mIn[1], line 127\u001b[0m, in \u001b[0;36mMiniPlayer.update_ui\u001b[1;34m(self)\u001b[0m\n\u001b[0;32m    123\u001b[0m \u001b[38;5;28;01mif\u001b[39;00m \u001b[38;5;129;01mnot\u001b[39;00m \u001b[38;5;28mself\u001b[39m\u001b[38;5;241m.\u001b[39mdata_queue\u001b[38;5;241m.\u001b[39mempty():\n\u001b[0;32m    124\u001b[0m     val \u001b[38;5;241m=\u001b[39m \u001b[38;5;28mself\u001b[39m\u001b[38;5;241m.\u001b[39mdata_queue\u001b[38;5;241m.\u001b[39mget()\n\u001b[1;32m--> 127\u001b[0m \u001b[38;5;28;01mif\u001b[39;00m \u001b[43mval\u001b[49m \u001b[38;5;241m==\u001b[39m \u001b[38;5;124m'\u001b[39m\u001b[38;5;124m<\u001b[39m\u001b[38;5;124m'\u001b[39m:\n\u001b[0;32m    128\u001b[0m     \u001b[38;5;28mself\u001b[39m\u001b[38;5;241m.\u001b[39mmediaplayer\u001b[38;5;241m.\u001b[39mset_rate(\u001b[38;5;28mself\u001b[39m\u001b[38;5;241m.\u001b[39mmediaplayer\u001b[38;5;241m.\u001b[39mget_rate() \u001b[38;5;241m*\u001b[39m \u001b[38;5;241m0.5\u001b[39m)\n\u001b[0;32m    129\u001b[0m     \u001b[38;5;28;01mreturn\u001b[39;00m\n",
      "\u001b[1;31mUnboundLocalError\u001b[0m: local variable 'val' referenced before assignment"
     ]
    },
    {
     "ename": "UnboundLocalError",
     "evalue": "local variable 'val' referenced before assignment",
     "output_type": "error",
     "traceback": [
      "\u001b[1;31m---------------------------------------------------------------------------\u001b[0m",
      "\u001b[1;31mUnboundLocalError\u001b[0m                         Traceback (most recent call last)",
      "Cell \u001b[1;32mIn[1], line 127\u001b[0m, in \u001b[0;36mMiniPlayer.update_ui\u001b[1;34m(self)\u001b[0m\n\u001b[0;32m    123\u001b[0m \u001b[38;5;28;01mif\u001b[39;00m \u001b[38;5;129;01mnot\u001b[39;00m \u001b[38;5;28mself\u001b[39m\u001b[38;5;241m.\u001b[39mdata_queue\u001b[38;5;241m.\u001b[39mempty():\n\u001b[0;32m    124\u001b[0m     val \u001b[38;5;241m=\u001b[39m \u001b[38;5;28mself\u001b[39m\u001b[38;5;241m.\u001b[39mdata_queue\u001b[38;5;241m.\u001b[39mget()\n\u001b[1;32m--> 127\u001b[0m \u001b[38;5;28;01mif\u001b[39;00m \u001b[43mval\u001b[49m \u001b[38;5;241m==\u001b[39m \u001b[38;5;124m'\u001b[39m\u001b[38;5;124m<\u001b[39m\u001b[38;5;124m'\u001b[39m:\n\u001b[0;32m    128\u001b[0m     \u001b[38;5;28mself\u001b[39m\u001b[38;5;241m.\u001b[39mmediaplayer\u001b[38;5;241m.\u001b[39mset_rate(\u001b[38;5;28mself\u001b[39m\u001b[38;5;241m.\u001b[39mmediaplayer\u001b[38;5;241m.\u001b[39mget_rate() \u001b[38;5;241m*\u001b[39m \u001b[38;5;241m0.5\u001b[39m)\n\u001b[0;32m    129\u001b[0m     \u001b[38;5;28;01mreturn\u001b[39;00m\n",
      "\u001b[1;31mUnboundLocalError\u001b[0m: local variable 'val' referenced before assignment"
     ]
    },
    {
     "ename": "UnboundLocalError",
     "evalue": "local variable 'val' referenced before assignment",
     "output_type": "error",
     "traceback": [
      "\u001b[1;31m---------------------------------------------------------------------------\u001b[0m",
      "\u001b[1;31mUnboundLocalError\u001b[0m                         Traceback (most recent call last)",
      "Cell \u001b[1;32mIn[1], line 127\u001b[0m, in \u001b[0;36mMiniPlayer.update_ui\u001b[1;34m(self)\u001b[0m\n\u001b[0;32m    123\u001b[0m \u001b[38;5;28;01mif\u001b[39;00m \u001b[38;5;129;01mnot\u001b[39;00m \u001b[38;5;28mself\u001b[39m\u001b[38;5;241m.\u001b[39mdata_queue\u001b[38;5;241m.\u001b[39mempty():\n\u001b[0;32m    124\u001b[0m     val \u001b[38;5;241m=\u001b[39m \u001b[38;5;28mself\u001b[39m\u001b[38;5;241m.\u001b[39mdata_queue\u001b[38;5;241m.\u001b[39mget()\n\u001b[1;32m--> 127\u001b[0m \u001b[38;5;28;01mif\u001b[39;00m \u001b[43mval\u001b[49m \u001b[38;5;241m==\u001b[39m \u001b[38;5;124m'\u001b[39m\u001b[38;5;124m<\u001b[39m\u001b[38;5;124m'\u001b[39m:\n\u001b[0;32m    128\u001b[0m     \u001b[38;5;28mself\u001b[39m\u001b[38;5;241m.\u001b[39mmediaplayer\u001b[38;5;241m.\u001b[39mset_rate(\u001b[38;5;28mself\u001b[39m\u001b[38;5;241m.\u001b[39mmediaplayer\u001b[38;5;241m.\u001b[39mget_rate() \u001b[38;5;241m*\u001b[39m \u001b[38;5;241m0.5\u001b[39m)\n\u001b[0;32m    129\u001b[0m     \u001b[38;5;28;01mreturn\u001b[39;00m\n",
      "\u001b[1;31mUnboundLocalError\u001b[0m: local variable 'val' referenced before assignment"
     ]
    },
    {
     "ename": "UnboundLocalError",
     "evalue": "local variable 'val' referenced before assignment",
     "output_type": "error",
     "traceback": [
      "\u001b[1;31m---------------------------------------------------------------------------\u001b[0m",
      "\u001b[1;31mUnboundLocalError\u001b[0m                         Traceback (most recent call last)",
      "Cell \u001b[1;32mIn[1], line 127\u001b[0m, in \u001b[0;36mMiniPlayer.update_ui\u001b[1;34m(self)\u001b[0m\n\u001b[0;32m    123\u001b[0m \u001b[38;5;28;01mif\u001b[39;00m \u001b[38;5;129;01mnot\u001b[39;00m \u001b[38;5;28mself\u001b[39m\u001b[38;5;241m.\u001b[39mdata_queue\u001b[38;5;241m.\u001b[39mempty():\n\u001b[0;32m    124\u001b[0m     val \u001b[38;5;241m=\u001b[39m \u001b[38;5;28mself\u001b[39m\u001b[38;5;241m.\u001b[39mdata_queue\u001b[38;5;241m.\u001b[39mget()\n\u001b[1;32m--> 127\u001b[0m \u001b[38;5;28;01mif\u001b[39;00m \u001b[43mval\u001b[49m \u001b[38;5;241m==\u001b[39m \u001b[38;5;124m'\u001b[39m\u001b[38;5;124m<\u001b[39m\u001b[38;5;124m'\u001b[39m:\n\u001b[0;32m    128\u001b[0m     \u001b[38;5;28mself\u001b[39m\u001b[38;5;241m.\u001b[39mmediaplayer\u001b[38;5;241m.\u001b[39mset_rate(\u001b[38;5;28mself\u001b[39m\u001b[38;5;241m.\u001b[39mmediaplayer\u001b[38;5;241m.\u001b[39mget_rate() \u001b[38;5;241m*\u001b[39m \u001b[38;5;241m0.5\u001b[39m)\n\u001b[0;32m    129\u001b[0m     \u001b[38;5;28;01mreturn\u001b[39;00m\n",
      "\u001b[1;31mUnboundLocalError\u001b[0m: local variable 'val' referenced before assignment"
     ]
    },
    {
     "ename": "UnboundLocalError",
     "evalue": "local variable 'val' referenced before assignment",
     "output_type": "error",
     "traceback": [
      "\u001b[1;31m---------------------------------------------------------------------------\u001b[0m",
      "\u001b[1;31mUnboundLocalError\u001b[0m                         Traceback (most recent call last)",
      "Cell \u001b[1;32mIn[1], line 127\u001b[0m, in \u001b[0;36mMiniPlayer.update_ui\u001b[1;34m(self)\u001b[0m\n\u001b[0;32m    123\u001b[0m \u001b[38;5;28;01mif\u001b[39;00m \u001b[38;5;129;01mnot\u001b[39;00m \u001b[38;5;28mself\u001b[39m\u001b[38;5;241m.\u001b[39mdata_queue\u001b[38;5;241m.\u001b[39mempty():\n\u001b[0;32m    124\u001b[0m     val \u001b[38;5;241m=\u001b[39m \u001b[38;5;28mself\u001b[39m\u001b[38;5;241m.\u001b[39mdata_queue\u001b[38;5;241m.\u001b[39mget()\n\u001b[1;32m--> 127\u001b[0m \u001b[38;5;28;01mif\u001b[39;00m \u001b[43mval\u001b[49m \u001b[38;5;241m==\u001b[39m \u001b[38;5;124m'\u001b[39m\u001b[38;5;124m<\u001b[39m\u001b[38;5;124m'\u001b[39m:\n\u001b[0;32m    128\u001b[0m     \u001b[38;5;28mself\u001b[39m\u001b[38;5;241m.\u001b[39mmediaplayer\u001b[38;5;241m.\u001b[39mset_rate(\u001b[38;5;28mself\u001b[39m\u001b[38;5;241m.\u001b[39mmediaplayer\u001b[38;5;241m.\u001b[39mget_rate() \u001b[38;5;241m*\u001b[39m \u001b[38;5;241m0.5\u001b[39m)\n\u001b[0;32m    129\u001b[0m     \u001b[38;5;28;01mreturn\u001b[39;00m\n",
      "\u001b[1;31mUnboundLocalError\u001b[0m: local variable 'val' referenced before assignment"
     ]
    },
    {
     "ename": "UnboundLocalError",
     "evalue": "local variable 'val' referenced before assignment",
     "output_type": "error",
     "traceback": [
      "\u001b[1;31m---------------------------------------------------------------------------\u001b[0m",
      "\u001b[1;31mUnboundLocalError\u001b[0m                         Traceback (most recent call last)",
      "Cell \u001b[1;32mIn[1], line 127\u001b[0m, in \u001b[0;36mMiniPlayer.update_ui\u001b[1;34m(self)\u001b[0m\n\u001b[0;32m    123\u001b[0m \u001b[38;5;28;01mif\u001b[39;00m \u001b[38;5;129;01mnot\u001b[39;00m \u001b[38;5;28mself\u001b[39m\u001b[38;5;241m.\u001b[39mdata_queue\u001b[38;5;241m.\u001b[39mempty():\n\u001b[0;32m    124\u001b[0m     val \u001b[38;5;241m=\u001b[39m \u001b[38;5;28mself\u001b[39m\u001b[38;5;241m.\u001b[39mdata_queue\u001b[38;5;241m.\u001b[39mget()\n\u001b[1;32m--> 127\u001b[0m \u001b[38;5;28;01mif\u001b[39;00m \u001b[43mval\u001b[49m \u001b[38;5;241m==\u001b[39m \u001b[38;5;124m'\u001b[39m\u001b[38;5;124m<\u001b[39m\u001b[38;5;124m'\u001b[39m:\n\u001b[0;32m    128\u001b[0m     \u001b[38;5;28mself\u001b[39m\u001b[38;5;241m.\u001b[39mmediaplayer\u001b[38;5;241m.\u001b[39mset_rate(\u001b[38;5;28mself\u001b[39m\u001b[38;5;241m.\u001b[39mmediaplayer\u001b[38;5;241m.\u001b[39mget_rate() \u001b[38;5;241m*\u001b[39m \u001b[38;5;241m0.5\u001b[39m)\n\u001b[0;32m    129\u001b[0m     \u001b[38;5;28;01mreturn\u001b[39;00m\n",
      "\u001b[1;31mUnboundLocalError\u001b[0m: local variable 'val' referenced before assignment"
     ]
    },
    {
     "ename": "UnboundLocalError",
     "evalue": "local variable 'val' referenced before assignment",
     "output_type": "error",
     "traceback": [
      "\u001b[1;31m---------------------------------------------------------------------------\u001b[0m",
      "\u001b[1;31mUnboundLocalError\u001b[0m                         Traceback (most recent call last)",
      "Cell \u001b[1;32mIn[1], line 127\u001b[0m, in \u001b[0;36mMiniPlayer.update_ui\u001b[1;34m(self)\u001b[0m\n\u001b[0;32m    123\u001b[0m \u001b[38;5;28;01mif\u001b[39;00m \u001b[38;5;129;01mnot\u001b[39;00m \u001b[38;5;28mself\u001b[39m\u001b[38;5;241m.\u001b[39mdata_queue\u001b[38;5;241m.\u001b[39mempty():\n\u001b[0;32m    124\u001b[0m     val \u001b[38;5;241m=\u001b[39m \u001b[38;5;28mself\u001b[39m\u001b[38;5;241m.\u001b[39mdata_queue\u001b[38;5;241m.\u001b[39mget()\n\u001b[1;32m--> 127\u001b[0m \u001b[38;5;28;01mif\u001b[39;00m \u001b[43mval\u001b[49m \u001b[38;5;241m==\u001b[39m \u001b[38;5;124m'\u001b[39m\u001b[38;5;124m<\u001b[39m\u001b[38;5;124m'\u001b[39m:\n\u001b[0;32m    128\u001b[0m     \u001b[38;5;28mself\u001b[39m\u001b[38;5;241m.\u001b[39mmediaplayer\u001b[38;5;241m.\u001b[39mset_rate(\u001b[38;5;28mself\u001b[39m\u001b[38;5;241m.\u001b[39mmediaplayer\u001b[38;5;241m.\u001b[39mget_rate() \u001b[38;5;241m*\u001b[39m \u001b[38;5;241m0.5\u001b[39m)\n\u001b[0;32m    129\u001b[0m     \u001b[38;5;28;01mreturn\u001b[39;00m\n",
      "\u001b[1;31mUnboundLocalError\u001b[0m: local variable 'val' referenced before assignment"
     ]
    },
    {
     "ename": "UnboundLocalError",
     "evalue": "local variable 'val' referenced before assignment",
     "output_type": "error",
     "traceback": [
      "\u001b[1;31m---------------------------------------------------------------------------\u001b[0m",
      "\u001b[1;31mUnboundLocalError\u001b[0m                         Traceback (most recent call last)",
      "Cell \u001b[1;32mIn[1], line 127\u001b[0m, in \u001b[0;36mMiniPlayer.update_ui\u001b[1;34m(self)\u001b[0m\n\u001b[0;32m    123\u001b[0m \u001b[38;5;28;01mif\u001b[39;00m \u001b[38;5;129;01mnot\u001b[39;00m \u001b[38;5;28mself\u001b[39m\u001b[38;5;241m.\u001b[39mdata_queue\u001b[38;5;241m.\u001b[39mempty():\n\u001b[0;32m    124\u001b[0m     val \u001b[38;5;241m=\u001b[39m \u001b[38;5;28mself\u001b[39m\u001b[38;5;241m.\u001b[39mdata_queue\u001b[38;5;241m.\u001b[39mget()\n\u001b[1;32m--> 127\u001b[0m \u001b[38;5;28;01mif\u001b[39;00m \u001b[43mval\u001b[49m \u001b[38;5;241m==\u001b[39m \u001b[38;5;124m'\u001b[39m\u001b[38;5;124m<\u001b[39m\u001b[38;5;124m'\u001b[39m:\n\u001b[0;32m    128\u001b[0m     \u001b[38;5;28mself\u001b[39m\u001b[38;5;241m.\u001b[39mmediaplayer\u001b[38;5;241m.\u001b[39mset_rate(\u001b[38;5;28mself\u001b[39m\u001b[38;5;241m.\u001b[39mmediaplayer\u001b[38;5;241m.\u001b[39mget_rate() \u001b[38;5;241m*\u001b[39m \u001b[38;5;241m0.5\u001b[39m)\n\u001b[0;32m    129\u001b[0m     \u001b[38;5;28;01mreturn\u001b[39;00m\n",
      "\u001b[1;31mUnboundLocalError\u001b[0m: local variable 'val' referenced before assignment"
     ]
    },
    {
     "ename": "UnboundLocalError",
     "evalue": "local variable 'val' referenced before assignment",
     "output_type": "error",
     "traceback": [
      "\u001b[1;31m---------------------------------------------------------------------------\u001b[0m",
      "\u001b[1;31mUnboundLocalError\u001b[0m                         Traceback (most recent call last)",
      "Cell \u001b[1;32mIn[1], line 127\u001b[0m, in \u001b[0;36mMiniPlayer.update_ui\u001b[1;34m(self)\u001b[0m\n\u001b[0;32m    123\u001b[0m \u001b[38;5;28;01mif\u001b[39;00m \u001b[38;5;129;01mnot\u001b[39;00m \u001b[38;5;28mself\u001b[39m\u001b[38;5;241m.\u001b[39mdata_queue\u001b[38;5;241m.\u001b[39mempty():\n\u001b[0;32m    124\u001b[0m     val \u001b[38;5;241m=\u001b[39m \u001b[38;5;28mself\u001b[39m\u001b[38;5;241m.\u001b[39mdata_queue\u001b[38;5;241m.\u001b[39mget()\n\u001b[1;32m--> 127\u001b[0m \u001b[38;5;28;01mif\u001b[39;00m \u001b[43mval\u001b[49m \u001b[38;5;241m==\u001b[39m \u001b[38;5;124m'\u001b[39m\u001b[38;5;124m<\u001b[39m\u001b[38;5;124m'\u001b[39m:\n\u001b[0;32m    128\u001b[0m     \u001b[38;5;28mself\u001b[39m\u001b[38;5;241m.\u001b[39mmediaplayer\u001b[38;5;241m.\u001b[39mset_rate(\u001b[38;5;28mself\u001b[39m\u001b[38;5;241m.\u001b[39mmediaplayer\u001b[38;5;241m.\u001b[39mget_rate() \u001b[38;5;241m*\u001b[39m \u001b[38;5;241m0.5\u001b[39m)\n\u001b[0;32m    129\u001b[0m     \u001b[38;5;28;01mreturn\u001b[39;00m\n",
      "\u001b[1;31mUnboundLocalError\u001b[0m: local variable 'val' referenced before assignment"
     ]
    },
    {
     "ename": "UnboundLocalError",
     "evalue": "local variable 'val' referenced before assignment",
     "output_type": "error",
     "traceback": [
      "\u001b[1;31m---------------------------------------------------------------------------\u001b[0m",
      "\u001b[1;31mUnboundLocalError\u001b[0m                         Traceback (most recent call last)",
      "Cell \u001b[1;32mIn[1], line 127\u001b[0m, in \u001b[0;36mMiniPlayer.update_ui\u001b[1;34m(self)\u001b[0m\n\u001b[0;32m    123\u001b[0m \u001b[38;5;28;01mif\u001b[39;00m \u001b[38;5;129;01mnot\u001b[39;00m \u001b[38;5;28mself\u001b[39m\u001b[38;5;241m.\u001b[39mdata_queue\u001b[38;5;241m.\u001b[39mempty():\n\u001b[0;32m    124\u001b[0m     val \u001b[38;5;241m=\u001b[39m \u001b[38;5;28mself\u001b[39m\u001b[38;5;241m.\u001b[39mdata_queue\u001b[38;5;241m.\u001b[39mget()\n\u001b[1;32m--> 127\u001b[0m \u001b[38;5;28;01mif\u001b[39;00m \u001b[43mval\u001b[49m \u001b[38;5;241m==\u001b[39m \u001b[38;5;124m'\u001b[39m\u001b[38;5;124m<\u001b[39m\u001b[38;5;124m'\u001b[39m:\n\u001b[0;32m    128\u001b[0m     \u001b[38;5;28mself\u001b[39m\u001b[38;5;241m.\u001b[39mmediaplayer\u001b[38;5;241m.\u001b[39mset_rate(\u001b[38;5;28mself\u001b[39m\u001b[38;5;241m.\u001b[39mmediaplayer\u001b[38;5;241m.\u001b[39mget_rate() \u001b[38;5;241m*\u001b[39m \u001b[38;5;241m0.5\u001b[39m)\n\u001b[0;32m    129\u001b[0m     \u001b[38;5;28;01mreturn\u001b[39;00m\n",
      "\u001b[1;31mUnboundLocalError\u001b[0m: local variable 'val' referenced before assignment"
     ]
    },
    {
     "ename": "UnboundLocalError",
     "evalue": "local variable 'val' referenced before assignment",
     "output_type": "error",
     "traceback": [
      "\u001b[1;31m---------------------------------------------------------------------------\u001b[0m",
      "\u001b[1;31mUnboundLocalError\u001b[0m                         Traceback (most recent call last)",
      "Cell \u001b[1;32mIn[1], line 127\u001b[0m, in \u001b[0;36mMiniPlayer.update_ui\u001b[1;34m(self)\u001b[0m\n\u001b[0;32m    123\u001b[0m \u001b[38;5;28;01mif\u001b[39;00m \u001b[38;5;129;01mnot\u001b[39;00m \u001b[38;5;28mself\u001b[39m\u001b[38;5;241m.\u001b[39mdata_queue\u001b[38;5;241m.\u001b[39mempty():\n\u001b[0;32m    124\u001b[0m     val \u001b[38;5;241m=\u001b[39m \u001b[38;5;28mself\u001b[39m\u001b[38;5;241m.\u001b[39mdata_queue\u001b[38;5;241m.\u001b[39mget()\n\u001b[1;32m--> 127\u001b[0m \u001b[38;5;28;01mif\u001b[39;00m \u001b[43mval\u001b[49m \u001b[38;5;241m==\u001b[39m \u001b[38;5;124m'\u001b[39m\u001b[38;5;124m<\u001b[39m\u001b[38;5;124m'\u001b[39m:\n\u001b[0;32m    128\u001b[0m     \u001b[38;5;28mself\u001b[39m\u001b[38;5;241m.\u001b[39mmediaplayer\u001b[38;5;241m.\u001b[39mset_rate(\u001b[38;5;28mself\u001b[39m\u001b[38;5;241m.\u001b[39mmediaplayer\u001b[38;5;241m.\u001b[39mget_rate() \u001b[38;5;241m*\u001b[39m \u001b[38;5;241m0.5\u001b[39m)\n\u001b[0;32m    129\u001b[0m     \u001b[38;5;28;01mreturn\u001b[39;00m\n",
      "\u001b[1;31mUnboundLocalError\u001b[0m: local variable 'val' referenced before assignment"
     ]
    },
    {
     "ename": "UnboundLocalError",
     "evalue": "local variable 'val' referenced before assignment",
     "output_type": "error",
     "traceback": [
      "\u001b[1;31m---------------------------------------------------------------------------\u001b[0m",
      "\u001b[1;31mUnboundLocalError\u001b[0m                         Traceback (most recent call last)",
      "Cell \u001b[1;32mIn[1], line 127\u001b[0m, in \u001b[0;36mMiniPlayer.update_ui\u001b[1;34m(self)\u001b[0m\n\u001b[0;32m    123\u001b[0m \u001b[38;5;28;01mif\u001b[39;00m \u001b[38;5;129;01mnot\u001b[39;00m \u001b[38;5;28mself\u001b[39m\u001b[38;5;241m.\u001b[39mdata_queue\u001b[38;5;241m.\u001b[39mempty():\n\u001b[0;32m    124\u001b[0m     val \u001b[38;5;241m=\u001b[39m \u001b[38;5;28mself\u001b[39m\u001b[38;5;241m.\u001b[39mdata_queue\u001b[38;5;241m.\u001b[39mget()\n\u001b[1;32m--> 127\u001b[0m \u001b[38;5;28;01mif\u001b[39;00m \u001b[43mval\u001b[49m \u001b[38;5;241m==\u001b[39m \u001b[38;5;124m'\u001b[39m\u001b[38;5;124m<\u001b[39m\u001b[38;5;124m'\u001b[39m:\n\u001b[0;32m    128\u001b[0m     \u001b[38;5;28mself\u001b[39m\u001b[38;5;241m.\u001b[39mmediaplayer\u001b[38;5;241m.\u001b[39mset_rate(\u001b[38;5;28mself\u001b[39m\u001b[38;5;241m.\u001b[39mmediaplayer\u001b[38;5;241m.\u001b[39mget_rate() \u001b[38;5;241m*\u001b[39m \u001b[38;5;241m0.5\u001b[39m)\n\u001b[0;32m    129\u001b[0m     \u001b[38;5;28;01mreturn\u001b[39;00m\n",
      "\u001b[1;31mUnboundLocalError\u001b[0m: local variable 'val' referenced before assignment"
     ]
    },
    {
     "ename": "UnboundLocalError",
     "evalue": "local variable 'val' referenced before assignment",
     "output_type": "error",
     "traceback": [
      "\u001b[1;31m---------------------------------------------------------------------------\u001b[0m",
      "\u001b[1;31mUnboundLocalError\u001b[0m                         Traceback (most recent call last)",
      "Cell \u001b[1;32mIn[1], line 127\u001b[0m, in \u001b[0;36mMiniPlayer.update_ui\u001b[1;34m(self)\u001b[0m\n\u001b[0;32m    123\u001b[0m \u001b[38;5;28;01mif\u001b[39;00m \u001b[38;5;129;01mnot\u001b[39;00m \u001b[38;5;28mself\u001b[39m\u001b[38;5;241m.\u001b[39mdata_queue\u001b[38;5;241m.\u001b[39mempty():\n\u001b[0;32m    124\u001b[0m     val \u001b[38;5;241m=\u001b[39m \u001b[38;5;28mself\u001b[39m\u001b[38;5;241m.\u001b[39mdata_queue\u001b[38;5;241m.\u001b[39mget()\n\u001b[1;32m--> 127\u001b[0m \u001b[38;5;28;01mif\u001b[39;00m \u001b[43mval\u001b[49m \u001b[38;5;241m==\u001b[39m \u001b[38;5;124m'\u001b[39m\u001b[38;5;124m<\u001b[39m\u001b[38;5;124m'\u001b[39m:\n\u001b[0;32m    128\u001b[0m     \u001b[38;5;28mself\u001b[39m\u001b[38;5;241m.\u001b[39mmediaplayer\u001b[38;5;241m.\u001b[39mset_rate(\u001b[38;5;28mself\u001b[39m\u001b[38;5;241m.\u001b[39mmediaplayer\u001b[38;5;241m.\u001b[39mget_rate() \u001b[38;5;241m*\u001b[39m \u001b[38;5;241m0.5\u001b[39m)\n\u001b[0;32m    129\u001b[0m     \u001b[38;5;28;01mreturn\u001b[39;00m\n",
      "\u001b[1;31mUnboundLocalError\u001b[0m: local variable 'val' referenced before assignment"
     ]
    },
    {
     "ename": "UnboundLocalError",
     "evalue": "local variable 'val' referenced before assignment",
     "output_type": "error",
     "traceback": [
      "\u001b[1;31m---------------------------------------------------------------------------\u001b[0m",
      "\u001b[1;31mUnboundLocalError\u001b[0m                         Traceback (most recent call last)",
      "Cell \u001b[1;32mIn[1], line 127\u001b[0m, in \u001b[0;36mMiniPlayer.update_ui\u001b[1;34m(self)\u001b[0m\n\u001b[0;32m    123\u001b[0m \u001b[38;5;28;01mif\u001b[39;00m \u001b[38;5;129;01mnot\u001b[39;00m \u001b[38;5;28mself\u001b[39m\u001b[38;5;241m.\u001b[39mdata_queue\u001b[38;5;241m.\u001b[39mempty():\n\u001b[0;32m    124\u001b[0m     val \u001b[38;5;241m=\u001b[39m \u001b[38;5;28mself\u001b[39m\u001b[38;5;241m.\u001b[39mdata_queue\u001b[38;5;241m.\u001b[39mget()\n\u001b[1;32m--> 127\u001b[0m \u001b[38;5;28;01mif\u001b[39;00m \u001b[43mval\u001b[49m \u001b[38;5;241m==\u001b[39m \u001b[38;5;124m'\u001b[39m\u001b[38;5;124m<\u001b[39m\u001b[38;5;124m'\u001b[39m:\n\u001b[0;32m    128\u001b[0m     \u001b[38;5;28mself\u001b[39m\u001b[38;5;241m.\u001b[39mmediaplayer\u001b[38;5;241m.\u001b[39mset_rate(\u001b[38;5;28mself\u001b[39m\u001b[38;5;241m.\u001b[39mmediaplayer\u001b[38;5;241m.\u001b[39mget_rate() \u001b[38;5;241m*\u001b[39m \u001b[38;5;241m0.5\u001b[39m)\n\u001b[0;32m    129\u001b[0m     \u001b[38;5;28;01mreturn\u001b[39;00m\n",
      "\u001b[1;31mUnboundLocalError\u001b[0m: local variable 'val' referenced before assignment"
     ]
    },
    {
     "ename": "UnboundLocalError",
     "evalue": "local variable 'val' referenced before assignment",
     "output_type": "error",
     "traceback": [
      "\u001b[1;31m---------------------------------------------------------------------------\u001b[0m",
      "\u001b[1;31mUnboundLocalError\u001b[0m                         Traceback (most recent call last)",
      "Cell \u001b[1;32mIn[1], line 127\u001b[0m, in \u001b[0;36mMiniPlayer.update_ui\u001b[1;34m(self)\u001b[0m\n\u001b[0;32m    123\u001b[0m \u001b[38;5;28;01mif\u001b[39;00m \u001b[38;5;129;01mnot\u001b[39;00m \u001b[38;5;28mself\u001b[39m\u001b[38;5;241m.\u001b[39mdata_queue\u001b[38;5;241m.\u001b[39mempty():\n\u001b[0;32m    124\u001b[0m     val \u001b[38;5;241m=\u001b[39m \u001b[38;5;28mself\u001b[39m\u001b[38;5;241m.\u001b[39mdata_queue\u001b[38;5;241m.\u001b[39mget()\n\u001b[1;32m--> 127\u001b[0m \u001b[38;5;28;01mif\u001b[39;00m \u001b[43mval\u001b[49m \u001b[38;5;241m==\u001b[39m \u001b[38;5;124m'\u001b[39m\u001b[38;5;124m<\u001b[39m\u001b[38;5;124m'\u001b[39m:\n\u001b[0;32m    128\u001b[0m     \u001b[38;5;28mself\u001b[39m\u001b[38;5;241m.\u001b[39mmediaplayer\u001b[38;5;241m.\u001b[39mset_rate(\u001b[38;5;28mself\u001b[39m\u001b[38;5;241m.\u001b[39mmediaplayer\u001b[38;5;241m.\u001b[39mget_rate() \u001b[38;5;241m*\u001b[39m \u001b[38;5;241m0.5\u001b[39m)\n\u001b[0;32m    129\u001b[0m     \u001b[38;5;28;01mreturn\u001b[39;00m\n",
      "\u001b[1;31mUnboundLocalError\u001b[0m: local variable 'val' referenced before assignment"
     ]
    },
    {
     "ename": "UnboundLocalError",
     "evalue": "local variable 'val' referenced before assignment",
     "output_type": "error",
     "traceback": [
      "\u001b[1;31m---------------------------------------------------------------------------\u001b[0m",
      "\u001b[1;31mUnboundLocalError\u001b[0m                         Traceback (most recent call last)",
      "Cell \u001b[1;32mIn[1], line 127\u001b[0m, in \u001b[0;36mMiniPlayer.update_ui\u001b[1;34m(self)\u001b[0m\n\u001b[0;32m    123\u001b[0m \u001b[38;5;28;01mif\u001b[39;00m \u001b[38;5;129;01mnot\u001b[39;00m \u001b[38;5;28mself\u001b[39m\u001b[38;5;241m.\u001b[39mdata_queue\u001b[38;5;241m.\u001b[39mempty():\n\u001b[0;32m    124\u001b[0m     val \u001b[38;5;241m=\u001b[39m \u001b[38;5;28mself\u001b[39m\u001b[38;5;241m.\u001b[39mdata_queue\u001b[38;5;241m.\u001b[39mget()\n\u001b[1;32m--> 127\u001b[0m \u001b[38;5;28;01mif\u001b[39;00m \u001b[43mval\u001b[49m \u001b[38;5;241m==\u001b[39m \u001b[38;5;124m'\u001b[39m\u001b[38;5;124m<\u001b[39m\u001b[38;5;124m'\u001b[39m:\n\u001b[0;32m    128\u001b[0m     \u001b[38;5;28mself\u001b[39m\u001b[38;5;241m.\u001b[39mmediaplayer\u001b[38;5;241m.\u001b[39mset_rate(\u001b[38;5;28mself\u001b[39m\u001b[38;5;241m.\u001b[39mmediaplayer\u001b[38;5;241m.\u001b[39mget_rate() \u001b[38;5;241m*\u001b[39m \u001b[38;5;241m0.5\u001b[39m)\n\u001b[0;32m    129\u001b[0m     \u001b[38;5;28;01mreturn\u001b[39;00m\n",
      "\u001b[1;31mUnboundLocalError\u001b[0m: local variable 'val' referenced before assignment"
     ]
    },
    {
     "ename": "UnboundLocalError",
     "evalue": "local variable 'val' referenced before assignment",
     "output_type": "error",
     "traceback": [
      "\u001b[1;31m---------------------------------------------------------------------------\u001b[0m",
      "\u001b[1;31mUnboundLocalError\u001b[0m                         Traceback (most recent call last)",
      "Cell \u001b[1;32mIn[1], line 127\u001b[0m, in \u001b[0;36mMiniPlayer.update_ui\u001b[1;34m(self)\u001b[0m\n\u001b[0;32m    123\u001b[0m \u001b[38;5;28;01mif\u001b[39;00m \u001b[38;5;129;01mnot\u001b[39;00m \u001b[38;5;28mself\u001b[39m\u001b[38;5;241m.\u001b[39mdata_queue\u001b[38;5;241m.\u001b[39mempty():\n\u001b[0;32m    124\u001b[0m     val \u001b[38;5;241m=\u001b[39m \u001b[38;5;28mself\u001b[39m\u001b[38;5;241m.\u001b[39mdata_queue\u001b[38;5;241m.\u001b[39mget()\n\u001b[1;32m--> 127\u001b[0m \u001b[38;5;28;01mif\u001b[39;00m \u001b[43mval\u001b[49m \u001b[38;5;241m==\u001b[39m \u001b[38;5;124m'\u001b[39m\u001b[38;5;124m<\u001b[39m\u001b[38;5;124m'\u001b[39m:\n\u001b[0;32m    128\u001b[0m     \u001b[38;5;28mself\u001b[39m\u001b[38;5;241m.\u001b[39mmediaplayer\u001b[38;5;241m.\u001b[39mset_rate(\u001b[38;5;28mself\u001b[39m\u001b[38;5;241m.\u001b[39mmediaplayer\u001b[38;5;241m.\u001b[39mget_rate() \u001b[38;5;241m*\u001b[39m \u001b[38;5;241m0.5\u001b[39m)\n\u001b[0;32m    129\u001b[0m     \u001b[38;5;28;01mreturn\u001b[39;00m\n",
      "\u001b[1;31mUnboundLocalError\u001b[0m: local variable 'val' referenced before assignment"
     ]
    },
    {
     "ename": "UnboundLocalError",
     "evalue": "local variable 'val' referenced before assignment",
     "output_type": "error",
     "traceback": [
      "\u001b[1;31m---------------------------------------------------------------------------\u001b[0m",
      "\u001b[1;31mUnboundLocalError\u001b[0m                         Traceback (most recent call last)",
      "Cell \u001b[1;32mIn[1], line 127\u001b[0m, in \u001b[0;36mMiniPlayer.update_ui\u001b[1;34m(self)\u001b[0m\n\u001b[0;32m    123\u001b[0m \u001b[38;5;28;01mif\u001b[39;00m \u001b[38;5;129;01mnot\u001b[39;00m \u001b[38;5;28mself\u001b[39m\u001b[38;5;241m.\u001b[39mdata_queue\u001b[38;5;241m.\u001b[39mempty():\n\u001b[0;32m    124\u001b[0m     val \u001b[38;5;241m=\u001b[39m \u001b[38;5;28mself\u001b[39m\u001b[38;5;241m.\u001b[39mdata_queue\u001b[38;5;241m.\u001b[39mget()\n\u001b[1;32m--> 127\u001b[0m \u001b[38;5;28;01mif\u001b[39;00m \u001b[43mval\u001b[49m \u001b[38;5;241m==\u001b[39m \u001b[38;5;124m'\u001b[39m\u001b[38;5;124m<\u001b[39m\u001b[38;5;124m'\u001b[39m:\n\u001b[0;32m    128\u001b[0m     \u001b[38;5;28mself\u001b[39m\u001b[38;5;241m.\u001b[39mmediaplayer\u001b[38;5;241m.\u001b[39mset_rate(\u001b[38;5;28mself\u001b[39m\u001b[38;5;241m.\u001b[39mmediaplayer\u001b[38;5;241m.\u001b[39mget_rate() \u001b[38;5;241m*\u001b[39m \u001b[38;5;241m0.5\u001b[39m)\n\u001b[0;32m    129\u001b[0m     \u001b[38;5;28;01mreturn\u001b[39;00m\n",
      "\u001b[1;31mUnboundLocalError\u001b[0m: local variable 'val' referenced before assignment"
     ]
    },
    {
     "ename": "UnboundLocalError",
     "evalue": "local variable 'val' referenced before assignment",
     "output_type": "error",
     "traceback": [
      "\u001b[1;31m---------------------------------------------------------------------------\u001b[0m",
      "\u001b[1;31mUnboundLocalError\u001b[0m                         Traceback (most recent call last)",
      "Cell \u001b[1;32mIn[1], line 127\u001b[0m, in \u001b[0;36mMiniPlayer.update_ui\u001b[1;34m(self)\u001b[0m\n\u001b[0;32m    123\u001b[0m \u001b[38;5;28;01mif\u001b[39;00m \u001b[38;5;129;01mnot\u001b[39;00m \u001b[38;5;28mself\u001b[39m\u001b[38;5;241m.\u001b[39mdata_queue\u001b[38;5;241m.\u001b[39mempty():\n\u001b[0;32m    124\u001b[0m     val \u001b[38;5;241m=\u001b[39m \u001b[38;5;28mself\u001b[39m\u001b[38;5;241m.\u001b[39mdata_queue\u001b[38;5;241m.\u001b[39mget()\n\u001b[1;32m--> 127\u001b[0m \u001b[38;5;28;01mif\u001b[39;00m \u001b[43mval\u001b[49m \u001b[38;5;241m==\u001b[39m \u001b[38;5;124m'\u001b[39m\u001b[38;5;124m<\u001b[39m\u001b[38;5;124m'\u001b[39m:\n\u001b[0;32m    128\u001b[0m     \u001b[38;5;28mself\u001b[39m\u001b[38;5;241m.\u001b[39mmediaplayer\u001b[38;5;241m.\u001b[39mset_rate(\u001b[38;5;28mself\u001b[39m\u001b[38;5;241m.\u001b[39mmediaplayer\u001b[38;5;241m.\u001b[39mget_rate() \u001b[38;5;241m*\u001b[39m \u001b[38;5;241m0.5\u001b[39m)\n\u001b[0;32m    129\u001b[0m     \u001b[38;5;28;01mreturn\u001b[39;00m\n",
      "\u001b[1;31mUnboundLocalError\u001b[0m: local variable 'val' referenced before assignment"
     ]
    },
    {
     "ename": "UnboundLocalError",
     "evalue": "local variable 'val' referenced before assignment",
     "output_type": "error",
     "traceback": [
      "\u001b[1;31m---------------------------------------------------------------------------\u001b[0m",
      "\u001b[1;31mUnboundLocalError\u001b[0m                         Traceback (most recent call last)",
      "Cell \u001b[1;32mIn[1], line 127\u001b[0m, in \u001b[0;36mMiniPlayer.update_ui\u001b[1;34m(self)\u001b[0m\n\u001b[0;32m    123\u001b[0m \u001b[38;5;28;01mif\u001b[39;00m \u001b[38;5;129;01mnot\u001b[39;00m \u001b[38;5;28mself\u001b[39m\u001b[38;5;241m.\u001b[39mdata_queue\u001b[38;5;241m.\u001b[39mempty():\n\u001b[0;32m    124\u001b[0m     val \u001b[38;5;241m=\u001b[39m \u001b[38;5;28mself\u001b[39m\u001b[38;5;241m.\u001b[39mdata_queue\u001b[38;5;241m.\u001b[39mget()\n\u001b[1;32m--> 127\u001b[0m \u001b[38;5;28;01mif\u001b[39;00m \u001b[43mval\u001b[49m \u001b[38;5;241m==\u001b[39m \u001b[38;5;124m'\u001b[39m\u001b[38;5;124m<\u001b[39m\u001b[38;5;124m'\u001b[39m:\n\u001b[0;32m    128\u001b[0m     \u001b[38;5;28mself\u001b[39m\u001b[38;5;241m.\u001b[39mmediaplayer\u001b[38;5;241m.\u001b[39mset_rate(\u001b[38;5;28mself\u001b[39m\u001b[38;5;241m.\u001b[39mmediaplayer\u001b[38;5;241m.\u001b[39mget_rate() \u001b[38;5;241m*\u001b[39m \u001b[38;5;241m0.5\u001b[39m)\n\u001b[0;32m    129\u001b[0m     \u001b[38;5;28;01mreturn\u001b[39;00m\n",
      "\u001b[1;31mUnboundLocalError\u001b[0m: local variable 'val' referenced before assignment"
     ]
    },
    {
     "ename": "UnboundLocalError",
     "evalue": "local variable 'val' referenced before assignment",
     "output_type": "error",
     "traceback": [
      "\u001b[1;31m---------------------------------------------------------------------------\u001b[0m",
      "\u001b[1;31mUnboundLocalError\u001b[0m                         Traceback (most recent call last)",
      "Cell \u001b[1;32mIn[1], line 127\u001b[0m, in \u001b[0;36mMiniPlayer.update_ui\u001b[1;34m(self)\u001b[0m\n\u001b[0;32m    123\u001b[0m \u001b[38;5;28;01mif\u001b[39;00m \u001b[38;5;129;01mnot\u001b[39;00m \u001b[38;5;28mself\u001b[39m\u001b[38;5;241m.\u001b[39mdata_queue\u001b[38;5;241m.\u001b[39mempty():\n\u001b[0;32m    124\u001b[0m     val \u001b[38;5;241m=\u001b[39m \u001b[38;5;28mself\u001b[39m\u001b[38;5;241m.\u001b[39mdata_queue\u001b[38;5;241m.\u001b[39mget()\n\u001b[1;32m--> 127\u001b[0m \u001b[38;5;28;01mif\u001b[39;00m \u001b[43mval\u001b[49m \u001b[38;5;241m==\u001b[39m \u001b[38;5;124m'\u001b[39m\u001b[38;5;124m<\u001b[39m\u001b[38;5;124m'\u001b[39m:\n\u001b[0;32m    128\u001b[0m     \u001b[38;5;28mself\u001b[39m\u001b[38;5;241m.\u001b[39mmediaplayer\u001b[38;5;241m.\u001b[39mset_rate(\u001b[38;5;28mself\u001b[39m\u001b[38;5;241m.\u001b[39mmediaplayer\u001b[38;5;241m.\u001b[39mget_rate() \u001b[38;5;241m*\u001b[39m \u001b[38;5;241m0.5\u001b[39m)\n\u001b[0;32m    129\u001b[0m     \u001b[38;5;28;01mreturn\u001b[39;00m\n",
      "\u001b[1;31mUnboundLocalError\u001b[0m: local variable 'val' referenced before assignment"
     ]
    },
    {
     "ename": "UnboundLocalError",
     "evalue": "local variable 'val' referenced before assignment",
     "output_type": "error",
     "traceback": [
      "\u001b[1;31m---------------------------------------------------------------------------\u001b[0m",
      "\u001b[1;31mUnboundLocalError\u001b[0m                         Traceback (most recent call last)",
      "Cell \u001b[1;32mIn[1], line 127\u001b[0m, in \u001b[0;36mMiniPlayer.update_ui\u001b[1;34m(self)\u001b[0m\n\u001b[0;32m    123\u001b[0m \u001b[38;5;28;01mif\u001b[39;00m \u001b[38;5;129;01mnot\u001b[39;00m \u001b[38;5;28mself\u001b[39m\u001b[38;5;241m.\u001b[39mdata_queue\u001b[38;5;241m.\u001b[39mempty():\n\u001b[0;32m    124\u001b[0m     val \u001b[38;5;241m=\u001b[39m \u001b[38;5;28mself\u001b[39m\u001b[38;5;241m.\u001b[39mdata_queue\u001b[38;5;241m.\u001b[39mget()\n\u001b[1;32m--> 127\u001b[0m \u001b[38;5;28;01mif\u001b[39;00m \u001b[43mval\u001b[49m \u001b[38;5;241m==\u001b[39m \u001b[38;5;124m'\u001b[39m\u001b[38;5;124m<\u001b[39m\u001b[38;5;124m'\u001b[39m:\n\u001b[0;32m    128\u001b[0m     \u001b[38;5;28mself\u001b[39m\u001b[38;5;241m.\u001b[39mmediaplayer\u001b[38;5;241m.\u001b[39mset_rate(\u001b[38;5;28mself\u001b[39m\u001b[38;5;241m.\u001b[39mmediaplayer\u001b[38;5;241m.\u001b[39mget_rate() \u001b[38;5;241m*\u001b[39m \u001b[38;5;241m0.5\u001b[39m)\n\u001b[0;32m    129\u001b[0m     \u001b[38;5;28;01mreturn\u001b[39;00m\n",
      "\u001b[1;31mUnboundLocalError\u001b[0m: local variable 'val' referenced before assignment"
     ]
    },
    {
     "ename": "UnboundLocalError",
     "evalue": "local variable 'val' referenced before assignment",
     "output_type": "error",
     "traceback": [
      "\u001b[1;31m---------------------------------------------------------------------------\u001b[0m",
      "\u001b[1;31mUnboundLocalError\u001b[0m                         Traceback (most recent call last)",
      "Cell \u001b[1;32mIn[1], line 127\u001b[0m, in \u001b[0;36mMiniPlayer.update_ui\u001b[1;34m(self)\u001b[0m\n\u001b[0;32m    123\u001b[0m \u001b[38;5;28;01mif\u001b[39;00m \u001b[38;5;129;01mnot\u001b[39;00m \u001b[38;5;28mself\u001b[39m\u001b[38;5;241m.\u001b[39mdata_queue\u001b[38;5;241m.\u001b[39mempty():\n\u001b[0;32m    124\u001b[0m     val \u001b[38;5;241m=\u001b[39m \u001b[38;5;28mself\u001b[39m\u001b[38;5;241m.\u001b[39mdata_queue\u001b[38;5;241m.\u001b[39mget()\n\u001b[1;32m--> 127\u001b[0m \u001b[38;5;28;01mif\u001b[39;00m \u001b[43mval\u001b[49m \u001b[38;5;241m==\u001b[39m \u001b[38;5;124m'\u001b[39m\u001b[38;5;124m<\u001b[39m\u001b[38;5;124m'\u001b[39m:\n\u001b[0;32m    128\u001b[0m     \u001b[38;5;28mself\u001b[39m\u001b[38;5;241m.\u001b[39mmediaplayer\u001b[38;5;241m.\u001b[39mset_rate(\u001b[38;5;28mself\u001b[39m\u001b[38;5;241m.\u001b[39mmediaplayer\u001b[38;5;241m.\u001b[39mget_rate() \u001b[38;5;241m*\u001b[39m \u001b[38;5;241m0.5\u001b[39m)\n\u001b[0;32m    129\u001b[0m     \u001b[38;5;28;01mreturn\u001b[39;00m\n",
      "\u001b[1;31mUnboundLocalError\u001b[0m: local variable 'val' referenced before assignment"
     ]
    },
    {
     "ename": "UnboundLocalError",
     "evalue": "local variable 'val' referenced before assignment",
     "output_type": "error",
     "traceback": [
      "\u001b[1;31m---------------------------------------------------------------------------\u001b[0m",
      "\u001b[1;31mUnboundLocalError\u001b[0m                         Traceback (most recent call last)",
      "Cell \u001b[1;32mIn[1], line 127\u001b[0m, in \u001b[0;36mMiniPlayer.update_ui\u001b[1;34m(self)\u001b[0m\n\u001b[0;32m    123\u001b[0m \u001b[38;5;28;01mif\u001b[39;00m \u001b[38;5;129;01mnot\u001b[39;00m \u001b[38;5;28mself\u001b[39m\u001b[38;5;241m.\u001b[39mdata_queue\u001b[38;5;241m.\u001b[39mempty():\n\u001b[0;32m    124\u001b[0m     val \u001b[38;5;241m=\u001b[39m \u001b[38;5;28mself\u001b[39m\u001b[38;5;241m.\u001b[39mdata_queue\u001b[38;5;241m.\u001b[39mget()\n\u001b[1;32m--> 127\u001b[0m \u001b[38;5;28;01mif\u001b[39;00m \u001b[43mval\u001b[49m \u001b[38;5;241m==\u001b[39m \u001b[38;5;124m'\u001b[39m\u001b[38;5;124m<\u001b[39m\u001b[38;5;124m'\u001b[39m:\n\u001b[0;32m    128\u001b[0m     \u001b[38;5;28mself\u001b[39m\u001b[38;5;241m.\u001b[39mmediaplayer\u001b[38;5;241m.\u001b[39mset_rate(\u001b[38;5;28mself\u001b[39m\u001b[38;5;241m.\u001b[39mmediaplayer\u001b[38;5;241m.\u001b[39mget_rate() \u001b[38;5;241m*\u001b[39m \u001b[38;5;241m0.5\u001b[39m)\n\u001b[0;32m    129\u001b[0m     \u001b[38;5;28;01mreturn\u001b[39;00m\n",
      "\u001b[1;31mUnboundLocalError\u001b[0m: local variable 'val' referenced before assignment"
     ]
    },
    {
     "ename": "UnboundLocalError",
     "evalue": "local variable 'val' referenced before assignment",
     "output_type": "error",
     "traceback": [
      "\u001b[1;31m---------------------------------------------------------------------------\u001b[0m",
      "\u001b[1;31mUnboundLocalError\u001b[0m                         Traceback (most recent call last)",
      "Cell \u001b[1;32mIn[1], line 127\u001b[0m, in \u001b[0;36mMiniPlayer.update_ui\u001b[1;34m(self)\u001b[0m\n\u001b[0;32m    123\u001b[0m \u001b[38;5;28;01mif\u001b[39;00m \u001b[38;5;129;01mnot\u001b[39;00m \u001b[38;5;28mself\u001b[39m\u001b[38;5;241m.\u001b[39mdata_queue\u001b[38;5;241m.\u001b[39mempty():\n\u001b[0;32m    124\u001b[0m     val \u001b[38;5;241m=\u001b[39m \u001b[38;5;28mself\u001b[39m\u001b[38;5;241m.\u001b[39mdata_queue\u001b[38;5;241m.\u001b[39mget()\n\u001b[1;32m--> 127\u001b[0m \u001b[38;5;28;01mif\u001b[39;00m \u001b[43mval\u001b[49m \u001b[38;5;241m==\u001b[39m \u001b[38;5;124m'\u001b[39m\u001b[38;5;124m<\u001b[39m\u001b[38;5;124m'\u001b[39m:\n\u001b[0;32m    128\u001b[0m     \u001b[38;5;28mself\u001b[39m\u001b[38;5;241m.\u001b[39mmediaplayer\u001b[38;5;241m.\u001b[39mset_rate(\u001b[38;5;28mself\u001b[39m\u001b[38;5;241m.\u001b[39mmediaplayer\u001b[38;5;241m.\u001b[39mget_rate() \u001b[38;5;241m*\u001b[39m \u001b[38;5;241m0.5\u001b[39m)\n\u001b[0;32m    129\u001b[0m     \u001b[38;5;28;01mreturn\u001b[39;00m\n",
      "\u001b[1;31mUnboundLocalError\u001b[0m: local variable 'val' referenced before assignment"
     ]
    },
    {
     "ename": "UnboundLocalError",
     "evalue": "local variable 'val' referenced before assignment",
     "output_type": "error",
     "traceback": [
      "\u001b[1;31m---------------------------------------------------------------------------\u001b[0m",
      "\u001b[1;31mUnboundLocalError\u001b[0m                         Traceback (most recent call last)",
      "Cell \u001b[1;32mIn[1], line 127\u001b[0m, in \u001b[0;36mMiniPlayer.update_ui\u001b[1;34m(self)\u001b[0m\n\u001b[0;32m    123\u001b[0m \u001b[38;5;28;01mif\u001b[39;00m \u001b[38;5;129;01mnot\u001b[39;00m \u001b[38;5;28mself\u001b[39m\u001b[38;5;241m.\u001b[39mdata_queue\u001b[38;5;241m.\u001b[39mempty():\n\u001b[0;32m    124\u001b[0m     val \u001b[38;5;241m=\u001b[39m \u001b[38;5;28mself\u001b[39m\u001b[38;5;241m.\u001b[39mdata_queue\u001b[38;5;241m.\u001b[39mget()\n\u001b[1;32m--> 127\u001b[0m \u001b[38;5;28;01mif\u001b[39;00m \u001b[43mval\u001b[49m \u001b[38;5;241m==\u001b[39m \u001b[38;5;124m'\u001b[39m\u001b[38;5;124m<\u001b[39m\u001b[38;5;124m'\u001b[39m:\n\u001b[0;32m    128\u001b[0m     \u001b[38;5;28mself\u001b[39m\u001b[38;5;241m.\u001b[39mmediaplayer\u001b[38;5;241m.\u001b[39mset_rate(\u001b[38;5;28mself\u001b[39m\u001b[38;5;241m.\u001b[39mmediaplayer\u001b[38;5;241m.\u001b[39mget_rate() \u001b[38;5;241m*\u001b[39m \u001b[38;5;241m0.5\u001b[39m)\n\u001b[0;32m    129\u001b[0m     \u001b[38;5;28;01mreturn\u001b[39;00m\n",
      "\u001b[1;31mUnboundLocalError\u001b[0m: local variable 'val' referenced before assignment"
     ]
    },
    {
     "ename": "UnboundLocalError",
     "evalue": "local variable 'val' referenced before assignment",
     "output_type": "error",
     "traceback": [
      "\u001b[1;31m---------------------------------------------------------------------------\u001b[0m",
      "\u001b[1;31mUnboundLocalError\u001b[0m                         Traceback (most recent call last)",
      "Cell \u001b[1;32mIn[1], line 127\u001b[0m, in \u001b[0;36mMiniPlayer.update_ui\u001b[1;34m(self)\u001b[0m\n\u001b[0;32m    123\u001b[0m \u001b[38;5;28;01mif\u001b[39;00m \u001b[38;5;129;01mnot\u001b[39;00m \u001b[38;5;28mself\u001b[39m\u001b[38;5;241m.\u001b[39mdata_queue\u001b[38;5;241m.\u001b[39mempty():\n\u001b[0;32m    124\u001b[0m     val \u001b[38;5;241m=\u001b[39m \u001b[38;5;28mself\u001b[39m\u001b[38;5;241m.\u001b[39mdata_queue\u001b[38;5;241m.\u001b[39mget()\n\u001b[1;32m--> 127\u001b[0m \u001b[38;5;28;01mif\u001b[39;00m \u001b[43mval\u001b[49m \u001b[38;5;241m==\u001b[39m \u001b[38;5;124m'\u001b[39m\u001b[38;5;124m<\u001b[39m\u001b[38;5;124m'\u001b[39m:\n\u001b[0;32m    128\u001b[0m     \u001b[38;5;28mself\u001b[39m\u001b[38;5;241m.\u001b[39mmediaplayer\u001b[38;5;241m.\u001b[39mset_rate(\u001b[38;5;28mself\u001b[39m\u001b[38;5;241m.\u001b[39mmediaplayer\u001b[38;5;241m.\u001b[39mget_rate() \u001b[38;5;241m*\u001b[39m \u001b[38;5;241m0.5\u001b[39m)\n\u001b[0;32m    129\u001b[0m     \u001b[38;5;28;01mreturn\u001b[39;00m\n",
      "\u001b[1;31mUnboundLocalError\u001b[0m: local variable 'val' referenced before assignment"
     ]
    },
    {
     "ename": "UnboundLocalError",
     "evalue": "local variable 'val' referenced before assignment",
     "output_type": "error",
     "traceback": [
      "\u001b[1;31m---------------------------------------------------------------------------\u001b[0m",
      "\u001b[1;31mUnboundLocalError\u001b[0m                         Traceback (most recent call last)",
      "Cell \u001b[1;32mIn[1], line 127\u001b[0m, in \u001b[0;36mMiniPlayer.update_ui\u001b[1;34m(self)\u001b[0m\n\u001b[0;32m    123\u001b[0m \u001b[38;5;28;01mif\u001b[39;00m \u001b[38;5;129;01mnot\u001b[39;00m \u001b[38;5;28mself\u001b[39m\u001b[38;5;241m.\u001b[39mdata_queue\u001b[38;5;241m.\u001b[39mempty():\n\u001b[0;32m    124\u001b[0m     val \u001b[38;5;241m=\u001b[39m \u001b[38;5;28mself\u001b[39m\u001b[38;5;241m.\u001b[39mdata_queue\u001b[38;5;241m.\u001b[39mget()\n\u001b[1;32m--> 127\u001b[0m \u001b[38;5;28;01mif\u001b[39;00m \u001b[43mval\u001b[49m \u001b[38;5;241m==\u001b[39m \u001b[38;5;124m'\u001b[39m\u001b[38;5;124m<\u001b[39m\u001b[38;5;124m'\u001b[39m:\n\u001b[0;32m    128\u001b[0m     \u001b[38;5;28mself\u001b[39m\u001b[38;5;241m.\u001b[39mmediaplayer\u001b[38;5;241m.\u001b[39mset_rate(\u001b[38;5;28mself\u001b[39m\u001b[38;5;241m.\u001b[39mmediaplayer\u001b[38;5;241m.\u001b[39mget_rate() \u001b[38;5;241m*\u001b[39m \u001b[38;5;241m0.5\u001b[39m)\n\u001b[0;32m    129\u001b[0m     \u001b[38;5;28;01mreturn\u001b[39;00m\n",
      "\u001b[1;31mUnboundLocalError\u001b[0m: local variable 'val' referenced before assignment"
     ]
    },
    {
     "ename": "UnboundLocalError",
     "evalue": "local variable 'val' referenced before assignment",
     "output_type": "error",
     "traceback": [
      "\u001b[1;31m---------------------------------------------------------------------------\u001b[0m",
      "\u001b[1;31mUnboundLocalError\u001b[0m                         Traceback (most recent call last)",
      "Cell \u001b[1;32mIn[1], line 127\u001b[0m, in \u001b[0;36mMiniPlayer.update_ui\u001b[1;34m(self)\u001b[0m\n\u001b[0;32m    123\u001b[0m \u001b[38;5;28;01mif\u001b[39;00m \u001b[38;5;129;01mnot\u001b[39;00m \u001b[38;5;28mself\u001b[39m\u001b[38;5;241m.\u001b[39mdata_queue\u001b[38;5;241m.\u001b[39mempty():\n\u001b[0;32m    124\u001b[0m     val \u001b[38;5;241m=\u001b[39m \u001b[38;5;28mself\u001b[39m\u001b[38;5;241m.\u001b[39mdata_queue\u001b[38;5;241m.\u001b[39mget()\n\u001b[1;32m--> 127\u001b[0m \u001b[38;5;28;01mif\u001b[39;00m \u001b[43mval\u001b[49m \u001b[38;5;241m==\u001b[39m \u001b[38;5;124m'\u001b[39m\u001b[38;5;124m<\u001b[39m\u001b[38;5;124m'\u001b[39m:\n\u001b[0;32m    128\u001b[0m     \u001b[38;5;28mself\u001b[39m\u001b[38;5;241m.\u001b[39mmediaplayer\u001b[38;5;241m.\u001b[39mset_rate(\u001b[38;5;28mself\u001b[39m\u001b[38;5;241m.\u001b[39mmediaplayer\u001b[38;5;241m.\u001b[39mget_rate() \u001b[38;5;241m*\u001b[39m \u001b[38;5;241m0.5\u001b[39m)\n\u001b[0;32m    129\u001b[0m     \u001b[38;5;28;01mreturn\u001b[39;00m\n",
      "\u001b[1;31mUnboundLocalError\u001b[0m: local variable 'val' referenced before assignment"
     ]
    },
    {
     "ename": "UnboundLocalError",
     "evalue": "local variable 'val' referenced before assignment",
     "output_type": "error",
     "traceback": [
      "\u001b[1;31m---------------------------------------------------------------------------\u001b[0m",
      "\u001b[1;31mUnboundLocalError\u001b[0m                         Traceback (most recent call last)",
      "Cell \u001b[1;32mIn[1], line 127\u001b[0m, in \u001b[0;36mMiniPlayer.update_ui\u001b[1;34m(self)\u001b[0m\n\u001b[0;32m    123\u001b[0m \u001b[38;5;28;01mif\u001b[39;00m \u001b[38;5;129;01mnot\u001b[39;00m \u001b[38;5;28mself\u001b[39m\u001b[38;5;241m.\u001b[39mdata_queue\u001b[38;5;241m.\u001b[39mempty():\n\u001b[0;32m    124\u001b[0m     val \u001b[38;5;241m=\u001b[39m \u001b[38;5;28mself\u001b[39m\u001b[38;5;241m.\u001b[39mdata_queue\u001b[38;5;241m.\u001b[39mget()\n\u001b[1;32m--> 127\u001b[0m \u001b[38;5;28;01mif\u001b[39;00m \u001b[43mval\u001b[49m \u001b[38;5;241m==\u001b[39m \u001b[38;5;124m'\u001b[39m\u001b[38;5;124m<\u001b[39m\u001b[38;5;124m'\u001b[39m:\n\u001b[0;32m    128\u001b[0m     \u001b[38;5;28mself\u001b[39m\u001b[38;5;241m.\u001b[39mmediaplayer\u001b[38;5;241m.\u001b[39mset_rate(\u001b[38;5;28mself\u001b[39m\u001b[38;5;241m.\u001b[39mmediaplayer\u001b[38;5;241m.\u001b[39mget_rate() \u001b[38;5;241m*\u001b[39m \u001b[38;5;241m0.5\u001b[39m)\n\u001b[0;32m    129\u001b[0m     \u001b[38;5;28;01mreturn\u001b[39;00m\n",
      "\u001b[1;31mUnboundLocalError\u001b[0m: local variable 'val' referenced before assignment"
     ]
    },
    {
     "ename": "UnboundLocalError",
     "evalue": "local variable 'val' referenced before assignment",
     "output_type": "error",
     "traceback": [
      "\u001b[1;31m---------------------------------------------------------------------------\u001b[0m",
      "\u001b[1;31mUnboundLocalError\u001b[0m                         Traceback (most recent call last)",
      "Cell \u001b[1;32mIn[1], line 127\u001b[0m, in \u001b[0;36mMiniPlayer.update_ui\u001b[1;34m(self)\u001b[0m\n\u001b[0;32m    123\u001b[0m \u001b[38;5;28;01mif\u001b[39;00m \u001b[38;5;129;01mnot\u001b[39;00m \u001b[38;5;28mself\u001b[39m\u001b[38;5;241m.\u001b[39mdata_queue\u001b[38;5;241m.\u001b[39mempty():\n\u001b[0;32m    124\u001b[0m     val \u001b[38;5;241m=\u001b[39m \u001b[38;5;28mself\u001b[39m\u001b[38;5;241m.\u001b[39mdata_queue\u001b[38;5;241m.\u001b[39mget()\n\u001b[1;32m--> 127\u001b[0m \u001b[38;5;28;01mif\u001b[39;00m \u001b[43mval\u001b[49m \u001b[38;5;241m==\u001b[39m \u001b[38;5;124m'\u001b[39m\u001b[38;5;124m<\u001b[39m\u001b[38;5;124m'\u001b[39m:\n\u001b[0;32m    128\u001b[0m     \u001b[38;5;28mself\u001b[39m\u001b[38;5;241m.\u001b[39mmediaplayer\u001b[38;5;241m.\u001b[39mset_rate(\u001b[38;5;28mself\u001b[39m\u001b[38;5;241m.\u001b[39mmediaplayer\u001b[38;5;241m.\u001b[39mget_rate() \u001b[38;5;241m*\u001b[39m \u001b[38;5;241m0.5\u001b[39m)\n\u001b[0;32m    129\u001b[0m     \u001b[38;5;28;01mreturn\u001b[39;00m\n",
      "\u001b[1;31mUnboundLocalError\u001b[0m: local variable 'val' referenced before assignment"
     ]
    },
    {
     "ename": "UnboundLocalError",
     "evalue": "local variable 'val' referenced before assignment",
     "output_type": "error",
     "traceback": [
      "\u001b[1;31m---------------------------------------------------------------------------\u001b[0m",
      "\u001b[1;31mUnboundLocalError\u001b[0m                         Traceback (most recent call last)",
      "Cell \u001b[1;32mIn[1], line 127\u001b[0m, in \u001b[0;36mMiniPlayer.update_ui\u001b[1;34m(self)\u001b[0m\n\u001b[0;32m    123\u001b[0m \u001b[38;5;28;01mif\u001b[39;00m \u001b[38;5;129;01mnot\u001b[39;00m \u001b[38;5;28mself\u001b[39m\u001b[38;5;241m.\u001b[39mdata_queue\u001b[38;5;241m.\u001b[39mempty():\n\u001b[0;32m    124\u001b[0m     val \u001b[38;5;241m=\u001b[39m \u001b[38;5;28mself\u001b[39m\u001b[38;5;241m.\u001b[39mdata_queue\u001b[38;5;241m.\u001b[39mget()\n\u001b[1;32m--> 127\u001b[0m \u001b[38;5;28;01mif\u001b[39;00m \u001b[43mval\u001b[49m \u001b[38;5;241m==\u001b[39m \u001b[38;5;124m'\u001b[39m\u001b[38;5;124m<\u001b[39m\u001b[38;5;124m'\u001b[39m:\n\u001b[0;32m    128\u001b[0m     \u001b[38;5;28mself\u001b[39m\u001b[38;5;241m.\u001b[39mmediaplayer\u001b[38;5;241m.\u001b[39mset_rate(\u001b[38;5;28mself\u001b[39m\u001b[38;5;241m.\u001b[39mmediaplayer\u001b[38;5;241m.\u001b[39mget_rate() \u001b[38;5;241m*\u001b[39m \u001b[38;5;241m0.5\u001b[39m)\n\u001b[0;32m    129\u001b[0m     \u001b[38;5;28;01mreturn\u001b[39;00m\n",
      "\u001b[1;31mUnboundLocalError\u001b[0m: local variable 'val' referenced before assignment"
     ]
    },
    {
     "ename": "UnboundLocalError",
     "evalue": "local variable 'val' referenced before assignment",
     "output_type": "error",
     "traceback": [
      "\u001b[1;31m---------------------------------------------------------------------------\u001b[0m",
      "\u001b[1;31mUnboundLocalError\u001b[0m                         Traceback (most recent call last)",
      "Cell \u001b[1;32mIn[1], line 127\u001b[0m, in \u001b[0;36mMiniPlayer.update_ui\u001b[1;34m(self)\u001b[0m\n\u001b[0;32m    123\u001b[0m \u001b[38;5;28;01mif\u001b[39;00m \u001b[38;5;129;01mnot\u001b[39;00m \u001b[38;5;28mself\u001b[39m\u001b[38;5;241m.\u001b[39mdata_queue\u001b[38;5;241m.\u001b[39mempty():\n\u001b[0;32m    124\u001b[0m     val \u001b[38;5;241m=\u001b[39m \u001b[38;5;28mself\u001b[39m\u001b[38;5;241m.\u001b[39mdata_queue\u001b[38;5;241m.\u001b[39mget()\n\u001b[1;32m--> 127\u001b[0m \u001b[38;5;28;01mif\u001b[39;00m \u001b[43mval\u001b[49m \u001b[38;5;241m==\u001b[39m \u001b[38;5;124m'\u001b[39m\u001b[38;5;124m<\u001b[39m\u001b[38;5;124m'\u001b[39m:\n\u001b[0;32m    128\u001b[0m     \u001b[38;5;28mself\u001b[39m\u001b[38;5;241m.\u001b[39mmediaplayer\u001b[38;5;241m.\u001b[39mset_rate(\u001b[38;5;28mself\u001b[39m\u001b[38;5;241m.\u001b[39mmediaplayer\u001b[38;5;241m.\u001b[39mget_rate() \u001b[38;5;241m*\u001b[39m \u001b[38;5;241m0.5\u001b[39m)\n\u001b[0;32m    129\u001b[0m     \u001b[38;5;28;01mreturn\u001b[39;00m\n",
      "\u001b[1;31mUnboundLocalError\u001b[0m: local variable 'val' referenced before assignment"
     ]
    },
    {
     "ename": "UnboundLocalError",
     "evalue": "local variable 'val' referenced before assignment",
     "output_type": "error",
     "traceback": [
      "\u001b[1;31m---------------------------------------------------------------------------\u001b[0m",
      "\u001b[1;31mUnboundLocalError\u001b[0m                         Traceback (most recent call last)",
      "Cell \u001b[1;32mIn[1], line 127\u001b[0m, in \u001b[0;36mMiniPlayer.update_ui\u001b[1;34m(self)\u001b[0m\n\u001b[0;32m    123\u001b[0m \u001b[38;5;28;01mif\u001b[39;00m \u001b[38;5;129;01mnot\u001b[39;00m \u001b[38;5;28mself\u001b[39m\u001b[38;5;241m.\u001b[39mdata_queue\u001b[38;5;241m.\u001b[39mempty():\n\u001b[0;32m    124\u001b[0m     val \u001b[38;5;241m=\u001b[39m \u001b[38;5;28mself\u001b[39m\u001b[38;5;241m.\u001b[39mdata_queue\u001b[38;5;241m.\u001b[39mget()\n\u001b[1;32m--> 127\u001b[0m \u001b[38;5;28;01mif\u001b[39;00m \u001b[43mval\u001b[49m \u001b[38;5;241m==\u001b[39m \u001b[38;5;124m'\u001b[39m\u001b[38;5;124m<\u001b[39m\u001b[38;5;124m'\u001b[39m:\n\u001b[0;32m    128\u001b[0m     \u001b[38;5;28mself\u001b[39m\u001b[38;5;241m.\u001b[39mmediaplayer\u001b[38;5;241m.\u001b[39mset_rate(\u001b[38;5;28mself\u001b[39m\u001b[38;5;241m.\u001b[39mmediaplayer\u001b[38;5;241m.\u001b[39mget_rate() \u001b[38;5;241m*\u001b[39m \u001b[38;5;241m0.5\u001b[39m)\n\u001b[0;32m    129\u001b[0m     \u001b[38;5;28;01mreturn\u001b[39;00m\n",
      "\u001b[1;31mUnboundLocalError\u001b[0m: local variable 'val' referenced before assignment"
     ]
    },
    {
     "ename": "UnboundLocalError",
     "evalue": "local variable 'val' referenced before assignment",
     "output_type": "error",
     "traceback": [
      "\u001b[1;31m---------------------------------------------------------------------------\u001b[0m",
      "\u001b[1;31mUnboundLocalError\u001b[0m                         Traceback (most recent call last)",
      "Cell \u001b[1;32mIn[1], line 127\u001b[0m, in \u001b[0;36mMiniPlayer.update_ui\u001b[1;34m(self)\u001b[0m\n\u001b[0;32m    123\u001b[0m \u001b[38;5;28;01mif\u001b[39;00m \u001b[38;5;129;01mnot\u001b[39;00m \u001b[38;5;28mself\u001b[39m\u001b[38;5;241m.\u001b[39mdata_queue\u001b[38;5;241m.\u001b[39mempty():\n\u001b[0;32m    124\u001b[0m     val \u001b[38;5;241m=\u001b[39m \u001b[38;5;28mself\u001b[39m\u001b[38;5;241m.\u001b[39mdata_queue\u001b[38;5;241m.\u001b[39mget()\n\u001b[1;32m--> 127\u001b[0m \u001b[38;5;28;01mif\u001b[39;00m \u001b[43mval\u001b[49m \u001b[38;5;241m==\u001b[39m \u001b[38;5;124m'\u001b[39m\u001b[38;5;124m<\u001b[39m\u001b[38;5;124m'\u001b[39m:\n\u001b[0;32m    128\u001b[0m     \u001b[38;5;28mself\u001b[39m\u001b[38;5;241m.\u001b[39mmediaplayer\u001b[38;5;241m.\u001b[39mset_rate(\u001b[38;5;28mself\u001b[39m\u001b[38;5;241m.\u001b[39mmediaplayer\u001b[38;5;241m.\u001b[39mget_rate() \u001b[38;5;241m*\u001b[39m \u001b[38;5;241m0.5\u001b[39m)\n\u001b[0;32m    129\u001b[0m     \u001b[38;5;28;01mreturn\u001b[39;00m\n",
      "\u001b[1;31mUnboundLocalError\u001b[0m: local variable 'val' referenced before assignment"
     ]
    },
    {
     "ename": "UnboundLocalError",
     "evalue": "local variable 'val' referenced before assignment",
     "output_type": "error",
     "traceback": [
      "\u001b[1;31m---------------------------------------------------------------------------\u001b[0m",
      "\u001b[1;31mUnboundLocalError\u001b[0m                         Traceback (most recent call last)",
      "Cell \u001b[1;32mIn[1], line 127\u001b[0m, in \u001b[0;36mMiniPlayer.update_ui\u001b[1;34m(self)\u001b[0m\n\u001b[0;32m    123\u001b[0m \u001b[38;5;28;01mif\u001b[39;00m \u001b[38;5;129;01mnot\u001b[39;00m \u001b[38;5;28mself\u001b[39m\u001b[38;5;241m.\u001b[39mdata_queue\u001b[38;5;241m.\u001b[39mempty():\n\u001b[0;32m    124\u001b[0m     val \u001b[38;5;241m=\u001b[39m \u001b[38;5;28mself\u001b[39m\u001b[38;5;241m.\u001b[39mdata_queue\u001b[38;5;241m.\u001b[39mget()\n\u001b[1;32m--> 127\u001b[0m \u001b[38;5;28;01mif\u001b[39;00m \u001b[43mval\u001b[49m \u001b[38;5;241m==\u001b[39m \u001b[38;5;124m'\u001b[39m\u001b[38;5;124m<\u001b[39m\u001b[38;5;124m'\u001b[39m:\n\u001b[0;32m    128\u001b[0m     \u001b[38;5;28mself\u001b[39m\u001b[38;5;241m.\u001b[39mmediaplayer\u001b[38;5;241m.\u001b[39mset_rate(\u001b[38;5;28mself\u001b[39m\u001b[38;5;241m.\u001b[39mmediaplayer\u001b[38;5;241m.\u001b[39mget_rate() \u001b[38;5;241m*\u001b[39m \u001b[38;5;241m0.5\u001b[39m)\n\u001b[0;32m    129\u001b[0m     \u001b[38;5;28;01mreturn\u001b[39;00m\n",
      "\u001b[1;31mUnboundLocalError\u001b[0m: local variable 'val' referenced before assignment"
     ]
    },
    {
     "ename": "UnboundLocalError",
     "evalue": "local variable 'val' referenced before assignment",
     "output_type": "error",
     "traceback": [
      "\u001b[1;31m---------------------------------------------------------------------------\u001b[0m",
      "\u001b[1;31mUnboundLocalError\u001b[0m                         Traceback (most recent call last)",
      "Cell \u001b[1;32mIn[1], line 127\u001b[0m, in \u001b[0;36mMiniPlayer.update_ui\u001b[1;34m(self)\u001b[0m\n\u001b[0;32m    123\u001b[0m \u001b[38;5;28;01mif\u001b[39;00m \u001b[38;5;129;01mnot\u001b[39;00m \u001b[38;5;28mself\u001b[39m\u001b[38;5;241m.\u001b[39mdata_queue\u001b[38;5;241m.\u001b[39mempty():\n\u001b[0;32m    124\u001b[0m     val \u001b[38;5;241m=\u001b[39m \u001b[38;5;28mself\u001b[39m\u001b[38;5;241m.\u001b[39mdata_queue\u001b[38;5;241m.\u001b[39mget()\n\u001b[1;32m--> 127\u001b[0m \u001b[38;5;28;01mif\u001b[39;00m \u001b[43mval\u001b[49m \u001b[38;5;241m==\u001b[39m \u001b[38;5;124m'\u001b[39m\u001b[38;5;124m<\u001b[39m\u001b[38;5;124m'\u001b[39m:\n\u001b[0;32m    128\u001b[0m     \u001b[38;5;28mself\u001b[39m\u001b[38;5;241m.\u001b[39mmediaplayer\u001b[38;5;241m.\u001b[39mset_rate(\u001b[38;5;28mself\u001b[39m\u001b[38;5;241m.\u001b[39mmediaplayer\u001b[38;5;241m.\u001b[39mget_rate() \u001b[38;5;241m*\u001b[39m \u001b[38;5;241m0.5\u001b[39m)\n\u001b[0;32m    129\u001b[0m     \u001b[38;5;28;01mreturn\u001b[39;00m\n",
      "\u001b[1;31mUnboundLocalError\u001b[0m: local variable 'val' referenced before assignment"
     ]
    },
    {
     "ename": "UnboundLocalError",
     "evalue": "local variable 'val' referenced before assignment",
     "output_type": "error",
     "traceback": [
      "\u001b[1;31m---------------------------------------------------------------------------\u001b[0m",
      "\u001b[1;31mUnboundLocalError\u001b[0m                         Traceback (most recent call last)",
      "Cell \u001b[1;32mIn[1], line 127\u001b[0m, in \u001b[0;36mMiniPlayer.update_ui\u001b[1;34m(self)\u001b[0m\n\u001b[0;32m    123\u001b[0m \u001b[38;5;28;01mif\u001b[39;00m \u001b[38;5;129;01mnot\u001b[39;00m \u001b[38;5;28mself\u001b[39m\u001b[38;5;241m.\u001b[39mdata_queue\u001b[38;5;241m.\u001b[39mempty():\n\u001b[0;32m    124\u001b[0m     val \u001b[38;5;241m=\u001b[39m \u001b[38;5;28mself\u001b[39m\u001b[38;5;241m.\u001b[39mdata_queue\u001b[38;5;241m.\u001b[39mget()\n\u001b[1;32m--> 127\u001b[0m \u001b[38;5;28;01mif\u001b[39;00m \u001b[43mval\u001b[49m \u001b[38;5;241m==\u001b[39m \u001b[38;5;124m'\u001b[39m\u001b[38;5;124m<\u001b[39m\u001b[38;5;124m'\u001b[39m:\n\u001b[0;32m    128\u001b[0m     \u001b[38;5;28mself\u001b[39m\u001b[38;5;241m.\u001b[39mmediaplayer\u001b[38;5;241m.\u001b[39mset_rate(\u001b[38;5;28mself\u001b[39m\u001b[38;5;241m.\u001b[39mmediaplayer\u001b[38;5;241m.\u001b[39mget_rate() \u001b[38;5;241m*\u001b[39m \u001b[38;5;241m0.5\u001b[39m)\n\u001b[0;32m    129\u001b[0m     \u001b[38;5;28;01mreturn\u001b[39;00m\n",
      "\u001b[1;31mUnboundLocalError\u001b[0m: local variable 'val' referenced before assignment"
     ]
    },
    {
     "ename": "UnboundLocalError",
     "evalue": "local variable 'val' referenced before assignment",
     "output_type": "error",
     "traceback": [
      "\u001b[1;31m---------------------------------------------------------------------------\u001b[0m",
      "\u001b[1;31mUnboundLocalError\u001b[0m                         Traceback (most recent call last)",
      "Cell \u001b[1;32mIn[1], line 127\u001b[0m, in \u001b[0;36mMiniPlayer.update_ui\u001b[1;34m(self)\u001b[0m\n\u001b[0;32m    123\u001b[0m \u001b[38;5;28;01mif\u001b[39;00m \u001b[38;5;129;01mnot\u001b[39;00m \u001b[38;5;28mself\u001b[39m\u001b[38;5;241m.\u001b[39mdata_queue\u001b[38;5;241m.\u001b[39mempty():\n\u001b[0;32m    124\u001b[0m     val \u001b[38;5;241m=\u001b[39m \u001b[38;5;28mself\u001b[39m\u001b[38;5;241m.\u001b[39mdata_queue\u001b[38;5;241m.\u001b[39mget()\n\u001b[1;32m--> 127\u001b[0m \u001b[38;5;28;01mif\u001b[39;00m \u001b[43mval\u001b[49m \u001b[38;5;241m==\u001b[39m \u001b[38;5;124m'\u001b[39m\u001b[38;5;124m<\u001b[39m\u001b[38;5;124m'\u001b[39m:\n\u001b[0;32m    128\u001b[0m     \u001b[38;5;28mself\u001b[39m\u001b[38;5;241m.\u001b[39mmediaplayer\u001b[38;5;241m.\u001b[39mset_rate(\u001b[38;5;28mself\u001b[39m\u001b[38;5;241m.\u001b[39mmediaplayer\u001b[38;5;241m.\u001b[39mget_rate() \u001b[38;5;241m*\u001b[39m \u001b[38;5;241m0.5\u001b[39m)\n\u001b[0;32m    129\u001b[0m     \u001b[38;5;28;01mreturn\u001b[39;00m\n",
      "\u001b[1;31mUnboundLocalError\u001b[0m: local variable 'val' referenced before assignment"
     ]
    },
    {
     "ename": "UnboundLocalError",
     "evalue": "local variable 'val' referenced before assignment",
     "output_type": "error",
     "traceback": [
      "\u001b[1;31m---------------------------------------------------------------------------\u001b[0m",
      "\u001b[1;31mUnboundLocalError\u001b[0m                         Traceback (most recent call last)",
      "Cell \u001b[1;32mIn[1], line 127\u001b[0m, in \u001b[0;36mMiniPlayer.update_ui\u001b[1;34m(self)\u001b[0m\n\u001b[0;32m    123\u001b[0m \u001b[38;5;28;01mif\u001b[39;00m \u001b[38;5;129;01mnot\u001b[39;00m \u001b[38;5;28mself\u001b[39m\u001b[38;5;241m.\u001b[39mdata_queue\u001b[38;5;241m.\u001b[39mempty():\n\u001b[0;32m    124\u001b[0m     val \u001b[38;5;241m=\u001b[39m \u001b[38;5;28mself\u001b[39m\u001b[38;5;241m.\u001b[39mdata_queue\u001b[38;5;241m.\u001b[39mget()\n\u001b[1;32m--> 127\u001b[0m \u001b[38;5;28;01mif\u001b[39;00m \u001b[43mval\u001b[49m \u001b[38;5;241m==\u001b[39m \u001b[38;5;124m'\u001b[39m\u001b[38;5;124m<\u001b[39m\u001b[38;5;124m'\u001b[39m:\n\u001b[0;32m    128\u001b[0m     \u001b[38;5;28mself\u001b[39m\u001b[38;5;241m.\u001b[39mmediaplayer\u001b[38;5;241m.\u001b[39mset_rate(\u001b[38;5;28mself\u001b[39m\u001b[38;5;241m.\u001b[39mmediaplayer\u001b[38;5;241m.\u001b[39mget_rate() \u001b[38;5;241m*\u001b[39m \u001b[38;5;241m0.5\u001b[39m)\n\u001b[0;32m    129\u001b[0m     \u001b[38;5;28;01mreturn\u001b[39;00m\n",
      "\u001b[1;31mUnboundLocalError\u001b[0m: local variable 'val' referenced before assignment"
     ]
    },
    {
     "ename": "UnboundLocalError",
     "evalue": "local variable 'val' referenced before assignment",
     "output_type": "error",
     "traceback": [
      "\u001b[1;31m---------------------------------------------------------------------------\u001b[0m",
      "\u001b[1;31mUnboundLocalError\u001b[0m                         Traceback (most recent call last)",
      "Cell \u001b[1;32mIn[1], line 127\u001b[0m, in \u001b[0;36mMiniPlayer.update_ui\u001b[1;34m(self)\u001b[0m\n\u001b[0;32m    123\u001b[0m \u001b[38;5;28;01mif\u001b[39;00m \u001b[38;5;129;01mnot\u001b[39;00m \u001b[38;5;28mself\u001b[39m\u001b[38;5;241m.\u001b[39mdata_queue\u001b[38;5;241m.\u001b[39mempty():\n\u001b[0;32m    124\u001b[0m     val \u001b[38;5;241m=\u001b[39m \u001b[38;5;28mself\u001b[39m\u001b[38;5;241m.\u001b[39mdata_queue\u001b[38;5;241m.\u001b[39mget()\n\u001b[1;32m--> 127\u001b[0m \u001b[38;5;28;01mif\u001b[39;00m \u001b[43mval\u001b[49m \u001b[38;5;241m==\u001b[39m \u001b[38;5;124m'\u001b[39m\u001b[38;5;124m<\u001b[39m\u001b[38;5;124m'\u001b[39m:\n\u001b[0;32m    128\u001b[0m     \u001b[38;5;28mself\u001b[39m\u001b[38;5;241m.\u001b[39mmediaplayer\u001b[38;5;241m.\u001b[39mset_rate(\u001b[38;5;28mself\u001b[39m\u001b[38;5;241m.\u001b[39mmediaplayer\u001b[38;5;241m.\u001b[39mget_rate() \u001b[38;5;241m*\u001b[39m \u001b[38;5;241m0.5\u001b[39m)\n\u001b[0;32m    129\u001b[0m     \u001b[38;5;28;01mreturn\u001b[39;00m\n",
      "\u001b[1;31mUnboundLocalError\u001b[0m: local variable 'val' referenced before assignment"
     ]
    },
    {
     "ename": "UnboundLocalError",
     "evalue": "local variable 'val' referenced before assignment",
     "output_type": "error",
     "traceback": [
      "\u001b[1;31m---------------------------------------------------------------------------\u001b[0m",
      "\u001b[1;31mUnboundLocalError\u001b[0m                         Traceback (most recent call last)",
      "Cell \u001b[1;32mIn[1], line 127\u001b[0m, in \u001b[0;36mMiniPlayer.update_ui\u001b[1;34m(self)\u001b[0m\n\u001b[0;32m    123\u001b[0m \u001b[38;5;28;01mif\u001b[39;00m \u001b[38;5;129;01mnot\u001b[39;00m \u001b[38;5;28mself\u001b[39m\u001b[38;5;241m.\u001b[39mdata_queue\u001b[38;5;241m.\u001b[39mempty():\n\u001b[0;32m    124\u001b[0m     val \u001b[38;5;241m=\u001b[39m \u001b[38;5;28mself\u001b[39m\u001b[38;5;241m.\u001b[39mdata_queue\u001b[38;5;241m.\u001b[39mget()\n\u001b[1;32m--> 127\u001b[0m \u001b[38;5;28;01mif\u001b[39;00m \u001b[43mval\u001b[49m \u001b[38;5;241m==\u001b[39m \u001b[38;5;124m'\u001b[39m\u001b[38;5;124m<\u001b[39m\u001b[38;5;124m'\u001b[39m:\n\u001b[0;32m    128\u001b[0m     \u001b[38;5;28mself\u001b[39m\u001b[38;5;241m.\u001b[39mmediaplayer\u001b[38;5;241m.\u001b[39mset_rate(\u001b[38;5;28mself\u001b[39m\u001b[38;5;241m.\u001b[39mmediaplayer\u001b[38;5;241m.\u001b[39mget_rate() \u001b[38;5;241m*\u001b[39m \u001b[38;5;241m0.5\u001b[39m)\n\u001b[0;32m    129\u001b[0m     \u001b[38;5;28;01mreturn\u001b[39;00m\n",
      "\u001b[1;31mUnboundLocalError\u001b[0m: local variable 'val' referenced before assignment"
     ]
    },
    {
     "ename": "UnboundLocalError",
     "evalue": "local variable 'val' referenced before assignment",
     "output_type": "error",
     "traceback": [
      "\u001b[1;31m---------------------------------------------------------------------------\u001b[0m",
      "\u001b[1;31mUnboundLocalError\u001b[0m                         Traceback (most recent call last)",
      "Cell \u001b[1;32mIn[1], line 127\u001b[0m, in \u001b[0;36mMiniPlayer.update_ui\u001b[1;34m(self)\u001b[0m\n\u001b[0;32m    123\u001b[0m \u001b[38;5;28;01mif\u001b[39;00m \u001b[38;5;129;01mnot\u001b[39;00m \u001b[38;5;28mself\u001b[39m\u001b[38;5;241m.\u001b[39mdata_queue\u001b[38;5;241m.\u001b[39mempty():\n\u001b[0;32m    124\u001b[0m     val \u001b[38;5;241m=\u001b[39m \u001b[38;5;28mself\u001b[39m\u001b[38;5;241m.\u001b[39mdata_queue\u001b[38;5;241m.\u001b[39mget()\n\u001b[1;32m--> 127\u001b[0m \u001b[38;5;28;01mif\u001b[39;00m \u001b[43mval\u001b[49m \u001b[38;5;241m==\u001b[39m \u001b[38;5;124m'\u001b[39m\u001b[38;5;124m<\u001b[39m\u001b[38;5;124m'\u001b[39m:\n\u001b[0;32m    128\u001b[0m     \u001b[38;5;28mself\u001b[39m\u001b[38;5;241m.\u001b[39mmediaplayer\u001b[38;5;241m.\u001b[39mset_rate(\u001b[38;5;28mself\u001b[39m\u001b[38;5;241m.\u001b[39mmediaplayer\u001b[38;5;241m.\u001b[39mget_rate() \u001b[38;5;241m*\u001b[39m \u001b[38;5;241m0.5\u001b[39m)\n\u001b[0;32m    129\u001b[0m     \u001b[38;5;28;01mreturn\u001b[39;00m\n",
      "\u001b[1;31mUnboundLocalError\u001b[0m: local variable 'val' referenced before assignment"
     ]
    },
    {
     "ename": "UnboundLocalError",
     "evalue": "local variable 'val' referenced before assignment",
     "output_type": "error",
     "traceback": [
      "\u001b[1;31m---------------------------------------------------------------------------\u001b[0m",
      "\u001b[1;31mUnboundLocalError\u001b[0m                         Traceback (most recent call last)",
      "Cell \u001b[1;32mIn[1], line 127\u001b[0m, in \u001b[0;36mMiniPlayer.update_ui\u001b[1;34m(self)\u001b[0m\n\u001b[0;32m    123\u001b[0m \u001b[38;5;28;01mif\u001b[39;00m \u001b[38;5;129;01mnot\u001b[39;00m \u001b[38;5;28mself\u001b[39m\u001b[38;5;241m.\u001b[39mdata_queue\u001b[38;5;241m.\u001b[39mempty():\n\u001b[0;32m    124\u001b[0m     val \u001b[38;5;241m=\u001b[39m \u001b[38;5;28mself\u001b[39m\u001b[38;5;241m.\u001b[39mdata_queue\u001b[38;5;241m.\u001b[39mget()\n\u001b[1;32m--> 127\u001b[0m \u001b[38;5;28;01mif\u001b[39;00m \u001b[43mval\u001b[49m \u001b[38;5;241m==\u001b[39m \u001b[38;5;124m'\u001b[39m\u001b[38;5;124m<\u001b[39m\u001b[38;5;124m'\u001b[39m:\n\u001b[0;32m    128\u001b[0m     \u001b[38;5;28mself\u001b[39m\u001b[38;5;241m.\u001b[39mmediaplayer\u001b[38;5;241m.\u001b[39mset_rate(\u001b[38;5;28mself\u001b[39m\u001b[38;5;241m.\u001b[39mmediaplayer\u001b[38;5;241m.\u001b[39mget_rate() \u001b[38;5;241m*\u001b[39m \u001b[38;5;241m0.5\u001b[39m)\n\u001b[0;32m    129\u001b[0m     \u001b[38;5;28;01mreturn\u001b[39;00m\n",
      "\u001b[1;31mUnboundLocalError\u001b[0m: local variable 'val' referenced before assignment"
     ]
    },
    {
     "ename": "UnboundLocalError",
     "evalue": "local variable 'val' referenced before assignment",
     "output_type": "error",
     "traceback": [
      "\u001b[1;31m---------------------------------------------------------------------------\u001b[0m",
      "\u001b[1;31mUnboundLocalError\u001b[0m                         Traceback (most recent call last)",
      "Cell \u001b[1;32mIn[1], line 127\u001b[0m, in \u001b[0;36mMiniPlayer.update_ui\u001b[1;34m(self)\u001b[0m\n\u001b[0;32m    123\u001b[0m \u001b[38;5;28;01mif\u001b[39;00m \u001b[38;5;129;01mnot\u001b[39;00m \u001b[38;5;28mself\u001b[39m\u001b[38;5;241m.\u001b[39mdata_queue\u001b[38;5;241m.\u001b[39mempty():\n\u001b[0;32m    124\u001b[0m     val \u001b[38;5;241m=\u001b[39m \u001b[38;5;28mself\u001b[39m\u001b[38;5;241m.\u001b[39mdata_queue\u001b[38;5;241m.\u001b[39mget()\n\u001b[1;32m--> 127\u001b[0m \u001b[38;5;28;01mif\u001b[39;00m \u001b[43mval\u001b[49m \u001b[38;5;241m==\u001b[39m \u001b[38;5;124m'\u001b[39m\u001b[38;5;124m<\u001b[39m\u001b[38;5;124m'\u001b[39m:\n\u001b[0;32m    128\u001b[0m     \u001b[38;5;28mself\u001b[39m\u001b[38;5;241m.\u001b[39mmediaplayer\u001b[38;5;241m.\u001b[39mset_rate(\u001b[38;5;28mself\u001b[39m\u001b[38;5;241m.\u001b[39mmediaplayer\u001b[38;5;241m.\u001b[39mget_rate() \u001b[38;5;241m*\u001b[39m \u001b[38;5;241m0.5\u001b[39m)\n\u001b[0;32m    129\u001b[0m     \u001b[38;5;28;01mreturn\u001b[39;00m\n",
      "\u001b[1;31mUnboundLocalError\u001b[0m: local variable 'val' referenced before assignment"
     ]
    },
    {
     "ename": "UnboundLocalError",
     "evalue": "local variable 'val' referenced before assignment",
     "output_type": "error",
     "traceback": [
      "\u001b[1;31m---------------------------------------------------------------------------\u001b[0m",
      "\u001b[1;31mUnboundLocalError\u001b[0m                         Traceback (most recent call last)",
      "Cell \u001b[1;32mIn[1], line 127\u001b[0m, in \u001b[0;36mMiniPlayer.update_ui\u001b[1;34m(self)\u001b[0m\n\u001b[0;32m    123\u001b[0m \u001b[38;5;28;01mif\u001b[39;00m \u001b[38;5;129;01mnot\u001b[39;00m \u001b[38;5;28mself\u001b[39m\u001b[38;5;241m.\u001b[39mdata_queue\u001b[38;5;241m.\u001b[39mempty():\n\u001b[0;32m    124\u001b[0m     val \u001b[38;5;241m=\u001b[39m \u001b[38;5;28mself\u001b[39m\u001b[38;5;241m.\u001b[39mdata_queue\u001b[38;5;241m.\u001b[39mget()\n\u001b[1;32m--> 127\u001b[0m \u001b[38;5;28;01mif\u001b[39;00m \u001b[43mval\u001b[49m \u001b[38;5;241m==\u001b[39m \u001b[38;5;124m'\u001b[39m\u001b[38;5;124m<\u001b[39m\u001b[38;5;124m'\u001b[39m:\n\u001b[0;32m    128\u001b[0m     \u001b[38;5;28mself\u001b[39m\u001b[38;5;241m.\u001b[39mmediaplayer\u001b[38;5;241m.\u001b[39mset_rate(\u001b[38;5;28mself\u001b[39m\u001b[38;5;241m.\u001b[39mmediaplayer\u001b[38;5;241m.\u001b[39mget_rate() \u001b[38;5;241m*\u001b[39m \u001b[38;5;241m0.5\u001b[39m)\n\u001b[0;32m    129\u001b[0m     \u001b[38;5;28;01mreturn\u001b[39;00m\n",
      "\u001b[1;31mUnboundLocalError\u001b[0m: local variable 'val' referenced before assignment"
     ]
    },
    {
     "ename": "UnboundLocalError",
     "evalue": "local variable 'val' referenced before assignment",
     "output_type": "error",
     "traceback": [
      "\u001b[1;31m---------------------------------------------------------------------------\u001b[0m",
      "\u001b[1;31mUnboundLocalError\u001b[0m                         Traceback (most recent call last)",
      "Cell \u001b[1;32mIn[1], line 127\u001b[0m, in \u001b[0;36mMiniPlayer.update_ui\u001b[1;34m(self)\u001b[0m\n\u001b[0;32m    123\u001b[0m \u001b[38;5;28;01mif\u001b[39;00m \u001b[38;5;129;01mnot\u001b[39;00m \u001b[38;5;28mself\u001b[39m\u001b[38;5;241m.\u001b[39mdata_queue\u001b[38;5;241m.\u001b[39mempty():\n\u001b[0;32m    124\u001b[0m     val \u001b[38;5;241m=\u001b[39m \u001b[38;5;28mself\u001b[39m\u001b[38;5;241m.\u001b[39mdata_queue\u001b[38;5;241m.\u001b[39mget()\n\u001b[1;32m--> 127\u001b[0m \u001b[38;5;28;01mif\u001b[39;00m \u001b[43mval\u001b[49m \u001b[38;5;241m==\u001b[39m \u001b[38;5;124m'\u001b[39m\u001b[38;5;124m<\u001b[39m\u001b[38;5;124m'\u001b[39m:\n\u001b[0;32m    128\u001b[0m     \u001b[38;5;28mself\u001b[39m\u001b[38;5;241m.\u001b[39mmediaplayer\u001b[38;5;241m.\u001b[39mset_rate(\u001b[38;5;28mself\u001b[39m\u001b[38;5;241m.\u001b[39mmediaplayer\u001b[38;5;241m.\u001b[39mget_rate() \u001b[38;5;241m*\u001b[39m \u001b[38;5;241m0.5\u001b[39m)\n\u001b[0;32m    129\u001b[0m     \u001b[38;5;28;01mreturn\u001b[39;00m\n",
      "\u001b[1;31mUnboundLocalError\u001b[0m: local variable 'val' referenced before assignment"
     ]
    },
    {
     "ename": "UnboundLocalError",
     "evalue": "local variable 'val' referenced before assignment",
     "output_type": "error",
     "traceback": [
      "\u001b[1;31m---------------------------------------------------------------------------\u001b[0m",
      "\u001b[1;31mUnboundLocalError\u001b[0m                         Traceback (most recent call last)",
      "Cell \u001b[1;32mIn[1], line 127\u001b[0m, in \u001b[0;36mMiniPlayer.update_ui\u001b[1;34m(self)\u001b[0m\n\u001b[0;32m    123\u001b[0m \u001b[38;5;28;01mif\u001b[39;00m \u001b[38;5;129;01mnot\u001b[39;00m \u001b[38;5;28mself\u001b[39m\u001b[38;5;241m.\u001b[39mdata_queue\u001b[38;5;241m.\u001b[39mempty():\n\u001b[0;32m    124\u001b[0m     val \u001b[38;5;241m=\u001b[39m \u001b[38;5;28mself\u001b[39m\u001b[38;5;241m.\u001b[39mdata_queue\u001b[38;5;241m.\u001b[39mget()\n\u001b[1;32m--> 127\u001b[0m \u001b[38;5;28;01mif\u001b[39;00m \u001b[43mval\u001b[49m \u001b[38;5;241m==\u001b[39m \u001b[38;5;124m'\u001b[39m\u001b[38;5;124m<\u001b[39m\u001b[38;5;124m'\u001b[39m:\n\u001b[0;32m    128\u001b[0m     \u001b[38;5;28mself\u001b[39m\u001b[38;5;241m.\u001b[39mmediaplayer\u001b[38;5;241m.\u001b[39mset_rate(\u001b[38;5;28mself\u001b[39m\u001b[38;5;241m.\u001b[39mmediaplayer\u001b[38;5;241m.\u001b[39mget_rate() \u001b[38;5;241m*\u001b[39m \u001b[38;5;241m0.5\u001b[39m)\n\u001b[0;32m    129\u001b[0m     \u001b[38;5;28;01mreturn\u001b[39;00m\n",
      "\u001b[1;31mUnboundLocalError\u001b[0m: local variable 'val' referenced before assignment"
     ]
    },
    {
     "ename": "UnboundLocalError",
     "evalue": "local variable 'val' referenced before assignment",
     "output_type": "error",
     "traceback": [
      "\u001b[1;31m---------------------------------------------------------------------------\u001b[0m",
      "\u001b[1;31mUnboundLocalError\u001b[0m                         Traceback (most recent call last)",
      "Cell \u001b[1;32mIn[1], line 127\u001b[0m, in \u001b[0;36mMiniPlayer.update_ui\u001b[1;34m(self)\u001b[0m\n\u001b[0;32m    123\u001b[0m \u001b[38;5;28;01mif\u001b[39;00m \u001b[38;5;129;01mnot\u001b[39;00m \u001b[38;5;28mself\u001b[39m\u001b[38;5;241m.\u001b[39mdata_queue\u001b[38;5;241m.\u001b[39mempty():\n\u001b[0;32m    124\u001b[0m     val \u001b[38;5;241m=\u001b[39m \u001b[38;5;28mself\u001b[39m\u001b[38;5;241m.\u001b[39mdata_queue\u001b[38;5;241m.\u001b[39mget()\n\u001b[1;32m--> 127\u001b[0m \u001b[38;5;28;01mif\u001b[39;00m \u001b[43mval\u001b[49m \u001b[38;5;241m==\u001b[39m \u001b[38;5;124m'\u001b[39m\u001b[38;5;124m<\u001b[39m\u001b[38;5;124m'\u001b[39m:\n\u001b[0;32m    128\u001b[0m     \u001b[38;5;28mself\u001b[39m\u001b[38;5;241m.\u001b[39mmediaplayer\u001b[38;5;241m.\u001b[39mset_rate(\u001b[38;5;28mself\u001b[39m\u001b[38;5;241m.\u001b[39mmediaplayer\u001b[38;5;241m.\u001b[39mget_rate() \u001b[38;5;241m*\u001b[39m \u001b[38;5;241m0.5\u001b[39m)\n\u001b[0;32m    129\u001b[0m     \u001b[38;5;28;01mreturn\u001b[39;00m\n",
      "\u001b[1;31mUnboundLocalError\u001b[0m: local variable 'val' referenced before assignment"
     ]
    },
    {
     "ename": "UnboundLocalError",
     "evalue": "local variable 'val' referenced before assignment",
     "output_type": "error",
     "traceback": [
      "\u001b[1;31m---------------------------------------------------------------------------\u001b[0m",
      "\u001b[1;31mUnboundLocalError\u001b[0m                         Traceback (most recent call last)",
      "Cell \u001b[1;32mIn[1], line 127\u001b[0m, in \u001b[0;36mMiniPlayer.update_ui\u001b[1;34m(self)\u001b[0m\n\u001b[0;32m    123\u001b[0m \u001b[38;5;28;01mif\u001b[39;00m \u001b[38;5;129;01mnot\u001b[39;00m \u001b[38;5;28mself\u001b[39m\u001b[38;5;241m.\u001b[39mdata_queue\u001b[38;5;241m.\u001b[39mempty():\n\u001b[0;32m    124\u001b[0m     val \u001b[38;5;241m=\u001b[39m \u001b[38;5;28mself\u001b[39m\u001b[38;5;241m.\u001b[39mdata_queue\u001b[38;5;241m.\u001b[39mget()\n\u001b[1;32m--> 127\u001b[0m \u001b[38;5;28;01mif\u001b[39;00m \u001b[43mval\u001b[49m \u001b[38;5;241m==\u001b[39m \u001b[38;5;124m'\u001b[39m\u001b[38;5;124m<\u001b[39m\u001b[38;5;124m'\u001b[39m:\n\u001b[0;32m    128\u001b[0m     \u001b[38;5;28mself\u001b[39m\u001b[38;5;241m.\u001b[39mmediaplayer\u001b[38;5;241m.\u001b[39mset_rate(\u001b[38;5;28mself\u001b[39m\u001b[38;5;241m.\u001b[39mmediaplayer\u001b[38;5;241m.\u001b[39mget_rate() \u001b[38;5;241m*\u001b[39m \u001b[38;5;241m0.5\u001b[39m)\n\u001b[0;32m    129\u001b[0m     \u001b[38;5;28;01mreturn\u001b[39;00m\n",
      "\u001b[1;31mUnboundLocalError\u001b[0m: local variable 'val' referenced before assignment"
     ]
    },
    {
     "ename": "UnboundLocalError",
     "evalue": "local variable 'val' referenced before assignment",
     "output_type": "error",
     "traceback": [
      "\u001b[1;31m---------------------------------------------------------------------------\u001b[0m",
      "\u001b[1;31mUnboundLocalError\u001b[0m                         Traceback (most recent call last)",
      "Cell \u001b[1;32mIn[1], line 127\u001b[0m, in \u001b[0;36mMiniPlayer.update_ui\u001b[1;34m(self)\u001b[0m\n\u001b[0;32m    123\u001b[0m \u001b[38;5;28;01mif\u001b[39;00m \u001b[38;5;129;01mnot\u001b[39;00m \u001b[38;5;28mself\u001b[39m\u001b[38;5;241m.\u001b[39mdata_queue\u001b[38;5;241m.\u001b[39mempty():\n\u001b[0;32m    124\u001b[0m     val \u001b[38;5;241m=\u001b[39m \u001b[38;5;28mself\u001b[39m\u001b[38;5;241m.\u001b[39mdata_queue\u001b[38;5;241m.\u001b[39mget()\n\u001b[1;32m--> 127\u001b[0m \u001b[38;5;28;01mif\u001b[39;00m \u001b[43mval\u001b[49m \u001b[38;5;241m==\u001b[39m \u001b[38;5;124m'\u001b[39m\u001b[38;5;124m<\u001b[39m\u001b[38;5;124m'\u001b[39m:\n\u001b[0;32m    128\u001b[0m     \u001b[38;5;28mself\u001b[39m\u001b[38;5;241m.\u001b[39mmediaplayer\u001b[38;5;241m.\u001b[39mset_rate(\u001b[38;5;28mself\u001b[39m\u001b[38;5;241m.\u001b[39mmediaplayer\u001b[38;5;241m.\u001b[39mget_rate() \u001b[38;5;241m*\u001b[39m \u001b[38;5;241m0.5\u001b[39m)\n\u001b[0;32m    129\u001b[0m     \u001b[38;5;28;01mreturn\u001b[39;00m\n",
      "\u001b[1;31mUnboundLocalError\u001b[0m: local variable 'val' referenced before assignment"
     ]
    },
    {
     "ename": "UnboundLocalError",
     "evalue": "local variable 'val' referenced before assignment",
     "output_type": "error",
     "traceback": [
      "\u001b[1;31m---------------------------------------------------------------------------\u001b[0m",
      "\u001b[1;31mUnboundLocalError\u001b[0m                         Traceback (most recent call last)",
      "Cell \u001b[1;32mIn[1], line 127\u001b[0m, in \u001b[0;36mMiniPlayer.update_ui\u001b[1;34m(self)\u001b[0m\n\u001b[0;32m    123\u001b[0m \u001b[38;5;28;01mif\u001b[39;00m \u001b[38;5;129;01mnot\u001b[39;00m \u001b[38;5;28mself\u001b[39m\u001b[38;5;241m.\u001b[39mdata_queue\u001b[38;5;241m.\u001b[39mempty():\n\u001b[0;32m    124\u001b[0m     val \u001b[38;5;241m=\u001b[39m \u001b[38;5;28mself\u001b[39m\u001b[38;5;241m.\u001b[39mdata_queue\u001b[38;5;241m.\u001b[39mget()\n\u001b[1;32m--> 127\u001b[0m \u001b[38;5;28;01mif\u001b[39;00m \u001b[43mval\u001b[49m \u001b[38;5;241m==\u001b[39m \u001b[38;5;124m'\u001b[39m\u001b[38;5;124m<\u001b[39m\u001b[38;5;124m'\u001b[39m:\n\u001b[0;32m    128\u001b[0m     \u001b[38;5;28mself\u001b[39m\u001b[38;5;241m.\u001b[39mmediaplayer\u001b[38;5;241m.\u001b[39mset_rate(\u001b[38;5;28mself\u001b[39m\u001b[38;5;241m.\u001b[39mmediaplayer\u001b[38;5;241m.\u001b[39mget_rate() \u001b[38;5;241m*\u001b[39m \u001b[38;5;241m0.5\u001b[39m)\n\u001b[0;32m    129\u001b[0m     \u001b[38;5;28;01mreturn\u001b[39;00m\n",
      "\u001b[1;31mUnboundLocalError\u001b[0m: local variable 'val' referenced before assignment"
     ]
    },
    {
     "ename": "UnboundLocalError",
     "evalue": "local variable 'val' referenced before assignment",
     "output_type": "error",
     "traceback": [
      "\u001b[1;31m---------------------------------------------------------------------------\u001b[0m",
      "\u001b[1;31mUnboundLocalError\u001b[0m                         Traceback (most recent call last)",
      "Cell \u001b[1;32mIn[1], line 127\u001b[0m, in \u001b[0;36mMiniPlayer.update_ui\u001b[1;34m(self)\u001b[0m\n\u001b[0;32m    123\u001b[0m \u001b[38;5;28;01mif\u001b[39;00m \u001b[38;5;129;01mnot\u001b[39;00m \u001b[38;5;28mself\u001b[39m\u001b[38;5;241m.\u001b[39mdata_queue\u001b[38;5;241m.\u001b[39mempty():\n\u001b[0;32m    124\u001b[0m     val \u001b[38;5;241m=\u001b[39m \u001b[38;5;28mself\u001b[39m\u001b[38;5;241m.\u001b[39mdata_queue\u001b[38;5;241m.\u001b[39mget()\n\u001b[1;32m--> 127\u001b[0m \u001b[38;5;28;01mif\u001b[39;00m \u001b[43mval\u001b[49m \u001b[38;5;241m==\u001b[39m \u001b[38;5;124m'\u001b[39m\u001b[38;5;124m<\u001b[39m\u001b[38;5;124m'\u001b[39m:\n\u001b[0;32m    128\u001b[0m     \u001b[38;5;28mself\u001b[39m\u001b[38;5;241m.\u001b[39mmediaplayer\u001b[38;5;241m.\u001b[39mset_rate(\u001b[38;5;28mself\u001b[39m\u001b[38;5;241m.\u001b[39mmediaplayer\u001b[38;5;241m.\u001b[39mget_rate() \u001b[38;5;241m*\u001b[39m \u001b[38;5;241m0.5\u001b[39m)\n\u001b[0;32m    129\u001b[0m     \u001b[38;5;28;01mreturn\u001b[39;00m\n",
      "\u001b[1;31mUnboundLocalError\u001b[0m: local variable 'val' referenced before assignment"
     ]
    },
    {
     "ename": "UnboundLocalError",
     "evalue": "local variable 'val' referenced before assignment",
     "output_type": "error",
     "traceback": [
      "\u001b[1;31m---------------------------------------------------------------------------\u001b[0m",
      "\u001b[1;31mUnboundLocalError\u001b[0m                         Traceback (most recent call last)",
      "Cell \u001b[1;32mIn[1], line 127\u001b[0m, in \u001b[0;36mMiniPlayer.update_ui\u001b[1;34m(self)\u001b[0m\n\u001b[0;32m    123\u001b[0m \u001b[38;5;28;01mif\u001b[39;00m \u001b[38;5;129;01mnot\u001b[39;00m \u001b[38;5;28mself\u001b[39m\u001b[38;5;241m.\u001b[39mdata_queue\u001b[38;5;241m.\u001b[39mempty():\n\u001b[0;32m    124\u001b[0m     val \u001b[38;5;241m=\u001b[39m \u001b[38;5;28mself\u001b[39m\u001b[38;5;241m.\u001b[39mdata_queue\u001b[38;5;241m.\u001b[39mget()\n\u001b[1;32m--> 127\u001b[0m \u001b[38;5;28;01mif\u001b[39;00m \u001b[43mval\u001b[49m \u001b[38;5;241m==\u001b[39m \u001b[38;5;124m'\u001b[39m\u001b[38;5;124m<\u001b[39m\u001b[38;5;124m'\u001b[39m:\n\u001b[0;32m    128\u001b[0m     \u001b[38;5;28mself\u001b[39m\u001b[38;5;241m.\u001b[39mmediaplayer\u001b[38;5;241m.\u001b[39mset_rate(\u001b[38;5;28mself\u001b[39m\u001b[38;5;241m.\u001b[39mmediaplayer\u001b[38;5;241m.\u001b[39mget_rate() \u001b[38;5;241m*\u001b[39m \u001b[38;5;241m0.5\u001b[39m)\n\u001b[0;32m    129\u001b[0m     \u001b[38;5;28;01mreturn\u001b[39;00m\n",
      "\u001b[1;31mUnboundLocalError\u001b[0m: local variable 'val' referenced before assignment"
     ]
    },
    {
     "ename": "UnboundLocalError",
     "evalue": "local variable 'val' referenced before assignment",
     "output_type": "error",
     "traceback": [
      "\u001b[1;31m---------------------------------------------------------------------------\u001b[0m",
      "\u001b[1;31mUnboundLocalError\u001b[0m                         Traceback (most recent call last)",
      "Cell \u001b[1;32mIn[1], line 127\u001b[0m, in \u001b[0;36mMiniPlayer.update_ui\u001b[1;34m(self)\u001b[0m\n\u001b[0;32m    123\u001b[0m \u001b[38;5;28;01mif\u001b[39;00m \u001b[38;5;129;01mnot\u001b[39;00m \u001b[38;5;28mself\u001b[39m\u001b[38;5;241m.\u001b[39mdata_queue\u001b[38;5;241m.\u001b[39mempty():\n\u001b[0;32m    124\u001b[0m     val \u001b[38;5;241m=\u001b[39m \u001b[38;5;28mself\u001b[39m\u001b[38;5;241m.\u001b[39mdata_queue\u001b[38;5;241m.\u001b[39mget()\n\u001b[1;32m--> 127\u001b[0m \u001b[38;5;28;01mif\u001b[39;00m \u001b[43mval\u001b[49m \u001b[38;5;241m==\u001b[39m \u001b[38;5;124m'\u001b[39m\u001b[38;5;124m<\u001b[39m\u001b[38;5;124m'\u001b[39m:\n\u001b[0;32m    128\u001b[0m     \u001b[38;5;28mself\u001b[39m\u001b[38;5;241m.\u001b[39mmediaplayer\u001b[38;5;241m.\u001b[39mset_rate(\u001b[38;5;28mself\u001b[39m\u001b[38;5;241m.\u001b[39mmediaplayer\u001b[38;5;241m.\u001b[39mget_rate() \u001b[38;5;241m*\u001b[39m \u001b[38;5;241m0.5\u001b[39m)\n\u001b[0;32m    129\u001b[0m     \u001b[38;5;28;01mreturn\u001b[39;00m\n",
      "\u001b[1;31mUnboundLocalError\u001b[0m: local variable 'val' referenced before assignment"
     ]
    },
    {
     "ename": "UnboundLocalError",
     "evalue": "local variable 'val' referenced before assignment",
     "output_type": "error",
     "traceback": [
      "\u001b[1;31m---------------------------------------------------------------------------\u001b[0m",
      "\u001b[1;31mUnboundLocalError\u001b[0m                         Traceback (most recent call last)",
      "Cell \u001b[1;32mIn[1], line 127\u001b[0m, in \u001b[0;36mMiniPlayer.update_ui\u001b[1;34m(self)\u001b[0m\n\u001b[0;32m    123\u001b[0m \u001b[38;5;28;01mif\u001b[39;00m \u001b[38;5;129;01mnot\u001b[39;00m \u001b[38;5;28mself\u001b[39m\u001b[38;5;241m.\u001b[39mdata_queue\u001b[38;5;241m.\u001b[39mempty():\n\u001b[0;32m    124\u001b[0m     val \u001b[38;5;241m=\u001b[39m \u001b[38;5;28mself\u001b[39m\u001b[38;5;241m.\u001b[39mdata_queue\u001b[38;5;241m.\u001b[39mget()\n\u001b[1;32m--> 127\u001b[0m \u001b[38;5;28;01mif\u001b[39;00m \u001b[43mval\u001b[49m \u001b[38;5;241m==\u001b[39m \u001b[38;5;124m'\u001b[39m\u001b[38;5;124m<\u001b[39m\u001b[38;5;124m'\u001b[39m:\n\u001b[0;32m    128\u001b[0m     \u001b[38;5;28mself\u001b[39m\u001b[38;5;241m.\u001b[39mmediaplayer\u001b[38;5;241m.\u001b[39mset_rate(\u001b[38;5;28mself\u001b[39m\u001b[38;5;241m.\u001b[39mmediaplayer\u001b[38;5;241m.\u001b[39mget_rate() \u001b[38;5;241m*\u001b[39m \u001b[38;5;241m0.5\u001b[39m)\n\u001b[0;32m    129\u001b[0m     \u001b[38;5;28;01mreturn\u001b[39;00m\n",
      "\u001b[1;31mUnboundLocalError\u001b[0m: local variable 'val' referenced before assignment"
     ]
    },
    {
     "ename": "UnboundLocalError",
     "evalue": "local variable 'val' referenced before assignment",
     "output_type": "error",
     "traceback": [
      "\u001b[1;31m---------------------------------------------------------------------------\u001b[0m",
      "\u001b[1;31mUnboundLocalError\u001b[0m                         Traceback (most recent call last)",
      "Cell \u001b[1;32mIn[1], line 127\u001b[0m, in \u001b[0;36mMiniPlayer.update_ui\u001b[1;34m(self)\u001b[0m\n\u001b[0;32m    123\u001b[0m \u001b[38;5;28;01mif\u001b[39;00m \u001b[38;5;129;01mnot\u001b[39;00m \u001b[38;5;28mself\u001b[39m\u001b[38;5;241m.\u001b[39mdata_queue\u001b[38;5;241m.\u001b[39mempty():\n\u001b[0;32m    124\u001b[0m     val \u001b[38;5;241m=\u001b[39m \u001b[38;5;28mself\u001b[39m\u001b[38;5;241m.\u001b[39mdata_queue\u001b[38;5;241m.\u001b[39mget()\n\u001b[1;32m--> 127\u001b[0m \u001b[38;5;28;01mif\u001b[39;00m \u001b[43mval\u001b[49m \u001b[38;5;241m==\u001b[39m \u001b[38;5;124m'\u001b[39m\u001b[38;5;124m<\u001b[39m\u001b[38;5;124m'\u001b[39m:\n\u001b[0;32m    128\u001b[0m     \u001b[38;5;28mself\u001b[39m\u001b[38;5;241m.\u001b[39mmediaplayer\u001b[38;5;241m.\u001b[39mset_rate(\u001b[38;5;28mself\u001b[39m\u001b[38;5;241m.\u001b[39mmediaplayer\u001b[38;5;241m.\u001b[39mget_rate() \u001b[38;5;241m*\u001b[39m \u001b[38;5;241m0.5\u001b[39m)\n\u001b[0;32m    129\u001b[0m     \u001b[38;5;28;01mreturn\u001b[39;00m\n",
      "\u001b[1;31mUnboundLocalError\u001b[0m: local variable 'val' referenced before assignment"
     ]
    },
    {
     "ename": "UnboundLocalError",
     "evalue": "local variable 'val' referenced before assignment",
     "output_type": "error",
     "traceback": [
      "\u001b[1;31m---------------------------------------------------------------------------\u001b[0m",
      "\u001b[1;31mUnboundLocalError\u001b[0m                         Traceback (most recent call last)",
      "Cell \u001b[1;32mIn[1], line 127\u001b[0m, in \u001b[0;36mMiniPlayer.update_ui\u001b[1;34m(self)\u001b[0m\n\u001b[0;32m    123\u001b[0m \u001b[38;5;28;01mif\u001b[39;00m \u001b[38;5;129;01mnot\u001b[39;00m \u001b[38;5;28mself\u001b[39m\u001b[38;5;241m.\u001b[39mdata_queue\u001b[38;5;241m.\u001b[39mempty():\n\u001b[0;32m    124\u001b[0m     val \u001b[38;5;241m=\u001b[39m \u001b[38;5;28mself\u001b[39m\u001b[38;5;241m.\u001b[39mdata_queue\u001b[38;5;241m.\u001b[39mget()\n\u001b[1;32m--> 127\u001b[0m \u001b[38;5;28;01mif\u001b[39;00m \u001b[43mval\u001b[49m \u001b[38;5;241m==\u001b[39m \u001b[38;5;124m'\u001b[39m\u001b[38;5;124m<\u001b[39m\u001b[38;5;124m'\u001b[39m:\n\u001b[0;32m    128\u001b[0m     \u001b[38;5;28mself\u001b[39m\u001b[38;5;241m.\u001b[39mmediaplayer\u001b[38;5;241m.\u001b[39mset_rate(\u001b[38;5;28mself\u001b[39m\u001b[38;5;241m.\u001b[39mmediaplayer\u001b[38;5;241m.\u001b[39mget_rate() \u001b[38;5;241m*\u001b[39m \u001b[38;5;241m0.5\u001b[39m)\n\u001b[0;32m    129\u001b[0m     \u001b[38;5;28;01mreturn\u001b[39;00m\n",
      "\u001b[1;31mUnboundLocalError\u001b[0m: local variable 'val' referenced before assignment"
     ]
    },
    {
     "ename": "UnboundLocalError",
     "evalue": "local variable 'val' referenced before assignment",
     "output_type": "error",
     "traceback": [
      "\u001b[1;31m---------------------------------------------------------------------------\u001b[0m",
      "\u001b[1;31mUnboundLocalError\u001b[0m                         Traceback (most recent call last)",
      "Cell \u001b[1;32mIn[1], line 127\u001b[0m, in \u001b[0;36mMiniPlayer.update_ui\u001b[1;34m(self)\u001b[0m\n\u001b[0;32m    123\u001b[0m \u001b[38;5;28;01mif\u001b[39;00m \u001b[38;5;129;01mnot\u001b[39;00m \u001b[38;5;28mself\u001b[39m\u001b[38;5;241m.\u001b[39mdata_queue\u001b[38;5;241m.\u001b[39mempty():\n\u001b[0;32m    124\u001b[0m     val \u001b[38;5;241m=\u001b[39m \u001b[38;5;28mself\u001b[39m\u001b[38;5;241m.\u001b[39mdata_queue\u001b[38;5;241m.\u001b[39mget()\n\u001b[1;32m--> 127\u001b[0m \u001b[38;5;28;01mif\u001b[39;00m \u001b[43mval\u001b[49m \u001b[38;5;241m==\u001b[39m \u001b[38;5;124m'\u001b[39m\u001b[38;5;124m<\u001b[39m\u001b[38;5;124m'\u001b[39m:\n\u001b[0;32m    128\u001b[0m     \u001b[38;5;28mself\u001b[39m\u001b[38;5;241m.\u001b[39mmediaplayer\u001b[38;5;241m.\u001b[39mset_rate(\u001b[38;5;28mself\u001b[39m\u001b[38;5;241m.\u001b[39mmediaplayer\u001b[38;5;241m.\u001b[39mget_rate() \u001b[38;5;241m*\u001b[39m \u001b[38;5;241m0.5\u001b[39m)\n\u001b[0;32m    129\u001b[0m     \u001b[38;5;28;01mreturn\u001b[39;00m\n",
      "\u001b[1;31mUnboundLocalError\u001b[0m: local variable 'val' referenced before assignment"
     ]
    },
    {
     "ename": "UnboundLocalError",
     "evalue": "local variable 'val' referenced before assignment",
     "output_type": "error",
     "traceback": [
      "\u001b[1;31m---------------------------------------------------------------------------\u001b[0m",
      "\u001b[1;31mUnboundLocalError\u001b[0m                         Traceback (most recent call last)",
      "Cell \u001b[1;32mIn[1], line 127\u001b[0m, in \u001b[0;36mMiniPlayer.update_ui\u001b[1;34m(self)\u001b[0m\n\u001b[0;32m    123\u001b[0m \u001b[38;5;28;01mif\u001b[39;00m \u001b[38;5;129;01mnot\u001b[39;00m \u001b[38;5;28mself\u001b[39m\u001b[38;5;241m.\u001b[39mdata_queue\u001b[38;5;241m.\u001b[39mempty():\n\u001b[0;32m    124\u001b[0m     val \u001b[38;5;241m=\u001b[39m \u001b[38;5;28mself\u001b[39m\u001b[38;5;241m.\u001b[39mdata_queue\u001b[38;5;241m.\u001b[39mget()\n\u001b[1;32m--> 127\u001b[0m \u001b[38;5;28;01mif\u001b[39;00m \u001b[43mval\u001b[49m \u001b[38;5;241m==\u001b[39m \u001b[38;5;124m'\u001b[39m\u001b[38;5;124m<\u001b[39m\u001b[38;5;124m'\u001b[39m:\n\u001b[0;32m    128\u001b[0m     \u001b[38;5;28mself\u001b[39m\u001b[38;5;241m.\u001b[39mmediaplayer\u001b[38;5;241m.\u001b[39mset_rate(\u001b[38;5;28mself\u001b[39m\u001b[38;5;241m.\u001b[39mmediaplayer\u001b[38;5;241m.\u001b[39mget_rate() \u001b[38;5;241m*\u001b[39m \u001b[38;5;241m0.5\u001b[39m)\n\u001b[0;32m    129\u001b[0m     \u001b[38;5;28;01mreturn\u001b[39;00m\n",
      "\u001b[1;31mUnboundLocalError\u001b[0m: local variable 'val' referenced before assignment"
     ]
    },
    {
     "ename": "UnboundLocalError",
     "evalue": "local variable 'val' referenced before assignment",
     "output_type": "error",
     "traceback": [
      "\u001b[1;31m---------------------------------------------------------------------------\u001b[0m",
      "\u001b[1;31mUnboundLocalError\u001b[0m                         Traceback (most recent call last)",
      "Cell \u001b[1;32mIn[1], line 127\u001b[0m, in \u001b[0;36mMiniPlayer.update_ui\u001b[1;34m(self)\u001b[0m\n\u001b[0;32m    123\u001b[0m \u001b[38;5;28;01mif\u001b[39;00m \u001b[38;5;129;01mnot\u001b[39;00m \u001b[38;5;28mself\u001b[39m\u001b[38;5;241m.\u001b[39mdata_queue\u001b[38;5;241m.\u001b[39mempty():\n\u001b[0;32m    124\u001b[0m     val \u001b[38;5;241m=\u001b[39m \u001b[38;5;28mself\u001b[39m\u001b[38;5;241m.\u001b[39mdata_queue\u001b[38;5;241m.\u001b[39mget()\n\u001b[1;32m--> 127\u001b[0m \u001b[38;5;28;01mif\u001b[39;00m \u001b[43mval\u001b[49m \u001b[38;5;241m==\u001b[39m \u001b[38;5;124m'\u001b[39m\u001b[38;5;124m<\u001b[39m\u001b[38;5;124m'\u001b[39m:\n\u001b[0;32m    128\u001b[0m     \u001b[38;5;28mself\u001b[39m\u001b[38;5;241m.\u001b[39mmediaplayer\u001b[38;5;241m.\u001b[39mset_rate(\u001b[38;5;28mself\u001b[39m\u001b[38;5;241m.\u001b[39mmediaplayer\u001b[38;5;241m.\u001b[39mget_rate() \u001b[38;5;241m*\u001b[39m \u001b[38;5;241m0.5\u001b[39m)\n\u001b[0;32m    129\u001b[0m     \u001b[38;5;28;01mreturn\u001b[39;00m\n",
      "\u001b[1;31mUnboundLocalError\u001b[0m: local variable 'val' referenced before assignment"
     ]
    },
    {
     "ename": "UnboundLocalError",
     "evalue": "local variable 'val' referenced before assignment",
     "output_type": "error",
     "traceback": [
      "\u001b[1;31m---------------------------------------------------------------------------\u001b[0m",
      "\u001b[1;31mUnboundLocalError\u001b[0m                         Traceback (most recent call last)",
      "Cell \u001b[1;32mIn[1], line 127\u001b[0m, in \u001b[0;36mMiniPlayer.update_ui\u001b[1;34m(self)\u001b[0m\n\u001b[0;32m    123\u001b[0m \u001b[38;5;28;01mif\u001b[39;00m \u001b[38;5;129;01mnot\u001b[39;00m \u001b[38;5;28mself\u001b[39m\u001b[38;5;241m.\u001b[39mdata_queue\u001b[38;5;241m.\u001b[39mempty():\n\u001b[0;32m    124\u001b[0m     val \u001b[38;5;241m=\u001b[39m \u001b[38;5;28mself\u001b[39m\u001b[38;5;241m.\u001b[39mdata_queue\u001b[38;5;241m.\u001b[39mget()\n\u001b[1;32m--> 127\u001b[0m \u001b[38;5;28;01mif\u001b[39;00m \u001b[43mval\u001b[49m \u001b[38;5;241m==\u001b[39m \u001b[38;5;124m'\u001b[39m\u001b[38;5;124m<\u001b[39m\u001b[38;5;124m'\u001b[39m:\n\u001b[0;32m    128\u001b[0m     \u001b[38;5;28mself\u001b[39m\u001b[38;5;241m.\u001b[39mmediaplayer\u001b[38;5;241m.\u001b[39mset_rate(\u001b[38;5;28mself\u001b[39m\u001b[38;5;241m.\u001b[39mmediaplayer\u001b[38;5;241m.\u001b[39mget_rate() \u001b[38;5;241m*\u001b[39m \u001b[38;5;241m0.5\u001b[39m)\n\u001b[0;32m    129\u001b[0m     \u001b[38;5;28;01mreturn\u001b[39;00m\n",
      "\u001b[1;31mUnboundLocalError\u001b[0m: local variable 'val' referenced before assignment"
     ]
    },
    {
     "ename": "UnboundLocalError",
     "evalue": "local variable 'val' referenced before assignment",
     "output_type": "error",
     "traceback": [
      "\u001b[1;31m---------------------------------------------------------------------------\u001b[0m",
      "\u001b[1;31mUnboundLocalError\u001b[0m                         Traceback (most recent call last)",
      "Cell \u001b[1;32mIn[1], line 127\u001b[0m, in \u001b[0;36mMiniPlayer.update_ui\u001b[1;34m(self)\u001b[0m\n\u001b[0;32m    123\u001b[0m \u001b[38;5;28;01mif\u001b[39;00m \u001b[38;5;129;01mnot\u001b[39;00m \u001b[38;5;28mself\u001b[39m\u001b[38;5;241m.\u001b[39mdata_queue\u001b[38;5;241m.\u001b[39mempty():\n\u001b[0;32m    124\u001b[0m     val \u001b[38;5;241m=\u001b[39m \u001b[38;5;28mself\u001b[39m\u001b[38;5;241m.\u001b[39mdata_queue\u001b[38;5;241m.\u001b[39mget()\n\u001b[1;32m--> 127\u001b[0m \u001b[38;5;28;01mif\u001b[39;00m \u001b[43mval\u001b[49m \u001b[38;5;241m==\u001b[39m \u001b[38;5;124m'\u001b[39m\u001b[38;5;124m<\u001b[39m\u001b[38;5;124m'\u001b[39m:\n\u001b[0;32m    128\u001b[0m     \u001b[38;5;28mself\u001b[39m\u001b[38;5;241m.\u001b[39mmediaplayer\u001b[38;5;241m.\u001b[39mset_rate(\u001b[38;5;28mself\u001b[39m\u001b[38;5;241m.\u001b[39mmediaplayer\u001b[38;5;241m.\u001b[39mget_rate() \u001b[38;5;241m*\u001b[39m \u001b[38;5;241m0.5\u001b[39m)\n\u001b[0;32m    129\u001b[0m     \u001b[38;5;28;01mreturn\u001b[39;00m\n",
      "\u001b[1;31mUnboundLocalError\u001b[0m: local variable 'val' referenced before assignment"
     ]
    },
    {
     "ename": "UnboundLocalError",
     "evalue": "local variable 'val' referenced before assignment",
     "output_type": "error",
     "traceback": [
      "\u001b[1;31m---------------------------------------------------------------------------\u001b[0m",
      "\u001b[1;31mUnboundLocalError\u001b[0m                         Traceback (most recent call last)",
      "Cell \u001b[1;32mIn[1], line 127\u001b[0m, in \u001b[0;36mMiniPlayer.update_ui\u001b[1;34m(self)\u001b[0m\n\u001b[0;32m    123\u001b[0m \u001b[38;5;28;01mif\u001b[39;00m \u001b[38;5;129;01mnot\u001b[39;00m \u001b[38;5;28mself\u001b[39m\u001b[38;5;241m.\u001b[39mdata_queue\u001b[38;5;241m.\u001b[39mempty():\n\u001b[0;32m    124\u001b[0m     val \u001b[38;5;241m=\u001b[39m \u001b[38;5;28mself\u001b[39m\u001b[38;5;241m.\u001b[39mdata_queue\u001b[38;5;241m.\u001b[39mget()\n\u001b[1;32m--> 127\u001b[0m \u001b[38;5;28;01mif\u001b[39;00m \u001b[43mval\u001b[49m \u001b[38;5;241m==\u001b[39m \u001b[38;5;124m'\u001b[39m\u001b[38;5;124m<\u001b[39m\u001b[38;5;124m'\u001b[39m:\n\u001b[0;32m    128\u001b[0m     \u001b[38;5;28mself\u001b[39m\u001b[38;5;241m.\u001b[39mmediaplayer\u001b[38;5;241m.\u001b[39mset_rate(\u001b[38;5;28mself\u001b[39m\u001b[38;5;241m.\u001b[39mmediaplayer\u001b[38;5;241m.\u001b[39mget_rate() \u001b[38;5;241m*\u001b[39m \u001b[38;5;241m0.5\u001b[39m)\n\u001b[0;32m    129\u001b[0m     \u001b[38;5;28;01mreturn\u001b[39;00m\n",
      "\u001b[1;31mUnboundLocalError\u001b[0m: local variable 'val' referenced before assignment"
     ]
    },
    {
     "ename": "UnboundLocalError",
     "evalue": "local variable 'val' referenced before assignment",
     "output_type": "error",
     "traceback": [
      "\u001b[1;31m---------------------------------------------------------------------------\u001b[0m",
      "\u001b[1;31mUnboundLocalError\u001b[0m                         Traceback (most recent call last)",
      "Cell \u001b[1;32mIn[1], line 127\u001b[0m, in \u001b[0;36mMiniPlayer.update_ui\u001b[1;34m(self)\u001b[0m\n\u001b[0;32m    123\u001b[0m \u001b[38;5;28;01mif\u001b[39;00m \u001b[38;5;129;01mnot\u001b[39;00m \u001b[38;5;28mself\u001b[39m\u001b[38;5;241m.\u001b[39mdata_queue\u001b[38;5;241m.\u001b[39mempty():\n\u001b[0;32m    124\u001b[0m     val \u001b[38;5;241m=\u001b[39m \u001b[38;5;28mself\u001b[39m\u001b[38;5;241m.\u001b[39mdata_queue\u001b[38;5;241m.\u001b[39mget()\n\u001b[1;32m--> 127\u001b[0m \u001b[38;5;28;01mif\u001b[39;00m \u001b[43mval\u001b[49m \u001b[38;5;241m==\u001b[39m \u001b[38;5;124m'\u001b[39m\u001b[38;5;124m<\u001b[39m\u001b[38;5;124m'\u001b[39m:\n\u001b[0;32m    128\u001b[0m     \u001b[38;5;28mself\u001b[39m\u001b[38;5;241m.\u001b[39mmediaplayer\u001b[38;5;241m.\u001b[39mset_rate(\u001b[38;5;28mself\u001b[39m\u001b[38;5;241m.\u001b[39mmediaplayer\u001b[38;5;241m.\u001b[39mget_rate() \u001b[38;5;241m*\u001b[39m \u001b[38;5;241m0.5\u001b[39m)\n\u001b[0;32m    129\u001b[0m     \u001b[38;5;28;01mreturn\u001b[39;00m\n",
      "\u001b[1;31mUnboundLocalError\u001b[0m: local variable 'val' referenced before assignment"
     ]
    },
    {
     "ename": "UnboundLocalError",
     "evalue": "local variable 'val' referenced before assignment",
     "output_type": "error",
     "traceback": [
      "\u001b[1;31m---------------------------------------------------------------------------\u001b[0m",
      "\u001b[1;31mUnboundLocalError\u001b[0m                         Traceback (most recent call last)",
      "Cell \u001b[1;32mIn[1], line 127\u001b[0m, in \u001b[0;36mMiniPlayer.update_ui\u001b[1;34m(self)\u001b[0m\n\u001b[0;32m    123\u001b[0m \u001b[38;5;28;01mif\u001b[39;00m \u001b[38;5;129;01mnot\u001b[39;00m \u001b[38;5;28mself\u001b[39m\u001b[38;5;241m.\u001b[39mdata_queue\u001b[38;5;241m.\u001b[39mempty():\n\u001b[0;32m    124\u001b[0m     val \u001b[38;5;241m=\u001b[39m \u001b[38;5;28mself\u001b[39m\u001b[38;5;241m.\u001b[39mdata_queue\u001b[38;5;241m.\u001b[39mget()\n\u001b[1;32m--> 127\u001b[0m \u001b[38;5;28;01mif\u001b[39;00m \u001b[43mval\u001b[49m \u001b[38;5;241m==\u001b[39m \u001b[38;5;124m'\u001b[39m\u001b[38;5;124m<\u001b[39m\u001b[38;5;124m'\u001b[39m:\n\u001b[0;32m    128\u001b[0m     \u001b[38;5;28mself\u001b[39m\u001b[38;5;241m.\u001b[39mmediaplayer\u001b[38;5;241m.\u001b[39mset_rate(\u001b[38;5;28mself\u001b[39m\u001b[38;5;241m.\u001b[39mmediaplayer\u001b[38;5;241m.\u001b[39mget_rate() \u001b[38;5;241m*\u001b[39m \u001b[38;5;241m0.5\u001b[39m)\n\u001b[0;32m    129\u001b[0m     \u001b[38;5;28;01mreturn\u001b[39;00m\n",
      "\u001b[1;31mUnboundLocalError\u001b[0m: local variable 'val' referenced before assignment"
     ]
    },
    {
     "ename": "UnboundLocalError",
     "evalue": "local variable 'val' referenced before assignment",
     "output_type": "error",
     "traceback": [
      "\u001b[1;31m---------------------------------------------------------------------------\u001b[0m",
      "\u001b[1;31mUnboundLocalError\u001b[0m                         Traceback (most recent call last)",
      "Cell \u001b[1;32mIn[1], line 127\u001b[0m, in \u001b[0;36mMiniPlayer.update_ui\u001b[1;34m(self)\u001b[0m\n\u001b[0;32m    123\u001b[0m \u001b[38;5;28;01mif\u001b[39;00m \u001b[38;5;129;01mnot\u001b[39;00m \u001b[38;5;28mself\u001b[39m\u001b[38;5;241m.\u001b[39mdata_queue\u001b[38;5;241m.\u001b[39mempty():\n\u001b[0;32m    124\u001b[0m     val \u001b[38;5;241m=\u001b[39m \u001b[38;5;28mself\u001b[39m\u001b[38;5;241m.\u001b[39mdata_queue\u001b[38;5;241m.\u001b[39mget()\n\u001b[1;32m--> 127\u001b[0m \u001b[38;5;28;01mif\u001b[39;00m \u001b[43mval\u001b[49m \u001b[38;5;241m==\u001b[39m \u001b[38;5;124m'\u001b[39m\u001b[38;5;124m<\u001b[39m\u001b[38;5;124m'\u001b[39m:\n\u001b[0;32m    128\u001b[0m     \u001b[38;5;28mself\u001b[39m\u001b[38;5;241m.\u001b[39mmediaplayer\u001b[38;5;241m.\u001b[39mset_rate(\u001b[38;5;28mself\u001b[39m\u001b[38;5;241m.\u001b[39mmediaplayer\u001b[38;5;241m.\u001b[39mget_rate() \u001b[38;5;241m*\u001b[39m \u001b[38;5;241m0.5\u001b[39m)\n\u001b[0;32m    129\u001b[0m     \u001b[38;5;28;01mreturn\u001b[39;00m\n",
      "\u001b[1;31mUnboundLocalError\u001b[0m: local variable 'val' referenced before assignment"
     ]
    },
    {
     "ename": "UnboundLocalError",
     "evalue": "local variable 'val' referenced before assignment",
     "output_type": "error",
     "traceback": [
      "\u001b[1;31m---------------------------------------------------------------------------\u001b[0m",
      "\u001b[1;31mUnboundLocalError\u001b[0m                         Traceback (most recent call last)",
      "Cell \u001b[1;32mIn[1], line 127\u001b[0m, in \u001b[0;36mMiniPlayer.update_ui\u001b[1;34m(self)\u001b[0m\n\u001b[0;32m    123\u001b[0m \u001b[38;5;28;01mif\u001b[39;00m \u001b[38;5;129;01mnot\u001b[39;00m \u001b[38;5;28mself\u001b[39m\u001b[38;5;241m.\u001b[39mdata_queue\u001b[38;5;241m.\u001b[39mempty():\n\u001b[0;32m    124\u001b[0m     val \u001b[38;5;241m=\u001b[39m \u001b[38;5;28mself\u001b[39m\u001b[38;5;241m.\u001b[39mdata_queue\u001b[38;5;241m.\u001b[39mget()\n\u001b[1;32m--> 127\u001b[0m \u001b[38;5;28;01mif\u001b[39;00m \u001b[43mval\u001b[49m \u001b[38;5;241m==\u001b[39m \u001b[38;5;124m'\u001b[39m\u001b[38;5;124m<\u001b[39m\u001b[38;5;124m'\u001b[39m:\n\u001b[0;32m    128\u001b[0m     \u001b[38;5;28mself\u001b[39m\u001b[38;5;241m.\u001b[39mmediaplayer\u001b[38;5;241m.\u001b[39mset_rate(\u001b[38;5;28mself\u001b[39m\u001b[38;5;241m.\u001b[39mmediaplayer\u001b[38;5;241m.\u001b[39mget_rate() \u001b[38;5;241m*\u001b[39m \u001b[38;5;241m0.5\u001b[39m)\n\u001b[0;32m    129\u001b[0m     \u001b[38;5;28;01mreturn\u001b[39;00m\n",
      "\u001b[1;31mUnboundLocalError\u001b[0m: local variable 'val' referenced before assignment"
     ]
    },
    {
     "ename": "UnboundLocalError",
     "evalue": "local variable 'val' referenced before assignment",
     "output_type": "error",
     "traceback": [
      "\u001b[1;31m---------------------------------------------------------------------------\u001b[0m",
      "\u001b[1;31mUnboundLocalError\u001b[0m                         Traceback (most recent call last)",
      "Cell \u001b[1;32mIn[1], line 127\u001b[0m, in \u001b[0;36mMiniPlayer.update_ui\u001b[1;34m(self)\u001b[0m\n\u001b[0;32m    123\u001b[0m \u001b[38;5;28;01mif\u001b[39;00m \u001b[38;5;129;01mnot\u001b[39;00m \u001b[38;5;28mself\u001b[39m\u001b[38;5;241m.\u001b[39mdata_queue\u001b[38;5;241m.\u001b[39mempty():\n\u001b[0;32m    124\u001b[0m     val \u001b[38;5;241m=\u001b[39m \u001b[38;5;28mself\u001b[39m\u001b[38;5;241m.\u001b[39mdata_queue\u001b[38;5;241m.\u001b[39mget()\n\u001b[1;32m--> 127\u001b[0m \u001b[38;5;28;01mif\u001b[39;00m \u001b[43mval\u001b[49m \u001b[38;5;241m==\u001b[39m \u001b[38;5;124m'\u001b[39m\u001b[38;5;124m<\u001b[39m\u001b[38;5;124m'\u001b[39m:\n\u001b[0;32m    128\u001b[0m     \u001b[38;5;28mself\u001b[39m\u001b[38;5;241m.\u001b[39mmediaplayer\u001b[38;5;241m.\u001b[39mset_rate(\u001b[38;5;28mself\u001b[39m\u001b[38;5;241m.\u001b[39mmediaplayer\u001b[38;5;241m.\u001b[39mget_rate() \u001b[38;5;241m*\u001b[39m \u001b[38;5;241m0.5\u001b[39m)\n\u001b[0;32m    129\u001b[0m     \u001b[38;5;28;01mreturn\u001b[39;00m\n",
      "\u001b[1;31mUnboundLocalError\u001b[0m: local variable 'val' referenced before assignment"
     ]
    },
    {
     "ename": "UnboundLocalError",
     "evalue": "local variable 'val' referenced before assignment",
     "output_type": "error",
     "traceback": [
      "\u001b[1;31m---------------------------------------------------------------------------\u001b[0m",
      "\u001b[1;31mUnboundLocalError\u001b[0m                         Traceback (most recent call last)",
      "Cell \u001b[1;32mIn[1], line 127\u001b[0m, in \u001b[0;36mMiniPlayer.update_ui\u001b[1;34m(self)\u001b[0m\n\u001b[0;32m    123\u001b[0m \u001b[38;5;28;01mif\u001b[39;00m \u001b[38;5;129;01mnot\u001b[39;00m \u001b[38;5;28mself\u001b[39m\u001b[38;5;241m.\u001b[39mdata_queue\u001b[38;5;241m.\u001b[39mempty():\n\u001b[0;32m    124\u001b[0m     val \u001b[38;5;241m=\u001b[39m \u001b[38;5;28mself\u001b[39m\u001b[38;5;241m.\u001b[39mdata_queue\u001b[38;5;241m.\u001b[39mget()\n\u001b[1;32m--> 127\u001b[0m \u001b[38;5;28;01mif\u001b[39;00m \u001b[43mval\u001b[49m \u001b[38;5;241m==\u001b[39m \u001b[38;5;124m'\u001b[39m\u001b[38;5;124m<\u001b[39m\u001b[38;5;124m'\u001b[39m:\n\u001b[0;32m    128\u001b[0m     \u001b[38;5;28mself\u001b[39m\u001b[38;5;241m.\u001b[39mmediaplayer\u001b[38;5;241m.\u001b[39mset_rate(\u001b[38;5;28mself\u001b[39m\u001b[38;5;241m.\u001b[39mmediaplayer\u001b[38;5;241m.\u001b[39mget_rate() \u001b[38;5;241m*\u001b[39m \u001b[38;5;241m0.5\u001b[39m)\n\u001b[0;32m    129\u001b[0m     \u001b[38;5;28;01mreturn\u001b[39;00m\n",
      "\u001b[1;31mUnboundLocalError\u001b[0m: local variable 'val' referenced before assignment"
     ]
    },
    {
     "ename": "UnboundLocalError",
     "evalue": "local variable 'val' referenced before assignment",
     "output_type": "error",
     "traceback": [
      "\u001b[1;31m---------------------------------------------------------------------------\u001b[0m",
      "\u001b[1;31mUnboundLocalError\u001b[0m                         Traceback (most recent call last)",
      "Cell \u001b[1;32mIn[1], line 127\u001b[0m, in \u001b[0;36mMiniPlayer.update_ui\u001b[1;34m(self)\u001b[0m\n\u001b[0;32m    123\u001b[0m \u001b[38;5;28;01mif\u001b[39;00m \u001b[38;5;129;01mnot\u001b[39;00m \u001b[38;5;28mself\u001b[39m\u001b[38;5;241m.\u001b[39mdata_queue\u001b[38;5;241m.\u001b[39mempty():\n\u001b[0;32m    124\u001b[0m     val \u001b[38;5;241m=\u001b[39m \u001b[38;5;28mself\u001b[39m\u001b[38;5;241m.\u001b[39mdata_queue\u001b[38;5;241m.\u001b[39mget()\n\u001b[1;32m--> 127\u001b[0m \u001b[38;5;28;01mif\u001b[39;00m \u001b[43mval\u001b[49m \u001b[38;5;241m==\u001b[39m \u001b[38;5;124m'\u001b[39m\u001b[38;5;124m<\u001b[39m\u001b[38;5;124m'\u001b[39m:\n\u001b[0;32m    128\u001b[0m     \u001b[38;5;28mself\u001b[39m\u001b[38;5;241m.\u001b[39mmediaplayer\u001b[38;5;241m.\u001b[39mset_rate(\u001b[38;5;28mself\u001b[39m\u001b[38;5;241m.\u001b[39mmediaplayer\u001b[38;5;241m.\u001b[39mget_rate() \u001b[38;5;241m*\u001b[39m \u001b[38;5;241m0.5\u001b[39m)\n\u001b[0;32m    129\u001b[0m     \u001b[38;5;28;01mreturn\u001b[39;00m\n",
      "\u001b[1;31mUnboundLocalError\u001b[0m: local variable 'val' referenced before assignment"
     ]
    },
    {
     "ename": "UnboundLocalError",
     "evalue": "local variable 'val' referenced before assignment",
     "output_type": "error",
     "traceback": [
      "\u001b[1;31m---------------------------------------------------------------------------\u001b[0m",
      "\u001b[1;31mUnboundLocalError\u001b[0m                         Traceback (most recent call last)",
      "Cell \u001b[1;32mIn[1], line 127\u001b[0m, in \u001b[0;36mMiniPlayer.update_ui\u001b[1;34m(self)\u001b[0m\n\u001b[0;32m    123\u001b[0m \u001b[38;5;28;01mif\u001b[39;00m \u001b[38;5;129;01mnot\u001b[39;00m \u001b[38;5;28mself\u001b[39m\u001b[38;5;241m.\u001b[39mdata_queue\u001b[38;5;241m.\u001b[39mempty():\n\u001b[0;32m    124\u001b[0m     val \u001b[38;5;241m=\u001b[39m \u001b[38;5;28mself\u001b[39m\u001b[38;5;241m.\u001b[39mdata_queue\u001b[38;5;241m.\u001b[39mget()\n\u001b[1;32m--> 127\u001b[0m \u001b[38;5;28;01mif\u001b[39;00m \u001b[43mval\u001b[49m \u001b[38;5;241m==\u001b[39m \u001b[38;5;124m'\u001b[39m\u001b[38;5;124m<\u001b[39m\u001b[38;5;124m'\u001b[39m:\n\u001b[0;32m    128\u001b[0m     \u001b[38;5;28mself\u001b[39m\u001b[38;5;241m.\u001b[39mmediaplayer\u001b[38;5;241m.\u001b[39mset_rate(\u001b[38;5;28mself\u001b[39m\u001b[38;5;241m.\u001b[39mmediaplayer\u001b[38;5;241m.\u001b[39mget_rate() \u001b[38;5;241m*\u001b[39m \u001b[38;5;241m0.5\u001b[39m)\n\u001b[0;32m    129\u001b[0m     \u001b[38;5;28;01mreturn\u001b[39;00m\n",
      "\u001b[1;31mUnboundLocalError\u001b[0m: local variable 'val' referenced before assignment"
     ]
    },
    {
     "ename": "UnboundLocalError",
     "evalue": "local variable 'val' referenced before assignment",
     "output_type": "error",
     "traceback": [
      "\u001b[1;31m---------------------------------------------------------------------------\u001b[0m",
      "\u001b[1;31mUnboundLocalError\u001b[0m                         Traceback (most recent call last)",
      "Cell \u001b[1;32mIn[1], line 127\u001b[0m, in \u001b[0;36mMiniPlayer.update_ui\u001b[1;34m(self)\u001b[0m\n\u001b[0;32m    123\u001b[0m \u001b[38;5;28;01mif\u001b[39;00m \u001b[38;5;129;01mnot\u001b[39;00m \u001b[38;5;28mself\u001b[39m\u001b[38;5;241m.\u001b[39mdata_queue\u001b[38;5;241m.\u001b[39mempty():\n\u001b[0;32m    124\u001b[0m     val \u001b[38;5;241m=\u001b[39m \u001b[38;5;28mself\u001b[39m\u001b[38;5;241m.\u001b[39mdata_queue\u001b[38;5;241m.\u001b[39mget()\n\u001b[1;32m--> 127\u001b[0m \u001b[38;5;28;01mif\u001b[39;00m \u001b[43mval\u001b[49m \u001b[38;5;241m==\u001b[39m \u001b[38;5;124m'\u001b[39m\u001b[38;5;124m<\u001b[39m\u001b[38;5;124m'\u001b[39m:\n\u001b[0;32m    128\u001b[0m     \u001b[38;5;28mself\u001b[39m\u001b[38;5;241m.\u001b[39mmediaplayer\u001b[38;5;241m.\u001b[39mset_rate(\u001b[38;5;28mself\u001b[39m\u001b[38;5;241m.\u001b[39mmediaplayer\u001b[38;5;241m.\u001b[39mget_rate() \u001b[38;5;241m*\u001b[39m \u001b[38;5;241m0.5\u001b[39m)\n\u001b[0;32m    129\u001b[0m     \u001b[38;5;28;01mreturn\u001b[39;00m\n",
      "\u001b[1;31mUnboundLocalError\u001b[0m: local variable 'val' referenced before assignment"
     ]
    },
    {
     "ename": "UnboundLocalError",
     "evalue": "local variable 'val' referenced before assignment",
     "output_type": "error",
     "traceback": [
      "\u001b[1;31m---------------------------------------------------------------------------\u001b[0m",
      "\u001b[1;31mUnboundLocalError\u001b[0m                         Traceback (most recent call last)",
      "Cell \u001b[1;32mIn[1], line 127\u001b[0m, in \u001b[0;36mMiniPlayer.update_ui\u001b[1;34m(self)\u001b[0m\n\u001b[0;32m    123\u001b[0m \u001b[38;5;28;01mif\u001b[39;00m \u001b[38;5;129;01mnot\u001b[39;00m \u001b[38;5;28mself\u001b[39m\u001b[38;5;241m.\u001b[39mdata_queue\u001b[38;5;241m.\u001b[39mempty():\n\u001b[0;32m    124\u001b[0m     val \u001b[38;5;241m=\u001b[39m \u001b[38;5;28mself\u001b[39m\u001b[38;5;241m.\u001b[39mdata_queue\u001b[38;5;241m.\u001b[39mget()\n\u001b[1;32m--> 127\u001b[0m \u001b[38;5;28;01mif\u001b[39;00m \u001b[43mval\u001b[49m \u001b[38;5;241m==\u001b[39m \u001b[38;5;124m'\u001b[39m\u001b[38;5;124m<\u001b[39m\u001b[38;5;124m'\u001b[39m:\n\u001b[0;32m    128\u001b[0m     \u001b[38;5;28mself\u001b[39m\u001b[38;5;241m.\u001b[39mmediaplayer\u001b[38;5;241m.\u001b[39mset_rate(\u001b[38;5;28mself\u001b[39m\u001b[38;5;241m.\u001b[39mmediaplayer\u001b[38;5;241m.\u001b[39mget_rate() \u001b[38;5;241m*\u001b[39m \u001b[38;5;241m0.5\u001b[39m)\n\u001b[0;32m    129\u001b[0m     \u001b[38;5;28;01mreturn\u001b[39;00m\n",
      "\u001b[1;31mUnboundLocalError\u001b[0m: local variable 'val' referenced before assignment"
     ]
    },
    {
     "ename": "UnboundLocalError",
     "evalue": "local variable 'val' referenced before assignment",
     "output_type": "error",
     "traceback": [
      "\u001b[1;31m---------------------------------------------------------------------------\u001b[0m",
      "\u001b[1;31mUnboundLocalError\u001b[0m                         Traceback (most recent call last)",
      "Cell \u001b[1;32mIn[1], line 127\u001b[0m, in \u001b[0;36mMiniPlayer.update_ui\u001b[1;34m(self)\u001b[0m\n\u001b[0;32m    123\u001b[0m \u001b[38;5;28;01mif\u001b[39;00m \u001b[38;5;129;01mnot\u001b[39;00m \u001b[38;5;28mself\u001b[39m\u001b[38;5;241m.\u001b[39mdata_queue\u001b[38;5;241m.\u001b[39mempty():\n\u001b[0;32m    124\u001b[0m     val \u001b[38;5;241m=\u001b[39m \u001b[38;5;28mself\u001b[39m\u001b[38;5;241m.\u001b[39mdata_queue\u001b[38;5;241m.\u001b[39mget()\n\u001b[1;32m--> 127\u001b[0m \u001b[38;5;28;01mif\u001b[39;00m \u001b[43mval\u001b[49m \u001b[38;5;241m==\u001b[39m \u001b[38;5;124m'\u001b[39m\u001b[38;5;124m<\u001b[39m\u001b[38;5;124m'\u001b[39m:\n\u001b[0;32m    128\u001b[0m     \u001b[38;5;28mself\u001b[39m\u001b[38;5;241m.\u001b[39mmediaplayer\u001b[38;5;241m.\u001b[39mset_rate(\u001b[38;5;28mself\u001b[39m\u001b[38;5;241m.\u001b[39mmediaplayer\u001b[38;5;241m.\u001b[39mget_rate() \u001b[38;5;241m*\u001b[39m \u001b[38;5;241m0.5\u001b[39m)\n\u001b[0;32m    129\u001b[0m     \u001b[38;5;28;01mreturn\u001b[39;00m\n",
      "\u001b[1;31mUnboundLocalError\u001b[0m: local variable 'val' referenced before assignment"
     ]
    },
    {
     "ename": "UnboundLocalError",
     "evalue": "local variable 'val' referenced before assignment",
     "output_type": "error",
     "traceback": [
      "\u001b[1;31m---------------------------------------------------------------------------\u001b[0m",
      "\u001b[1;31mUnboundLocalError\u001b[0m                         Traceback (most recent call last)",
      "Cell \u001b[1;32mIn[1], line 127\u001b[0m, in \u001b[0;36mMiniPlayer.update_ui\u001b[1;34m(self)\u001b[0m\n\u001b[0;32m    123\u001b[0m \u001b[38;5;28;01mif\u001b[39;00m \u001b[38;5;129;01mnot\u001b[39;00m \u001b[38;5;28mself\u001b[39m\u001b[38;5;241m.\u001b[39mdata_queue\u001b[38;5;241m.\u001b[39mempty():\n\u001b[0;32m    124\u001b[0m     val \u001b[38;5;241m=\u001b[39m \u001b[38;5;28mself\u001b[39m\u001b[38;5;241m.\u001b[39mdata_queue\u001b[38;5;241m.\u001b[39mget()\n\u001b[1;32m--> 127\u001b[0m \u001b[38;5;28;01mif\u001b[39;00m \u001b[43mval\u001b[49m \u001b[38;5;241m==\u001b[39m \u001b[38;5;124m'\u001b[39m\u001b[38;5;124m<\u001b[39m\u001b[38;5;124m'\u001b[39m:\n\u001b[0;32m    128\u001b[0m     \u001b[38;5;28mself\u001b[39m\u001b[38;5;241m.\u001b[39mmediaplayer\u001b[38;5;241m.\u001b[39mset_rate(\u001b[38;5;28mself\u001b[39m\u001b[38;5;241m.\u001b[39mmediaplayer\u001b[38;5;241m.\u001b[39mget_rate() \u001b[38;5;241m*\u001b[39m \u001b[38;5;241m0.5\u001b[39m)\n\u001b[0;32m    129\u001b[0m     \u001b[38;5;28;01mreturn\u001b[39;00m\n",
      "\u001b[1;31mUnboundLocalError\u001b[0m: local variable 'val' referenced before assignment"
     ]
    },
    {
     "ename": "UnboundLocalError",
     "evalue": "local variable 'val' referenced before assignment",
     "output_type": "error",
     "traceback": [
      "\u001b[1;31m---------------------------------------------------------------------------\u001b[0m",
      "\u001b[1;31mUnboundLocalError\u001b[0m                         Traceback (most recent call last)",
      "Cell \u001b[1;32mIn[1], line 127\u001b[0m, in \u001b[0;36mMiniPlayer.update_ui\u001b[1;34m(self)\u001b[0m\n\u001b[0;32m    123\u001b[0m \u001b[38;5;28;01mif\u001b[39;00m \u001b[38;5;129;01mnot\u001b[39;00m \u001b[38;5;28mself\u001b[39m\u001b[38;5;241m.\u001b[39mdata_queue\u001b[38;5;241m.\u001b[39mempty():\n\u001b[0;32m    124\u001b[0m     val \u001b[38;5;241m=\u001b[39m \u001b[38;5;28mself\u001b[39m\u001b[38;5;241m.\u001b[39mdata_queue\u001b[38;5;241m.\u001b[39mget()\n\u001b[1;32m--> 127\u001b[0m \u001b[38;5;28;01mif\u001b[39;00m \u001b[43mval\u001b[49m \u001b[38;5;241m==\u001b[39m \u001b[38;5;124m'\u001b[39m\u001b[38;5;124m<\u001b[39m\u001b[38;5;124m'\u001b[39m:\n\u001b[0;32m    128\u001b[0m     \u001b[38;5;28mself\u001b[39m\u001b[38;5;241m.\u001b[39mmediaplayer\u001b[38;5;241m.\u001b[39mset_rate(\u001b[38;5;28mself\u001b[39m\u001b[38;5;241m.\u001b[39mmediaplayer\u001b[38;5;241m.\u001b[39mget_rate() \u001b[38;5;241m*\u001b[39m \u001b[38;5;241m0.5\u001b[39m)\n\u001b[0;32m    129\u001b[0m     \u001b[38;5;28;01mreturn\u001b[39;00m\n",
      "\u001b[1;31mUnboundLocalError\u001b[0m: local variable 'val' referenced before assignment"
     ]
    },
    {
     "ename": "UnboundLocalError",
     "evalue": "local variable 'val' referenced before assignment",
     "output_type": "error",
     "traceback": [
      "\u001b[1;31m---------------------------------------------------------------------------\u001b[0m",
      "\u001b[1;31mUnboundLocalError\u001b[0m                         Traceback (most recent call last)",
      "Cell \u001b[1;32mIn[1], line 127\u001b[0m, in \u001b[0;36mMiniPlayer.update_ui\u001b[1;34m(self)\u001b[0m\n\u001b[0;32m    123\u001b[0m \u001b[38;5;28;01mif\u001b[39;00m \u001b[38;5;129;01mnot\u001b[39;00m \u001b[38;5;28mself\u001b[39m\u001b[38;5;241m.\u001b[39mdata_queue\u001b[38;5;241m.\u001b[39mempty():\n\u001b[0;32m    124\u001b[0m     val \u001b[38;5;241m=\u001b[39m \u001b[38;5;28mself\u001b[39m\u001b[38;5;241m.\u001b[39mdata_queue\u001b[38;5;241m.\u001b[39mget()\n\u001b[1;32m--> 127\u001b[0m \u001b[38;5;28;01mif\u001b[39;00m \u001b[43mval\u001b[49m \u001b[38;5;241m==\u001b[39m \u001b[38;5;124m'\u001b[39m\u001b[38;5;124m<\u001b[39m\u001b[38;5;124m'\u001b[39m:\n\u001b[0;32m    128\u001b[0m     \u001b[38;5;28mself\u001b[39m\u001b[38;5;241m.\u001b[39mmediaplayer\u001b[38;5;241m.\u001b[39mset_rate(\u001b[38;5;28mself\u001b[39m\u001b[38;5;241m.\u001b[39mmediaplayer\u001b[38;5;241m.\u001b[39mget_rate() \u001b[38;5;241m*\u001b[39m \u001b[38;5;241m0.5\u001b[39m)\n\u001b[0;32m    129\u001b[0m     \u001b[38;5;28;01mreturn\u001b[39;00m\n",
      "\u001b[1;31mUnboundLocalError\u001b[0m: local variable 'val' referenced before assignment"
     ]
    },
    {
     "ename": "UnboundLocalError",
     "evalue": "local variable 'val' referenced before assignment",
     "output_type": "error",
     "traceback": [
      "\u001b[1;31m---------------------------------------------------------------------------\u001b[0m",
      "\u001b[1;31mUnboundLocalError\u001b[0m                         Traceback (most recent call last)",
      "Cell \u001b[1;32mIn[1], line 127\u001b[0m, in \u001b[0;36mMiniPlayer.update_ui\u001b[1;34m(self)\u001b[0m\n\u001b[0;32m    123\u001b[0m \u001b[38;5;28;01mif\u001b[39;00m \u001b[38;5;129;01mnot\u001b[39;00m \u001b[38;5;28mself\u001b[39m\u001b[38;5;241m.\u001b[39mdata_queue\u001b[38;5;241m.\u001b[39mempty():\n\u001b[0;32m    124\u001b[0m     val \u001b[38;5;241m=\u001b[39m \u001b[38;5;28mself\u001b[39m\u001b[38;5;241m.\u001b[39mdata_queue\u001b[38;5;241m.\u001b[39mget()\n\u001b[1;32m--> 127\u001b[0m \u001b[38;5;28;01mif\u001b[39;00m \u001b[43mval\u001b[49m \u001b[38;5;241m==\u001b[39m \u001b[38;5;124m'\u001b[39m\u001b[38;5;124m<\u001b[39m\u001b[38;5;124m'\u001b[39m:\n\u001b[0;32m    128\u001b[0m     \u001b[38;5;28mself\u001b[39m\u001b[38;5;241m.\u001b[39mmediaplayer\u001b[38;5;241m.\u001b[39mset_rate(\u001b[38;5;28mself\u001b[39m\u001b[38;5;241m.\u001b[39mmediaplayer\u001b[38;5;241m.\u001b[39mget_rate() \u001b[38;5;241m*\u001b[39m \u001b[38;5;241m0.5\u001b[39m)\n\u001b[0;32m    129\u001b[0m     \u001b[38;5;28;01mreturn\u001b[39;00m\n",
      "\u001b[1;31mUnboundLocalError\u001b[0m: local variable 'val' referenced before assignment"
     ]
    },
    {
     "ename": "UnboundLocalError",
     "evalue": "local variable 'val' referenced before assignment",
     "output_type": "error",
     "traceback": [
      "\u001b[1;31m---------------------------------------------------------------------------\u001b[0m",
      "\u001b[1;31mUnboundLocalError\u001b[0m                         Traceback (most recent call last)",
      "Cell \u001b[1;32mIn[1], line 127\u001b[0m, in \u001b[0;36mMiniPlayer.update_ui\u001b[1;34m(self)\u001b[0m\n\u001b[0;32m    123\u001b[0m \u001b[38;5;28;01mif\u001b[39;00m \u001b[38;5;129;01mnot\u001b[39;00m \u001b[38;5;28mself\u001b[39m\u001b[38;5;241m.\u001b[39mdata_queue\u001b[38;5;241m.\u001b[39mempty():\n\u001b[0;32m    124\u001b[0m     val \u001b[38;5;241m=\u001b[39m \u001b[38;5;28mself\u001b[39m\u001b[38;5;241m.\u001b[39mdata_queue\u001b[38;5;241m.\u001b[39mget()\n\u001b[1;32m--> 127\u001b[0m \u001b[38;5;28;01mif\u001b[39;00m \u001b[43mval\u001b[49m \u001b[38;5;241m==\u001b[39m \u001b[38;5;124m'\u001b[39m\u001b[38;5;124m<\u001b[39m\u001b[38;5;124m'\u001b[39m:\n\u001b[0;32m    128\u001b[0m     \u001b[38;5;28mself\u001b[39m\u001b[38;5;241m.\u001b[39mmediaplayer\u001b[38;5;241m.\u001b[39mset_rate(\u001b[38;5;28mself\u001b[39m\u001b[38;5;241m.\u001b[39mmediaplayer\u001b[38;5;241m.\u001b[39mget_rate() \u001b[38;5;241m*\u001b[39m \u001b[38;5;241m0.5\u001b[39m)\n\u001b[0;32m    129\u001b[0m     \u001b[38;5;28;01mreturn\u001b[39;00m\n",
      "\u001b[1;31mUnboundLocalError\u001b[0m: local variable 'val' referenced before assignment"
     ]
    },
    {
     "ename": "UnboundLocalError",
     "evalue": "local variable 'val' referenced before assignment",
     "output_type": "error",
     "traceback": [
      "\u001b[1;31m---------------------------------------------------------------------------\u001b[0m",
      "\u001b[1;31mUnboundLocalError\u001b[0m                         Traceback (most recent call last)",
      "Cell \u001b[1;32mIn[1], line 127\u001b[0m, in \u001b[0;36mMiniPlayer.update_ui\u001b[1;34m(self)\u001b[0m\n\u001b[0;32m    123\u001b[0m \u001b[38;5;28;01mif\u001b[39;00m \u001b[38;5;129;01mnot\u001b[39;00m \u001b[38;5;28mself\u001b[39m\u001b[38;5;241m.\u001b[39mdata_queue\u001b[38;5;241m.\u001b[39mempty():\n\u001b[0;32m    124\u001b[0m     val \u001b[38;5;241m=\u001b[39m \u001b[38;5;28mself\u001b[39m\u001b[38;5;241m.\u001b[39mdata_queue\u001b[38;5;241m.\u001b[39mget()\n\u001b[1;32m--> 127\u001b[0m \u001b[38;5;28;01mif\u001b[39;00m \u001b[43mval\u001b[49m \u001b[38;5;241m==\u001b[39m \u001b[38;5;124m'\u001b[39m\u001b[38;5;124m<\u001b[39m\u001b[38;5;124m'\u001b[39m:\n\u001b[0;32m    128\u001b[0m     \u001b[38;5;28mself\u001b[39m\u001b[38;5;241m.\u001b[39mmediaplayer\u001b[38;5;241m.\u001b[39mset_rate(\u001b[38;5;28mself\u001b[39m\u001b[38;5;241m.\u001b[39mmediaplayer\u001b[38;5;241m.\u001b[39mget_rate() \u001b[38;5;241m*\u001b[39m \u001b[38;5;241m0.5\u001b[39m)\n\u001b[0;32m    129\u001b[0m     \u001b[38;5;28;01mreturn\u001b[39;00m\n",
      "\u001b[1;31mUnboundLocalError\u001b[0m: local variable 'val' referenced before assignment"
     ]
    },
    {
     "ename": "UnboundLocalError",
     "evalue": "local variable 'val' referenced before assignment",
     "output_type": "error",
     "traceback": [
      "\u001b[1;31m---------------------------------------------------------------------------\u001b[0m",
      "\u001b[1;31mUnboundLocalError\u001b[0m                         Traceback (most recent call last)",
      "Cell \u001b[1;32mIn[1], line 127\u001b[0m, in \u001b[0;36mMiniPlayer.update_ui\u001b[1;34m(self)\u001b[0m\n\u001b[0;32m    123\u001b[0m \u001b[38;5;28;01mif\u001b[39;00m \u001b[38;5;129;01mnot\u001b[39;00m \u001b[38;5;28mself\u001b[39m\u001b[38;5;241m.\u001b[39mdata_queue\u001b[38;5;241m.\u001b[39mempty():\n\u001b[0;32m    124\u001b[0m     val \u001b[38;5;241m=\u001b[39m \u001b[38;5;28mself\u001b[39m\u001b[38;5;241m.\u001b[39mdata_queue\u001b[38;5;241m.\u001b[39mget()\n\u001b[1;32m--> 127\u001b[0m \u001b[38;5;28;01mif\u001b[39;00m \u001b[43mval\u001b[49m \u001b[38;5;241m==\u001b[39m \u001b[38;5;124m'\u001b[39m\u001b[38;5;124m<\u001b[39m\u001b[38;5;124m'\u001b[39m:\n\u001b[0;32m    128\u001b[0m     \u001b[38;5;28mself\u001b[39m\u001b[38;5;241m.\u001b[39mmediaplayer\u001b[38;5;241m.\u001b[39mset_rate(\u001b[38;5;28mself\u001b[39m\u001b[38;5;241m.\u001b[39mmediaplayer\u001b[38;5;241m.\u001b[39mget_rate() \u001b[38;5;241m*\u001b[39m \u001b[38;5;241m0.5\u001b[39m)\n\u001b[0;32m    129\u001b[0m     \u001b[38;5;28;01mreturn\u001b[39;00m\n",
      "\u001b[1;31mUnboundLocalError\u001b[0m: local variable 'val' referenced before assignment"
     ]
    },
    {
     "ename": "UnboundLocalError",
     "evalue": "local variable 'val' referenced before assignment",
     "output_type": "error",
     "traceback": [
      "\u001b[1;31m---------------------------------------------------------------------------\u001b[0m",
      "\u001b[1;31mUnboundLocalError\u001b[0m                         Traceback (most recent call last)",
      "Cell \u001b[1;32mIn[1], line 127\u001b[0m, in \u001b[0;36mMiniPlayer.update_ui\u001b[1;34m(self)\u001b[0m\n\u001b[0;32m    123\u001b[0m \u001b[38;5;28;01mif\u001b[39;00m \u001b[38;5;129;01mnot\u001b[39;00m \u001b[38;5;28mself\u001b[39m\u001b[38;5;241m.\u001b[39mdata_queue\u001b[38;5;241m.\u001b[39mempty():\n\u001b[0;32m    124\u001b[0m     val \u001b[38;5;241m=\u001b[39m \u001b[38;5;28mself\u001b[39m\u001b[38;5;241m.\u001b[39mdata_queue\u001b[38;5;241m.\u001b[39mget()\n\u001b[1;32m--> 127\u001b[0m \u001b[38;5;28;01mif\u001b[39;00m \u001b[43mval\u001b[49m \u001b[38;5;241m==\u001b[39m \u001b[38;5;124m'\u001b[39m\u001b[38;5;124m<\u001b[39m\u001b[38;5;124m'\u001b[39m:\n\u001b[0;32m    128\u001b[0m     \u001b[38;5;28mself\u001b[39m\u001b[38;5;241m.\u001b[39mmediaplayer\u001b[38;5;241m.\u001b[39mset_rate(\u001b[38;5;28mself\u001b[39m\u001b[38;5;241m.\u001b[39mmediaplayer\u001b[38;5;241m.\u001b[39mget_rate() \u001b[38;5;241m*\u001b[39m \u001b[38;5;241m0.5\u001b[39m)\n\u001b[0;32m    129\u001b[0m     \u001b[38;5;28;01mreturn\u001b[39;00m\n",
      "\u001b[1;31mUnboundLocalError\u001b[0m: local variable 'val' referenced before assignment"
     ]
    },
    {
     "ename": "UnboundLocalError",
     "evalue": "local variable 'val' referenced before assignment",
     "output_type": "error",
     "traceback": [
      "\u001b[1;31m---------------------------------------------------------------------------\u001b[0m",
      "\u001b[1;31mUnboundLocalError\u001b[0m                         Traceback (most recent call last)",
      "Cell \u001b[1;32mIn[1], line 127\u001b[0m, in \u001b[0;36mMiniPlayer.update_ui\u001b[1;34m(self)\u001b[0m\n\u001b[0;32m    123\u001b[0m \u001b[38;5;28;01mif\u001b[39;00m \u001b[38;5;129;01mnot\u001b[39;00m \u001b[38;5;28mself\u001b[39m\u001b[38;5;241m.\u001b[39mdata_queue\u001b[38;5;241m.\u001b[39mempty():\n\u001b[0;32m    124\u001b[0m     val \u001b[38;5;241m=\u001b[39m \u001b[38;5;28mself\u001b[39m\u001b[38;5;241m.\u001b[39mdata_queue\u001b[38;5;241m.\u001b[39mget()\n\u001b[1;32m--> 127\u001b[0m \u001b[38;5;28;01mif\u001b[39;00m \u001b[43mval\u001b[49m \u001b[38;5;241m==\u001b[39m \u001b[38;5;124m'\u001b[39m\u001b[38;5;124m<\u001b[39m\u001b[38;5;124m'\u001b[39m:\n\u001b[0;32m    128\u001b[0m     \u001b[38;5;28mself\u001b[39m\u001b[38;5;241m.\u001b[39mmediaplayer\u001b[38;5;241m.\u001b[39mset_rate(\u001b[38;5;28mself\u001b[39m\u001b[38;5;241m.\u001b[39mmediaplayer\u001b[38;5;241m.\u001b[39mget_rate() \u001b[38;5;241m*\u001b[39m \u001b[38;5;241m0.5\u001b[39m)\n\u001b[0;32m    129\u001b[0m     \u001b[38;5;28;01mreturn\u001b[39;00m\n",
      "\u001b[1;31mUnboundLocalError\u001b[0m: local variable 'val' referenced before assignment"
     ]
    },
    {
     "ename": "UnboundLocalError",
     "evalue": "local variable 'val' referenced before assignment",
     "output_type": "error",
     "traceback": [
      "\u001b[1;31m---------------------------------------------------------------------------\u001b[0m",
      "\u001b[1;31mUnboundLocalError\u001b[0m                         Traceback (most recent call last)",
      "Cell \u001b[1;32mIn[1], line 127\u001b[0m, in \u001b[0;36mMiniPlayer.update_ui\u001b[1;34m(self)\u001b[0m\n\u001b[0;32m    123\u001b[0m \u001b[38;5;28;01mif\u001b[39;00m \u001b[38;5;129;01mnot\u001b[39;00m \u001b[38;5;28mself\u001b[39m\u001b[38;5;241m.\u001b[39mdata_queue\u001b[38;5;241m.\u001b[39mempty():\n\u001b[0;32m    124\u001b[0m     val \u001b[38;5;241m=\u001b[39m \u001b[38;5;28mself\u001b[39m\u001b[38;5;241m.\u001b[39mdata_queue\u001b[38;5;241m.\u001b[39mget()\n\u001b[1;32m--> 127\u001b[0m \u001b[38;5;28;01mif\u001b[39;00m \u001b[43mval\u001b[49m \u001b[38;5;241m==\u001b[39m \u001b[38;5;124m'\u001b[39m\u001b[38;5;124m<\u001b[39m\u001b[38;5;124m'\u001b[39m:\n\u001b[0;32m    128\u001b[0m     \u001b[38;5;28mself\u001b[39m\u001b[38;5;241m.\u001b[39mmediaplayer\u001b[38;5;241m.\u001b[39mset_rate(\u001b[38;5;28mself\u001b[39m\u001b[38;5;241m.\u001b[39mmediaplayer\u001b[38;5;241m.\u001b[39mget_rate() \u001b[38;5;241m*\u001b[39m \u001b[38;5;241m0.5\u001b[39m)\n\u001b[0;32m    129\u001b[0m     \u001b[38;5;28;01mreturn\u001b[39;00m\n",
      "\u001b[1;31mUnboundLocalError\u001b[0m: local variable 'val' referenced before assignment"
     ]
    },
    {
     "ename": "UnboundLocalError",
     "evalue": "local variable 'val' referenced before assignment",
     "output_type": "error",
     "traceback": [
      "\u001b[1;31m---------------------------------------------------------------------------\u001b[0m",
      "\u001b[1;31mUnboundLocalError\u001b[0m                         Traceback (most recent call last)",
      "Cell \u001b[1;32mIn[1], line 127\u001b[0m, in \u001b[0;36mMiniPlayer.update_ui\u001b[1;34m(self)\u001b[0m\n\u001b[0;32m    123\u001b[0m \u001b[38;5;28;01mif\u001b[39;00m \u001b[38;5;129;01mnot\u001b[39;00m \u001b[38;5;28mself\u001b[39m\u001b[38;5;241m.\u001b[39mdata_queue\u001b[38;5;241m.\u001b[39mempty():\n\u001b[0;32m    124\u001b[0m     val \u001b[38;5;241m=\u001b[39m \u001b[38;5;28mself\u001b[39m\u001b[38;5;241m.\u001b[39mdata_queue\u001b[38;5;241m.\u001b[39mget()\n\u001b[1;32m--> 127\u001b[0m \u001b[38;5;28;01mif\u001b[39;00m \u001b[43mval\u001b[49m \u001b[38;5;241m==\u001b[39m \u001b[38;5;124m'\u001b[39m\u001b[38;5;124m<\u001b[39m\u001b[38;5;124m'\u001b[39m:\n\u001b[0;32m    128\u001b[0m     \u001b[38;5;28mself\u001b[39m\u001b[38;5;241m.\u001b[39mmediaplayer\u001b[38;5;241m.\u001b[39mset_rate(\u001b[38;5;28mself\u001b[39m\u001b[38;5;241m.\u001b[39mmediaplayer\u001b[38;5;241m.\u001b[39mget_rate() \u001b[38;5;241m*\u001b[39m \u001b[38;5;241m0.5\u001b[39m)\n\u001b[0;32m    129\u001b[0m     \u001b[38;5;28;01mreturn\u001b[39;00m\n",
      "\u001b[1;31mUnboundLocalError\u001b[0m: local variable 'val' referenced before assignment"
     ]
    },
    {
     "ename": "UnboundLocalError",
     "evalue": "local variable 'val' referenced before assignment",
     "output_type": "error",
     "traceback": [
      "\u001b[1;31m---------------------------------------------------------------------------\u001b[0m",
      "\u001b[1;31mUnboundLocalError\u001b[0m                         Traceback (most recent call last)",
      "Cell \u001b[1;32mIn[1], line 127\u001b[0m, in \u001b[0;36mMiniPlayer.update_ui\u001b[1;34m(self)\u001b[0m\n\u001b[0;32m    123\u001b[0m \u001b[38;5;28;01mif\u001b[39;00m \u001b[38;5;129;01mnot\u001b[39;00m \u001b[38;5;28mself\u001b[39m\u001b[38;5;241m.\u001b[39mdata_queue\u001b[38;5;241m.\u001b[39mempty():\n\u001b[0;32m    124\u001b[0m     val \u001b[38;5;241m=\u001b[39m \u001b[38;5;28mself\u001b[39m\u001b[38;5;241m.\u001b[39mdata_queue\u001b[38;5;241m.\u001b[39mget()\n\u001b[1;32m--> 127\u001b[0m \u001b[38;5;28;01mif\u001b[39;00m \u001b[43mval\u001b[49m \u001b[38;5;241m==\u001b[39m \u001b[38;5;124m'\u001b[39m\u001b[38;5;124m<\u001b[39m\u001b[38;5;124m'\u001b[39m:\n\u001b[0;32m    128\u001b[0m     \u001b[38;5;28mself\u001b[39m\u001b[38;5;241m.\u001b[39mmediaplayer\u001b[38;5;241m.\u001b[39mset_rate(\u001b[38;5;28mself\u001b[39m\u001b[38;5;241m.\u001b[39mmediaplayer\u001b[38;5;241m.\u001b[39mget_rate() \u001b[38;5;241m*\u001b[39m \u001b[38;5;241m0.5\u001b[39m)\n\u001b[0;32m    129\u001b[0m     \u001b[38;5;28;01mreturn\u001b[39;00m\n",
      "\u001b[1;31mUnboundLocalError\u001b[0m: local variable 'val' referenced before assignment"
     ]
    },
    {
     "ename": "UnboundLocalError",
     "evalue": "local variable 'val' referenced before assignment",
     "output_type": "error",
     "traceback": [
      "\u001b[1;31m---------------------------------------------------------------------------\u001b[0m",
      "\u001b[1;31mUnboundLocalError\u001b[0m                         Traceback (most recent call last)",
      "Cell \u001b[1;32mIn[1], line 127\u001b[0m, in \u001b[0;36mMiniPlayer.update_ui\u001b[1;34m(self)\u001b[0m\n\u001b[0;32m    123\u001b[0m \u001b[38;5;28;01mif\u001b[39;00m \u001b[38;5;129;01mnot\u001b[39;00m \u001b[38;5;28mself\u001b[39m\u001b[38;5;241m.\u001b[39mdata_queue\u001b[38;5;241m.\u001b[39mempty():\n\u001b[0;32m    124\u001b[0m     val \u001b[38;5;241m=\u001b[39m \u001b[38;5;28mself\u001b[39m\u001b[38;5;241m.\u001b[39mdata_queue\u001b[38;5;241m.\u001b[39mget()\n\u001b[1;32m--> 127\u001b[0m \u001b[38;5;28;01mif\u001b[39;00m \u001b[43mval\u001b[49m \u001b[38;5;241m==\u001b[39m \u001b[38;5;124m'\u001b[39m\u001b[38;5;124m<\u001b[39m\u001b[38;5;124m'\u001b[39m:\n\u001b[0;32m    128\u001b[0m     \u001b[38;5;28mself\u001b[39m\u001b[38;5;241m.\u001b[39mmediaplayer\u001b[38;5;241m.\u001b[39mset_rate(\u001b[38;5;28mself\u001b[39m\u001b[38;5;241m.\u001b[39mmediaplayer\u001b[38;5;241m.\u001b[39mget_rate() \u001b[38;5;241m*\u001b[39m \u001b[38;5;241m0.5\u001b[39m)\n\u001b[0;32m    129\u001b[0m     \u001b[38;5;28;01mreturn\u001b[39;00m\n",
      "\u001b[1;31mUnboundLocalError\u001b[0m: local variable 'val' referenced before assignment"
     ]
    },
    {
     "ename": "UnboundLocalError",
     "evalue": "local variable 'val' referenced before assignment",
     "output_type": "error",
     "traceback": [
      "\u001b[1;31m---------------------------------------------------------------------------\u001b[0m",
      "\u001b[1;31mUnboundLocalError\u001b[0m                         Traceback (most recent call last)",
      "Cell \u001b[1;32mIn[1], line 127\u001b[0m, in \u001b[0;36mMiniPlayer.update_ui\u001b[1;34m(self)\u001b[0m\n\u001b[0;32m    123\u001b[0m \u001b[38;5;28;01mif\u001b[39;00m \u001b[38;5;129;01mnot\u001b[39;00m \u001b[38;5;28mself\u001b[39m\u001b[38;5;241m.\u001b[39mdata_queue\u001b[38;5;241m.\u001b[39mempty():\n\u001b[0;32m    124\u001b[0m     val \u001b[38;5;241m=\u001b[39m \u001b[38;5;28mself\u001b[39m\u001b[38;5;241m.\u001b[39mdata_queue\u001b[38;5;241m.\u001b[39mget()\n\u001b[1;32m--> 127\u001b[0m \u001b[38;5;28;01mif\u001b[39;00m \u001b[43mval\u001b[49m \u001b[38;5;241m==\u001b[39m \u001b[38;5;124m'\u001b[39m\u001b[38;5;124m<\u001b[39m\u001b[38;5;124m'\u001b[39m:\n\u001b[0;32m    128\u001b[0m     \u001b[38;5;28mself\u001b[39m\u001b[38;5;241m.\u001b[39mmediaplayer\u001b[38;5;241m.\u001b[39mset_rate(\u001b[38;5;28mself\u001b[39m\u001b[38;5;241m.\u001b[39mmediaplayer\u001b[38;5;241m.\u001b[39mget_rate() \u001b[38;5;241m*\u001b[39m \u001b[38;5;241m0.5\u001b[39m)\n\u001b[0;32m    129\u001b[0m     \u001b[38;5;28;01mreturn\u001b[39;00m\n",
      "\u001b[1;31mUnboundLocalError\u001b[0m: local variable 'val' referenced before assignment"
     ]
    },
    {
     "ename": "UnboundLocalError",
     "evalue": "local variable 'val' referenced before assignment",
     "output_type": "error",
     "traceback": [
      "\u001b[1;31m---------------------------------------------------------------------------\u001b[0m",
      "\u001b[1;31mUnboundLocalError\u001b[0m                         Traceback (most recent call last)",
      "Cell \u001b[1;32mIn[1], line 127\u001b[0m, in \u001b[0;36mMiniPlayer.update_ui\u001b[1;34m(self)\u001b[0m\n\u001b[0;32m    123\u001b[0m \u001b[38;5;28;01mif\u001b[39;00m \u001b[38;5;129;01mnot\u001b[39;00m \u001b[38;5;28mself\u001b[39m\u001b[38;5;241m.\u001b[39mdata_queue\u001b[38;5;241m.\u001b[39mempty():\n\u001b[0;32m    124\u001b[0m     val \u001b[38;5;241m=\u001b[39m \u001b[38;5;28mself\u001b[39m\u001b[38;5;241m.\u001b[39mdata_queue\u001b[38;5;241m.\u001b[39mget()\n\u001b[1;32m--> 127\u001b[0m \u001b[38;5;28;01mif\u001b[39;00m \u001b[43mval\u001b[49m \u001b[38;5;241m==\u001b[39m \u001b[38;5;124m'\u001b[39m\u001b[38;5;124m<\u001b[39m\u001b[38;5;124m'\u001b[39m:\n\u001b[0;32m    128\u001b[0m     \u001b[38;5;28mself\u001b[39m\u001b[38;5;241m.\u001b[39mmediaplayer\u001b[38;5;241m.\u001b[39mset_rate(\u001b[38;5;28mself\u001b[39m\u001b[38;5;241m.\u001b[39mmediaplayer\u001b[38;5;241m.\u001b[39mget_rate() \u001b[38;5;241m*\u001b[39m \u001b[38;5;241m0.5\u001b[39m)\n\u001b[0;32m    129\u001b[0m     \u001b[38;5;28;01mreturn\u001b[39;00m\n",
      "\u001b[1;31mUnboundLocalError\u001b[0m: local variable 'val' referenced before assignment"
     ]
    },
    {
     "ename": "UnboundLocalError",
     "evalue": "local variable 'val' referenced before assignment",
     "output_type": "error",
     "traceback": [
      "\u001b[1;31m---------------------------------------------------------------------------\u001b[0m",
      "\u001b[1;31mUnboundLocalError\u001b[0m                         Traceback (most recent call last)",
      "Cell \u001b[1;32mIn[1], line 127\u001b[0m, in \u001b[0;36mMiniPlayer.update_ui\u001b[1;34m(self)\u001b[0m\n\u001b[0;32m    123\u001b[0m \u001b[38;5;28;01mif\u001b[39;00m \u001b[38;5;129;01mnot\u001b[39;00m \u001b[38;5;28mself\u001b[39m\u001b[38;5;241m.\u001b[39mdata_queue\u001b[38;5;241m.\u001b[39mempty():\n\u001b[0;32m    124\u001b[0m     val \u001b[38;5;241m=\u001b[39m \u001b[38;5;28mself\u001b[39m\u001b[38;5;241m.\u001b[39mdata_queue\u001b[38;5;241m.\u001b[39mget()\n\u001b[1;32m--> 127\u001b[0m \u001b[38;5;28;01mif\u001b[39;00m \u001b[43mval\u001b[49m \u001b[38;5;241m==\u001b[39m \u001b[38;5;124m'\u001b[39m\u001b[38;5;124m<\u001b[39m\u001b[38;5;124m'\u001b[39m:\n\u001b[0;32m    128\u001b[0m     \u001b[38;5;28mself\u001b[39m\u001b[38;5;241m.\u001b[39mmediaplayer\u001b[38;5;241m.\u001b[39mset_rate(\u001b[38;5;28mself\u001b[39m\u001b[38;5;241m.\u001b[39mmediaplayer\u001b[38;5;241m.\u001b[39mget_rate() \u001b[38;5;241m*\u001b[39m \u001b[38;5;241m0.5\u001b[39m)\n\u001b[0;32m    129\u001b[0m     \u001b[38;5;28;01mreturn\u001b[39;00m\n",
      "\u001b[1;31mUnboundLocalError\u001b[0m: local variable 'val' referenced before assignment"
     ]
    },
    {
     "ename": "UnboundLocalError",
     "evalue": "local variable 'val' referenced before assignment",
     "output_type": "error",
     "traceback": [
      "\u001b[1;31m---------------------------------------------------------------------------\u001b[0m",
      "\u001b[1;31mUnboundLocalError\u001b[0m                         Traceback (most recent call last)",
      "Cell \u001b[1;32mIn[1], line 127\u001b[0m, in \u001b[0;36mMiniPlayer.update_ui\u001b[1;34m(self)\u001b[0m\n\u001b[0;32m    123\u001b[0m \u001b[38;5;28;01mif\u001b[39;00m \u001b[38;5;129;01mnot\u001b[39;00m \u001b[38;5;28mself\u001b[39m\u001b[38;5;241m.\u001b[39mdata_queue\u001b[38;5;241m.\u001b[39mempty():\n\u001b[0;32m    124\u001b[0m     val \u001b[38;5;241m=\u001b[39m \u001b[38;5;28mself\u001b[39m\u001b[38;5;241m.\u001b[39mdata_queue\u001b[38;5;241m.\u001b[39mget()\n\u001b[1;32m--> 127\u001b[0m \u001b[38;5;28;01mif\u001b[39;00m \u001b[43mval\u001b[49m \u001b[38;5;241m==\u001b[39m \u001b[38;5;124m'\u001b[39m\u001b[38;5;124m<\u001b[39m\u001b[38;5;124m'\u001b[39m:\n\u001b[0;32m    128\u001b[0m     \u001b[38;5;28mself\u001b[39m\u001b[38;5;241m.\u001b[39mmediaplayer\u001b[38;5;241m.\u001b[39mset_rate(\u001b[38;5;28mself\u001b[39m\u001b[38;5;241m.\u001b[39mmediaplayer\u001b[38;5;241m.\u001b[39mget_rate() \u001b[38;5;241m*\u001b[39m \u001b[38;5;241m0.5\u001b[39m)\n\u001b[0;32m    129\u001b[0m     \u001b[38;5;28;01mreturn\u001b[39;00m\n",
      "\u001b[1;31mUnboundLocalError\u001b[0m: local variable 'val' referenced before assignment"
     ]
    },
    {
     "ename": "UnboundLocalError",
     "evalue": "local variable 'val' referenced before assignment",
     "output_type": "error",
     "traceback": [
      "\u001b[1;31m---------------------------------------------------------------------------\u001b[0m",
      "\u001b[1;31mUnboundLocalError\u001b[0m                         Traceback (most recent call last)",
      "Cell \u001b[1;32mIn[1], line 127\u001b[0m, in \u001b[0;36mMiniPlayer.update_ui\u001b[1;34m(self)\u001b[0m\n\u001b[0;32m    123\u001b[0m \u001b[38;5;28;01mif\u001b[39;00m \u001b[38;5;129;01mnot\u001b[39;00m \u001b[38;5;28mself\u001b[39m\u001b[38;5;241m.\u001b[39mdata_queue\u001b[38;5;241m.\u001b[39mempty():\n\u001b[0;32m    124\u001b[0m     val \u001b[38;5;241m=\u001b[39m \u001b[38;5;28mself\u001b[39m\u001b[38;5;241m.\u001b[39mdata_queue\u001b[38;5;241m.\u001b[39mget()\n\u001b[1;32m--> 127\u001b[0m \u001b[38;5;28;01mif\u001b[39;00m \u001b[43mval\u001b[49m \u001b[38;5;241m==\u001b[39m \u001b[38;5;124m'\u001b[39m\u001b[38;5;124m<\u001b[39m\u001b[38;5;124m'\u001b[39m:\n\u001b[0;32m    128\u001b[0m     \u001b[38;5;28mself\u001b[39m\u001b[38;5;241m.\u001b[39mmediaplayer\u001b[38;5;241m.\u001b[39mset_rate(\u001b[38;5;28mself\u001b[39m\u001b[38;5;241m.\u001b[39mmediaplayer\u001b[38;5;241m.\u001b[39mget_rate() \u001b[38;5;241m*\u001b[39m \u001b[38;5;241m0.5\u001b[39m)\n\u001b[0;32m    129\u001b[0m     \u001b[38;5;28;01mreturn\u001b[39;00m\n",
      "\u001b[1;31mUnboundLocalError\u001b[0m: local variable 'val' referenced before assignment"
     ]
    },
    {
     "ename": "UnboundLocalError",
     "evalue": "local variable 'val' referenced before assignment",
     "output_type": "error",
     "traceback": [
      "\u001b[1;31m---------------------------------------------------------------------------\u001b[0m",
      "\u001b[1;31mUnboundLocalError\u001b[0m                         Traceback (most recent call last)",
      "Cell \u001b[1;32mIn[1], line 127\u001b[0m, in \u001b[0;36mMiniPlayer.update_ui\u001b[1;34m(self)\u001b[0m\n\u001b[0;32m    123\u001b[0m \u001b[38;5;28;01mif\u001b[39;00m \u001b[38;5;129;01mnot\u001b[39;00m \u001b[38;5;28mself\u001b[39m\u001b[38;5;241m.\u001b[39mdata_queue\u001b[38;5;241m.\u001b[39mempty():\n\u001b[0;32m    124\u001b[0m     val \u001b[38;5;241m=\u001b[39m \u001b[38;5;28mself\u001b[39m\u001b[38;5;241m.\u001b[39mdata_queue\u001b[38;5;241m.\u001b[39mget()\n\u001b[1;32m--> 127\u001b[0m \u001b[38;5;28;01mif\u001b[39;00m \u001b[43mval\u001b[49m \u001b[38;5;241m==\u001b[39m \u001b[38;5;124m'\u001b[39m\u001b[38;5;124m<\u001b[39m\u001b[38;5;124m'\u001b[39m:\n\u001b[0;32m    128\u001b[0m     \u001b[38;5;28mself\u001b[39m\u001b[38;5;241m.\u001b[39mmediaplayer\u001b[38;5;241m.\u001b[39mset_rate(\u001b[38;5;28mself\u001b[39m\u001b[38;5;241m.\u001b[39mmediaplayer\u001b[38;5;241m.\u001b[39mget_rate() \u001b[38;5;241m*\u001b[39m \u001b[38;5;241m0.5\u001b[39m)\n\u001b[0;32m    129\u001b[0m     \u001b[38;5;28;01mreturn\u001b[39;00m\n",
      "\u001b[1;31mUnboundLocalError\u001b[0m: local variable 'val' referenced before assignment"
     ]
    },
    {
     "ename": "UnboundLocalError",
     "evalue": "local variable 'val' referenced before assignment",
     "output_type": "error",
     "traceback": [
      "\u001b[1;31m---------------------------------------------------------------------------\u001b[0m",
      "\u001b[1;31mUnboundLocalError\u001b[0m                         Traceback (most recent call last)",
      "Cell \u001b[1;32mIn[1], line 127\u001b[0m, in \u001b[0;36mMiniPlayer.update_ui\u001b[1;34m(self)\u001b[0m\n\u001b[0;32m    123\u001b[0m \u001b[38;5;28;01mif\u001b[39;00m \u001b[38;5;129;01mnot\u001b[39;00m \u001b[38;5;28mself\u001b[39m\u001b[38;5;241m.\u001b[39mdata_queue\u001b[38;5;241m.\u001b[39mempty():\n\u001b[0;32m    124\u001b[0m     val \u001b[38;5;241m=\u001b[39m \u001b[38;5;28mself\u001b[39m\u001b[38;5;241m.\u001b[39mdata_queue\u001b[38;5;241m.\u001b[39mget()\n\u001b[1;32m--> 127\u001b[0m \u001b[38;5;28;01mif\u001b[39;00m \u001b[43mval\u001b[49m \u001b[38;5;241m==\u001b[39m \u001b[38;5;124m'\u001b[39m\u001b[38;5;124m<\u001b[39m\u001b[38;5;124m'\u001b[39m:\n\u001b[0;32m    128\u001b[0m     \u001b[38;5;28mself\u001b[39m\u001b[38;5;241m.\u001b[39mmediaplayer\u001b[38;5;241m.\u001b[39mset_rate(\u001b[38;5;28mself\u001b[39m\u001b[38;5;241m.\u001b[39mmediaplayer\u001b[38;5;241m.\u001b[39mget_rate() \u001b[38;5;241m*\u001b[39m \u001b[38;5;241m0.5\u001b[39m)\n\u001b[0;32m    129\u001b[0m     \u001b[38;5;28;01mreturn\u001b[39;00m\n",
      "\u001b[1;31mUnboundLocalError\u001b[0m: local variable 'val' referenced before assignment"
     ]
    },
    {
     "ename": "UnboundLocalError",
     "evalue": "local variable 'val' referenced before assignment",
     "output_type": "error",
     "traceback": [
      "\u001b[1;31m---------------------------------------------------------------------------\u001b[0m",
      "\u001b[1;31mUnboundLocalError\u001b[0m                         Traceback (most recent call last)",
      "Cell \u001b[1;32mIn[1], line 127\u001b[0m, in \u001b[0;36mMiniPlayer.update_ui\u001b[1;34m(self)\u001b[0m\n\u001b[0;32m    123\u001b[0m \u001b[38;5;28;01mif\u001b[39;00m \u001b[38;5;129;01mnot\u001b[39;00m \u001b[38;5;28mself\u001b[39m\u001b[38;5;241m.\u001b[39mdata_queue\u001b[38;5;241m.\u001b[39mempty():\n\u001b[0;32m    124\u001b[0m     val \u001b[38;5;241m=\u001b[39m \u001b[38;5;28mself\u001b[39m\u001b[38;5;241m.\u001b[39mdata_queue\u001b[38;5;241m.\u001b[39mget()\n\u001b[1;32m--> 127\u001b[0m \u001b[38;5;28;01mif\u001b[39;00m \u001b[43mval\u001b[49m \u001b[38;5;241m==\u001b[39m \u001b[38;5;124m'\u001b[39m\u001b[38;5;124m<\u001b[39m\u001b[38;5;124m'\u001b[39m:\n\u001b[0;32m    128\u001b[0m     \u001b[38;5;28mself\u001b[39m\u001b[38;5;241m.\u001b[39mmediaplayer\u001b[38;5;241m.\u001b[39mset_rate(\u001b[38;5;28mself\u001b[39m\u001b[38;5;241m.\u001b[39mmediaplayer\u001b[38;5;241m.\u001b[39mget_rate() \u001b[38;5;241m*\u001b[39m \u001b[38;5;241m0.5\u001b[39m)\n\u001b[0;32m    129\u001b[0m     \u001b[38;5;28;01mreturn\u001b[39;00m\n",
      "\u001b[1;31mUnboundLocalError\u001b[0m: local variable 'val' referenced before assignment"
     ]
    },
    {
     "ename": "UnboundLocalError",
     "evalue": "local variable 'val' referenced before assignment",
     "output_type": "error",
     "traceback": [
      "\u001b[1;31m---------------------------------------------------------------------------\u001b[0m",
      "\u001b[1;31mUnboundLocalError\u001b[0m                         Traceback (most recent call last)",
      "Cell \u001b[1;32mIn[1], line 127\u001b[0m, in \u001b[0;36mMiniPlayer.update_ui\u001b[1;34m(self)\u001b[0m\n\u001b[0;32m    123\u001b[0m \u001b[38;5;28;01mif\u001b[39;00m \u001b[38;5;129;01mnot\u001b[39;00m \u001b[38;5;28mself\u001b[39m\u001b[38;5;241m.\u001b[39mdata_queue\u001b[38;5;241m.\u001b[39mempty():\n\u001b[0;32m    124\u001b[0m     val \u001b[38;5;241m=\u001b[39m \u001b[38;5;28mself\u001b[39m\u001b[38;5;241m.\u001b[39mdata_queue\u001b[38;5;241m.\u001b[39mget()\n\u001b[1;32m--> 127\u001b[0m \u001b[38;5;28;01mif\u001b[39;00m \u001b[43mval\u001b[49m \u001b[38;5;241m==\u001b[39m \u001b[38;5;124m'\u001b[39m\u001b[38;5;124m<\u001b[39m\u001b[38;5;124m'\u001b[39m:\n\u001b[0;32m    128\u001b[0m     \u001b[38;5;28mself\u001b[39m\u001b[38;5;241m.\u001b[39mmediaplayer\u001b[38;5;241m.\u001b[39mset_rate(\u001b[38;5;28mself\u001b[39m\u001b[38;5;241m.\u001b[39mmediaplayer\u001b[38;5;241m.\u001b[39mget_rate() \u001b[38;5;241m*\u001b[39m \u001b[38;5;241m0.5\u001b[39m)\n\u001b[0;32m    129\u001b[0m     \u001b[38;5;28;01mreturn\u001b[39;00m\n",
      "\u001b[1;31mUnboundLocalError\u001b[0m: local variable 'val' referenced before assignment"
     ]
    },
    {
     "ename": "UnboundLocalError",
     "evalue": "local variable 'val' referenced before assignment",
     "output_type": "error",
     "traceback": [
      "\u001b[1;31m---------------------------------------------------------------------------\u001b[0m",
      "\u001b[1;31mUnboundLocalError\u001b[0m                         Traceback (most recent call last)",
      "Cell \u001b[1;32mIn[1], line 127\u001b[0m, in \u001b[0;36mMiniPlayer.update_ui\u001b[1;34m(self)\u001b[0m\n\u001b[0;32m    123\u001b[0m \u001b[38;5;28;01mif\u001b[39;00m \u001b[38;5;129;01mnot\u001b[39;00m \u001b[38;5;28mself\u001b[39m\u001b[38;5;241m.\u001b[39mdata_queue\u001b[38;5;241m.\u001b[39mempty():\n\u001b[0;32m    124\u001b[0m     val \u001b[38;5;241m=\u001b[39m \u001b[38;5;28mself\u001b[39m\u001b[38;5;241m.\u001b[39mdata_queue\u001b[38;5;241m.\u001b[39mget()\n\u001b[1;32m--> 127\u001b[0m \u001b[38;5;28;01mif\u001b[39;00m \u001b[43mval\u001b[49m \u001b[38;5;241m==\u001b[39m \u001b[38;5;124m'\u001b[39m\u001b[38;5;124m<\u001b[39m\u001b[38;5;124m'\u001b[39m:\n\u001b[0;32m    128\u001b[0m     \u001b[38;5;28mself\u001b[39m\u001b[38;5;241m.\u001b[39mmediaplayer\u001b[38;5;241m.\u001b[39mset_rate(\u001b[38;5;28mself\u001b[39m\u001b[38;5;241m.\u001b[39mmediaplayer\u001b[38;5;241m.\u001b[39mget_rate() \u001b[38;5;241m*\u001b[39m \u001b[38;5;241m0.5\u001b[39m)\n\u001b[0;32m    129\u001b[0m     \u001b[38;5;28;01mreturn\u001b[39;00m\n",
      "\u001b[1;31mUnboundLocalError\u001b[0m: local variable 'val' referenced before assignment"
     ]
    },
    {
     "ename": "UnboundLocalError",
     "evalue": "local variable 'val' referenced before assignment",
     "output_type": "error",
     "traceback": [
      "\u001b[1;31m---------------------------------------------------------------------------\u001b[0m",
      "\u001b[1;31mUnboundLocalError\u001b[0m                         Traceback (most recent call last)",
      "Cell \u001b[1;32mIn[1], line 127\u001b[0m, in \u001b[0;36mMiniPlayer.update_ui\u001b[1;34m(self)\u001b[0m\n\u001b[0;32m    123\u001b[0m \u001b[38;5;28;01mif\u001b[39;00m \u001b[38;5;129;01mnot\u001b[39;00m \u001b[38;5;28mself\u001b[39m\u001b[38;5;241m.\u001b[39mdata_queue\u001b[38;5;241m.\u001b[39mempty():\n\u001b[0;32m    124\u001b[0m     val \u001b[38;5;241m=\u001b[39m \u001b[38;5;28mself\u001b[39m\u001b[38;5;241m.\u001b[39mdata_queue\u001b[38;5;241m.\u001b[39mget()\n\u001b[1;32m--> 127\u001b[0m \u001b[38;5;28;01mif\u001b[39;00m \u001b[43mval\u001b[49m \u001b[38;5;241m==\u001b[39m \u001b[38;5;124m'\u001b[39m\u001b[38;5;124m<\u001b[39m\u001b[38;5;124m'\u001b[39m:\n\u001b[0;32m    128\u001b[0m     \u001b[38;5;28mself\u001b[39m\u001b[38;5;241m.\u001b[39mmediaplayer\u001b[38;5;241m.\u001b[39mset_rate(\u001b[38;5;28mself\u001b[39m\u001b[38;5;241m.\u001b[39mmediaplayer\u001b[38;5;241m.\u001b[39mget_rate() \u001b[38;5;241m*\u001b[39m \u001b[38;5;241m0.5\u001b[39m)\n\u001b[0;32m    129\u001b[0m     \u001b[38;5;28;01mreturn\u001b[39;00m\n",
      "\u001b[1;31mUnboundLocalError\u001b[0m: local variable 'val' referenced before assignment"
     ]
    },
    {
     "ename": "UnboundLocalError",
     "evalue": "local variable 'val' referenced before assignment",
     "output_type": "error",
     "traceback": [
      "\u001b[1;31m---------------------------------------------------------------------------\u001b[0m",
      "\u001b[1;31mUnboundLocalError\u001b[0m                         Traceback (most recent call last)",
      "Cell \u001b[1;32mIn[1], line 127\u001b[0m, in \u001b[0;36mMiniPlayer.update_ui\u001b[1;34m(self)\u001b[0m\n\u001b[0;32m    123\u001b[0m \u001b[38;5;28;01mif\u001b[39;00m \u001b[38;5;129;01mnot\u001b[39;00m \u001b[38;5;28mself\u001b[39m\u001b[38;5;241m.\u001b[39mdata_queue\u001b[38;5;241m.\u001b[39mempty():\n\u001b[0;32m    124\u001b[0m     val \u001b[38;5;241m=\u001b[39m \u001b[38;5;28mself\u001b[39m\u001b[38;5;241m.\u001b[39mdata_queue\u001b[38;5;241m.\u001b[39mget()\n\u001b[1;32m--> 127\u001b[0m \u001b[38;5;28;01mif\u001b[39;00m \u001b[43mval\u001b[49m \u001b[38;5;241m==\u001b[39m \u001b[38;5;124m'\u001b[39m\u001b[38;5;124m<\u001b[39m\u001b[38;5;124m'\u001b[39m:\n\u001b[0;32m    128\u001b[0m     \u001b[38;5;28mself\u001b[39m\u001b[38;5;241m.\u001b[39mmediaplayer\u001b[38;5;241m.\u001b[39mset_rate(\u001b[38;5;28mself\u001b[39m\u001b[38;5;241m.\u001b[39mmediaplayer\u001b[38;5;241m.\u001b[39mget_rate() \u001b[38;5;241m*\u001b[39m \u001b[38;5;241m0.5\u001b[39m)\n\u001b[0;32m    129\u001b[0m     \u001b[38;5;28;01mreturn\u001b[39;00m\n",
      "\u001b[1;31mUnboundLocalError\u001b[0m: local variable 'val' referenced before assignment"
     ]
    },
    {
     "ename": "UnboundLocalError",
     "evalue": "local variable 'val' referenced before assignment",
     "output_type": "error",
     "traceback": [
      "\u001b[1;31m---------------------------------------------------------------------------\u001b[0m",
      "\u001b[1;31mUnboundLocalError\u001b[0m                         Traceback (most recent call last)",
      "Cell \u001b[1;32mIn[1], line 127\u001b[0m, in \u001b[0;36mMiniPlayer.update_ui\u001b[1;34m(self)\u001b[0m\n\u001b[0;32m    123\u001b[0m \u001b[38;5;28;01mif\u001b[39;00m \u001b[38;5;129;01mnot\u001b[39;00m \u001b[38;5;28mself\u001b[39m\u001b[38;5;241m.\u001b[39mdata_queue\u001b[38;5;241m.\u001b[39mempty():\n\u001b[0;32m    124\u001b[0m     val \u001b[38;5;241m=\u001b[39m \u001b[38;5;28mself\u001b[39m\u001b[38;5;241m.\u001b[39mdata_queue\u001b[38;5;241m.\u001b[39mget()\n\u001b[1;32m--> 127\u001b[0m \u001b[38;5;28;01mif\u001b[39;00m \u001b[43mval\u001b[49m \u001b[38;5;241m==\u001b[39m \u001b[38;5;124m'\u001b[39m\u001b[38;5;124m<\u001b[39m\u001b[38;5;124m'\u001b[39m:\n\u001b[0;32m    128\u001b[0m     \u001b[38;5;28mself\u001b[39m\u001b[38;5;241m.\u001b[39mmediaplayer\u001b[38;5;241m.\u001b[39mset_rate(\u001b[38;5;28mself\u001b[39m\u001b[38;5;241m.\u001b[39mmediaplayer\u001b[38;5;241m.\u001b[39mget_rate() \u001b[38;5;241m*\u001b[39m \u001b[38;5;241m0.5\u001b[39m)\n\u001b[0;32m    129\u001b[0m     \u001b[38;5;28;01mreturn\u001b[39;00m\n",
      "\u001b[1;31mUnboundLocalError\u001b[0m: local variable 'val' referenced before assignment"
     ]
    },
    {
     "ename": "UnboundLocalError",
     "evalue": "local variable 'val' referenced before assignment",
     "output_type": "error",
     "traceback": [
      "\u001b[1;31m---------------------------------------------------------------------------\u001b[0m",
      "\u001b[1;31mUnboundLocalError\u001b[0m                         Traceback (most recent call last)",
      "Cell \u001b[1;32mIn[1], line 127\u001b[0m, in \u001b[0;36mMiniPlayer.update_ui\u001b[1;34m(self)\u001b[0m\n\u001b[0;32m    123\u001b[0m \u001b[38;5;28;01mif\u001b[39;00m \u001b[38;5;129;01mnot\u001b[39;00m \u001b[38;5;28mself\u001b[39m\u001b[38;5;241m.\u001b[39mdata_queue\u001b[38;5;241m.\u001b[39mempty():\n\u001b[0;32m    124\u001b[0m     val \u001b[38;5;241m=\u001b[39m \u001b[38;5;28mself\u001b[39m\u001b[38;5;241m.\u001b[39mdata_queue\u001b[38;5;241m.\u001b[39mget()\n\u001b[1;32m--> 127\u001b[0m \u001b[38;5;28;01mif\u001b[39;00m \u001b[43mval\u001b[49m \u001b[38;5;241m==\u001b[39m \u001b[38;5;124m'\u001b[39m\u001b[38;5;124m<\u001b[39m\u001b[38;5;124m'\u001b[39m:\n\u001b[0;32m    128\u001b[0m     \u001b[38;5;28mself\u001b[39m\u001b[38;5;241m.\u001b[39mmediaplayer\u001b[38;5;241m.\u001b[39mset_rate(\u001b[38;5;28mself\u001b[39m\u001b[38;5;241m.\u001b[39mmediaplayer\u001b[38;5;241m.\u001b[39mget_rate() \u001b[38;5;241m*\u001b[39m \u001b[38;5;241m0.5\u001b[39m)\n\u001b[0;32m    129\u001b[0m     \u001b[38;5;28;01mreturn\u001b[39;00m\n",
      "\u001b[1;31mUnboundLocalError\u001b[0m: local variable 'val' referenced before assignment"
     ]
    },
    {
     "ename": "UnboundLocalError",
     "evalue": "local variable 'val' referenced before assignment",
     "output_type": "error",
     "traceback": [
      "\u001b[1;31m---------------------------------------------------------------------------\u001b[0m",
      "\u001b[1;31mUnboundLocalError\u001b[0m                         Traceback (most recent call last)",
      "Cell \u001b[1;32mIn[1], line 127\u001b[0m, in \u001b[0;36mMiniPlayer.update_ui\u001b[1;34m(self)\u001b[0m\n\u001b[0;32m    123\u001b[0m \u001b[38;5;28;01mif\u001b[39;00m \u001b[38;5;129;01mnot\u001b[39;00m \u001b[38;5;28mself\u001b[39m\u001b[38;5;241m.\u001b[39mdata_queue\u001b[38;5;241m.\u001b[39mempty():\n\u001b[0;32m    124\u001b[0m     val \u001b[38;5;241m=\u001b[39m \u001b[38;5;28mself\u001b[39m\u001b[38;5;241m.\u001b[39mdata_queue\u001b[38;5;241m.\u001b[39mget()\n\u001b[1;32m--> 127\u001b[0m \u001b[38;5;28;01mif\u001b[39;00m \u001b[43mval\u001b[49m \u001b[38;5;241m==\u001b[39m \u001b[38;5;124m'\u001b[39m\u001b[38;5;124m<\u001b[39m\u001b[38;5;124m'\u001b[39m:\n\u001b[0;32m    128\u001b[0m     \u001b[38;5;28mself\u001b[39m\u001b[38;5;241m.\u001b[39mmediaplayer\u001b[38;5;241m.\u001b[39mset_rate(\u001b[38;5;28mself\u001b[39m\u001b[38;5;241m.\u001b[39mmediaplayer\u001b[38;5;241m.\u001b[39mget_rate() \u001b[38;5;241m*\u001b[39m \u001b[38;5;241m0.5\u001b[39m)\n\u001b[0;32m    129\u001b[0m     \u001b[38;5;28;01mreturn\u001b[39;00m\n",
      "\u001b[1;31mUnboundLocalError\u001b[0m: local variable 'val' referenced before assignment"
     ]
    },
    {
     "ename": "UnboundLocalError",
     "evalue": "local variable 'val' referenced before assignment",
     "output_type": "error",
     "traceback": [
      "\u001b[1;31m---------------------------------------------------------------------------\u001b[0m",
      "\u001b[1;31mUnboundLocalError\u001b[0m                         Traceback (most recent call last)",
      "Cell \u001b[1;32mIn[1], line 127\u001b[0m, in \u001b[0;36mMiniPlayer.update_ui\u001b[1;34m(self)\u001b[0m\n\u001b[0;32m    123\u001b[0m \u001b[38;5;28;01mif\u001b[39;00m \u001b[38;5;129;01mnot\u001b[39;00m \u001b[38;5;28mself\u001b[39m\u001b[38;5;241m.\u001b[39mdata_queue\u001b[38;5;241m.\u001b[39mempty():\n\u001b[0;32m    124\u001b[0m     val \u001b[38;5;241m=\u001b[39m \u001b[38;5;28mself\u001b[39m\u001b[38;5;241m.\u001b[39mdata_queue\u001b[38;5;241m.\u001b[39mget()\n\u001b[1;32m--> 127\u001b[0m \u001b[38;5;28;01mif\u001b[39;00m \u001b[43mval\u001b[49m \u001b[38;5;241m==\u001b[39m \u001b[38;5;124m'\u001b[39m\u001b[38;5;124m<\u001b[39m\u001b[38;5;124m'\u001b[39m:\n\u001b[0;32m    128\u001b[0m     \u001b[38;5;28mself\u001b[39m\u001b[38;5;241m.\u001b[39mmediaplayer\u001b[38;5;241m.\u001b[39mset_rate(\u001b[38;5;28mself\u001b[39m\u001b[38;5;241m.\u001b[39mmediaplayer\u001b[38;5;241m.\u001b[39mget_rate() \u001b[38;5;241m*\u001b[39m \u001b[38;5;241m0.5\u001b[39m)\n\u001b[0;32m    129\u001b[0m     \u001b[38;5;28;01mreturn\u001b[39;00m\n",
      "\u001b[1;31mUnboundLocalError\u001b[0m: local variable 'val' referenced before assignment"
     ]
    },
    {
     "ename": "UnboundLocalError",
     "evalue": "local variable 'val' referenced before assignment",
     "output_type": "error",
     "traceback": [
      "\u001b[1;31m---------------------------------------------------------------------------\u001b[0m",
      "\u001b[1;31mUnboundLocalError\u001b[0m                         Traceback (most recent call last)",
      "Cell \u001b[1;32mIn[1], line 127\u001b[0m, in \u001b[0;36mMiniPlayer.update_ui\u001b[1;34m(self)\u001b[0m\n\u001b[0;32m    123\u001b[0m \u001b[38;5;28;01mif\u001b[39;00m \u001b[38;5;129;01mnot\u001b[39;00m \u001b[38;5;28mself\u001b[39m\u001b[38;5;241m.\u001b[39mdata_queue\u001b[38;5;241m.\u001b[39mempty():\n\u001b[0;32m    124\u001b[0m     val \u001b[38;5;241m=\u001b[39m \u001b[38;5;28mself\u001b[39m\u001b[38;5;241m.\u001b[39mdata_queue\u001b[38;5;241m.\u001b[39mget()\n\u001b[1;32m--> 127\u001b[0m \u001b[38;5;28;01mif\u001b[39;00m \u001b[43mval\u001b[49m \u001b[38;5;241m==\u001b[39m \u001b[38;5;124m'\u001b[39m\u001b[38;5;124m<\u001b[39m\u001b[38;5;124m'\u001b[39m:\n\u001b[0;32m    128\u001b[0m     \u001b[38;5;28mself\u001b[39m\u001b[38;5;241m.\u001b[39mmediaplayer\u001b[38;5;241m.\u001b[39mset_rate(\u001b[38;5;28mself\u001b[39m\u001b[38;5;241m.\u001b[39mmediaplayer\u001b[38;5;241m.\u001b[39mget_rate() \u001b[38;5;241m*\u001b[39m \u001b[38;5;241m0.5\u001b[39m)\n\u001b[0;32m    129\u001b[0m     \u001b[38;5;28;01mreturn\u001b[39;00m\n",
      "\u001b[1;31mUnboundLocalError\u001b[0m: local variable 'val' referenced before assignment"
     ]
    },
    {
     "ename": "UnboundLocalError",
     "evalue": "local variable 'val' referenced before assignment",
     "output_type": "error",
     "traceback": [
      "\u001b[1;31m---------------------------------------------------------------------------\u001b[0m",
      "\u001b[1;31mUnboundLocalError\u001b[0m                         Traceback (most recent call last)",
      "Cell \u001b[1;32mIn[1], line 127\u001b[0m, in \u001b[0;36mMiniPlayer.update_ui\u001b[1;34m(self)\u001b[0m\n\u001b[0;32m    123\u001b[0m \u001b[38;5;28;01mif\u001b[39;00m \u001b[38;5;129;01mnot\u001b[39;00m \u001b[38;5;28mself\u001b[39m\u001b[38;5;241m.\u001b[39mdata_queue\u001b[38;5;241m.\u001b[39mempty():\n\u001b[0;32m    124\u001b[0m     val \u001b[38;5;241m=\u001b[39m \u001b[38;5;28mself\u001b[39m\u001b[38;5;241m.\u001b[39mdata_queue\u001b[38;5;241m.\u001b[39mget()\n\u001b[1;32m--> 127\u001b[0m \u001b[38;5;28;01mif\u001b[39;00m \u001b[43mval\u001b[49m \u001b[38;5;241m==\u001b[39m \u001b[38;5;124m'\u001b[39m\u001b[38;5;124m<\u001b[39m\u001b[38;5;124m'\u001b[39m:\n\u001b[0;32m    128\u001b[0m     \u001b[38;5;28mself\u001b[39m\u001b[38;5;241m.\u001b[39mmediaplayer\u001b[38;5;241m.\u001b[39mset_rate(\u001b[38;5;28mself\u001b[39m\u001b[38;5;241m.\u001b[39mmediaplayer\u001b[38;5;241m.\u001b[39mget_rate() \u001b[38;5;241m*\u001b[39m \u001b[38;5;241m0.5\u001b[39m)\n\u001b[0;32m    129\u001b[0m     \u001b[38;5;28;01mreturn\u001b[39;00m\n",
      "\u001b[1;31mUnboundLocalError\u001b[0m: local variable 'val' referenced before assignment"
     ]
    },
    {
     "ename": "UnboundLocalError",
     "evalue": "local variable 'val' referenced before assignment",
     "output_type": "error",
     "traceback": [
      "\u001b[1;31m---------------------------------------------------------------------------\u001b[0m",
      "\u001b[1;31mUnboundLocalError\u001b[0m                         Traceback (most recent call last)",
      "Cell \u001b[1;32mIn[1], line 127\u001b[0m, in \u001b[0;36mMiniPlayer.update_ui\u001b[1;34m(self)\u001b[0m\n\u001b[0;32m    123\u001b[0m \u001b[38;5;28;01mif\u001b[39;00m \u001b[38;5;129;01mnot\u001b[39;00m \u001b[38;5;28mself\u001b[39m\u001b[38;5;241m.\u001b[39mdata_queue\u001b[38;5;241m.\u001b[39mempty():\n\u001b[0;32m    124\u001b[0m     val \u001b[38;5;241m=\u001b[39m \u001b[38;5;28mself\u001b[39m\u001b[38;5;241m.\u001b[39mdata_queue\u001b[38;5;241m.\u001b[39mget()\n\u001b[1;32m--> 127\u001b[0m \u001b[38;5;28;01mif\u001b[39;00m \u001b[43mval\u001b[49m \u001b[38;5;241m==\u001b[39m \u001b[38;5;124m'\u001b[39m\u001b[38;5;124m<\u001b[39m\u001b[38;5;124m'\u001b[39m:\n\u001b[0;32m    128\u001b[0m     \u001b[38;5;28mself\u001b[39m\u001b[38;5;241m.\u001b[39mmediaplayer\u001b[38;5;241m.\u001b[39mset_rate(\u001b[38;5;28mself\u001b[39m\u001b[38;5;241m.\u001b[39mmediaplayer\u001b[38;5;241m.\u001b[39mget_rate() \u001b[38;5;241m*\u001b[39m \u001b[38;5;241m0.5\u001b[39m)\n\u001b[0;32m    129\u001b[0m     \u001b[38;5;28;01mreturn\u001b[39;00m\n",
      "\u001b[1;31mUnboundLocalError\u001b[0m: local variable 'val' referenced before assignment"
     ]
    },
    {
     "ename": "UnboundLocalError",
     "evalue": "local variable 'val' referenced before assignment",
     "output_type": "error",
     "traceback": [
      "\u001b[1;31m---------------------------------------------------------------------------\u001b[0m",
      "\u001b[1;31mUnboundLocalError\u001b[0m                         Traceback (most recent call last)",
      "Cell \u001b[1;32mIn[1], line 127\u001b[0m, in \u001b[0;36mMiniPlayer.update_ui\u001b[1;34m(self)\u001b[0m\n\u001b[0;32m    123\u001b[0m \u001b[38;5;28;01mif\u001b[39;00m \u001b[38;5;129;01mnot\u001b[39;00m \u001b[38;5;28mself\u001b[39m\u001b[38;5;241m.\u001b[39mdata_queue\u001b[38;5;241m.\u001b[39mempty():\n\u001b[0;32m    124\u001b[0m     val \u001b[38;5;241m=\u001b[39m \u001b[38;5;28mself\u001b[39m\u001b[38;5;241m.\u001b[39mdata_queue\u001b[38;5;241m.\u001b[39mget()\n\u001b[1;32m--> 127\u001b[0m \u001b[38;5;28;01mif\u001b[39;00m \u001b[43mval\u001b[49m \u001b[38;5;241m==\u001b[39m \u001b[38;5;124m'\u001b[39m\u001b[38;5;124m<\u001b[39m\u001b[38;5;124m'\u001b[39m:\n\u001b[0;32m    128\u001b[0m     \u001b[38;5;28mself\u001b[39m\u001b[38;5;241m.\u001b[39mmediaplayer\u001b[38;5;241m.\u001b[39mset_rate(\u001b[38;5;28mself\u001b[39m\u001b[38;5;241m.\u001b[39mmediaplayer\u001b[38;5;241m.\u001b[39mget_rate() \u001b[38;5;241m*\u001b[39m \u001b[38;5;241m0.5\u001b[39m)\n\u001b[0;32m    129\u001b[0m     \u001b[38;5;28;01mreturn\u001b[39;00m\n",
      "\u001b[1;31mUnboundLocalError\u001b[0m: local variable 'val' referenced before assignment"
     ]
    },
    {
     "ename": "UnboundLocalError",
     "evalue": "local variable 'val' referenced before assignment",
     "output_type": "error",
     "traceback": [
      "\u001b[1;31m---------------------------------------------------------------------------\u001b[0m",
      "\u001b[1;31mUnboundLocalError\u001b[0m                         Traceback (most recent call last)",
      "Cell \u001b[1;32mIn[1], line 127\u001b[0m, in \u001b[0;36mMiniPlayer.update_ui\u001b[1;34m(self)\u001b[0m\n\u001b[0;32m    123\u001b[0m \u001b[38;5;28;01mif\u001b[39;00m \u001b[38;5;129;01mnot\u001b[39;00m \u001b[38;5;28mself\u001b[39m\u001b[38;5;241m.\u001b[39mdata_queue\u001b[38;5;241m.\u001b[39mempty():\n\u001b[0;32m    124\u001b[0m     val \u001b[38;5;241m=\u001b[39m \u001b[38;5;28mself\u001b[39m\u001b[38;5;241m.\u001b[39mdata_queue\u001b[38;5;241m.\u001b[39mget()\n\u001b[1;32m--> 127\u001b[0m \u001b[38;5;28;01mif\u001b[39;00m \u001b[43mval\u001b[49m \u001b[38;5;241m==\u001b[39m \u001b[38;5;124m'\u001b[39m\u001b[38;5;124m<\u001b[39m\u001b[38;5;124m'\u001b[39m:\n\u001b[0;32m    128\u001b[0m     \u001b[38;5;28mself\u001b[39m\u001b[38;5;241m.\u001b[39mmediaplayer\u001b[38;5;241m.\u001b[39mset_rate(\u001b[38;5;28mself\u001b[39m\u001b[38;5;241m.\u001b[39mmediaplayer\u001b[38;5;241m.\u001b[39mget_rate() \u001b[38;5;241m*\u001b[39m \u001b[38;5;241m0.5\u001b[39m)\n\u001b[0;32m    129\u001b[0m     \u001b[38;5;28;01mreturn\u001b[39;00m\n",
      "\u001b[1;31mUnboundLocalError\u001b[0m: local variable 'val' referenced before assignment"
     ]
    },
    {
     "ename": "UnboundLocalError",
     "evalue": "local variable 'val' referenced before assignment",
     "output_type": "error",
     "traceback": [
      "\u001b[1;31m---------------------------------------------------------------------------\u001b[0m",
      "\u001b[1;31mUnboundLocalError\u001b[0m                         Traceback (most recent call last)",
      "Cell \u001b[1;32mIn[1], line 127\u001b[0m, in \u001b[0;36mMiniPlayer.update_ui\u001b[1;34m(self)\u001b[0m\n\u001b[0;32m    123\u001b[0m \u001b[38;5;28;01mif\u001b[39;00m \u001b[38;5;129;01mnot\u001b[39;00m \u001b[38;5;28mself\u001b[39m\u001b[38;5;241m.\u001b[39mdata_queue\u001b[38;5;241m.\u001b[39mempty():\n\u001b[0;32m    124\u001b[0m     val \u001b[38;5;241m=\u001b[39m \u001b[38;5;28mself\u001b[39m\u001b[38;5;241m.\u001b[39mdata_queue\u001b[38;5;241m.\u001b[39mget()\n\u001b[1;32m--> 127\u001b[0m \u001b[38;5;28;01mif\u001b[39;00m \u001b[43mval\u001b[49m \u001b[38;5;241m==\u001b[39m \u001b[38;5;124m'\u001b[39m\u001b[38;5;124m<\u001b[39m\u001b[38;5;124m'\u001b[39m:\n\u001b[0;32m    128\u001b[0m     \u001b[38;5;28mself\u001b[39m\u001b[38;5;241m.\u001b[39mmediaplayer\u001b[38;5;241m.\u001b[39mset_rate(\u001b[38;5;28mself\u001b[39m\u001b[38;5;241m.\u001b[39mmediaplayer\u001b[38;5;241m.\u001b[39mget_rate() \u001b[38;5;241m*\u001b[39m \u001b[38;5;241m0.5\u001b[39m)\n\u001b[0;32m    129\u001b[0m     \u001b[38;5;28;01mreturn\u001b[39;00m\n",
      "\u001b[1;31mUnboundLocalError\u001b[0m: local variable 'val' referenced before assignment"
     ]
    },
    {
     "ename": "UnboundLocalError",
     "evalue": "local variable 'val' referenced before assignment",
     "output_type": "error",
     "traceback": [
      "\u001b[1;31m---------------------------------------------------------------------------\u001b[0m",
      "\u001b[1;31mUnboundLocalError\u001b[0m                         Traceback (most recent call last)",
      "Cell \u001b[1;32mIn[1], line 127\u001b[0m, in \u001b[0;36mMiniPlayer.update_ui\u001b[1;34m(self)\u001b[0m\n\u001b[0;32m    123\u001b[0m \u001b[38;5;28;01mif\u001b[39;00m \u001b[38;5;129;01mnot\u001b[39;00m \u001b[38;5;28mself\u001b[39m\u001b[38;5;241m.\u001b[39mdata_queue\u001b[38;5;241m.\u001b[39mempty():\n\u001b[0;32m    124\u001b[0m     val \u001b[38;5;241m=\u001b[39m \u001b[38;5;28mself\u001b[39m\u001b[38;5;241m.\u001b[39mdata_queue\u001b[38;5;241m.\u001b[39mget()\n\u001b[1;32m--> 127\u001b[0m \u001b[38;5;28;01mif\u001b[39;00m \u001b[43mval\u001b[49m \u001b[38;5;241m==\u001b[39m \u001b[38;5;124m'\u001b[39m\u001b[38;5;124m<\u001b[39m\u001b[38;5;124m'\u001b[39m:\n\u001b[0;32m    128\u001b[0m     \u001b[38;5;28mself\u001b[39m\u001b[38;5;241m.\u001b[39mmediaplayer\u001b[38;5;241m.\u001b[39mset_rate(\u001b[38;5;28mself\u001b[39m\u001b[38;5;241m.\u001b[39mmediaplayer\u001b[38;5;241m.\u001b[39mget_rate() \u001b[38;5;241m*\u001b[39m \u001b[38;5;241m0.5\u001b[39m)\n\u001b[0;32m    129\u001b[0m     \u001b[38;5;28;01mreturn\u001b[39;00m\n",
      "\u001b[1;31mUnboundLocalError\u001b[0m: local variable 'val' referenced before assignment"
     ]
    },
    {
     "ename": "UnboundLocalError",
     "evalue": "local variable 'val' referenced before assignment",
     "output_type": "error",
     "traceback": [
      "\u001b[1;31m---------------------------------------------------------------------------\u001b[0m",
      "\u001b[1;31mUnboundLocalError\u001b[0m                         Traceback (most recent call last)",
      "Cell \u001b[1;32mIn[1], line 127\u001b[0m, in \u001b[0;36mMiniPlayer.update_ui\u001b[1;34m(self)\u001b[0m\n\u001b[0;32m    123\u001b[0m \u001b[38;5;28;01mif\u001b[39;00m \u001b[38;5;129;01mnot\u001b[39;00m \u001b[38;5;28mself\u001b[39m\u001b[38;5;241m.\u001b[39mdata_queue\u001b[38;5;241m.\u001b[39mempty():\n\u001b[0;32m    124\u001b[0m     val \u001b[38;5;241m=\u001b[39m \u001b[38;5;28mself\u001b[39m\u001b[38;5;241m.\u001b[39mdata_queue\u001b[38;5;241m.\u001b[39mget()\n\u001b[1;32m--> 127\u001b[0m \u001b[38;5;28;01mif\u001b[39;00m \u001b[43mval\u001b[49m \u001b[38;5;241m==\u001b[39m \u001b[38;5;124m'\u001b[39m\u001b[38;5;124m<\u001b[39m\u001b[38;5;124m'\u001b[39m:\n\u001b[0;32m    128\u001b[0m     \u001b[38;5;28mself\u001b[39m\u001b[38;5;241m.\u001b[39mmediaplayer\u001b[38;5;241m.\u001b[39mset_rate(\u001b[38;5;28mself\u001b[39m\u001b[38;5;241m.\u001b[39mmediaplayer\u001b[38;5;241m.\u001b[39mget_rate() \u001b[38;5;241m*\u001b[39m \u001b[38;5;241m0.5\u001b[39m)\n\u001b[0;32m    129\u001b[0m     \u001b[38;5;28;01mreturn\u001b[39;00m\n",
      "\u001b[1;31mUnboundLocalError\u001b[0m: local variable 'val' referenced before assignment"
     ]
    },
    {
     "ename": "UnboundLocalError",
     "evalue": "local variable 'val' referenced before assignment",
     "output_type": "error",
     "traceback": [
      "\u001b[1;31m---------------------------------------------------------------------------\u001b[0m",
      "\u001b[1;31mUnboundLocalError\u001b[0m                         Traceback (most recent call last)",
      "Cell \u001b[1;32mIn[1], line 127\u001b[0m, in \u001b[0;36mMiniPlayer.update_ui\u001b[1;34m(self)\u001b[0m\n\u001b[0;32m    123\u001b[0m \u001b[38;5;28;01mif\u001b[39;00m \u001b[38;5;129;01mnot\u001b[39;00m \u001b[38;5;28mself\u001b[39m\u001b[38;5;241m.\u001b[39mdata_queue\u001b[38;5;241m.\u001b[39mempty():\n\u001b[0;32m    124\u001b[0m     val \u001b[38;5;241m=\u001b[39m \u001b[38;5;28mself\u001b[39m\u001b[38;5;241m.\u001b[39mdata_queue\u001b[38;5;241m.\u001b[39mget()\n\u001b[1;32m--> 127\u001b[0m \u001b[38;5;28;01mif\u001b[39;00m \u001b[43mval\u001b[49m \u001b[38;5;241m==\u001b[39m \u001b[38;5;124m'\u001b[39m\u001b[38;5;124m<\u001b[39m\u001b[38;5;124m'\u001b[39m:\n\u001b[0;32m    128\u001b[0m     \u001b[38;5;28mself\u001b[39m\u001b[38;5;241m.\u001b[39mmediaplayer\u001b[38;5;241m.\u001b[39mset_rate(\u001b[38;5;28mself\u001b[39m\u001b[38;5;241m.\u001b[39mmediaplayer\u001b[38;5;241m.\u001b[39mget_rate() \u001b[38;5;241m*\u001b[39m \u001b[38;5;241m0.5\u001b[39m)\n\u001b[0;32m    129\u001b[0m     \u001b[38;5;28;01mreturn\u001b[39;00m\n",
      "\u001b[1;31mUnboundLocalError\u001b[0m: local variable 'val' referenced before assignment"
     ]
    },
    {
     "ename": "UnboundLocalError",
     "evalue": "local variable 'val' referenced before assignment",
     "output_type": "error",
     "traceback": [
      "\u001b[1;31m---------------------------------------------------------------------------\u001b[0m",
      "\u001b[1;31mUnboundLocalError\u001b[0m                         Traceback (most recent call last)",
      "Cell \u001b[1;32mIn[1], line 127\u001b[0m, in \u001b[0;36mMiniPlayer.update_ui\u001b[1;34m(self)\u001b[0m\n\u001b[0;32m    123\u001b[0m \u001b[38;5;28;01mif\u001b[39;00m \u001b[38;5;129;01mnot\u001b[39;00m \u001b[38;5;28mself\u001b[39m\u001b[38;5;241m.\u001b[39mdata_queue\u001b[38;5;241m.\u001b[39mempty():\n\u001b[0;32m    124\u001b[0m     val \u001b[38;5;241m=\u001b[39m \u001b[38;5;28mself\u001b[39m\u001b[38;5;241m.\u001b[39mdata_queue\u001b[38;5;241m.\u001b[39mget()\n\u001b[1;32m--> 127\u001b[0m \u001b[38;5;28;01mif\u001b[39;00m \u001b[43mval\u001b[49m \u001b[38;5;241m==\u001b[39m \u001b[38;5;124m'\u001b[39m\u001b[38;5;124m<\u001b[39m\u001b[38;5;124m'\u001b[39m:\n\u001b[0;32m    128\u001b[0m     \u001b[38;5;28mself\u001b[39m\u001b[38;5;241m.\u001b[39mmediaplayer\u001b[38;5;241m.\u001b[39mset_rate(\u001b[38;5;28mself\u001b[39m\u001b[38;5;241m.\u001b[39mmediaplayer\u001b[38;5;241m.\u001b[39mget_rate() \u001b[38;5;241m*\u001b[39m \u001b[38;5;241m0.5\u001b[39m)\n\u001b[0;32m    129\u001b[0m     \u001b[38;5;28;01mreturn\u001b[39;00m\n",
      "\u001b[1;31mUnboundLocalError\u001b[0m: local variable 'val' referenced before assignment"
     ]
    },
    {
     "ename": "UnboundLocalError",
     "evalue": "local variable 'val' referenced before assignment",
     "output_type": "error",
     "traceback": [
      "\u001b[1;31m---------------------------------------------------------------------------\u001b[0m",
      "\u001b[1;31mUnboundLocalError\u001b[0m                         Traceback (most recent call last)",
      "Cell \u001b[1;32mIn[1], line 127\u001b[0m, in \u001b[0;36mMiniPlayer.update_ui\u001b[1;34m(self)\u001b[0m\n\u001b[0;32m    123\u001b[0m \u001b[38;5;28;01mif\u001b[39;00m \u001b[38;5;129;01mnot\u001b[39;00m \u001b[38;5;28mself\u001b[39m\u001b[38;5;241m.\u001b[39mdata_queue\u001b[38;5;241m.\u001b[39mempty():\n\u001b[0;32m    124\u001b[0m     val \u001b[38;5;241m=\u001b[39m \u001b[38;5;28mself\u001b[39m\u001b[38;5;241m.\u001b[39mdata_queue\u001b[38;5;241m.\u001b[39mget()\n\u001b[1;32m--> 127\u001b[0m \u001b[38;5;28;01mif\u001b[39;00m \u001b[43mval\u001b[49m \u001b[38;5;241m==\u001b[39m \u001b[38;5;124m'\u001b[39m\u001b[38;5;124m<\u001b[39m\u001b[38;5;124m'\u001b[39m:\n\u001b[0;32m    128\u001b[0m     \u001b[38;5;28mself\u001b[39m\u001b[38;5;241m.\u001b[39mmediaplayer\u001b[38;5;241m.\u001b[39mset_rate(\u001b[38;5;28mself\u001b[39m\u001b[38;5;241m.\u001b[39mmediaplayer\u001b[38;5;241m.\u001b[39mget_rate() \u001b[38;5;241m*\u001b[39m \u001b[38;5;241m0.5\u001b[39m)\n\u001b[0;32m    129\u001b[0m     \u001b[38;5;28;01mreturn\u001b[39;00m\n",
      "\u001b[1;31mUnboundLocalError\u001b[0m: local variable 'val' referenced before assignment"
     ]
    },
    {
     "ename": "UnboundLocalError",
     "evalue": "local variable 'val' referenced before assignment",
     "output_type": "error",
     "traceback": [
      "\u001b[1;31m---------------------------------------------------------------------------\u001b[0m",
      "\u001b[1;31mUnboundLocalError\u001b[0m                         Traceback (most recent call last)",
      "Cell \u001b[1;32mIn[1], line 127\u001b[0m, in \u001b[0;36mMiniPlayer.update_ui\u001b[1;34m(self)\u001b[0m\n\u001b[0;32m    123\u001b[0m \u001b[38;5;28;01mif\u001b[39;00m \u001b[38;5;129;01mnot\u001b[39;00m \u001b[38;5;28mself\u001b[39m\u001b[38;5;241m.\u001b[39mdata_queue\u001b[38;5;241m.\u001b[39mempty():\n\u001b[0;32m    124\u001b[0m     val \u001b[38;5;241m=\u001b[39m \u001b[38;5;28mself\u001b[39m\u001b[38;5;241m.\u001b[39mdata_queue\u001b[38;5;241m.\u001b[39mget()\n\u001b[1;32m--> 127\u001b[0m \u001b[38;5;28;01mif\u001b[39;00m \u001b[43mval\u001b[49m \u001b[38;5;241m==\u001b[39m \u001b[38;5;124m'\u001b[39m\u001b[38;5;124m<\u001b[39m\u001b[38;5;124m'\u001b[39m:\n\u001b[0;32m    128\u001b[0m     \u001b[38;5;28mself\u001b[39m\u001b[38;5;241m.\u001b[39mmediaplayer\u001b[38;5;241m.\u001b[39mset_rate(\u001b[38;5;28mself\u001b[39m\u001b[38;5;241m.\u001b[39mmediaplayer\u001b[38;5;241m.\u001b[39mget_rate() \u001b[38;5;241m*\u001b[39m \u001b[38;5;241m0.5\u001b[39m)\n\u001b[0;32m    129\u001b[0m     \u001b[38;5;28;01mreturn\u001b[39;00m\n",
      "\u001b[1;31mUnboundLocalError\u001b[0m: local variable 'val' referenced before assignment"
     ]
    },
    {
     "ename": "UnboundLocalError",
     "evalue": "local variable 'val' referenced before assignment",
     "output_type": "error",
     "traceback": [
      "\u001b[1;31m---------------------------------------------------------------------------\u001b[0m",
      "\u001b[1;31mUnboundLocalError\u001b[0m                         Traceback (most recent call last)",
      "Cell \u001b[1;32mIn[1], line 127\u001b[0m, in \u001b[0;36mMiniPlayer.update_ui\u001b[1;34m(self)\u001b[0m\n\u001b[0;32m    123\u001b[0m \u001b[38;5;28;01mif\u001b[39;00m \u001b[38;5;129;01mnot\u001b[39;00m \u001b[38;5;28mself\u001b[39m\u001b[38;5;241m.\u001b[39mdata_queue\u001b[38;5;241m.\u001b[39mempty():\n\u001b[0;32m    124\u001b[0m     val \u001b[38;5;241m=\u001b[39m \u001b[38;5;28mself\u001b[39m\u001b[38;5;241m.\u001b[39mdata_queue\u001b[38;5;241m.\u001b[39mget()\n\u001b[1;32m--> 127\u001b[0m \u001b[38;5;28;01mif\u001b[39;00m \u001b[43mval\u001b[49m \u001b[38;5;241m==\u001b[39m \u001b[38;5;124m'\u001b[39m\u001b[38;5;124m<\u001b[39m\u001b[38;5;124m'\u001b[39m:\n\u001b[0;32m    128\u001b[0m     \u001b[38;5;28mself\u001b[39m\u001b[38;5;241m.\u001b[39mmediaplayer\u001b[38;5;241m.\u001b[39mset_rate(\u001b[38;5;28mself\u001b[39m\u001b[38;5;241m.\u001b[39mmediaplayer\u001b[38;5;241m.\u001b[39mget_rate() \u001b[38;5;241m*\u001b[39m \u001b[38;5;241m0.5\u001b[39m)\n\u001b[0;32m    129\u001b[0m     \u001b[38;5;28;01mreturn\u001b[39;00m\n",
      "\u001b[1;31mUnboundLocalError\u001b[0m: local variable 'val' referenced before assignment"
     ]
    },
    {
     "ename": "UnboundLocalError",
     "evalue": "local variable 'val' referenced before assignment",
     "output_type": "error",
     "traceback": [
      "\u001b[1;31m---------------------------------------------------------------------------\u001b[0m",
      "\u001b[1;31mUnboundLocalError\u001b[0m                         Traceback (most recent call last)",
      "Cell \u001b[1;32mIn[1], line 127\u001b[0m, in \u001b[0;36mMiniPlayer.update_ui\u001b[1;34m(self)\u001b[0m\n\u001b[0;32m    123\u001b[0m \u001b[38;5;28;01mif\u001b[39;00m \u001b[38;5;129;01mnot\u001b[39;00m \u001b[38;5;28mself\u001b[39m\u001b[38;5;241m.\u001b[39mdata_queue\u001b[38;5;241m.\u001b[39mempty():\n\u001b[0;32m    124\u001b[0m     val \u001b[38;5;241m=\u001b[39m \u001b[38;5;28mself\u001b[39m\u001b[38;5;241m.\u001b[39mdata_queue\u001b[38;5;241m.\u001b[39mget()\n\u001b[1;32m--> 127\u001b[0m \u001b[38;5;28;01mif\u001b[39;00m \u001b[43mval\u001b[49m \u001b[38;5;241m==\u001b[39m \u001b[38;5;124m'\u001b[39m\u001b[38;5;124m<\u001b[39m\u001b[38;5;124m'\u001b[39m:\n\u001b[0;32m    128\u001b[0m     \u001b[38;5;28mself\u001b[39m\u001b[38;5;241m.\u001b[39mmediaplayer\u001b[38;5;241m.\u001b[39mset_rate(\u001b[38;5;28mself\u001b[39m\u001b[38;5;241m.\u001b[39mmediaplayer\u001b[38;5;241m.\u001b[39mget_rate() \u001b[38;5;241m*\u001b[39m \u001b[38;5;241m0.5\u001b[39m)\n\u001b[0;32m    129\u001b[0m     \u001b[38;5;28;01mreturn\u001b[39;00m\n",
      "\u001b[1;31mUnboundLocalError\u001b[0m: local variable 'val' referenced before assignment"
     ]
    },
    {
     "ename": "UnboundLocalError",
     "evalue": "local variable 'val' referenced before assignment",
     "output_type": "error",
     "traceback": [
      "\u001b[1;31m---------------------------------------------------------------------------\u001b[0m",
      "\u001b[1;31mUnboundLocalError\u001b[0m                         Traceback (most recent call last)",
      "Cell \u001b[1;32mIn[1], line 127\u001b[0m, in \u001b[0;36mMiniPlayer.update_ui\u001b[1;34m(self)\u001b[0m\n\u001b[0;32m    123\u001b[0m \u001b[38;5;28;01mif\u001b[39;00m \u001b[38;5;129;01mnot\u001b[39;00m \u001b[38;5;28mself\u001b[39m\u001b[38;5;241m.\u001b[39mdata_queue\u001b[38;5;241m.\u001b[39mempty():\n\u001b[0;32m    124\u001b[0m     val \u001b[38;5;241m=\u001b[39m \u001b[38;5;28mself\u001b[39m\u001b[38;5;241m.\u001b[39mdata_queue\u001b[38;5;241m.\u001b[39mget()\n\u001b[1;32m--> 127\u001b[0m \u001b[38;5;28;01mif\u001b[39;00m \u001b[43mval\u001b[49m \u001b[38;5;241m==\u001b[39m \u001b[38;5;124m'\u001b[39m\u001b[38;5;124m<\u001b[39m\u001b[38;5;124m'\u001b[39m:\n\u001b[0;32m    128\u001b[0m     \u001b[38;5;28mself\u001b[39m\u001b[38;5;241m.\u001b[39mmediaplayer\u001b[38;5;241m.\u001b[39mset_rate(\u001b[38;5;28mself\u001b[39m\u001b[38;5;241m.\u001b[39mmediaplayer\u001b[38;5;241m.\u001b[39mget_rate() \u001b[38;5;241m*\u001b[39m \u001b[38;5;241m0.5\u001b[39m)\n\u001b[0;32m    129\u001b[0m     \u001b[38;5;28;01mreturn\u001b[39;00m\n",
      "\u001b[1;31mUnboundLocalError\u001b[0m: local variable 'val' referenced before assignment"
     ]
    },
    {
     "ename": "UnboundLocalError",
     "evalue": "local variable 'val' referenced before assignment",
     "output_type": "error",
     "traceback": [
      "\u001b[1;31m---------------------------------------------------------------------------\u001b[0m",
      "\u001b[1;31mUnboundLocalError\u001b[0m                         Traceback (most recent call last)",
      "Cell \u001b[1;32mIn[1], line 127\u001b[0m, in \u001b[0;36mMiniPlayer.update_ui\u001b[1;34m(self)\u001b[0m\n\u001b[0;32m    123\u001b[0m \u001b[38;5;28;01mif\u001b[39;00m \u001b[38;5;129;01mnot\u001b[39;00m \u001b[38;5;28mself\u001b[39m\u001b[38;5;241m.\u001b[39mdata_queue\u001b[38;5;241m.\u001b[39mempty():\n\u001b[0;32m    124\u001b[0m     val \u001b[38;5;241m=\u001b[39m \u001b[38;5;28mself\u001b[39m\u001b[38;5;241m.\u001b[39mdata_queue\u001b[38;5;241m.\u001b[39mget()\n\u001b[1;32m--> 127\u001b[0m \u001b[38;5;28;01mif\u001b[39;00m \u001b[43mval\u001b[49m \u001b[38;5;241m==\u001b[39m \u001b[38;5;124m'\u001b[39m\u001b[38;5;124m<\u001b[39m\u001b[38;5;124m'\u001b[39m:\n\u001b[0;32m    128\u001b[0m     \u001b[38;5;28mself\u001b[39m\u001b[38;5;241m.\u001b[39mmediaplayer\u001b[38;5;241m.\u001b[39mset_rate(\u001b[38;5;28mself\u001b[39m\u001b[38;5;241m.\u001b[39mmediaplayer\u001b[38;5;241m.\u001b[39mget_rate() \u001b[38;5;241m*\u001b[39m \u001b[38;5;241m0.5\u001b[39m)\n\u001b[0;32m    129\u001b[0m     \u001b[38;5;28;01mreturn\u001b[39;00m\n",
      "\u001b[1;31mUnboundLocalError\u001b[0m: local variable 'val' referenced before assignment"
     ]
    },
    {
     "ename": "UnboundLocalError",
     "evalue": "local variable 'val' referenced before assignment",
     "output_type": "error",
     "traceback": [
      "\u001b[1;31m---------------------------------------------------------------------------\u001b[0m",
      "\u001b[1;31mUnboundLocalError\u001b[0m                         Traceback (most recent call last)",
      "Cell \u001b[1;32mIn[1], line 127\u001b[0m, in \u001b[0;36mMiniPlayer.update_ui\u001b[1;34m(self)\u001b[0m\n\u001b[0;32m    123\u001b[0m \u001b[38;5;28;01mif\u001b[39;00m \u001b[38;5;129;01mnot\u001b[39;00m \u001b[38;5;28mself\u001b[39m\u001b[38;5;241m.\u001b[39mdata_queue\u001b[38;5;241m.\u001b[39mempty():\n\u001b[0;32m    124\u001b[0m     val \u001b[38;5;241m=\u001b[39m \u001b[38;5;28mself\u001b[39m\u001b[38;5;241m.\u001b[39mdata_queue\u001b[38;5;241m.\u001b[39mget()\n\u001b[1;32m--> 127\u001b[0m \u001b[38;5;28;01mif\u001b[39;00m \u001b[43mval\u001b[49m \u001b[38;5;241m==\u001b[39m \u001b[38;5;124m'\u001b[39m\u001b[38;5;124m<\u001b[39m\u001b[38;5;124m'\u001b[39m:\n\u001b[0;32m    128\u001b[0m     \u001b[38;5;28mself\u001b[39m\u001b[38;5;241m.\u001b[39mmediaplayer\u001b[38;5;241m.\u001b[39mset_rate(\u001b[38;5;28mself\u001b[39m\u001b[38;5;241m.\u001b[39mmediaplayer\u001b[38;5;241m.\u001b[39mget_rate() \u001b[38;5;241m*\u001b[39m \u001b[38;5;241m0.5\u001b[39m)\n\u001b[0;32m    129\u001b[0m     \u001b[38;5;28;01mreturn\u001b[39;00m\n",
      "\u001b[1;31mUnboundLocalError\u001b[0m: local variable 'val' referenced before assignment"
     ]
    },
    {
     "ename": "UnboundLocalError",
     "evalue": "local variable 'val' referenced before assignment",
     "output_type": "error",
     "traceback": [
      "\u001b[1;31m---------------------------------------------------------------------------\u001b[0m",
      "\u001b[1;31mUnboundLocalError\u001b[0m                         Traceback (most recent call last)",
      "Cell \u001b[1;32mIn[1], line 127\u001b[0m, in \u001b[0;36mMiniPlayer.update_ui\u001b[1;34m(self)\u001b[0m\n\u001b[0;32m    123\u001b[0m \u001b[38;5;28;01mif\u001b[39;00m \u001b[38;5;129;01mnot\u001b[39;00m \u001b[38;5;28mself\u001b[39m\u001b[38;5;241m.\u001b[39mdata_queue\u001b[38;5;241m.\u001b[39mempty():\n\u001b[0;32m    124\u001b[0m     val \u001b[38;5;241m=\u001b[39m \u001b[38;5;28mself\u001b[39m\u001b[38;5;241m.\u001b[39mdata_queue\u001b[38;5;241m.\u001b[39mget()\n\u001b[1;32m--> 127\u001b[0m \u001b[38;5;28;01mif\u001b[39;00m \u001b[43mval\u001b[49m \u001b[38;5;241m==\u001b[39m \u001b[38;5;124m'\u001b[39m\u001b[38;5;124m<\u001b[39m\u001b[38;5;124m'\u001b[39m:\n\u001b[0;32m    128\u001b[0m     \u001b[38;5;28mself\u001b[39m\u001b[38;5;241m.\u001b[39mmediaplayer\u001b[38;5;241m.\u001b[39mset_rate(\u001b[38;5;28mself\u001b[39m\u001b[38;5;241m.\u001b[39mmediaplayer\u001b[38;5;241m.\u001b[39mget_rate() \u001b[38;5;241m*\u001b[39m \u001b[38;5;241m0.5\u001b[39m)\n\u001b[0;32m    129\u001b[0m     \u001b[38;5;28;01mreturn\u001b[39;00m\n",
      "\u001b[1;31mUnboundLocalError\u001b[0m: local variable 'val' referenced before assignment"
     ]
    },
    {
     "ename": "UnboundLocalError",
     "evalue": "local variable 'val' referenced before assignment",
     "output_type": "error",
     "traceback": [
      "\u001b[1;31m---------------------------------------------------------------------------\u001b[0m",
      "\u001b[1;31mUnboundLocalError\u001b[0m                         Traceback (most recent call last)",
      "Cell \u001b[1;32mIn[1], line 127\u001b[0m, in \u001b[0;36mMiniPlayer.update_ui\u001b[1;34m(self)\u001b[0m\n\u001b[0;32m    123\u001b[0m \u001b[38;5;28;01mif\u001b[39;00m \u001b[38;5;129;01mnot\u001b[39;00m \u001b[38;5;28mself\u001b[39m\u001b[38;5;241m.\u001b[39mdata_queue\u001b[38;5;241m.\u001b[39mempty():\n\u001b[0;32m    124\u001b[0m     val \u001b[38;5;241m=\u001b[39m \u001b[38;5;28mself\u001b[39m\u001b[38;5;241m.\u001b[39mdata_queue\u001b[38;5;241m.\u001b[39mget()\n\u001b[1;32m--> 127\u001b[0m \u001b[38;5;28;01mif\u001b[39;00m \u001b[43mval\u001b[49m \u001b[38;5;241m==\u001b[39m \u001b[38;5;124m'\u001b[39m\u001b[38;5;124m<\u001b[39m\u001b[38;5;124m'\u001b[39m:\n\u001b[0;32m    128\u001b[0m     \u001b[38;5;28mself\u001b[39m\u001b[38;5;241m.\u001b[39mmediaplayer\u001b[38;5;241m.\u001b[39mset_rate(\u001b[38;5;28mself\u001b[39m\u001b[38;5;241m.\u001b[39mmediaplayer\u001b[38;5;241m.\u001b[39mget_rate() \u001b[38;5;241m*\u001b[39m \u001b[38;5;241m0.5\u001b[39m)\n\u001b[0;32m    129\u001b[0m     \u001b[38;5;28;01mreturn\u001b[39;00m\n",
      "\u001b[1;31mUnboundLocalError\u001b[0m: local variable 'val' referenced before assignment"
     ]
    },
    {
     "ename": "UnboundLocalError",
     "evalue": "local variable 'val' referenced before assignment",
     "output_type": "error",
     "traceback": [
      "\u001b[1;31m---------------------------------------------------------------------------\u001b[0m",
      "\u001b[1;31mUnboundLocalError\u001b[0m                         Traceback (most recent call last)",
      "Cell \u001b[1;32mIn[1], line 127\u001b[0m, in \u001b[0;36mMiniPlayer.update_ui\u001b[1;34m(self)\u001b[0m\n\u001b[0;32m    123\u001b[0m \u001b[38;5;28;01mif\u001b[39;00m \u001b[38;5;129;01mnot\u001b[39;00m \u001b[38;5;28mself\u001b[39m\u001b[38;5;241m.\u001b[39mdata_queue\u001b[38;5;241m.\u001b[39mempty():\n\u001b[0;32m    124\u001b[0m     val \u001b[38;5;241m=\u001b[39m \u001b[38;5;28mself\u001b[39m\u001b[38;5;241m.\u001b[39mdata_queue\u001b[38;5;241m.\u001b[39mget()\n\u001b[1;32m--> 127\u001b[0m \u001b[38;5;28;01mif\u001b[39;00m \u001b[43mval\u001b[49m \u001b[38;5;241m==\u001b[39m \u001b[38;5;124m'\u001b[39m\u001b[38;5;124m<\u001b[39m\u001b[38;5;124m'\u001b[39m:\n\u001b[0;32m    128\u001b[0m     \u001b[38;5;28mself\u001b[39m\u001b[38;5;241m.\u001b[39mmediaplayer\u001b[38;5;241m.\u001b[39mset_rate(\u001b[38;5;28mself\u001b[39m\u001b[38;5;241m.\u001b[39mmediaplayer\u001b[38;5;241m.\u001b[39mget_rate() \u001b[38;5;241m*\u001b[39m \u001b[38;5;241m0.5\u001b[39m)\n\u001b[0;32m    129\u001b[0m     \u001b[38;5;28;01mreturn\u001b[39;00m\n",
      "\u001b[1;31mUnboundLocalError\u001b[0m: local variable 'val' referenced before assignment"
     ]
    },
    {
     "ename": "UnboundLocalError",
     "evalue": "local variable 'val' referenced before assignment",
     "output_type": "error",
     "traceback": [
      "\u001b[1;31m---------------------------------------------------------------------------\u001b[0m",
      "\u001b[1;31mUnboundLocalError\u001b[0m                         Traceback (most recent call last)",
      "Cell \u001b[1;32mIn[1], line 127\u001b[0m, in \u001b[0;36mMiniPlayer.update_ui\u001b[1;34m(self)\u001b[0m\n\u001b[0;32m    123\u001b[0m \u001b[38;5;28;01mif\u001b[39;00m \u001b[38;5;129;01mnot\u001b[39;00m \u001b[38;5;28mself\u001b[39m\u001b[38;5;241m.\u001b[39mdata_queue\u001b[38;5;241m.\u001b[39mempty():\n\u001b[0;32m    124\u001b[0m     val \u001b[38;5;241m=\u001b[39m \u001b[38;5;28mself\u001b[39m\u001b[38;5;241m.\u001b[39mdata_queue\u001b[38;5;241m.\u001b[39mget()\n\u001b[1;32m--> 127\u001b[0m \u001b[38;5;28;01mif\u001b[39;00m \u001b[43mval\u001b[49m \u001b[38;5;241m==\u001b[39m \u001b[38;5;124m'\u001b[39m\u001b[38;5;124m<\u001b[39m\u001b[38;5;124m'\u001b[39m:\n\u001b[0;32m    128\u001b[0m     \u001b[38;5;28mself\u001b[39m\u001b[38;5;241m.\u001b[39mmediaplayer\u001b[38;5;241m.\u001b[39mset_rate(\u001b[38;5;28mself\u001b[39m\u001b[38;5;241m.\u001b[39mmediaplayer\u001b[38;5;241m.\u001b[39mget_rate() \u001b[38;5;241m*\u001b[39m \u001b[38;5;241m0.5\u001b[39m)\n\u001b[0;32m    129\u001b[0m     \u001b[38;5;28;01mreturn\u001b[39;00m\n",
      "\u001b[1;31mUnboundLocalError\u001b[0m: local variable 'val' referenced before assignment"
     ]
    },
    {
     "ename": "UnboundLocalError",
     "evalue": "local variable 'val' referenced before assignment",
     "output_type": "error",
     "traceback": [
      "\u001b[1;31m---------------------------------------------------------------------------\u001b[0m",
      "\u001b[1;31mUnboundLocalError\u001b[0m                         Traceback (most recent call last)",
      "Cell \u001b[1;32mIn[1], line 127\u001b[0m, in \u001b[0;36mMiniPlayer.update_ui\u001b[1;34m(self)\u001b[0m\n\u001b[0;32m    123\u001b[0m \u001b[38;5;28;01mif\u001b[39;00m \u001b[38;5;129;01mnot\u001b[39;00m \u001b[38;5;28mself\u001b[39m\u001b[38;5;241m.\u001b[39mdata_queue\u001b[38;5;241m.\u001b[39mempty():\n\u001b[0;32m    124\u001b[0m     val \u001b[38;5;241m=\u001b[39m \u001b[38;5;28mself\u001b[39m\u001b[38;5;241m.\u001b[39mdata_queue\u001b[38;5;241m.\u001b[39mget()\n\u001b[1;32m--> 127\u001b[0m \u001b[38;5;28;01mif\u001b[39;00m \u001b[43mval\u001b[49m \u001b[38;5;241m==\u001b[39m \u001b[38;5;124m'\u001b[39m\u001b[38;5;124m<\u001b[39m\u001b[38;5;124m'\u001b[39m:\n\u001b[0;32m    128\u001b[0m     \u001b[38;5;28mself\u001b[39m\u001b[38;5;241m.\u001b[39mmediaplayer\u001b[38;5;241m.\u001b[39mset_rate(\u001b[38;5;28mself\u001b[39m\u001b[38;5;241m.\u001b[39mmediaplayer\u001b[38;5;241m.\u001b[39mget_rate() \u001b[38;5;241m*\u001b[39m \u001b[38;5;241m0.5\u001b[39m)\n\u001b[0;32m    129\u001b[0m     \u001b[38;5;28;01mreturn\u001b[39;00m\n",
      "\u001b[1;31mUnboundLocalError\u001b[0m: local variable 'val' referenced before assignment"
     ]
    },
    {
     "ename": "UnboundLocalError",
     "evalue": "local variable 'val' referenced before assignment",
     "output_type": "error",
     "traceback": [
      "\u001b[1;31m---------------------------------------------------------------------------\u001b[0m",
      "\u001b[1;31mUnboundLocalError\u001b[0m                         Traceback (most recent call last)",
      "Cell \u001b[1;32mIn[1], line 127\u001b[0m, in \u001b[0;36mMiniPlayer.update_ui\u001b[1;34m(self)\u001b[0m\n\u001b[0;32m    123\u001b[0m \u001b[38;5;28;01mif\u001b[39;00m \u001b[38;5;129;01mnot\u001b[39;00m \u001b[38;5;28mself\u001b[39m\u001b[38;5;241m.\u001b[39mdata_queue\u001b[38;5;241m.\u001b[39mempty():\n\u001b[0;32m    124\u001b[0m     val \u001b[38;5;241m=\u001b[39m \u001b[38;5;28mself\u001b[39m\u001b[38;5;241m.\u001b[39mdata_queue\u001b[38;5;241m.\u001b[39mget()\n\u001b[1;32m--> 127\u001b[0m \u001b[38;5;28;01mif\u001b[39;00m \u001b[43mval\u001b[49m \u001b[38;5;241m==\u001b[39m \u001b[38;5;124m'\u001b[39m\u001b[38;5;124m<\u001b[39m\u001b[38;5;124m'\u001b[39m:\n\u001b[0;32m    128\u001b[0m     \u001b[38;5;28mself\u001b[39m\u001b[38;5;241m.\u001b[39mmediaplayer\u001b[38;5;241m.\u001b[39mset_rate(\u001b[38;5;28mself\u001b[39m\u001b[38;5;241m.\u001b[39mmediaplayer\u001b[38;5;241m.\u001b[39mget_rate() \u001b[38;5;241m*\u001b[39m \u001b[38;5;241m0.5\u001b[39m)\n\u001b[0;32m    129\u001b[0m     \u001b[38;5;28;01mreturn\u001b[39;00m\n",
      "\u001b[1;31mUnboundLocalError\u001b[0m: local variable 'val' referenced before assignment"
     ]
    },
    {
     "ename": "UnboundLocalError",
     "evalue": "local variable 'val' referenced before assignment",
     "output_type": "error",
     "traceback": [
      "\u001b[1;31m---------------------------------------------------------------------------\u001b[0m",
      "\u001b[1;31mUnboundLocalError\u001b[0m                         Traceback (most recent call last)",
      "Cell \u001b[1;32mIn[1], line 127\u001b[0m, in \u001b[0;36mMiniPlayer.update_ui\u001b[1;34m(self)\u001b[0m\n\u001b[0;32m    123\u001b[0m \u001b[38;5;28;01mif\u001b[39;00m \u001b[38;5;129;01mnot\u001b[39;00m \u001b[38;5;28mself\u001b[39m\u001b[38;5;241m.\u001b[39mdata_queue\u001b[38;5;241m.\u001b[39mempty():\n\u001b[0;32m    124\u001b[0m     val \u001b[38;5;241m=\u001b[39m \u001b[38;5;28mself\u001b[39m\u001b[38;5;241m.\u001b[39mdata_queue\u001b[38;5;241m.\u001b[39mget()\n\u001b[1;32m--> 127\u001b[0m \u001b[38;5;28;01mif\u001b[39;00m \u001b[43mval\u001b[49m \u001b[38;5;241m==\u001b[39m \u001b[38;5;124m'\u001b[39m\u001b[38;5;124m<\u001b[39m\u001b[38;5;124m'\u001b[39m:\n\u001b[0;32m    128\u001b[0m     \u001b[38;5;28mself\u001b[39m\u001b[38;5;241m.\u001b[39mmediaplayer\u001b[38;5;241m.\u001b[39mset_rate(\u001b[38;5;28mself\u001b[39m\u001b[38;5;241m.\u001b[39mmediaplayer\u001b[38;5;241m.\u001b[39mget_rate() \u001b[38;5;241m*\u001b[39m \u001b[38;5;241m0.5\u001b[39m)\n\u001b[0;32m    129\u001b[0m     \u001b[38;5;28;01mreturn\u001b[39;00m\n",
      "\u001b[1;31mUnboundLocalError\u001b[0m: local variable 'val' referenced before assignment"
     ]
    },
    {
     "ename": "UnboundLocalError",
     "evalue": "local variable 'val' referenced before assignment",
     "output_type": "error",
     "traceback": [
      "\u001b[1;31m---------------------------------------------------------------------------\u001b[0m",
      "\u001b[1;31mUnboundLocalError\u001b[0m                         Traceback (most recent call last)",
      "Cell \u001b[1;32mIn[1], line 127\u001b[0m, in \u001b[0;36mMiniPlayer.update_ui\u001b[1;34m(self)\u001b[0m\n\u001b[0;32m    123\u001b[0m \u001b[38;5;28;01mif\u001b[39;00m \u001b[38;5;129;01mnot\u001b[39;00m \u001b[38;5;28mself\u001b[39m\u001b[38;5;241m.\u001b[39mdata_queue\u001b[38;5;241m.\u001b[39mempty():\n\u001b[0;32m    124\u001b[0m     val \u001b[38;5;241m=\u001b[39m \u001b[38;5;28mself\u001b[39m\u001b[38;5;241m.\u001b[39mdata_queue\u001b[38;5;241m.\u001b[39mget()\n\u001b[1;32m--> 127\u001b[0m \u001b[38;5;28;01mif\u001b[39;00m \u001b[43mval\u001b[49m \u001b[38;5;241m==\u001b[39m \u001b[38;5;124m'\u001b[39m\u001b[38;5;124m<\u001b[39m\u001b[38;5;124m'\u001b[39m:\n\u001b[0;32m    128\u001b[0m     \u001b[38;5;28mself\u001b[39m\u001b[38;5;241m.\u001b[39mmediaplayer\u001b[38;5;241m.\u001b[39mset_rate(\u001b[38;5;28mself\u001b[39m\u001b[38;5;241m.\u001b[39mmediaplayer\u001b[38;5;241m.\u001b[39mget_rate() \u001b[38;5;241m*\u001b[39m \u001b[38;5;241m0.5\u001b[39m)\n\u001b[0;32m    129\u001b[0m     \u001b[38;5;28;01mreturn\u001b[39;00m\n",
      "\u001b[1;31mUnboundLocalError\u001b[0m: local variable 'val' referenced before assignment"
     ]
    },
    {
     "ename": "UnboundLocalError",
     "evalue": "local variable 'val' referenced before assignment",
     "output_type": "error",
     "traceback": [
      "\u001b[1;31m---------------------------------------------------------------------------\u001b[0m",
      "\u001b[1;31mUnboundLocalError\u001b[0m                         Traceback (most recent call last)",
      "Cell \u001b[1;32mIn[1], line 127\u001b[0m, in \u001b[0;36mMiniPlayer.update_ui\u001b[1;34m(self)\u001b[0m\n\u001b[0;32m    123\u001b[0m \u001b[38;5;28;01mif\u001b[39;00m \u001b[38;5;129;01mnot\u001b[39;00m \u001b[38;5;28mself\u001b[39m\u001b[38;5;241m.\u001b[39mdata_queue\u001b[38;5;241m.\u001b[39mempty():\n\u001b[0;32m    124\u001b[0m     val \u001b[38;5;241m=\u001b[39m \u001b[38;5;28mself\u001b[39m\u001b[38;5;241m.\u001b[39mdata_queue\u001b[38;5;241m.\u001b[39mget()\n\u001b[1;32m--> 127\u001b[0m \u001b[38;5;28;01mif\u001b[39;00m \u001b[43mval\u001b[49m \u001b[38;5;241m==\u001b[39m \u001b[38;5;124m'\u001b[39m\u001b[38;5;124m<\u001b[39m\u001b[38;5;124m'\u001b[39m:\n\u001b[0;32m    128\u001b[0m     \u001b[38;5;28mself\u001b[39m\u001b[38;5;241m.\u001b[39mmediaplayer\u001b[38;5;241m.\u001b[39mset_rate(\u001b[38;5;28mself\u001b[39m\u001b[38;5;241m.\u001b[39mmediaplayer\u001b[38;5;241m.\u001b[39mget_rate() \u001b[38;5;241m*\u001b[39m \u001b[38;5;241m0.5\u001b[39m)\n\u001b[0;32m    129\u001b[0m     \u001b[38;5;28;01mreturn\u001b[39;00m\n",
      "\u001b[1;31mUnboundLocalError\u001b[0m: local variable 'val' referenced before assignment"
     ]
    },
    {
     "ename": "UnboundLocalError",
     "evalue": "local variable 'val' referenced before assignment",
     "output_type": "error",
     "traceback": [
      "\u001b[1;31m---------------------------------------------------------------------------\u001b[0m",
      "\u001b[1;31mUnboundLocalError\u001b[0m                         Traceback (most recent call last)",
      "Cell \u001b[1;32mIn[1], line 127\u001b[0m, in \u001b[0;36mMiniPlayer.update_ui\u001b[1;34m(self)\u001b[0m\n\u001b[0;32m    123\u001b[0m \u001b[38;5;28;01mif\u001b[39;00m \u001b[38;5;129;01mnot\u001b[39;00m \u001b[38;5;28mself\u001b[39m\u001b[38;5;241m.\u001b[39mdata_queue\u001b[38;5;241m.\u001b[39mempty():\n\u001b[0;32m    124\u001b[0m     val \u001b[38;5;241m=\u001b[39m \u001b[38;5;28mself\u001b[39m\u001b[38;5;241m.\u001b[39mdata_queue\u001b[38;5;241m.\u001b[39mget()\n\u001b[1;32m--> 127\u001b[0m \u001b[38;5;28;01mif\u001b[39;00m \u001b[43mval\u001b[49m \u001b[38;5;241m==\u001b[39m \u001b[38;5;124m'\u001b[39m\u001b[38;5;124m<\u001b[39m\u001b[38;5;124m'\u001b[39m:\n\u001b[0;32m    128\u001b[0m     \u001b[38;5;28mself\u001b[39m\u001b[38;5;241m.\u001b[39mmediaplayer\u001b[38;5;241m.\u001b[39mset_rate(\u001b[38;5;28mself\u001b[39m\u001b[38;5;241m.\u001b[39mmediaplayer\u001b[38;5;241m.\u001b[39mget_rate() \u001b[38;5;241m*\u001b[39m \u001b[38;5;241m0.5\u001b[39m)\n\u001b[0;32m    129\u001b[0m     \u001b[38;5;28;01mreturn\u001b[39;00m\n",
      "\u001b[1;31mUnboundLocalError\u001b[0m: local variable 'val' referenced before assignment"
     ]
    },
    {
     "ename": "UnboundLocalError",
     "evalue": "local variable 'val' referenced before assignment",
     "output_type": "error",
     "traceback": [
      "\u001b[1;31m---------------------------------------------------------------------------\u001b[0m",
      "\u001b[1;31mUnboundLocalError\u001b[0m                         Traceback (most recent call last)",
      "Cell \u001b[1;32mIn[1], line 127\u001b[0m, in \u001b[0;36mMiniPlayer.update_ui\u001b[1;34m(self)\u001b[0m\n\u001b[0;32m    123\u001b[0m \u001b[38;5;28;01mif\u001b[39;00m \u001b[38;5;129;01mnot\u001b[39;00m \u001b[38;5;28mself\u001b[39m\u001b[38;5;241m.\u001b[39mdata_queue\u001b[38;5;241m.\u001b[39mempty():\n\u001b[0;32m    124\u001b[0m     val \u001b[38;5;241m=\u001b[39m \u001b[38;5;28mself\u001b[39m\u001b[38;5;241m.\u001b[39mdata_queue\u001b[38;5;241m.\u001b[39mget()\n\u001b[1;32m--> 127\u001b[0m \u001b[38;5;28;01mif\u001b[39;00m \u001b[43mval\u001b[49m \u001b[38;5;241m==\u001b[39m \u001b[38;5;124m'\u001b[39m\u001b[38;5;124m<\u001b[39m\u001b[38;5;124m'\u001b[39m:\n\u001b[0;32m    128\u001b[0m     \u001b[38;5;28mself\u001b[39m\u001b[38;5;241m.\u001b[39mmediaplayer\u001b[38;5;241m.\u001b[39mset_rate(\u001b[38;5;28mself\u001b[39m\u001b[38;5;241m.\u001b[39mmediaplayer\u001b[38;5;241m.\u001b[39mget_rate() \u001b[38;5;241m*\u001b[39m \u001b[38;5;241m0.5\u001b[39m)\n\u001b[0;32m    129\u001b[0m     \u001b[38;5;28;01mreturn\u001b[39;00m\n",
      "\u001b[1;31mUnboundLocalError\u001b[0m: local variable 'val' referenced before assignment"
     ]
    },
    {
     "ename": "UnboundLocalError",
     "evalue": "local variable 'val' referenced before assignment",
     "output_type": "error",
     "traceback": [
      "\u001b[1;31m---------------------------------------------------------------------------\u001b[0m",
      "\u001b[1;31mUnboundLocalError\u001b[0m                         Traceback (most recent call last)",
      "Cell \u001b[1;32mIn[1], line 127\u001b[0m, in \u001b[0;36mMiniPlayer.update_ui\u001b[1;34m(self)\u001b[0m\n\u001b[0;32m    123\u001b[0m \u001b[38;5;28;01mif\u001b[39;00m \u001b[38;5;129;01mnot\u001b[39;00m \u001b[38;5;28mself\u001b[39m\u001b[38;5;241m.\u001b[39mdata_queue\u001b[38;5;241m.\u001b[39mempty():\n\u001b[0;32m    124\u001b[0m     val \u001b[38;5;241m=\u001b[39m \u001b[38;5;28mself\u001b[39m\u001b[38;5;241m.\u001b[39mdata_queue\u001b[38;5;241m.\u001b[39mget()\n\u001b[1;32m--> 127\u001b[0m \u001b[38;5;28;01mif\u001b[39;00m \u001b[43mval\u001b[49m \u001b[38;5;241m==\u001b[39m \u001b[38;5;124m'\u001b[39m\u001b[38;5;124m<\u001b[39m\u001b[38;5;124m'\u001b[39m:\n\u001b[0;32m    128\u001b[0m     \u001b[38;5;28mself\u001b[39m\u001b[38;5;241m.\u001b[39mmediaplayer\u001b[38;5;241m.\u001b[39mset_rate(\u001b[38;5;28mself\u001b[39m\u001b[38;5;241m.\u001b[39mmediaplayer\u001b[38;5;241m.\u001b[39mget_rate() \u001b[38;5;241m*\u001b[39m \u001b[38;5;241m0.5\u001b[39m)\n\u001b[0;32m    129\u001b[0m     \u001b[38;5;28;01mreturn\u001b[39;00m\n",
      "\u001b[1;31mUnboundLocalError\u001b[0m: local variable 'val' referenced before assignment"
     ]
    },
    {
     "ename": "UnboundLocalError",
     "evalue": "local variable 'val' referenced before assignment",
     "output_type": "error",
     "traceback": [
      "\u001b[1;31m---------------------------------------------------------------------------\u001b[0m",
      "\u001b[1;31mUnboundLocalError\u001b[0m                         Traceback (most recent call last)",
      "Cell \u001b[1;32mIn[1], line 127\u001b[0m, in \u001b[0;36mMiniPlayer.update_ui\u001b[1;34m(self)\u001b[0m\n\u001b[0;32m    123\u001b[0m \u001b[38;5;28;01mif\u001b[39;00m \u001b[38;5;129;01mnot\u001b[39;00m \u001b[38;5;28mself\u001b[39m\u001b[38;5;241m.\u001b[39mdata_queue\u001b[38;5;241m.\u001b[39mempty():\n\u001b[0;32m    124\u001b[0m     val \u001b[38;5;241m=\u001b[39m \u001b[38;5;28mself\u001b[39m\u001b[38;5;241m.\u001b[39mdata_queue\u001b[38;5;241m.\u001b[39mget()\n\u001b[1;32m--> 127\u001b[0m \u001b[38;5;28;01mif\u001b[39;00m \u001b[43mval\u001b[49m \u001b[38;5;241m==\u001b[39m \u001b[38;5;124m'\u001b[39m\u001b[38;5;124m<\u001b[39m\u001b[38;5;124m'\u001b[39m:\n\u001b[0;32m    128\u001b[0m     \u001b[38;5;28mself\u001b[39m\u001b[38;5;241m.\u001b[39mmediaplayer\u001b[38;5;241m.\u001b[39mset_rate(\u001b[38;5;28mself\u001b[39m\u001b[38;5;241m.\u001b[39mmediaplayer\u001b[38;5;241m.\u001b[39mget_rate() \u001b[38;5;241m*\u001b[39m \u001b[38;5;241m0.5\u001b[39m)\n\u001b[0;32m    129\u001b[0m     \u001b[38;5;28;01mreturn\u001b[39;00m\n",
      "\u001b[1;31mUnboundLocalError\u001b[0m: local variable 'val' referenced before assignment"
     ]
    },
    {
     "ename": "UnboundLocalError",
     "evalue": "local variable 'val' referenced before assignment",
     "output_type": "error",
     "traceback": [
      "\u001b[1;31m---------------------------------------------------------------------------\u001b[0m",
      "\u001b[1;31mUnboundLocalError\u001b[0m                         Traceback (most recent call last)",
      "Cell \u001b[1;32mIn[1], line 127\u001b[0m, in \u001b[0;36mMiniPlayer.update_ui\u001b[1;34m(self)\u001b[0m\n\u001b[0;32m    123\u001b[0m \u001b[38;5;28;01mif\u001b[39;00m \u001b[38;5;129;01mnot\u001b[39;00m \u001b[38;5;28mself\u001b[39m\u001b[38;5;241m.\u001b[39mdata_queue\u001b[38;5;241m.\u001b[39mempty():\n\u001b[0;32m    124\u001b[0m     val \u001b[38;5;241m=\u001b[39m \u001b[38;5;28mself\u001b[39m\u001b[38;5;241m.\u001b[39mdata_queue\u001b[38;5;241m.\u001b[39mget()\n\u001b[1;32m--> 127\u001b[0m \u001b[38;5;28;01mif\u001b[39;00m \u001b[43mval\u001b[49m \u001b[38;5;241m==\u001b[39m \u001b[38;5;124m'\u001b[39m\u001b[38;5;124m<\u001b[39m\u001b[38;5;124m'\u001b[39m:\n\u001b[0;32m    128\u001b[0m     \u001b[38;5;28mself\u001b[39m\u001b[38;5;241m.\u001b[39mmediaplayer\u001b[38;5;241m.\u001b[39mset_rate(\u001b[38;5;28mself\u001b[39m\u001b[38;5;241m.\u001b[39mmediaplayer\u001b[38;5;241m.\u001b[39mget_rate() \u001b[38;5;241m*\u001b[39m \u001b[38;5;241m0.5\u001b[39m)\n\u001b[0;32m    129\u001b[0m     \u001b[38;5;28;01mreturn\u001b[39;00m\n",
      "\u001b[1;31mUnboundLocalError\u001b[0m: local variable 'val' referenced before assignment"
     ]
    },
    {
     "ename": "UnboundLocalError",
     "evalue": "local variable 'val' referenced before assignment",
     "output_type": "error",
     "traceback": [
      "\u001b[1;31m---------------------------------------------------------------------------\u001b[0m",
      "\u001b[1;31mUnboundLocalError\u001b[0m                         Traceback (most recent call last)",
      "Cell \u001b[1;32mIn[1], line 127\u001b[0m, in \u001b[0;36mMiniPlayer.update_ui\u001b[1;34m(self)\u001b[0m\n\u001b[0;32m    123\u001b[0m \u001b[38;5;28;01mif\u001b[39;00m \u001b[38;5;129;01mnot\u001b[39;00m \u001b[38;5;28mself\u001b[39m\u001b[38;5;241m.\u001b[39mdata_queue\u001b[38;5;241m.\u001b[39mempty():\n\u001b[0;32m    124\u001b[0m     val \u001b[38;5;241m=\u001b[39m \u001b[38;5;28mself\u001b[39m\u001b[38;5;241m.\u001b[39mdata_queue\u001b[38;5;241m.\u001b[39mget()\n\u001b[1;32m--> 127\u001b[0m \u001b[38;5;28;01mif\u001b[39;00m \u001b[43mval\u001b[49m \u001b[38;5;241m==\u001b[39m \u001b[38;5;124m'\u001b[39m\u001b[38;5;124m<\u001b[39m\u001b[38;5;124m'\u001b[39m:\n\u001b[0;32m    128\u001b[0m     \u001b[38;5;28mself\u001b[39m\u001b[38;5;241m.\u001b[39mmediaplayer\u001b[38;5;241m.\u001b[39mset_rate(\u001b[38;5;28mself\u001b[39m\u001b[38;5;241m.\u001b[39mmediaplayer\u001b[38;5;241m.\u001b[39mget_rate() \u001b[38;5;241m*\u001b[39m \u001b[38;5;241m0.5\u001b[39m)\n\u001b[0;32m    129\u001b[0m     \u001b[38;5;28;01mreturn\u001b[39;00m\n",
      "\u001b[1;31mUnboundLocalError\u001b[0m: local variable 'val' referenced before assignment"
     ]
    },
    {
     "ename": "UnboundLocalError",
     "evalue": "local variable 'val' referenced before assignment",
     "output_type": "error",
     "traceback": [
      "\u001b[1;31m---------------------------------------------------------------------------\u001b[0m",
      "\u001b[1;31mUnboundLocalError\u001b[0m                         Traceback (most recent call last)",
      "Cell \u001b[1;32mIn[1], line 127\u001b[0m, in \u001b[0;36mMiniPlayer.update_ui\u001b[1;34m(self)\u001b[0m\n\u001b[0;32m    123\u001b[0m \u001b[38;5;28;01mif\u001b[39;00m \u001b[38;5;129;01mnot\u001b[39;00m \u001b[38;5;28mself\u001b[39m\u001b[38;5;241m.\u001b[39mdata_queue\u001b[38;5;241m.\u001b[39mempty():\n\u001b[0;32m    124\u001b[0m     val \u001b[38;5;241m=\u001b[39m \u001b[38;5;28mself\u001b[39m\u001b[38;5;241m.\u001b[39mdata_queue\u001b[38;5;241m.\u001b[39mget()\n\u001b[1;32m--> 127\u001b[0m \u001b[38;5;28;01mif\u001b[39;00m \u001b[43mval\u001b[49m \u001b[38;5;241m==\u001b[39m \u001b[38;5;124m'\u001b[39m\u001b[38;5;124m<\u001b[39m\u001b[38;5;124m'\u001b[39m:\n\u001b[0;32m    128\u001b[0m     \u001b[38;5;28mself\u001b[39m\u001b[38;5;241m.\u001b[39mmediaplayer\u001b[38;5;241m.\u001b[39mset_rate(\u001b[38;5;28mself\u001b[39m\u001b[38;5;241m.\u001b[39mmediaplayer\u001b[38;5;241m.\u001b[39mget_rate() \u001b[38;5;241m*\u001b[39m \u001b[38;5;241m0.5\u001b[39m)\n\u001b[0;32m    129\u001b[0m     \u001b[38;5;28;01mreturn\u001b[39;00m\n",
      "\u001b[1;31mUnboundLocalError\u001b[0m: local variable 'val' referenced before assignment"
     ]
    },
    {
     "ename": "UnboundLocalError",
     "evalue": "local variable 'val' referenced before assignment",
     "output_type": "error",
     "traceback": [
      "\u001b[1;31m---------------------------------------------------------------------------\u001b[0m",
      "\u001b[1;31mUnboundLocalError\u001b[0m                         Traceback (most recent call last)",
      "Cell \u001b[1;32mIn[1], line 127\u001b[0m, in \u001b[0;36mMiniPlayer.update_ui\u001b[1;34m(self)\u001b[0m\n\u001b[0;32m    123\u001b[0m \u001b[38;5;28;01mif\u001b[39;00m \u001b[38;5;129;01mnot\u001b[39;00m \u001b[38;5;28mself\u001b[39m\u001b[38;5;241m.\u001b[39mdata_queue\u001b[38;5;241m.\u001b[39mempty():\n\u001b[0;32m    124\u001b[0m     val \u001b[38;5;241m=\u001b[39m \u001b[38;5;28mself\u001b[39m\u001b[38;5;241m.\u001b[39mdata_queue\u001b[38;5;241m.\u001b[39mget()\n\u001b[1;32m--> 127\u001b[0m \u001b[38;5;28;01mif\u001b[39;00m \u001b[43mval\u001b[49m \u001b[38;5;241m==\u001b[39m \u001b[38;5;124m'\u001b[39m\u001b[38;5;124m<\u001b[39m\u001b[38;5;124m'\u001b[39m:\n\u001b[0;32m    128\u001b[0m     \u001b[38;5;28mself\u001b[39m\u001b[38;5;241m.\u001b[39mmediaplayer\u001b[38;5;241m.\u001b[39mset_rate(\u001b[38;5;28mself\u001b[39m\u001b[38;5;241m.\u001b[39mmediaplayer\u001b[38;5;241m.\u001b[39mget_rate() \u001b[38;5;241m*\u001b[39m \u001b[38;5;241m0.5\u001b[39m)\n\u001b[0;32m    129\u001b[0m     \u001b[38;5;28;01mreturn\u001b[39;00m\n",
      "\u001b[1;31mUnboundLocalError\u001b[0m: local variable 'val' referenced before assignment"
     ]
    },
    {
     "ename": "UnboundLocalError",
     "evalue": "local variable 'val' referenced before assignment",
     "output_type": "error",
     "traceback": [
      "\u001b[1;31m---------------------------------------------------------------------------\u001b[0m",
      "\u001b[1;31mUnboundLocalError\u001b[0m                         Traceback (most recent call last)",
      "Cell \u001b[1;32mIn[1], line 127\u001b[0m, in \u001b[0;36mMiniPlayer.update_ui\u001b[1;34m(self)\u001b[0m\n\u001b[0;32m    123\u001b[0m \u001b[38;5;28;01mif\u001b[39;00m \u001b[38;5;129;01mnot\u001b[39;00m \u001b[38;5;28mself\u001b[39m\u001b[38;5;241m.\u001b[39mdata_queue\u001b[38;5;241m.\u001b[39mempty():\n\u001b[0;32m    124\u001b[0m     val \u001b[38;5;241m=\u001b[39m \u001b[38;5;28mself\u001b[39m\u001b[38;5;241m.\u001b[39mdata_queue\u001b[38;5;241m.\u001b[39mget()\n\u001b[1;32m--> 127\u001b[0m \u001b[38;5;28;01mif\u001b[39;00m \u001b[43mval\u001b[49m \u001b[38;5;241m==\u001b[39m \u001b[38;5;124m'\u001b[39m\u001b[38;5;124m<\u001b[39m\u001b[38;5;124m'\u001b[39m:\n\u001b[0;32m    128\u001b[0m     \u001b[38;5;28mself\u001b[39m\u001b[38;5;241m.\u001b[39mmediaplayer\u001b[38;5;241m.\u001b[39mset_rate(\u001b[38;5;28mself\u001b[39m\u001b[38;5;241m.\u001b[39mmediaplayer\u001b[38;5;241m.\u001b[39mget_rate() \u001b[38;5;241m*\u001b[39m \u001b[38;5;241m0.5\u001b[39m)\n\u001b[0;32m    129\u001b[0m     \u001b[38;5;28;01mreturn\u001b[39;00m\n",
      "\u001b[1;31mUnboundLocalError\u001b[0m: local variable 'val' referenced before assignment"
     ]
    },
    {
     "ename": "UnboundLocalError",
     "evalue": "local variable 'val' referenced before assignment",
     "output_type": "error",
     "traceback": [
      "\u001b[1;31m---------------------------------------------------------------------------\u001b[0m",
      "\u001b[1;31mUnboundLocalError\u001b[0m                         Traceback (most recent call last)",
      "Cell \u001b[1;32mIn[1], line 127\u001b[0m, in \u001b[0;36mMiniPlayer.update_ui\u001b[1;34m(self)\u001b[0m\n\u001b[0;32m    123\u001b[0m \u001b[38;5;28;01mif\u001b[39;00m \u001b[38;5;129;01mnot\u001b[39;00m \u001b[38;5;28mself\u001b[39m\u001b[38;5;241m.\u001b[39mdata_queue\u001b[38;5;241m.\u001b[39mempty():\n\u001b[0;32m    124\u001b[0m     val \u001b[38;5;241m=\u001b[39m \u001b[38;5;28mself\u001b[39m\u001b[38;5;241m.\u001b[39mdata_queue\u001b[38;5;241m.\u001b[39mget()\n\u001b[1;32m--> 127\u001b[0m \u001b[38;5;28;01mif\u001b[39;00m \u001b[43mval\u001b[49m \u001b[38;5;241m==\u001b[39m \u001b[38;5;124m'\u001b[39m\u001b[38;5;124m<\u001b[39m\u001b[38;5;124m'\u001b[39m:\n\u001b[0;32m    128\u001b[0m     \u001b[38;5;28mself\u001b[39m\u001b[38;5;241m.\u001b[39mmediaplayer\u001b[38;5;241m.\u001b[39mset_rate(\u001b[38;5;28mself\u001b[39m\u001b[38;5;241m.\u001b[39mmediaplayer\u001b[38;5;241m.\u001b[39mget_rate() \u001b[38;5;241m*\u001b[39m \u001b[38;5;241m0.5\u001b[39m)\n\u001b[0;32m    129\u001b[0m     \u001b[38;5;28;01mreturn\u001b[39;00m\n",
      "\u001b[1;31mUnboundLocalError\u001b[0m: local variable 'val' referenced before assignment"
     ]
    },
    {
     "ename": "UnboundLocalError",
     "evalue": "local variable 'val' referenced before assignment",
     "output_type": "error",
     "traceback": [
      "\u001b[1;31m---------------------------------------------------------------------------\u001b[0m",
      "\u001b[1;31mUnboundLocalError\u001b[0m                         Traceback (most recent call last)",
      "Cell \u001b[1;32mIn[1], line 127\u001b[0m, in \u001b[0;36mMiniPlayer.update_ui\u001b[1;34m(self)\u001b[0m\n\u001b[0;32m    123\u001b[0m \u001b[38;5;28;01mif\u001b[39;00m \u001b[38;5;129;01mnot\u001b[39;00m \u001b[38;5;28mself\u001b[39m\u001b[38;5;241m.\u001b[39mdata_queue\u001b[38;5;241m.\u001b[39mempty():\n\u001b[0;32m    124\u001b[0m     val \u001b[38;5;241m=\u001b[39m \u001b[38;5;28mself\u001b[39m\u001b[38;5;241m.\u001b[39mdata_queue\u001b[38;5;241m.\u001b[39mget()\n\u001b[1;32m--> 127\u001b[0m \u001b[38;5;28;01mif\u001b[39;00m \u001b[43mval\u001b[49m \u001b[38;5;241m==\u001b[39m \u001b[38;5;124m'\u001b[39m\u001b[38;5;124m<\u001b[39m\u001b[38;5;124m'\u001b[39m:\n\u001b[0;32m    128\u001b[0m     \u001b[38;5;28mself\u001b[39m\u001b[38;5;241m.\u001b[39mmediaplayer\u001b[38;5;241m.\u001b[39mset_rate(\u001b[38;5;28mself\u001b[39m\u001b[38;5;241m.\u001b[39mmediaplayer\u001b[38;5;241m.\u001b[39mget_rate() \u001b[38;5;241m*\u001b[39m \u001b[38;5;241m0.5\u001b[39m)\n\u001b[0;32m    129\u001b[0m     \u001b[38;5;28;01mreturn\u001b[39;00m\n",
      "\u001b[1;31mUnboundLocalError\u001b[0m: local variable 'val' referenced before assignment"
     ]
    },
    {
     "ename": "UnboundLocalError",
     "evalue": "local variable 'val' referenced before assignment",
     "output_type": "error",
     "traceback": [
      "\u001b[1;31m---------------------------------------------------------------------------\u001b[0m",
      "\u001b[1;31mUnboundLocalError\u001b[0m                         Traceback (most recent call last)",
      "Cell \u001b[1;32mIn[1], line 127\u001b[0m, in \u001b[0;36mMiniPlayer.update_ui\u001b[1;34m(self)\u001b[0m\n\u001b[0;32m    123\u001b[0m \u001b[38;5;28;01mif\u001b[39;00m \u001b[38;5;129;01mnot\u001b[39;00m \u001b[38;5;28mself\u001b[39m\u001b[38;5;241m.\u001b[39mdata_queue\u001b[38;5;241m.\u001b[39mempty():\n\u001b[0;32m    124\u001b[0m     val \u001b[38;5;241m=\u001b[39m \u001b[38;5;28mself\u001b[39m\u001b[38;5;241m.\u001b[39mdata_queue\u001b[38;5;241m.\u001b[39mget()\n\u001b[1;32m--> 127\u001b[0m \u001b[38;5;28;01mif\u001b[39;00m \u001b[43mval\u001b[49m \u001b[38;5;241m==\u001b[39m \u001b[38;5;124m'\u001b[39m\u001b[38;5;124m<\u001b[39m\u001b[38;5;124m'\u001b[39m:\n\u001b[0;32m    128\u001b[0m     \u001b[38;5;28mself\u001b[39m\u001b[38;5;241m.\u001b[39mmediaplayer\u001b[38;5;241m.\u001b[39mset_rate(\u001b[38;5;28mself\u001b[39m\u001b[38;5;241m.\u001b[39mmediaplayer\u001b[38;5;241m.\u001b[39mget_rate() \u001b[38;5;241m*\u001b[39m \u001b[38;5;241m0.5\u001b[39m)\n\u001b[0;32m    129\u001b[0m     \u001b[38;5;28;01mreturn\u001b[39;00m\n",
      "\u001b[1;31mUnboundLocalError\u001b[0m: local variable 'val' referenced before assignment"
     ]
    },
    {
     "ename": "UnboundLocalError",
     "evalue": "local variable 'val' referenced before assignment",
     "output_type": "error",
     "traceback": [
      "\u001b[1;31m---------------------------------------------------------------------------\u001b[0m",
      "\u001b[1;31mUnboundLocalError\u001b[0m                         Traceback (most recent call last)",
      "Cell \u001b[1;32mIn[1], line 127\u001b[0m, in \u001b[0;36mMiniPlayer.update_ui\u001b[1;34m(self)\u001b[0m\n\u001b[0;32m    123\u001b[0m \u001b[38;5;28;01mif\u001b[39;00m \u001b[38;5;129;01mnot\u001b[39;00m \u001b[38;5;28mself\u001b[39m\u001b[38;5;241m.\u001b[39mdata_queue\u001b[38;5;241m.\u001b[39mempty():\n\u001b[0;32m    124\u001b[0m     val \u001b[38;5;241m=\u001b[39m \u001b[38;5;28mself\u001b[39m\u001b[38;5;241m.\u001b[39mdata_queue\u001b[38;5;241m.\u001b[39mget()\n\u001b[1;32m--> 127\u001b[0m \u001b[38;5;28;01mif\u001b[39;00m \u001b[43mval\u001b[49m \u001b[38;5;241m==\u001b[39m \u001b[38;5;124m'\u001b[39m\u001b[38;5;124m<\u001b[39m\u001b[38;5;124m'\u001b[39m:\n\u001b[0;32m    128\u001b[0m     \u001b[38;5;28mself\u001b[39m\u001b[38;5;241m.\u001b[39mmediaplayer\u001b[38;5;241m.\u001b[39mset_rate(\u001b[38;5;28mself\u001b[39m\u001b[38;5;241m.\u001b[39mmediaplayer\u001b[38;5;241m.\u001b[39mget_rate() \u001b[38;5;241m*\u001b[39m \u001b[38;5;241m0.5\u001b[39m)\n\u001b[0;32m    129\u001b[0m     \u001b[38;5;28;01mreturn\u001b[39;00m\n",
      "\u001b[1;31mUnboundLocalError\u001b[0m: local variable 'val' referenced before assignment"
     ]
    },
    {
     "ename": "UnboundLocalError",
     "evalue": "local variable 'val' referenced before assignment",
     "output_type": "error",
     "traceback": [
      "\u001b[1;31m---------------------------------------------------------------------------\u001b[0m",
      "\u001b[1;31mUnboundLocalError\u001b[0m                         Traceback (most recent call last)",
      "Cell \u001b[1;32mIn[1], line 127\u001b[0m, in \u001b[0;36mMiniPlayer.update_ui\u001b[1;34m(self)\u001b[0m\n\u001b[0;32m    123\u001b[0m \u001b[38;5;28;01mif\u001b[39;00m \u001b[38;5;129;01mnot\u001b[39;00m \u001b[38;5;28mself\u001b[39m\u001b[38;5;241m.\u001b[39mdata_queue\u001b[38;5;241m.\u001b[39mempty():\n\u001b[0;32m    124\u001b[0m     val \u001b[38;5;241m=\u001b[39m \u001b[38;5;28mself\u001b[39m\u001b[38;5;241m.\u001b[39mdata_queue\u001b[38;5;241m.\u001b[39mget()\n\u001b[1;32m--> 127\u001b[0m \u001b[38;5;28;01mif\u001b[39;00m \u001b[43mval\u001b[49m \u001b[38;5;241m==\u001b[39m \u001b[38;5;124m'\u001b[39m\u001b[38;5;124m<\u001b[39m\u001b[38;5;124m'\u001b[39m:\n\u001b[0;32m    128\u001b[0m     \u001b[38;5;28mself\u001b[39m\u001b[38;5;241m.\u001b[39mmediaplayer\u001b[38;5;241m.\u001b[39mset_rate(\u001b[38;5;28mself\u001b[39m\u001b[38;5;241m.\u001b[39mmediaplayer\u001b[38;5;241m.\u001b[39mget_rate() \u001b[38;5;241m*\u001b[39m \u001b[38;5;241m0.5\u001b[39m)\n\u001b[0;32m    129\u001b[0m     \u001b[38;5;28;01mreturn\u001b[39;00m\n",
      "\u001b[1;31mUnboundLocalError\u001b[0m: local variable 'val' referenced before assignment"
     ]
    },
    {
     "ename": "UnboundLocalError",
     "evalue": "local variable 'val' referenced before assignment",
     "output_type": "error",
     "traceback": [
      "\u001b[1;31m---------------------------------------------------------------------------\u001b[0m",
      "\u001b[1;31mUnboundLocalError\u001b[0m                         Traceback (most recent call last)",
      "Cell \u001b[1;32mIn[1], line 127\u001b[0m, in \u001b[0;36mMiniPlayer.update_ui\u001b[1;34m(self)\u001b[0m\n\u001b[0;32m    123\u001b[0m \u001b[38;5;28;01mif\u001b[39;00m \u001b[38;5;129;01mnot\u001b[39;00m \u001b[38;5;28mself\u001b[39m\u001b[38;5;241m.\u001b[39mdata_queue\u001b[38;5;241m.\u001b[39mempty():\n\u001b[0;32m    124\u001b[0m     val \u001b[38;5;241m=\u001b[39m \u001b[38;5;28mself\u001b[39m\u001b[38;5;241m.\u001b[39mdata_queue\u001b[38;5;241m.\u001b[39mget()\n\u001b[1;32m--> 127\u001b[0m \u001b[38;5;28;01mif\u001b[39;00m \u001b[43mval\u001b[49m \u001b[38;5;241m==\u001b[39m \u001b[38;5;124m'\u001b[39m\u001b[38;5;124m<\u001b[39m\u001b[38;5;124m'\u001b[39m:\n\u001b[0;32m    128\u001b[0m     \u001b[38;5;28mself\u001b[39m\u001b[38;5;241m.\u001b[39mmediaplayer\u001b[38;5;241m.\u001b[39mset_rate(\u001b[38;5;28mself\u001b[39m\u001b[38;5;241m.\u001b[39mmediaplayer\u001b[38;5;241m.\u001b[39mget_rate() \u001b[38;5;241m*\u001b[39m \u001b[38;5;241m0.5\u001b[39m)\n\u001b[0;32m    129\u001b[0m     \u001b[38;5;28;01mreturn\u001b[39;00m\n",
      "\u001b[1;31mUnboundLocalError\u001b[0m: local variable 'val' referenced before assignment"
     ]
    },
    {
     "ename": "UnboundLocalError",
     "evalue": "local variable 'val' referenced before assignment",
     "output_type": "error",
     "traceback": [
      "\u001b[1;31m---------------------------------------------------------------------------\u001b[0m",
      "\u001b[1;31mUnboundLocalError\u001b[0m                         Traceback (most recent call last)",
      "Cell \u001b[1;32mIn[1], line 127\u001b[0m, in \u001b[0;36mMiniPlayer.update_ui\u001b[1;34m(self)\u001b[0m\n\u001b[0;32m    123\u001b[0m \u001b[38;5;28;01mif\u001b[39;00m \u001b[38;5;129;01mnot\u001b[39;00m \u001b[38;5;28mself\u001b[39m\u001b[38;5;241m.\u001b[39mdata_queue\u001b[38;5;241m.\u001b[39mempty():\n\u001b[0;32m    124\u001b[0m     val \u001b[38;5;241m=\u001b[39m \u001b[38;5;28mself\u001b[39m\u001b[38;5;241m.\u001b[39mdata_queue\u001b[38;5;241m.\u001b[39mget()\n\u001b[1;32m--> 127\u001b[0m \u001b[38;5;28;01mif\u001b[39;00m \u001b[43mval\u001b[49m \u001b[38;5;241m==\u001b[39m \u001b[38;5;124m'\u001b[39m\u001b[38;5;124m<\u001b[39m\u001b[38;5;124m'\u001b[39m:\n\u001b[0;32m    128\u001b[0m     \u001b[38;5;28mself\u001b[39m\u001b[38;5;241m.\u001b[39mmediaplayer\u001b[38;5;241m.\u001b[39mset_rate(\u001b[38;5;28mself\u001b[39m\u001b[38;5;241m.\u001b[39mmediaplayer\u001b[38;5;241m.\u001b[39mget_rate() \u001b[38;5;241m*\u001b[39m \u001b[38;5;241m0.5\u001b[39m)\n\u001b[0;32m    129\u001b[0m     \u001b[38;5;28;01mreturn\u001b[39;00m\n",
      "\u001b[1;31mUnboundLocalError\u001b[0m: local variable 'val' referenced before assignment"
     ]
    },
    {
     "ename": "UnboundLocalError",
     "evalue": "local variable 'val' referenced before assignment",
     "output_type": "error",
     "traceback": [
      "\u001b[1;31m---------------------------------------------------------------------------\u001b[0m",
      "\u001b[1;31mUnboundLocalError\u001b[0m                         Traceback (most recent call last)",
      "Cell \u001b[1;32mIn[1], line 127\u001b[0m, in \u001b[0;36mMiniPlayer.update_ui\u001b[1;34m(self)\u001b[0m\n\u001b[0;32m    123\u001b[0m \u001b[38;5;28;01mif\u001b[39;00m \u001b[38;5;129;01mnot\u001b[39;00m \u001b[38;5;28mself\u001b[39m\u001b[38;5;241m.\u001b[39mdata_queue\u001b[38;5;241m.\u001b[39mempty():\n\u001b[0;32m    124\u001b[0m     val \u001b[38;5;241m=\u001b[39m \u001b[38;5;28mself\u001b[39m\u001b[38;5;241m.\u001b[39mdata_queue\u001b[38;5;241m.\u001b[39mget()\n\u001b[1;32m--> 127\u001b[0m \u001b[38;5;28;01mif\u001b[39;00m \u001b[43mval\u001b[49m \u001b[38;5;241m==\u001b[39m \u001b[38;5;124m'\u001b[39m\u001b[38;5;124m<\u001b[39m\u001b[38;5;124m'\u001b[39m:\n\u001b[0;32m    128\u001b[0m     \u001b[38;5;28mself\u001b[39m\u001b[38;5;241m.\u001b[39mmediaplayer\u001b[38;5;241m.\u001b[39mset_rate(\u001b[38;5;28mself\u001b[39m\u001b[38;5;241m.\u001b[39mmediaplayer\u001b[38;5;241m.\u001b[39mget_rate() \u001b[38;5;241m*\u001b[39m \u001b[38;5;241m0.5\u001b[39m)\n\u001b[0;32m    129\u001b[0m     \u001b[38;5;28;01mreturn\u001b[39;00m\n",
      "\u001b[1;31mUnboundLocalError\u001b[0m: local variable 'val' referenced before assignment"
     ]
    },
    {
     "ename": "UnboundLocalError",
     "evalue": "local variable 'val' referenced before assignment",
     "output_type": "error",
     "traceback": [
      "\u001b[1;31m---------------------------------------------------------------------------\u001b[0m",
      "\u001b[1;31mUnboundLocalError\u001b[0m                         Traceback (most recent call last)",
      "Cell \u001b[1;32mIn[1], line 127\u001b[0m, in \u001b[0;36mMiniPlayer.update_ui\u001b[1;34m(self)\u001b[0m\n\u001b[0;32m    123\u001b[0m \u001b[38;5;28;01mif\u001b[39;00m \u001b[38;5;129;01mnot\u001b[39;00m \u001b[38;5;28mself\u001b[39m\u001b[38;5;241m.\u001b[39mdata_queue\u001b[38;5;241m.\u001b[39mempty():\n\u001b[0;32m    124\u001b[0m     val \u001b[38;5;241m=\u001b[39m \u001b[38;5;28mself\u001b[39m\u001b[38;5;241m.\u001b[39mdata_queue\u001b[38;5;241m.\u001b[39mget()\n\u001b[1;32m--> 127\u001b[0m \u001b[38;5;28;01mif\u001b[39;00m \u001b[43mval\u001b[49m \u001b[38;5;241m==\u001b[39m \u001b[38;5;124m'\u001b[39m\u001b[38;5;124m<\u001b[39m\u001b[38;5;124m'\u001b[39m:\n\u001b[0;32m    128\u001b[0m     \u001b[38;5;28mself\u001b[39m\u001b[38;5;241m.\u001b[39mmediaplayer\u001b[38;5;241m.\u001b[39mset_rate(\u001b[38;5;28mself\u001b[39m\u001b[38;5;241m.\u001b[39mmediaplayer\u001b[38;5;241m.\u001b[39mget_rate() \u001b[38;5;241m*\u001b[39m \u001b[38;5;241m0.5\u001b[39m)\n\u001b[0;32m    129\u001b[0m     \u001b[38;5;28;01mreturn\u001b[39;00m\n",
      "\u001b[1;31mUnboundLocalError\u001b[0m: local variable 'val' referenced before assignment"
     ]
    },
    {
     "ename": "UnboundLocalError",
     "evalue": "local variable 'val' referenced before assignment",
     "output_type": "error",
     "traceback": [
      "\u001b[1;31m---------------------------------------------------------------------------\u001b[0m",
      "\u001b[1;31mUnboundLocalError\u001b[0m                         Traceback (most recent call last)",
      "Cell \u001b[1;32mIn[1], line 127\u001b[0m, in \u001b[0;36mMiniPlayer.update_ui\u001b[1;34m(self)\u001b[0m\n\u001b[0;32m    123\u001b[0m \u001b[38;5;28;01mif\u001b[39;00m \u001b[38;5;129;01mnot\u001b[39;00m \u001b[38;5;28mself\u001b[39m\u001b[38;5;241m.\u001b[39mdata_queue\u001b[38;5;241m.\u001b[39mempty():\n\u001b[0;32m    124\u001b[0m     val \u001b[38;5;241m=\u001b[39m \u001b[38;5;28mself\u001b[39m\u001b[38;5;241m.\u001b[39mdata_queue\u001b[38;5;241m.\u001b[39mget()\n\u001b[1;32m--> 127\u001b[0m \u001b[38;5;28;01mif\u001b[39;00m \u001b[43mval\u001b[49m \u001b[38;5;241m==\u001b[39m \u001b[38;5;124m'\u001b[39m\u001b[38;5;124m<\u001b[39m\u001b[38;5;124m'\u001b[39m:\n\u001b[0;32m    128\u001b[0m     \u001b[38;5;28mself\u001b[39m\u001b[38;5;241m.\u001b[39mmediaplayer\u001b[38;5;241m.\u001b[39mset_rate(\u001b[38;5;28mself\u001b[39m\u001b[38;5;241m.\u001b[39mmediaplayer\u001b[38;5;241m.\u001b[39mget_rate() \u001b[38;5;241m*\u001b[39m \u001b[38;5;241m0.5\u001b[39m)\n\u001b[0;32m    129\u001b[0m     \u001b[38;5;28;01mreturn\u001b[39;00m\n",
      "\u001b[1;31mUnboundLocalError\u001b[0m: local variable 'val' referenced before assignment"
     ]
    },
    {
     "ename": "UnboundLocalError",
     "evalue": "local variable 'val' referenced before assignment",
     "output_type": "error",
     "traceback": [
      "\u001b[1;31m---------------------------------------------------------------------------\u001b[0m",
      "\u001b[1;31mUnboundLocalError\u001b[0m                         Traceback (most recent call last)",
      "Cell \u001b[1;32mIn[1], line 127\u001b[0m, in \u001b[0;36mMiniPlayer.update_ui\u001b[1;34m(self)\u001b[0m\n\u001b[0;32m    123\u001b[0m \u001b[38;5;28;01mif\u001b[39;00m \u001b[38;5;129;01mnot\u001b[39;00m \u001b[38;5;28mself\u001b[39m\u001b[38;5;241m.\u001b[39mdata_queue\u001b[38;5;241m.\u001b[39mempty():\n\u001b[0;32m    124\u001b[0m     val \u001b[38;5;241m=\u001b[39m \u001b[38;5;28mself\u001b[39m\u001b[38;5;241m.\u001b[39mdata_queue\u001b[38;5;241m.\u001b[39mget()\n\u001b[1;32m--> 127\u001b[0m \u001b[38;5;28;01mif\u001b[39;00m \u001b[43mval\u001b[49m \u001b[38;5;241m==\u001b[39m \u001b[38;5;124m'\u001b[39m\u001b[38;5;124m<\u001b[39m\u001b[38;5;124m'\u001b[39m:\n\u001b[0;32m    128\u001b[0m     \u001b[38;5;28mself\u001b[39m\u001b[38;5;241m.\u001b[39mmediaplayer\u001b[38;5;241m.\u001b[39mset_rate(\u001b[38;5;28mself\u001b[39m\u001b[38;5;241m.\u001b[39mmediaplayer\u001b[38;5;241m.\u001b[39mget_rate() \u001b[38;5;241m*\u001b[39m \u001b[38;5;241m0.5\u001b[39m)\n\u001b[0;32m    129\u001b[0m     \u001b[38;5;28;01mreturn\u001b[39;00m\n",
      "\u001b[1;31mUnboundLocalError\u001b[0m: local variable 'val' referenced before assignment"
     ]
    },
    {
     "ename": "UnboundLocalError",
     "evalue": "local variable 'val' referenced before assignment",
     "output_type": "error",
     "traceback": [
      "\u001b[1;31m---------------------------------------------------------------------------\u001b[0m",
      "\u001b[1;31mUnboundLocalError\u001b[0m                         Traceback (most recent call last)",
      "Cell \u001b[1;32mIn[1], line 127\u001b[0m, in \u001b[0;36mMiniPlayer.update_ui\u001b[1;34m(self)\u001b[0m\n\u001b[0;32m    123\u001b[0m \u001b[38;5;28;01mif\u001b[39;00m \u001b[38;5;129;01mnot\u001b[39;00m \u001b[38;5;28mself\u001b[39m\u001b[38;5;241m.\u001b[39mdata_queue\u001b[38;5;241m.\u001b[39mempty():\n\u001b[0;32m    124\u001b[0m     val \u001b[38;5;241m=\u001b[39m \u001b[38;5;28mself\u001b[39m\u001b[38;5;241m.\u001b[39mdata_queue\u001b[38;5;241m.\u001b[39mget()\n\u001b[1;32m--> 127\u001b[0m \u001b[38;5;28;01mif\u001b[39;00m \u001b[43mval\u001b[49m \u001b[38;5;241m==\u001b[39m \u001b[38;5;124m'\u001b[39m\u001b[38;5;124m<\u001b[39m\u001b[38;5;124m'\u001b[39m:\n\u001b[0;32m    128\u001b[0m     \u001b[38;5;28mself\u001b[39m\u001b[38;5;241m.\u001b[39mmediaplayer\u001b[38;5;241m.\u001b[39mset_rate(\u001b[38;5;28mself\u001b[39m\u001b[38;5;241m.\u001b[39mmediaplayer\u001b[38;5;241m.\u001b[39mget_rate() \u001b[38;5;241m*\u001b[39m \u001b[38;5;241m0.5\u001b[39m)\n\u001b[0;32m    129\u001b[0m     \u001b[38;5;28;01mreturn\u001b[39;00m\n",
      "\u001b[1;31mUnboundLocalError\u001b[0m: local variable 'val' referenced before assignment"
     ]
    },
    {
     "ename": "UnboundLocalError",
     "evalue": "local variable 'val' referenced before assignment",
     "output_type": "error",
     "traceback": [
      "\u001b[1;31m---------------------------------------------------------------------------\u001b[0m",
      "\u001b[1;31mUnboundLocalError\u001b[0m                         Traceback (most recent call last)",
      "Cell \u001b[1;32mIn[1], line 127\u001b[0m, in \u001b[0;36mMiniPlayer.update_ui\u001b[1;34m(self)\u001b[0m\n\u001b[0;32m    123\u001b[0m \u001b[38;5;28;01mif\u001b[39;00m \u001b[38;5;129;01mnot\u001b[39;00m \u001b[38;5;28mself\u001b[39m\u001b[38;5;241m.\u001b[39mdata_queue\u001b[38;5;241m.\u001b[39mempty():\n\u001b[0;32m    124\u001b[0m     val \u001b[38;5;241m=\u001b[39m \u001b[38;5;28mself\u001b[39m\u001b[38;5;241m.\u001b[39mdata_queue\u001b[38;5;241m.\u001b[39mget()\n\u001b[1;32m--> 127\u001b[0m \u001b[38;5;28;01mif\u001b[39;00m \u001b[43mval\u001b[49m \u001b[38;5;241m==\u001b[39m \u001b[38;5;124m'\u001b[39m\u001b[38;5;124m<\u001b[39m\u001b[38;5;124m'\u001b[39m:\n\u001b[0;32m    128\u001b[0m     \u001b[38;5;28mself\u001b[39m\u001b[38;5;241m.\u001b[39mmediaplayer\u001b[38;5;241m.\u001b[39mset_rate(\u001b[38;5;28mself\u001b[39m\u001b[38;5;241m.\u001b[39mmediaplayer\u001b[38;5;241m.\u001b[39mget_rate() \u001b[38;5;241m*\u001b[39m \u001b[38;5;241m0.5\u001b[39m)\n\u001b[0;32m    129\u001b[0m     \u001b[38;5;28;01mreturn\u001b[39;00m\n",
      "\u001b[1;31mUnboundLocalError\u001b[0m: local variable 'val' referenced before assignment"
     ]
    },
    {
     "ename": "UnboundLocalError",
     "evalue": "local variable 'val' referenced before assignment",
     "output_type": "error",
     "traceback": [
      "\u001b[1;31m---------------------------------------------------------------------------\u001b[0m",
      "\u001b[1;31mUnboundLocalError\u001b[0m                         Traceback (most recent call last)",
      "Cell \u001b[1;32mIn[1], line 127\u001b[0m, in \u001b[0;36mMiniPlayer.update_ui\u001b[1;34m(self)\u001b[0m\n\u001b[0;32m    123\u001b[0m \u001b[38;5;28;01mif\u001b[39;00m \u001b[38;5;129;01mnot\u001b[39;00m \u001b[38;5;28mself\u001b[39m\u001b[38;5;241m.\u001b[39mdata_queue\u001b[38;5;241m.\u001b[39mempty():\n\u001b[0;32m    124\u001b[0m     val \u001b[38;5;241m=\u001b[39m \u001b[38;5;28mself\u001b[39m\u001b[38;5;241m.\u001b[39mdata_queue\u001b[38;5;241m.\u001b[39mget()\n\u001b[1;32m--> 127\u001b[0m \u001b[38;5;28;01mif\u001b[39;00m \u001b[43mval\u001b[49m \u001b[38;5;241m==\u001b[39m \u001b[38;5;124m'\u001b[39m\u001b[38;5;124m<\u001b[39m\u001b[38;5;124m'\u001b[39m:\n\u001b[0;32m    128\u001b[0m     \u001b[38;5;28mself\u001b[39m\u001b[38;5;241m.\u001b[39mmediaplayer\u001b[38;5;241m.\u001b[39mset_rate(\u001b[38;5;28mself\u001b[39m\u001b[38;5;241m.\u001b[39mmediaplayer\u001b[38;5;241m.\u001b[39mget_rate() \u001b[38;5;241m*\u001b[39m \u001b[38;5;241m0.5\u001b[39m)\n\u001b[0;32m    129\u001b[0m     \u001b[38;5;28;01mreturn\u001b[39;00m\n",
      "\u001b[1;31mUnboundLocalError\u001b[0m: local variable 'val' referenced before assignment"
     ]
    },
    {
     "ename": "UnboundLocalError",
     "evalue": "local variable 'val' referenced before assignment",
     "output_type": "error",
     "traceback": [
      "\u001b[1;31m---------------------------------------------------------------------------\u001b[0m",
      "\u001b[1;31mUnboundLocalError\u001b[0m                         Traceback (most recent call last)",
      "Cell \u001b[1;32mIn[1], line 127\u001b[0m, in \u001b[0;36mMiniPlayer.update_ui\u001b[1;34m(self)\u001b[0m\n\u001b[0;32m    123\u001b[0m \u001b[38;5;28;01mif\u001b[39;00m \u001b[38;5;129;01mnot\u001b[39;00m \u001b[38;5;28mself\u001b[39m\u001b[38;5;241m.\u001b[39mdata_queue\u001b[38;5;241m.\u001b[39mempty():\n\u001b[0;32m    124\u001b[0m     val \u001b[38;5;241m=\u001b[39m \u001b[38;5;28mself\u001b[39m\u001b[38;5;241m.\u001b[39mdata_queue\u001b[38;5;241m.\u001b[39mget()\n\u001b[1;32m--> 127\u001b[0m \u001b[38;5;28;01mif\u001b[39;00m \u001b[43mval\u001b[49m \u001b[38;5;241m==\u001b[39m \u001b[38;5;124m'\u001b[39m\u001b[38;5;124m<\u001b[39m\u001b[38;5;124m'\u001b[39m:\n\u001b[0;32m    128\u001b[0m     \u001b[38;5;28mself\u001b[39m\u001b[38;5;241m.\u001b[39mmediaplayer\u001b[38;5;241m.\u001b[39mset_rate(\u001b[38;5;28mself\u001b[39m\u001b[38;5;241m.\u001b[39mmediaplayer\u001b[38;5;241m.\u001b[39mget_rate() \u001b[38;5;241m*\u001b[39m \u001b[38;5;241m0.5\u001b[39m)\n\u001b[0;32m    129\u001b[0m     \u001b[38;5;28;01mreturn\u001b[39;00m\n",
      "\u001b[1;31mUnboundLocalError\u001b[0m: local variable 'val' referenced before assignment"
     ]
    },
    {
     "ename": "UnboundLocalError",
     "evalue": "local variable 'val' referenced before assignment",
     "output_type": "error",
     "traceback": [
      "\u001b[1;31m---------------------------------------------------------------------------\u001b[0m",
      "\u001b[1;31mUnboundLocalError\u001b[0m                         Traceback (most recent call last)",
      "Cell \u001b[1;32mIn[1], line 127\u001b[0m, in \u001b[0;36mMiniPlayer.update_ui\u001b[1;34m(self)\u001b[0m\n\u001b[0;32m    123\u001b[0m \u001b[38;5;28;01mif\u001b[39;00m \u001b[38;5;129;01mnot\u001b[39;00m \u001b[38;5;28mself\u001b[39m\u001b[38;5;241m.\u001b[39mdata_queue\u001b[38;5;241m.\u001b[39mempty():\n\u001b[0;32m    124\u001b[0m     val \u001b[38;5;241m=\u001b[39m \u001b[38;5;28mself\u001b[39m\u001b[38;5;241m.\u001b[39mdata_queue\u001b[38;5;241m.\u001b[39mget()\n\u001b[1;32m--> 127\u001b[0m \u001b[38;5;28;01mif\u001b[39;00m \u001b[43mval\u001b[49m \u001b[38;5;241m==\u001b[39m \u001b[38;5;124m'\u001b[39m\u001b[38;5;124m<\u001b[39m\u001b[38;5;124m'\u001b[39m:\n\u001b[0;32m    128\u001b[0m     \u001b[38;5;28mself\u001b[39m\u001b[38;5;241m.\u001b[39mmediaplayer\u001b[38;5;241m.\u001b[39mset_rate(\u001b[38;5;28mself\u001b[39m\u001b[38;5;241m.\u001b[39mmediaplayer\u001b[38;5;241m.\u001b[39mget_rate() \u001b[38;5;241m*\u001b[39m \u001b[38;5;241m0.5\u001b[39m)\n\u001b[0;32m    129\u001b[0m     \u001b[38;5;28;01mreturn\u001b[39;00m\n",
      "\u001b[1;31mUnboundLocalError\u001b[0m: local variable 'val' referenced before assignment"
     ]
    },
    {
     "ename": "UnboundLocalError",
     "evalue": "local variable 'val' referenced before assignment",
     "output_type": "error",
     "traceback": [
      "\u001b[1;31m---------------------------------------------------------------------------\u001b[0m",
      "\u001b[1;31mUnboundLocalError\u001b[0m                         Traceback (most recent call last)",
      "Cell \u001b[1;32mIn[1], line 127\u001b[0m, in \u001b[0;36mMiniPlayer.update_ui\u001b[1;34m(self)\u001b[0m\n\u001b[0;32m    123\u001b[0m \u001b[38;5;28;01mif\u001b[39;00m \u001b[38;5;129;01mnot\u001b[39;00m \u001b[38;5;28mself\u001b[39m\u001b[38;5;241m.\u001b[39mdata_queue\u001b[38;5;241m.\u001b[39mempty():\n\u001b[0;32m    124\u001b[0m     val \u001b[38;5;241m=\u001b[39m \u001b[38;5;28mself\u001b[39m\u001b[38;5;241m.\u001b[39mdata_queue\u001b[38;5;241m.\u001b[39mget()\n\u001b[1;32m--> 127\u001b[0m \u001b[38;5;28;01mif\u001b[39;00m \u001b[43mval\u001b[49m \u001b[38;5;241m==\u001b[39m \u001b[38;5;124m'\u001b[39m\u001b[38;5;124m<\u001b[39m\u001b[38;5;124m'\u001b[39m:\n\u001b[0;32m    128\u001b[0m     \u001b[38;5;28mself\u001b[39m\u001b[38;5;241m.\u001b[39mmediaplayer\u001b[38;5;241m.\u001b[39mset_rate(\u001b[38;5;28mself\u001b[39m\u001b[38;5;241m.\u001b[39mmediaplayer\u001b[38;5;241m.\u001b[39mget_rate() \u001b[38;5;241m*\u001b[39m \u001b[38;5;241m0.5\u001b[39m)\n\u001b[0;32m    129\u001b[0m     \u001b[38;5;28;01mreturn\u001b[39;00m\n",
      "\u001b[1;31mUnboundLocalError\u001b[0m: local variable 'val' referenced before assignment"
     ]
    },
    {
     "ename": "UnboundLocalError",
     "evalue": "local variable 'val' referenced before assignment",
     "output_type": "error",
     "traceback": [
      "\u001b[1;31m---------------------------------------------------------------------------\u001b[0m",
      "\u001b[1;31mUnboundLocalError\u001b[0m                         Traceback (most recent call last)",
      "Cell \u001b[1;32mIn[1], line 127\u001b[0m, in \u001b[0;36mMiniPlayer.update_ui\u001b[1;34m(self)\u001b[0m\n\u001b[0;32m    123\u001b[0m \u001b[38;5;28;01mif\u001b[39;00m \u001b[38;5;129;01mnot\u001b[39;00m \u001b[38;5;28mself\u001b[39m\u001b[38;5;241m.\u001b[39mdata_queue\u001b[38;5;241m.\u001b[39mempty():\n\u001b[0;32m    124\u001b[0m     val \u001b[38;5;241m=\u001b[39m \u001b[38;5;28mself\u001b[39m\u001b[38;5;241m.\u001b[39mdata_queue\u001b[38;5;241m.\u001b[39mget()\n\u001b[1;32m--> 127\u001b[0m \u001b[38;5;28;01mif\u001b[39;00m \u001b[43mval\u001b[49m \u001b[38;5;241m==\u001b[39m \u001b[38;5;124m'\u001b[39m\u001b[38;5;124m<\u001b[39m\u001b[38;5;124m'\u001b[39m:\n\u001b[0;32m    128\u001b[0m     \u001b[38;5;28mself\u001b[39m\u001b[38;5;241m.\u001b[39mmediaplayer\u001b[38;5;241m.\u001b[39mset_rate(\u001b[38;5;28mself\u001b[39m\u001b[38;5;241m.\u001b[39mmediaplayer\u001b[38;5;241m.\u001b[39mget_rate() \u001b[38;5;241m*\u001b[39m \u001b[38;5;241m0.5\u001b[39m)\n\u001b[0;32m    129\u001b[0m     \u001b[38;5;28;01mreturn\u001b[39;00m\n",
      "\u001b[1;31mUnboundLocalError\u001b[0m: local variable 'val' referenced before assignment"
     ]
    },
    {
     "ename": "UnboundLocalError",
     "evalue": "local variable 'val' referenced before assignment",
     "output_type": "error",
     "traceback": [
      "\u001b[1;31m---------------------------------------------------------------------------\u001b[0m",
      "\u001b[1;31mUnboundLocalError\u001b[0m                         Traceback (most recent call last)",
      "Cell \u001b[1;32mIn[1], line 127\u001b[0m, in \u001b[0;36mMiniPlayer.update_ui\u001b[1;34m(self)\u001b[0m\n\u001b[0;32m    123\u001b[0m \u001b[38;5;28;01mif\u001b[39;00m \u001b[38;5;129;01mnot\u001b[39;00m \u001b[38;5;28mself\u001b[39m\u001b[38;5;241m.\u001b[39mdata_queue\u001b[38;5;241m.\u001b[39mempty():\n\u001b[0;32m    124\u001b[0m     val \u001b[38;5;241m=\u001b[39m \u001b[38;5;28mself\u001b[39m\u001b[38;5;241m.\u001b[39mdata_queue\u001b[38;5;241m.\u001b[39mget()\n\u001b[1;32m--> 127\u001b[0m \u001b[38;5;28;01mif\u001b[39;00m \u001b[43mval\u001b[49m \u001b[38;5;241m==\u001b[39m \u001b[38;5;124m'\u001b[39m\u001b[38;5;124m<\u001b[39m\u001b[38;5;124m'\u001b[39m:\n\u001b[0;32m    128\u001b[0m     \u001b[38;5;28mself\u001b[39m\u001b[38;5;241m.\u001b[39mmediaplayer\u001b[38;5;241m.\u001b[39mset_rate(\u001b[38;5;28mself\u001b[39m\u001b[38;5;241m.\u001b[39mmediaplayer\u001b[38;5;241m.\u001b[39mget_rate() \u001b[38;5;241m*\u001b[39m \u001b[38;5;241m0.5\u001b[39m)\n\u001b[0;32m    129\u001b[0m     \u001b[38;5;28;01mreturn\u001b[39;00m\n",
      "\u001b[1;31mUnboundLocalError\u001b[0m: local variable 'val' referenced before assignment"
     ]
    },
    {
     "ename": "UnboundLocalError",
     "evalue": "local variable 'val' referenced before assignment",
     "output_type": "error",
     "traceback": [
      "\u001b[1;31m---------------------------------------------------------------------------\u001b[0m",
      "\u001b[1;31mUnboundLocalError\u001b[0m                         Traceback (most recent call last)",
      "Cell \u001b[1;32mIn[1], line 127\u001b[0m, in \u001b[0;36mMiniPlayer.update_ui\u001b[1;34m(self)\u001b[0m\n\u001b[0;32m    123\u001b[0m \u001b[38;5;28;01mif\u001b[39;00m \u001b[38;5;129;01mnot\u001b[39;00m \u001b[38;5;28mself\u001b[39m\u001b[38;5;241m.\u001b[39mdata_queue\u001b[38;5;241m.\u001b[39mempty():\n\u001b[0;32m    124\u001b[0m     val \u001b[38;5;241m=\u001b[39m \u001b[38;5;28mself\u001b[39m\u001b[38;5;241m.\u001b[39mdata_queue\u001b[38;5;241m.\u001b[39mget()\n\u001b[1;32m--> 127\u001b[0m \u001b[38;5;28;01mif\u001b[39;00m \u001b[43mval\u001b[49m \u001b[38;5;241m==\u001b[39m \u001b[38;5;124m'\u001b[39m\u001b[38;5;124m<\u001b[39m\u001b[38;5;124m'\u001b[39m:\n\u001b[0;32m    128\u001b[0m     \u001b[38;5;28mself\u001b[39m\u001b[38;5;241m.\u001b[39mmediaplayer\u001b[38;5;241m.\u001b[39mset_rate(\u001b[38;5;28mself\u001b[39m\u001b[38;5;241m.\u001b[39mmediaplayer\u001b[38;5;241m.\u001b[39mget_rate() \u001b[38;5;241m*\u001b[39m \u001b[38;5;241m0.5\u001b[39m)\n\u001b[0;32m    129\u001b[0m     \u001b[38;5;28;01mreturn\u001b[39;00m\n",
      "\u001b[1;31mUnboundLocalError\u001b[0m: local variable 'val' referenced before assignment"
     ]
    },
    {
     "ename": "UnboundLocalError",
     "evalue": "local variable 'val' referenced before assignment",
     "output_type": "error",
     "traceback": [
      "\u001b[1;31m---------------------------------------------------------------------------\u001b[0m",
      "\u001b[1;31mUnboundLocalError\u001b[0m                         Traceback (most recent call last)",
      "Cell \u001b[1;32mIn[1], line 127\u001b[0m, in \u001b[0;36mMiniPlayer.update_ui\u001b[1;34m(self)\u001b[0m\n\u001b[0;32m    123\u001b[0m \u001b[38;5;28;01mif\u001b[39;00m \u001b[38;5;129;01mnot\u001b[39;00m \u001b[38;5;28mself\u001b[39m\u001b[38;5;241m.\u001b[39mdata_queue\u001b[38;5;241m.\u001b[39mempty():\n\u001b[0;32m    124\u001b[0m     val \u001b[38;5;241m=\u001b[39m \u001b[38;5;28mself\u001b[39m\u001b[38;5;241m.\u001b[39mdata_queue\u001b[38;5;241m.\u001b[39mget()\n\u001b[1;32m--> 127\u001b[0m \u001b[38;5;28;01mif\u001b[39;00m \u001b[43mval\u001b[49m \u001b[38;5;241m==\u001b[39m \u001b[38;5;124m'\u001b[39m\u001b[38;5;124m<\u001b[39m\u001b[38;5;124m'\u001b[39m:\n\u001b[0;32m    128\u001b[0m     \u001b[38;5;28mself\u001b[39m\u001b[38;5;241m.\u001b[39mmediaplayer\u001b[38;5;241m.\u001b[39mset_rate(\u001b[38;5;28mself\u001b[39m\u001b[38;5;241m.\u001b[39mmediaplayer\u001b[38;5;241m.\u001b[39mget_rate() \u001b[38;5;241m*\u001b[39m \u001b[38;5;241m0.5\u001b[39m)\n\u001b[0;32m    129\u001b[0m     \u001b[38;5;28;01mreturn\u001b[39;00m\n",
      "\u001b[1;31mUnboundLocalError\u001b[0m: local variable 'val' referenced before assignment"
     ]
    },
    {
     "ename": "UnboundLocalError",
     "evalue": "local variable 'val' referenced before assignment",
     "output_type": "error",
     "traceback": [
      "\u001b[1;31m---------------------------------------------------------------------------\u001b[0m",
      "\u001b[1;31mUnboundLocalError\u001b[0m                         Traceback (most recent call last)",
      "Cell \u001b[1;32mIn[1], line 127\u001b[0m, in \u001b[0;36mMiniPlayer.update_ui\u001b[1;34m(self)\u001b[0m\n\u001b[0;32m    123\u001b[0m \u001b[38;5;28;01mif\u001b[39;00m \u001b[38;5;129;01mnot\u001b[39;00m \u001b[38;5;28mself\u001b[39m\u001b[38;5;241m.\u001b[39mdata_queue\u001b[38;5;241m.\u001b[39mempty():\n\u001b[0;32m    124\u001b[0m     val \u001b[38;5;241m=\u001b[39m \u001b[38;5;28mself\u001b[39m\u001b[38;5;241m.\u001b[39mdata_queue\u001b[38;5;241m.\u001b[39mget()\n\u001b[1;32m--> 127\u001b[0m \u001b[38;5;28;01mif\u001b[39;00m \u001b[43mval\u001b[49m \u001b[38;5;241m==\u001b[39m \u001b[38;5;124m'\u001b[39m\u001b[38;5;124m<\u001b[39m\u001b[38;5;124m'\u001b[39m:\n\u001b[0;32m    128\u001b[0m     \u001b[38;5;28mself\u001b[39m\u001b[38;5;241m.\u001b[39mmediaplayer\u001b[38;5;241m.\u001b[39mset_rate(\u001b[38;5;28mself\u001b[39m\u001b[38;5;241m.\u001b[39mmediaplayer\u001b[38;5;241m.\u001b[39mget_rate() \u001b[38;5;241m*\u001b[39m \u001b[38;5;241m0.5\u001b[39m)\n\u001b[0;32m    129\u001b[0m     \u001b[38;5;28;01mreturn\u001b[39;00m\n",
      "\u001b[1;31mUnboundLocalError\u001b[0m: local variable 'val' referenced before assignment"
     ]
    },
    {
     "ename": "UnboundLocalError",
     "evalue": "local variable 'val' referenced before assignment",
     "output_type": "error",
     "traceback": [
      "\u001b[1;31m---------------------------------------------------------------------------\u001b[0m",
      "\u001b[1;31mUnboundLocalError\u001b[0m                         Traceback (most recent call last)",
      "Cell \u001b[1;32mIn[1], line 127\u001b[0m, in \u001b[0;36mMiniPlayer.update_ui\u001b[1;34m(self)\u001b[0m\n\u001b[0;32m    123\u001b[0m \u001b[38;5;28;01mif\u001b[39;00m \u001b[38;5;129;01mnot\u001b[39;00m \u001b[38;5;28mself\u001b[39m\u001b[38;5;241m.\u001b[39mdata_queue\u001b[38;5;241m.\u001b[39mempty():\n\u001b[0;32m    124\u001b[0m     val \u001b[38;5;241m=\u001b[39m \u001b[38;5;28mself\u001b[39m\u001b[38;5;241m.\u001b[39mdata_queue\u001b[38;5;241m.\u001b[39mget()\n\u001b[1;32m--> 127\u001b[0m \u001b[38;5;28;01mif\u001b[39;00m \u001b[43mval\u001b[49m \u001b[38;5;241m==\u001b[39m \u001b[38;5;124m'\u001b[39m\u001b[38;5;124m<\u001b[39m\u001b[38;5;124m'\u001b[39m:\n\u001b[0;32m    128\u001b[0m     \u001b[38;5;28mself\u001b[39m\u001b[38;5;241m.\u001b[39mmediaplayer\u001b[38;5;241m.\u001b[39mset_rate(\u001b[38;5;28mself\u001b[39m\u001b[38;5;241m.\u001b[39mmediaplayer\u001b[38;5;241m.\u001b[39mget_rate() \u001b[38;5;241m*\u001b[39m \u001b[38;5;241m0.5\u001b[39m)\n\u001b[0;32m    129\u001b[0m     \u001b[38;5;28;01mreturn\u001b[39;00m\n",
      "\u001b[1;31mUnboundLocalError\u001b[0m: local variable 'val' referenced before assignment"
     ]
    },
    {
     "ename": "UnboundLocalError",
     "evalue": "local variable 'val' referenced before assignment",
     "output_type": "error",
     "traceback": [
      "\u001b[1;31m---------------------------------------------------------------------------\u001b[0m",
      "\u001b[1;31mUnboundLocalError\u001b[0m                         Traceback (most recent call last)",
      "Cell \u001b[1;32mIn[1], line 127\u001b[0m, in \u001b[0;36mMiniPlayer.update_ui\u001b[1;34m(self)\u001b[0m\n\u001b[0;32m    123\u001b[0m \u001b[38;5;28;01mif\u001b[39;00m \u001b[38;5;129;01mnot\u001b[39;00m \u001b[38;5;28mself\u001b[39m\u001b[38;5;241m.\u001b[39mdata_queue\u001b[38;5;241m.\u001b[39mempty():\n\u001b[0;32m    124\u001b[0m     val \u001b[38;5;241m=\u001b[39m \u001b[38;5;28mself\u001b[39m\u001b[38;5;241m.\u001b[39mdata_queue\u001b[38;5;241m.\u001b[39mget()\n\u001b[1;32m--> 127\u001b[0m \u001b[38;5;28;01mif\u001b[39;00m \u001b[43mval\u001b[49m \u001b[38;5;241m==\u001b[39m \u001b[38;5;124m'\u001b[39m\u001b[38;5;124m<\u001b[39m\u001b[38;5;124m'\u001b[39m:\n\u001b[0;32m    128\u001b[0m     \u001b[38;5;28mself\u001b[39m\u001b[38;5;241m.\u001b[39mmediaplayer\u001b[38;5;241m.\u001b[39mset_rate(\u001b[38;5;28mself\u001b[39m\u001b[38;5;241m.\u001b[39mmediaplayer\u001b[38;5;241m.\u001b[39mget_rate() \u001b[38;5;241m*\u001b[39m \u001b[38;5;241m0.5\u001b[39m)\n\u001b[0;32m    129\u001b[0m     \u001b[38;5;28;01mreturn\u001b[39;00m\n",
      "\u001b[1;31mUnboundLocalError\u001b[0m: local variable 'val' referenced before assignment"
     ]
    },
    {
     "ename": "UnboundLocalError",
     "evalue": "local variable 'val' referenced before assignment",
     "output_type": "error",
     "traceback": [
      "\u001b[1;31m---------------------------------------------------------------------------\u001b[0m",
      "\u001b[1;31mUnboundLocalError\u001b[0m                         Traceback (most recent call last)",
      "Cell \u001b[1;32mIn[1], line 127\u001b[0m, in \u001b[0;36mMiniPlayer.update_ui\u001b[1;34m(self)\u001b[0m\n\u001b[0;32m    123\u001b[0m \u001b[38;5;28;01mif\u001b[39;00m \u001b[38;5;129;01mnot\u001b[39;00m \u001b[38;5;28mself\u001b[39m\u001b[38;5;241m.\u001b[39mdata_queue\u001b[38;5;241m.\u001b[39mempty():\n\u001b[0;32m    124\u001b[0m     val \u001b[38;5;241m=\u001b[39m \u001b[38;5;28mself\u001b[39m\u001b[38;5;241m.\u001b[39mdata_queue\u001b[38;5;241m.\u001b[39mget()\n\u001b[1;32m--> 127\u001b[0m \u001b[38;5;28;01mif\u001b[39;00m \u001b[43mval\u001b[49m \u001b[38;5;241m==\u001b[39m \u001b[38;5;124m'\u001b[39m\u001b[38;5;124m<\u001b[39m\u001b[38;5;124m'\u001b[39m:\n\u001b[0;32m    128\u001b[0m     \u001b[38;5;28mself\u001b[39m\u001b[38;5;241m.\u001b[39mmediaplayer\u001b[38;5;241m.\u001b[39mset_rate(\u001b[38;5;28mself\u001b[39m\u001b[38;5;241m.\u001b[39mmediaplayer\u001b[38;5;241m.\u001b[39mget_rate() \u001b[38;5;241m*\u001b[39m \u001b[38;5;241m0.5\u001b[39m)\n\u001b[0;32m    129\u001b[0m     \u001b[38;5;28;01mreturn\u001b[39;00m\n",
      "\u001b[1;31mUnboundLocalError\u001b[0m: local variable 'val' referenced before assignment"
     ]
    },
    {
     "ename": "UnboundLocalError",
     "evalue": "local variable 'val' referenced before assignment",
     "output_type": "error",
     "traceback": [
      "\u001b[1;31m---------------------------------------------------------------------------\u001b[0m",
      "\u001b[1;31mUnboundLocalError\u001b[0m                         Traceback (most recent call last)",
      "Cell \u001b[1;32mIn[1], line 127\u001b[0m, in \u001b[0;36mMiniPlayer.update_ui\u001b[1;34m(self)\u001b[0m\n\u001b[0;32m    123\u001b[0m \u001b[38;5;28;01mif\u001b[39;00m \u001b[38;5;129;01mnot\u001b[39;00m \u001b[38;5;28mself\u001b[39m\u001b[38;5;241m.\u001b[39mdata_queue\u001b[38;5;241m.\u001b[39mempty():\n\u001b[0;32m    124\u001b[0m     val \u001b[38;5;241m=\u001b[39m \u001b[38;5;28mself\u001b[39m\u001b[38;5;241m.\u001b[39mdata_queue\u001b[38;5;241m.\u001b[39mget()\n\u001b[1;32m--> 127\u001b[0m \u001b[38;5;28;01mif\u001b[39;00m \u001b[43mval\u001b[49m \u001b[38;5;241m==\u001b[39m \u001b[38;5;124m'\u001b[39m\u001b[38;5;124m<\u001b[39m\u001b[38;5;124m'\u001b[39m:\n\u001b[0;32m    128\u001b[0m     \u001b[38;5;28mself\u001b[39m\u001b[38;5;241m.\u001b[39mmediaplayer\u001b[38;5;241m.\u001b[39mset_rate(\u001b[38;5;28mself\u001b[39m\u001b[38;5;241m.\u001b[39mmediaplayer\u001b[38;5;241m.\u001b[39mget_rate() \u001b[38;5;241m*\u001b[39m \u001b[38;5;241m0.5\u001b[39m)\n\u001b[0;32m    129\u001b[0m     \u001b[38;5;28;01mreturn\u001b[39;00m\n",
      "\u001b[1;31mUnboundLocalError\u001b[0m: local variable 'val' referenced before assignment"
     ]
    },
    {
     "ename": "UnboundLocalError",
     "evalue": "local variable 'val' referenced before assignment",
     "output_type": "error",
     "traceback": [
      "\u001b[1;31m---------------------------------------------------------------------------\u001b[0m",
      "\u001b[1;31mUnboundLocalError\u001b[0m                         Traceback (most recent call last)",
      "Cell \u001b[1;32mIn[1], line 127\u001b[0m, in \u001b[0;36mMiniPlayer.update_ui\u001b[1;34m(self)\u001b[0m\n\u001b[0;32m    123\u001b[0m \u001b[38;5;28;01mif\u001b[39;00m \u001b[38;5;129;01mnot\u001b[39;00m \u001b[38;5;28mself\u001b[39m\u001b[38;5;241m.\u001b[39mdata_queue\u001b[38;5;241m.\u001b[39mempty():\n\u001b[0;32m    124\u001b[0m     val \u001b[38;5;241m=\u001b[39m \u001b[38;5;28mself\u001b[39m\u001b[38;5;241m.\u001b[39mdata_queue\u001b[38;5;241m.\u001b[39mget()\n\u001b[1;32m--> 127\u001b[0m \u001b[38;5;28;01mif\u001b[39;00m \u001b[43mval\u001b[49m \u001b[38;5;241m==\u001b[39m \u001b[38;5;124m'\u001b[39m\u001b[38;5;124m<\u001b[39m\u001b[38;5;124m'\u001b[39m:\n\u001b[0;32m    128\u001b[0m     \u001b[38;5;28mself\u001b[39m\u001b[38;5;241m.\u001b[39mmediaplayer\u001b[38;5;241m.\u001b[39mset_rate(\u001b[38;5;28mself\u001b[39m\u001b[38;5;241m.\u001b[39mmediaplayer\u001b[38;5;241m.\u001b[39mget_rate() \u001b[38;5;241m*\u001b[39m \u001b[38;5;241m0.5\u001b[39m)\n\u001b[0;32m    129\u001b[0m     \u001b[38;5;28;01mreturn\u001b[39;00m\n",
      "\u001b[1;31mUnboundLocalError\u001b[0m: local variable 'val' referenced before assignment"
     ]
    },
    {
     "ename": "UnboundLocalError",
     "evalue": "local variable 'val' referenced before assignment",
     "output_type": "error",
     "traceback": [
      "\u001b[1;31m---------------------------------------------------------------------------\u001b[0m",
      "\u001b[1;31mUnboundLocalError\u001b[0m                         Traceback (most recent call last)",
      "Cell \u001b[1;32mIn[1], line 127\u001b[0m, in \u001b[0;36mMiniPlayer.update_ui\u001b[1;34m(self)\u001b[0m\n\u001b[0;32m    123\u001b[0m \u001b[38;5;28;01mif\u001b[39;00m \u001b[38;5;129;01mnot\u001b[39;00m \u001b[38;5;28mself\u001b[39m\u001b[38;5;241m.\u001b[39mdata_queue\u001b[38;5;241m.\u001b[39mempty():\n\u001b[0;32m    124\u001b[0m     val \u001b[38;5;241m=\u001b[39m \u001b[38;5;28mself\u001b[39m\u001b[38;5;241m.\u001b[39mdata_queue\u001b[38;5;241m.\u001b[39mget()\n\u001b[1;32m--> 127\u001b[0m \u001b[38;5;28;01mif\u001b[39;00m \u001b[43mval\u001b[49m \u001b[38;5;241m==\u001b[39m \u001b[38;5;124m'\u001b[39m\u001b[38;5;124m<\u001b[39m\u001b[38;5;124m'\u001b[39m:\n\u001b[0;32m    128\u001b[0m     \u001b[38;5;28mself\u001b[39m\u001b[38;5;241m.\u001b[39mmediaplayer\u001b[38;5;241m.\u001b[39mset_rate(\u001b[38;5;28mself\u001b[39m\u001b[38;5;241m.\u001b[39mmediaplayer\u001b[38;5;241m.\u001b[39mget_rate() \u001b[38;5;241m*\u001b[39m \u001b[38;5;241m0.5\u001b[39m)\n\u001b[0;32m    129\u001b[0m     \u001b[38;5;28;01mreturn\u001b[39;00m\n",
      "\u001b[1;31mUnboundLocalError\u001b[0m: local variable 'val' referenced before assignment"
     ]
    },
    {
     "ename": "UnboundLocalError",
     "evalue": "local variable 'val' referenced before assignment",
     "output_type": "error",
     "traceback": [
      "\u001b[1;31m---------------------------------------------------------------------------\u001b[0m",
      "\u001b[1;31mUnboundLocalError\u001b[0m                         Traceback (most recent call last)",
      "Cell \u001b[1;32mIn[1], line 127\u001b[0m, in \u001b[0;36mMiniPlayer.update_ui\u001b[1;34m(self)\u001b[0m\n\u001b[0;32m    123\u001b[0m \u001b[38;5;28;01mif\u001b[39;00m \u001b[38;5;129;01mnot\u001b[39;00m \u001b[38;5;28mself\u001b[39m\u001b[38;5;241m.\u001b[39mdata_queue\u001b[38;5;241m.\u001b[39mempty():\n\u001b[0;32m    124\u001b[0m     val \u001b[38;5;241m=\u001b[39m \u001b[38;5;28mself\u001b[39m\u001b[38;5;241m.\u001b[39mdata_queue\u001b[38;5;241m.\u001b[39mget()\n\u001b[1;32m--> 127\u001b[0m \u001b[38;5;28;01mif\u001b[39;00m \u001b[43mval\u001b[49m \u001b[38;5;241m==\u001b[39m \u001b[38;5;124m'\u001b[39m\u001b[38;5;124m<\u001b[39m\u001b[38;5;124m'\u001b[39m:\n\u001b[0;32m    128\u001b[0m     \u001b[38;5;28mself\u001b[39m\u001b[38;5;241m.\u001b[39mmediaplayer\u001b[38;5;241m.\u001b[39mset_rate(\u001b[38;5;28mself\u001b[39m\u001b[38;5;241m.\u001b[39mmediaplayer\u001b[38;5;241m.\u001b[39mget_rate() \u001b[38;5;241m*\u001b[39m \u001b[38;5;241m0.5\u001b[39m)\n\u001b[0;32m    129\u001b[0m     \u001b[38;5;28;01mreturn\u001b[39;00m\n",
      "\u001b[1;31mUnboundLocalError\u001b[0m: local variable 'val' referenced before assignment"
     ]
    },
    {
     "ename": "UnboundLocalError",
     "evalue": "local variable 'val' referenced before assignment",
     "output_type": "error",
     "traceback": [
      "\u001b[1;31m---------------------------------------------------------------------------\u001b[0m",
      "\u001b[1;31mUnboundLocalError\u001b[0m                         Traceback (most recent call last)",
      "Cell \u001b[1;32mIn[1], line 127\u001b[0m, in \u001b[0;36mMiniPlayer.update_ui\u001b[1;34m(self)\u001b[0m\n\u001b[0;32m    123\u001b[0m \u001b[38;5;28;01mif\u001b[39;00m \u001b[38;5;129;01mnot\u001b[39;00m \u001b[38;5;28mself\u001b[39m\u001b[38;5;241m.\u001b[39mdata_queue\u001b[38;5;241m.\u001b[39mempty():\n\u001b[0;32m    124\u001b[0m     val \u001b[38;5;241m=\u001b[39m \u001b[38;5;28mself\u001b[39m\u001b[38;5;241m.\u001b[39mdata_queue\u001b[38;5;241m.\u001b[39mget()\n\u001b[1;32m--> 127\u001b[0m \u001b[38;5;28;01mif\u001b[39;00m \u001b[43mval\u001b[49m \u001b[38;5;241m==\u001b[39m \u001b[38;5;124m'\u001b[39m\u001b[38;5;124m<\u001b[39m\u001b[38;5;124m'\u001b[39m:\n\u001b[0;32m    128\u001b[0m     \u001b[38;5;28mself\u001b[39m\u001b[38;5;241m.\u001b[39mmediaplayer\u001b[38;5;241m.\u001b[39mset_rate(\u001b[38;5;28mself\u001b[39m\u001b[38;5;241m.\u001b[39mmediaplayer\u001b[38;5;241m.\u001b[39mget_rate() \u001b[38;5;241m*\u001b[39m \u001b[38;5;241m0.5\u001b[39m)\n\u001b[0;32m    129\u001b[0m     \u001b[38;5;28;01mreturn\u001b[39;00m\n",
      "\u001b[1;31mUnboundLocalError\u001b[0m: local variable 'val' referenced before assignment"
     ]
    },
    {
     "ename": "UnboundLocalError",
     "evalue": "local variable 'val' referenced before assignment",
     "output_type": "error",
     "traceback": [
      "\u001b[1;31m---------------------------------------------------------------------------\u001b[0m",
      "\u001b[1;31mUnboundLocalError\u001b[0m                         Traceback (most recent call last)",
      "Cell \u001b[1;32mIn[1], line 127\u001b[0m, in \u001b[0;36mMiniPlayer.update_ui\u001b[1;34m(self)\u001b[0m\n\u001b[0;32m    123\u001b[0m \u001b[38;5;28;01mif\u001b[39;00m \u001b[38;5;129;01mnot\u001b[39;00m \u001b[38;5;28mself\u001b[39m\u001b[38;5;241m.\u001b[39mdata_queue\u001b[38;5;241m.\u001b[39mempty():\n\u001b[0;32m    124\u001b[0m     val \u001b[38;5;241m=\u001b[39m \u001b[38;5;28mself\u001b[39m\u001b[38;5;241m.\u001b[39mdata_queue\u001b[38;5;241m.\u001b[39mget()\n\u001b[1;32m--> 127\u001b[0m \u001b[38;5;28;01mif\u001b[39;00m \u001b[43mval\u001b[49m \u001b[38;5;241m==\u001b[39m \u001b[38;5;124m'\u001b[39m\u001b[38;5;124m<\u001b[39m\u001b[38;5;124m'\u001b[39m:\n\u001b[0;32m    128\u001b[0m     \u001b[38;5;28mself\u001b[39m\u001b[38;5;241m.\u001b[39mmediaplayer\u001b[38;5;241m.\u001b[39mset_rate(\u001b[38;5;28mself\u001b[39m\u001b[38;5;241m.\u001b[39mmediaplayer\u001b[38;5;241m.\u001b[39mget_rate() \u001b[38;5;241m*\u001b[39m \u001b[38;5;241m0.5\u001b[39m)\n\u001b[0;32m    129\u001b[0m     \u001b[38;5;28;01mreturn\u001b[39;00m\n",
      "\u001b[1;31mUnboundLocalError\u001b[0m: local variable 'val' referenced before assignment"
     ]
    },
    {
     "ename": "UnboundLocalError",
     "evalue": "local variable 'val' referenced before assignment",
     "output_type": "error",
     "traceback": [
      "\u001b[1;31m---------------------------------------------------------------------------\u001b[0m",
      "\u001b[1;31mUnboundLocalError\u001b[0m                         Traceback (most recent call last)",
      "Cell \u001b[1;32mIn[1], line 127\u001b[0m, in \u001b[0;36mMiniPlayer.update_ui\u001b[1;34m(self)\u001b[0m\n\u001b[0;32m    123\u001b[0m \u001b[38;5;28;01mif\u001b[39;00m \u001b[38;5;129;01mnot\u001b[39;00m \u001b[38;5;28mself\u001b[39m\u001b[38;5;241m.\u001b[39mdata_queue\u001b[38;5;241m.\u001b[39mempty():\n\u001b[0;32m    124\u001b[0m     val \u001b[38;5;241m=\u001b[39m \u001b[38;5;28mself\u001b[39m\u001b[38;5;241m.\u001b[39mdata_queue\u001b[38;5;241m.\u001b[39mget()\n\u001b[1;32m--> 127\u001b[0m \u001b[38;5;28;01mif\u001b[39;00m \u001b[43mval\u001b[49m \u001b[38;5;241m==\u001b[39m \u001b[38;5;124m'\u001b[39m\u001b[38;5;124m<\u001b[39m\u001b[38;5;124m'\u001b[39m:\n\u001b[0;32m    128\u001b[0m     \u001b[38;5;28mself\u001b[39m\u001b[38;5;241m.\u001b[39mmediaplayer\u001b[38;5;241m.\u001b[39mset_rate(\u001b[38;5;28mself\u001b[39m\u001b[38;5;241m.\u001b[39mmediaplayer\u001b[38;5;241m.\u001b[39mget_rate() \u001b[38;5;241m*\u001b[39m \u001b[38;5;241m0.5\u001b[39m)\n\u001b[0;32m    129\u001b[0m     \u001b[38;5;28;01mreturn\u001b[39;00m\n",
      "\u001b[1;31mUnboundLocalError\u001b[0m: local variable 'val' referenced before assignment"
     ]
    },
    {
     "ename": "UnboundLocalError",
     "evalue": "local variable 'val' referenced before assignment",
     "output_type": "error",
     "traceback": [
      "\u001b[1;31m---------------------------------------------------------------------------\u001b[0m",
      "\u001b[1;31mUnboundLocalError\u001b[0m                         Traceback (most recent call last)",
      "Cell \u001b[1;32mIn[1], line 127\u001b[0m, in \u001b[0;36mMiniPlayer.update_ui\u001b[1;34m(self)\u001b[0m\n\u001b[0;32m    123\u001b[0m \u001b[38;5;28;01mif\u001b[39;00m \u001b[38;5;129;01mnot\u001b[39;00m \u001b[38;5;28mself\u001b[39m\u001b[38;5;241m.\u001b[39mdata_queue\u001b[38;5;241m.\u001b[39mempty():\n\u001b[0;32m    124\u001b[0m     val \u001b[38;5;241m=\u001b[39m \u001b[38;5;28mself\u001b[39m\u001b[38;5;241m.\u001b[39mdata_queue\u001b[38;5;241m.\u001b[39mget()\n\u001b[1;32m--> 127\u001b[0m \u001b[38;5;28;01mif\u001b[39;00m \u001b[43mval\u001b[49m \u001b[38;5;241m==\u001b[39m \u001b[38;5;124m'\u001b[39m\u001b[38;5;124m<\u001b[39m\u001b[38;5;124m'\u001b[39m:\n\u001b[0;32m    128\u001b[0m     \u001b[38;5;28mself\u001b[39m\u001b[38;5;241m.\u001b[39mmediaplayer\u001b[38;5;241m.\u001b[39mset_rate(\u001b[38;5;28mself\u001b[39m\u001b[38;5;241m.\u001b[39mmediaplayer\u001b[38;5;241m.\u001b[39mget_rate() \u001b[38;5;241m*\u001b[39m \u001b[38;5;241m0.5\u001b[39m)\n\u001b[0;32m    129\u001b[0m     \u001b[38;5;28;01mreturn\u001b[39;00m\n",
      "\u001b[1;31mUnboundLocalError\u001b[0m: local variable 'val' referenced before assignment"
     ]
    },
    {
     "ename": "UnboundLocalError",
     "evalue": "local variable 'val' referenced before assignment",
     "output_type": "error",
     "traceback": [
      "\u001b[1;31m---------------------------------------------------------------------------\u001b[0m",
      "\u001b[1;31mUnboundLocalError\u001b[0m                         Traceback (most recent call last)",
      "Cell \u001b[1;32mIn[1], line 127\u001b[0m, in \u001b[0;36mMiniPlayer.update_ui\u001b[1;34m(self)\u001b[0m\n\u001b[0;32m    123\u001b[0m \u001b[38;5;28;01mif\u001b[39;00m \u001b[38;5;129;01mnot\u001b[39;00m \u001b[38;5;28mself\u001b[39m\u001b[38;5;241m.\u001b[39mdata_queue\u001b[38;5;241m.\u001b[39mempty():\n\u001b[0;32m    124\u001b[0m     val \u001b[38;5;241m=\u001b[39m \u001b[38;5;28mself\u001b[39m\u001b[38;5;241m.\u001b[39mdata_queue\u001b[38;5;241m.\u001b[39mget()\n\u001b[1;32m--> 127\u001b[0m \u001b[38;5;28;01mif\u001b[39;00m \u001b[43mval\u001b[49m \u001b[38;5;241m==\u001b[39m \u001b[38;5;124m'\u001b[39m\u001b[38;5;124m<\u001b[39m\u001b[38;5;124m'\u001b[39m:\n\u001b[0;32m    128\u001b[0m     \u001b[38;5;28mself\u001b[39m\u001b[38;5;241m.\u001b[39mmediaplayer\u001b[38;5;241m.\u001b[39mset_rate(\u001b[38;5;28mself\u001b[39m\u001b[38;5;241m.\u001b[39mmediaplayer\u001b[38;5;241m.\u001b[39mget_rate() \u001b[38;5;241m*\u001b[39m \u001b[38;5;241m0.5\u001b[39m)\n\u001b[0;32m    129\u001b[0m     \u001b[38;5;28;01mreturn\u001b[39;00m\n",
      "\u001b[1;31mUnboundLocalError\u001b[0m: local variable 'val' referenced before assignment"
     ]
    },
    {
     "ename": "UnboundLocalError",
     "evalue": "local variable 'val' referenced before assignment",
     "output_type": "error",
     "traceback": [
      "\u001b[1;31m---------------------------------------------------------------------------\u001b[0m",
      "\u001b[1;31mUnboundLocalError\u001b[0m                         Traceback (most recent call last)",
      "Cell \u001b[1;32mIn[1], line 127\u001b[0m, in \u001b[0;36mMiniPlayer.update_ui\u001b[1;34m(self)\u001b[0m\n\u001b[0;32m    123\u001b[0m \u001b[38;5;28;01mif\u001b[39;00m \u001b[38;5;129;01mnot\u001b[39;00m \u001b[38;5;28mself\u001b[39m\u001b[38;5;241m.\u001b[39mdata_queue\u001b[38;5;241m.\u001b[39mempty():\n\u001b[0;32m    124\u001b[0m     val \u001b[38;5;241m=\u001b[39m \u001b[38;5;28mself\u001b[39m\u001b[38;5;241m.\u001b[39mdata_queue\u001b[38;5;241m.\u001b[39mget()\n\u001b[1;32m--> 127\u001b[0m \u001b[38;5;28;01mif\u001b[39;00m \u001b[43mval\u001b[49m \u001b[38;5;241m==\u001b[39m \u001b[38;5;124m'\u001b[39m\u001b[38;5;124m<\u001b[39m\u001b[38;5;124m'\u001b[39m:\n\u001b[0;32m    128\u001b[0m     \u001b[38;5;28mself\u001b[39m\u001b[38;5;241m.\u001b[39mmediaplayer\u001b[38;5;241m.\u001b[39mset_rate(\u001b[38;5;28mself\u001b[39m\u001b[38;5;241m.\u001b[39mmediaplayer\u001b[38;5;241m.\u001b[39mget_rate() \u001b[38;5;241m*\u001b[39m \u001b[38;5;241m0.5\u001b[39m)\n\u001b[0;32m    129\u001b[0m     \u001b[38;5;28;01mreturn\u001b[39;00m\n",
      "\u001b[1;31mUnboundLocalError\u001b[0m: local variable 'val' referenced before assignment"
     ]
    },
    {
     "ename": "UnboundLocalError",
     "evalue": "local variable 'val' referenced before assignment",
     "output_type": "error",
     "traceback": [
      "\u001b[1;31m---------------------------------------------------------------------------\u001b[0m",
      "\u001b[1;31mUnboundLocalError\u001b[0m                         Traceback (most recent call last)",
      "Cell \u001b[1;32mIn[1], line 127\u001b[0m, in \u001b[0;36mMiniPlayer.update_ui\u001b[1;34m(self)\u001b[0m\n\u001b[0;32m    123\u001b[0m \u001b[38;5;28;01mif\u001b[39;00m \u001b[38;5;129;01mnot\u001b[39;00m \u001b[38;5;28mself\u001b[39m\u001b[38;5;241m.\u001b[39mdata_queue\u001b[38;5;241m.\u001b[39mempty():\n\u001b[0;32m    124\u001b[0m     val \u001b[38;5;241m=\u001b[39m \u001b[38;5;28mself\u001b[39m\u001b[38;5;241m.\u001b[39mdata_queue\u001b[38;5;241m.\u001b[39mget()\n\u001b[1;32m--> 127\u001b[0m \u001b[38;5;28;01mif\u001b[39;00m \u001b[43mval\u001b[49m \u001b[38;5;241m==\u001b[39m \u001b[38;5;124m'\u001b[39m\u001b[38;5;124m<\u001b[39m\u001b[38;5;124m'\u001b[39m:\n\u001b[0;32m    128\u001b[0m     \u001b[38;5;28mself\u001b[39m\u001b[38;5;241m.\u001b[39mmediaplayer\u001b[38;5;241m.\u001b[39mset_rate(\u001b[38;5;28mself\u001b[39m\u001b[38;5;241m.\u001b[39mmediaplayer\u001b[38;5;241m.\u001b[39mget_rate() \u001b[38;5;241m*\u001b[39m \u001b[38;5;241m0.5\u001b[39m)\n\u001b[0;32m    129\u001b[0m     \u001b[38;5;28;01mreturn\u001b[39;00m\n",
      "\u001b[1;31mUnboundLocalError\u001b[0m: local variable 'val' referenced before assignment"
     ]
    },
    {
     "ename": "UnboundLocalError",
     "evalue": "local variable 'val' referenced before assignment",
     "output_type": "error",
     "traceback": [
      "\u001b[1;31m---------------------------------------------------------------------------\u001b[0m",
      "\u001b[1;31mUnboundLocalError\u001b[0m                         Traceback (most recent call last)",
      "Cell \u001b[1;32mIn[1], line 127\u001b[0m, in \u001b[0;36mMiniPlayer.update_ui\u001b[1;34m(self)\u001b[0m\n\u001b[0;32m    123\u001b[0m \u001b[38;5;28;01mif\u001b[39;00m \u001b[38;5;129;01mnot\u001b[39;00m \u001b[38;5;28mself\u001b[39m\u001b[38;5;241m.\u001b[39mdata_queue\u001b[38;5;241m.\u001b[39mempty():\n\u001b[0;32m    124\u001b[0m     val \u001b[38;5;241m=\u001b[39m \u001b[38;5;28mself\u001b[39m\u001b[38;5;241m.\u001b[39mdata_queue\u001b[38;5;241m.\u001b[39mget()\n\u001b[1;32m--> 127\u001b[0m \u001b[38;5;28;01mif\u001b[39;00m \u001b[43mval\u001b[49m \u001b[38;5;241m==\u001b[39m \u001b[38;5;124m'\u001b[39m\u001b[38;5;124m<\u001b[39m\u001b[38;5;124m'\u001b[39m:\n\u001b[0;32m    128\u001b[0m     \u001b[38;5;28mself\u001b[39m\u001b[38;5;241m.\u001b[39mmediaplayer\u001b[38;5;241m.\u001b[39mset_rate(\u001b[38;5;28mself\u001b[39m\u001b[38;5;241m.\u001b[39mmediaplayer\u001b[38;5;241m.\u001b[39mget_rate() \u001b[38;5;241m*\u001b[39m \u001b[38;5;241m0.5\u001b[39m)\n\u001b[0;32m    129\u001b[0m     \u001b[38;5;28;01mreturn\u001b[39;00m\n",
      "\u001b[1;31mUnboundLocalError\u001b[0m: local variable 'val' referenced before assignment"
     ]
    },
    {
     "ename": "UnboundLocalError",
     "evalue": "local variable 'val' referenced before assignment",
     "output_type": "error",
     "traceback": [
      "\u001b[1;31m---------------------------------------------------------------------------\u001b[0m",
      "\u001b[1;31mUnboundLocalError\u001b[0m                         Traceback (most recent call last)",
      "Cell \u001b[1;32mIn[1], line 127\u001b[0m, in \u001b[0;36mMiniPlayer.update_ui\u001b[1;34m(self)\u001b[0m\n\u001b[0;32m    123\u001b[0m \u001b[38;5;28;01mif\u001b[39;00m \u001b[38;5;129;01mnot\u001b[39;00m \u001b[38;5;28mself\u001b[39m\u001b[38;5;241m.\u001b[39mdata_queue\u001b[38;5;241m.\u001b[39mempty():\n\u001b[0;32m    124\u001b[0m     val \u001b[38;5;241m=\u001b[39m \u001b[38;5;28mself\u001b[39m\u001b[38;5;241m.\u001b[39mdata_queue\u001b[38;5;241m.\u001b[39mget()\n\u001b[1;32m--> 127\u001b[0m \u001b[38;5;28;01mif\u001b[39;00m \u001b[43mval\u001b[49m \u001b[38;5;241m==\u001b[39m \u001b[38;5;124m'\u001b[39m\u001b[38;5;124m<\u001b[39m\u001b[38;5;124m'\u001b[39m:\n\u001b[0;32m    128\u001b[0m     \u001b[38;5;28mself\u001b[39m\u001b[38;5;241m.\u001b[39mmediaplayer\u001b[38;5;241m.\u001b[39mset_rate(\u001b[38;5;28mself\u001b[39m\u001b[38;5;241m.\u001b[39mmediaplayer\u001b[38;5;241m.\u001b[39mget_rate() \u001b[38;5;241m*\u001b[39m \u001b[38;5;241m0.5\u001b[39m)\n\u001b[0;32m    129\u001b[0m     \u001b[38;5;28;01mreturn\u001b[39;00m\n",
      "\u001b[1;31mUnboundLocalError\u001b[0m: local variable 'val' referenced before assignment"
     ]
    },
    {
     "ename": "UnboundLocalError",
     "evalue": "local variable 'val' referenced before assignment",
     "output_type": "error",
     "traceback": [
      "\u001b[1;31m---------------------------------------------------------------------------\u001b[0m",
      "\u001b[1;31mUnboundLocalError\u001b[0m                         Traceback (most recent call last)",
      "Cell \u001b[1;32mIn[1], line 127\u001b[0m, in \u001b[0;36mMiniPlayer.update_ui\u001b[1;34m(self)\u001b[0m\n\u001b[0;32m    123\u001b[0m \u001b[38;5;28;01mif\u001b[39;00m \u001b[38;5;129;01mnot\u001b[39;00m \u001b[38;5;28mself\u001b[39m\u001b[38;5;241m.\u001b[39mdata_queue\u001b[38;5;241m.\u001b[39mempty():\n\u001b[0;32m    124\u001b[0m     val \u001b[38;5;241m=\u001b[39m \u001b[38;5;28mself\u001b[39m\u001b[38;5;241m.\u001b[39mdata_queue\u001b[38;5;241m.\u001b[39mget()\n\u001b[1;32m--> 127\u001b[0m \u001b[38;5;28;01mif\u001b[39;00m \u001b[43mval\u001b[49m \u001b[38;5;241m==\u001b[39m \u001b[38;5;124m'\u001b[39m\u001b[38;5;124m<\u001b[39m\u001b[38;5;124m'\u001b[39m:\n\u001b[0;32m    128\u001b[0m     \u001b[38;5;28mself\u001b[39m\u001b[38;5;241m.\u001b[39mmediaplayer\u001b[38;5;241m.\u001b[39mset_rate(\u001b[38;5;28mself\u001b[39m\u001b[38;5;241m.\u001b[39mmediaplayer\u001b[38;5;241m.\u001b[39mget_rate() \u001b[38;5;241m*\u001b[39m \u001b[38;5;241m0.5\u001b[39m)\n\u001b[0;32m    129\u001b[0m     \u001b[38;5;28;01mreturn\u001b[39;00m\n",
      "\u001b[1;31mUnboundLocalError\u001b[0m: local variable 'val' referenced before assignment"
     ]
    },
    {
     "ename": "UnboundLocalError",
     "evalue": "local variable 'val' referenced before assignment",
     "output_type": "error",
     "traceback": [
      "\u001b[1;31m---------------------------------------------------------------------------\u001b[0m",
      "\u001b[1;31mUnboundLocalError\u001b[0m                         Traceback (most recent call last)",
      "Cell \u001b[1;32mIn[1], line 127\u001b[0m, in \u001b[0;36mMiniPlayer.update_ui\u001b[1;34m(self)\u001b[0m\n\u001b[0;32m    123\u001b[0m \u001b[38;5;28;01mif\u001b[39;00m \u001b[38;5;129;01mnot\u001b[39;00m \u001b[38;5;28mself\u001b[39m\u001b[38;5;241m.\u001b[39mdata_queue\u001b[38;5;241m.\u001b[39mempty():\n\u001b[0;32m    124\u001b[0m     val \u001b[38;5;241m=\u001b[39m \u001b[38;5;28mself\u001b[39m\u001b[38;5;241m.\u001b[39mdata_queue\u001b[38;5;241m.\u001b[39mget()\n\u001b[1;32m--> 127\u001b[0m \u001b[38;5;28;01mif\u001b[39;00m \u001b[43mval\u001b[49m \u001b[38;5;241m==\u001b[39m \u001b[38;5;124m'\u001b[39m\u001b[38;5;124m<\u001b[39m\u001b[38;5;124m'\u001b[39m:\n\u001b[0;32m    128\u001b[0m     \u001b[38;5;28mself\u001b[39m\u001b[38;5;241m.\u001b[39mmediaplayer\u001b[38;5;241m.\u001b[39mset_rate(\u001b[38;5;28mself\u001b[39m\u001b[38;5;241m.\u001b[39mmediaplayer\u001b[38;5;241m.\u001b[39mget_rate() \u001b[38;5;241m*\u001b[39m \u001b[38;5;241m0.5\u001b[39m)\n\u001b[0;32m    129\u001b[0m     \u001b[38;5;28;01mreturn\u001b[39;00m\n",
      "\u001b[1;31mUnboundLocalError\u001b[0m: local variable 'val' referenced before assignment"
     ]
    },
    {
     "ename": "UnboundLocalError",
     "evalue": "local variable 'val' referenced before assignment",
     "output_type": "error",
     "traceback": [
      "\u001b[1;31m---------------------------------------------------------------------------\u001b[0m",
      "\u001b[1;31mUnboundLocalError\u001b[0m                         Traceback (most recent call last)",
      "Cell \u001b[1;32mIn[1], line 127\u001b[0m, in \u001b[0;36mMiniPlayer.update_ui\u001b[1;34m(self)\u001b[0m\n\u001b[0;32m    123\u001b[0m \u001b[38;5;28;01mif\u001b[39;00m \u001b[38;5;129;01mnot\u001b[39;00m \u001b[38;5;28mself\u001b[39m\u001b[38;5;241m.\u001b[39mdata_queue\u001b[38;5;241m.\u001b[39mempty():\n\u001b[0;32m    124\u001b[0m     val \u001b[38;5;241m=\u001b[39m \u001b[38;5;28mself\u001b[39m\u001b[38;5;241m.\u001b[39mdata_queue\u001b[38;5;241m.\u001b[39mget()\n\u001b[1;32m--> 127\u001b[0m \u001b[38;5;28;01mif\u001b[39;00m \u001b[43mval\u001b[49m \u001b[38;5;241m==\u001b[39m \u001b[38;5;124m'\u001b[39m\u001b[38;5;124m<\u001b[39m\u001b[38;5;124m'\u001b[39m:\n\u001b[0;32m    128\u001b[0m     \u001b[38;5;28mself\u001b[39m\u001b[38;5;241m.\u001b[39mmediaplayer\u001b[38;5;241m.\u001b[39mset_rate(\u001b[38;5;28mself\u001b[39m\u001b[38;5;241m.\u001b[39mmediaplayer\u001b[38;5;241m.\u001b[39mget_rate() \u001b[38;5;241m*\u001b[39m \u001b[38;5;241m0.5\u001b[39m)\n\u001b[0;32m    129\u001b[0m     \u001b[38;5;28;01mreturn\u001b[39;00m\n",
      "\u001b[1;31mUnboundLocalError\u001b[0m: local variable 'val' referenced before assignment"
     ]
    },
    {
     "ename": "UnboundLocalError",
     "evalue": "local variable 'val' referenced before assignment",
     "output_type": "error",
     "traceback": [
      "\u001b[1;31m---------------------------------------------------------------------------\u001b[0m",
      "\u001b[1;31mUnboundLocalError\u001b[0m                         Traceback (most recent call last)",
      "Cell \u001b[1;32mIn[1], line 127\u001b[0m, in \u001b[0;36mMiniPlayer.update_ui\u001b[1;34m(self)\u001b[0m\n\u001b[0;32m    123\u001b[0m \u001b[38;5;28;01mif\u001b[39;00m \u001b[38;5;129;01mnot\u001b[39;00m \u001b[38;5;28mself\u001b[39m\u001b[38;5;241m.\u001b[39mdata_queue\u001b[38;5;241m.\u001b[39mempty():\n\u001b[0;32m    124\u001b[0m     val \u001b[38;5;241m=\u001b[39m \u001b[38;5;28mself\u001b[39m\u001b[38;5;241m.\u001b[39mdata_queue\u001b[38;5;241m.\u001b[39mget()\n\u001b[1;32m--> 127\u001b[0m \u001b[38;5;28;01mif\u001b[39;00m \u001b[43mval\u001b[49m \u001b[38;5;241m==\u001b[39m \u001b[38;5;124m'\u001b[39m\u001b[38;5;124m<\u001b[39m\u001b[38;5;124m'\u001b[39m:\n\u001b[0;32m    128\u001b[0m     \u001b[38;5;28mself\u001b[39m\u001b[38;5;241m.\u001b[39mmediaplayer\u001b[38;5;241m.\u001b[39mset_rate(\u001b[38;5;28mself\u001b[39m\u001b[38;5;241m.\u001b[39mmediaplayer\u001b[38;5;241m.\u001b[39mget_rate() \u001b[38;5;241m*\u001b[39m \u001b[38;5;241m0.5\u001b[39m)\n\u001b[0;32m    129\u001b[0m     \u001b[38;5;28;01mreturn\u001b[39;00m\n",
      "\u001b[1;31mUnboundLocalError\u001b[0m: local variable 'val' referenced before assignment"
     ]
    },
    {
     "ename": "UnboundLocalError",
     "evalue": "local variable 'val' referenced before assignment",
     "output_type": "error",
     "traceback": [
      "\u001b[1;31m---------------------------------------------------------------------------\u001b[0m",
      "\u001b[1;31mUnboundLocalError\u001b[0m                         Traceback (most recent call last)",
      "Cell \u001b[1;32mIn[1], line 127\u001b[0m, in \u001b[0;36mMiniPlayer.update_ui\u001b[1;34m(self)\u001b[0m\n\u001b[0;32m    123\u001b[0m \u001b[38;5;28;01mif\u001b[39;00m \u001b[38;5;129;01mnot\u001b[39;00m \u001b[38;5;28mself\u001b[39m\u001b[38;5;241m.\u001b[39mdata_queue\u001b[38;5;241m.\u001b[39mempty():\n\u001b[0;32m    124\u001b[0m     val \u001b[38;5;241m=\u001b[39m \u001b[38;5;28mself\u001b[39m\u001b[38;5;241m.\u001b[39mdata_queue\u001b[38;5;241m.\u001b[39mget()\n\u001b[1;32m--> 127\u001b[0m \u001b[38;5;28;01mif\u001b[39;00m \u001b[43mval\u001b[49m \u001b[38;5;241m==\u001b[39m \u001b[38;5;124m'\u001b[39m\u001b[38;5;124m<\u001b[39m\u001b[38;5;124m'\u001b[39m:\n\u001b[0;32m    128\u001b[0m     \u001b[38;5;28mself\u001b[39m\u001b[38;5;241m.\u001b[39mmediaplayer\u001b[38;5;241m.\u001b[39mset_rate(\u001b[38;5;28mself\u001b[39m\u001b[38;5;241m.\u001b[39mmediaplayer\u001b[38;5;241m.\u001b[39mget_rate() \u001b[38;5;241m*\u001b[39m \u001b[38;5;241m0.5\u001b[39m)\n\u001b[0;32m    129\u001b[0m     \u001b[38;5;28;01mreturn\u001b[39;00m\n",
      "\u001b[1;31mUnboundLocalError\u001b[0m: local variable 'val' referenced before assignment"
     ]
    },
    {
     "ename": "UnboundLocalError",
     "evalue": "local variable 'val' referenced before assignment",
     "output_type": "error",
     "traceback": [
      "\u001b[1;31m---------------------------------------------------------------------------\u001b[0m",
      "\u001b[1;31mUnboundLocalError\u001b[0m                         Traceback (most recent call last)",
      "Cell \u001b[1;32mIn[1], line 127\u001b[0m, in \u001b[0;36mMiniPlayer.update_ui\u001b[1;34m(self)\u001b[0m\n\u001b[0;32m    123\u001b[0m \u001b[38;5;28;01mif\u001b[39;00m \u001b[38;5;129;01mnot\u001b[39;00m \u001b[38;5;28mself\u001b[39m\u001b[38;5;241m.\u001b[39mdata_queue\u001b[38;5;241m.\u001b[39mempty():\n\u001b[0;32m    124\u001b[0m     val \u001b[38;5;241m=\u001b[39m \u001b[38;5;28mself\u001b[39m\u001b[38;5;241m.\u001b[39mdata_queue\u001b[38;5;241m.\u001b[39mget()\n\u001b[1;32m--> 127\u001b[0m \u001b[38;5;28;01mif\u001b[39;00m \u001b[43mval\u001b[49m \u001b[38;5;241m==\u001b[39m \u001b[38;5;124m'\u001b[39m\u001b[38;5;124m<\u001b[39m\u001b[38;5;124m'\u001b[39m:\n\u001b[0;32m    128\u001b[0m     \u001b[38;5;28mself\u001b[39m\u001b[38;5;241m.\u001b[39mmediaplayer\u001b[38;5;241m.\u001b[39mset_rate(\u001b[38;5;28mself\u001b[39m\u001b[38;5;241m.\u001b[39mmediaplayer\u001b[38;5;241m.\u001b[39mget_rate() \u001b[38;5;241m*\u001b[39m \u001b[38;5;241m0.5\u001b[39m)\n\u001b[0;32m    129\u001b[0m     \u001b[38;5;28;01mreturn\u001b[39;00m\n",
      "\u001b[1;31mUnboundLocalError\u001b[0m: local variable 'val' referenced before assignment"
     ]
    },
    {
     "ename": "UnboundLocalError",
     "evalue": "local variable 'val' referenced before assignment",
     "output_type": "error",
     "traceback": [
      "\u001b[1;31m---------------------------------------------------------------------------\u001b[0m",
      "\u001b[1;31mUnboundLocalError\u001b[0m                         Traceback (most recent call last)",
      "Cell \u001b[1;32mIn[1], line 127\u001b[0m, in \u001b[0;36mMiniPlayer.update_ui\u001b[1;34m(self)\u001b[0m\n\u001b[0;32m    123\u001b[0m \u001b[38;5;28;01mif\u001b[39;00m \u001b[38;5;129;01mnot\u001b[39;00m \u001b[38;5;28mself\u001b[39m\u001b[38;5;241m.\u001b[39mdata_queue\u001b[38;5;241m.\u001b[39mempty():\n\u001b[0;32m    124\u001b[0m     val \u001b[38;5;241m=\u001b[39m \u001b[38;5;28mself\u001b[39m\u001b[38;5;241m.\u001b[39mdata_queue\u001b[38;5;241m.\u001b[39mget()\n\u001b[1;32m--> 127\u001b[0m \u001b[38;5;28;01mif\u001b[39;00m \u001b[43mval\u001b[49m \u001b[38;5;241m==\u001b[39m \u001b[38;5;124m'\u001b[39m\u001b[38;5;124m<\u001b[39m\u001b[38;5;124m'\u001b[39m:\n\u001b[0;32m    128\u001b[0m     \u001b[38;5;28mself\u001b[39m\u001b[38;5;241m.\u001b[39mmediaplayer\u001b[38;5;241m.\u001b[39mset_rate(\u001b[38;5;28mself\u001b[39m\u001b[38;5;241m.\u001b[39mmediaplayer\u001b[38;5;241m.\u001b[39mget_rate() \u001b[38;5;241m*\u001b[39m \u001b[38;5;241m0.5\u001b[39m)\n\u001b[0;32m    129\u001b[0m     \u001b[38;5;28;01mreturn\u001b[39;00m\n",
      "\u001b[1;31mUnboundLocalError\u001b[0m: local variable 'val' referenced before assignment"
     ]
    },
    {
     "ename": "UnboundLocalError",
     "evalue": "local variable 'val' referenced before assignment",
     "output_type": "error",
     "traceback": [
      "\u001b[1;31m---------------------------------------------------------------------------\u001b[0m",
      "\u001b[1;31mUnboundLocalError\u001b[0m                         Traceback (most recent call last)",
      "Cell \u001b[1;32mIn[1], line 127\u001b[0m, in \u001b[0;36mMiniPlayer.update_ui\u001b[1;34m(self)\u001b[0m\n\u001b[0;32m    123\u001b[0m \u001b[38;5;28;01mif\u001b[39;00m \u001b[38;5;129;01mnot\u001b[39;00m \u001b[38;5;28mself\u001b[39m\u001b[38;5;241m.\u001b[39mdata_queue\u001b[38;5;241m.\u001b[39mempty():\n\u001b[0;32m    124\u001b[0m     val \u001b[38;5;241m=\u001b[39m \u001b[38;5;28mself\u001b[39m\u001b[38;5;241m.\u001b[39mdata_queue\u001b[38;5;241m.\u001b[39mget()\n\u001b[1;32m--> 127\u001b[0m \u001b[38;5;28;01mif\u001b[39;00m \u001b[43mval\u001b[49m \u001b[38;5;241m==\u001b[39m \u001b[38;5;124m'\u001b[39m\u001b[38;5;124m<\u001b[39m\u001b[38;5;124m'\u001b[39m:\n\u001b[0;32m    128\u001b[0m     \u001b[38;5;28mself\u001b[39m\u001b[38;5;241m.\u001b[39mmediaplayer\u001b[38;5;241m.\u001b[39mset_rate(\u001b[38;5;28mself\u001b[39m\u001b[38;5;241m.\u001b[39mmediaplayer\u001b[38;5;241m.\u001b[39mget_rate() \u001b[38;5;241m*\u001b[39m \u001b[38;5;241m0.5\u001b[39m)\n\u001b[0;32m    129\u001b[0m     \u001b[38;5;28;01mreturn\u001b[39;00m\n",
      "\u001b[1;31mUnboundLocalError\u001b[0m: local variable 'val' referenced before assignment"
     ]
    },
    {
     "ename": "UnboundLocalError",
     "evalue": "local variable 'val' referenced before assignment",
     "output_type": "error",
     "traceback": [
      "\u001b[1;31m---------------------------------------------------------------------------\u001b[0m",
      "\u001b[1;31mUnboundLocalError\u001b[0m                         Traceback (most recent call last)",
      "Cell \u001b[1;32mIn[1], line 127\u001b[0m, in \u001b[0;36mMiniPlayer.update_ui\u001b[1;34m(self)\u001b[0m\n\u001b[0;32m    123\u001b[0m \u001b[38;5;28;01mif\u001b[39;00m \u001b[38;5;129;01mnot\u001b[39;00m \u001b[38;5;28mself\u001b[39m\u001b[38;5;241m.\u001b[39mdata_queue\u001b[38;5;241m.\u001b[39mempty():\n\u001b[0;32m    124\u001b[0m     val \u001b[38;5;241m=\u001b[39m \u001b[38;5;28mself\u001b[39m\u001b[38;5;241m.\u001b[39mdata_queue\u001b[38;5;241m.\u001b[39mget()\n\u001b[1;32m--> 127\u001b[0m \u001b[38;5;28;01mif\u001b[39;00m \u001b[43mval\u001b[49m \u001b[38;5;241m==\u001b[39m \u001b[38;5;124m'\u001b[39m\u001b[38;5;124m<\u001b[39m\u001b[38;5;124m'\u001b[39m:\n\u001b[0;32m    128\u001b[0m     \u001b[38;5;28mself\u001b[39m\u001b[38;5;241m.\u001b[39mmediaplayer\u001b[38;5;241m.\u001b[39mset_rate(\u001b[38;5;28mself\u001b[39m\u001b[38;5;241m.\u001b[39mmediaplayer\u001b[38;5;241m.\u001b[39mget_rate() \u001b[38;5;241m*\u001b[39m \u001b[38;5;241m0.5\u001b[39m)\n\u001b[0;32m    129\u001b[0m     \u001b[38;5;28;01mreturn\u001b[39;00m\n",
      "\u001b[1;31mUnboundLocalError\u001b[0m: local variable 'val' referenced before assignment"
     ]
    },
    {
     "ename": "UnboundLocalError",
     "evalue": "local variable 'val' referenced before assignment",
     "output_type": "error",
     "traceback": [
      "\u001b[1;31m---------------------------------------------------------------------------\u001b[0m",
      "\u001b[1;31mUnboundLocalError\u001b[0m                         Traceback (most recent call last)",
      "Cell \u001b[1;32mIn[1], line 127\u001b[0m, in \u001b[0;36mMiniPlayer.update_ui\u001b[1;34m(self)\u001b[0m\n\u001b[0;32m    123\u001b[0m \u001b[38;5;28;01mif\u001b[39;00m \u001b[38;5;129;01mnot\u001b[39;00m \u001b[38;5;28mself\u001b[39m\u001b[38;5;241m.\u001b[39mdata_queue\u001b[38;5;241m.\u001b[39mempty():\n\u001b[0;32m    124\u001b[0m     val \u001b[38;5;241m=\u001b[39m \u001b[38;5;28mself\u001b[39m\u001b[38;5;241m.\u001b[39mdata_queue\u001b[38;5;241m.\u001b[39mget()\n\u001b[1;32m--> 127\u001b[0m \u001b[38;5;28;01mif\u001b[39;00m \u001b[43mval\u001b[49m \u001b[38;5;241m==\u001b[39m \u001b[38;5;124m'\u001b[39m\u001b[38;5;124m<\u001b[39m\u001b[38;5;124m'\u001b[39m:\n\u001b[0;32m    128\u001b[0m     \u001b[38;5;28mself\u001b[39m\u001b[38;5;241m.\u001b[39mmediaplayer\u001b[38;5;241m.\u001b[39mset_rate(\u001b[38;5;28mself\u001b[39m\u001b[38;5;241m.\u001b[39mmediaplayer\u001b[38;5;241m.\u001b[39mget_rate() \u001b[38;5;241m*\u001b[39m \u001b[38;5;241m0.5\u001b[39m)\n\u001b[0;32m    129\u001b[0m     \u001b[38;5;28;01mreturn\u001b[39;00m\n",
      "\u001b[1;31mUnboundLocalError\u001b[0m: local variable 'val' referenced before assignment"
     ]
    },
    {
     "ename": "UnboundLocalError",
     "evalue": "local variable 'val' referenced before assignment",
     "output_type": "error",
     "traceback": [
      "\u001b[1;31m---------------------------------------------------------------------------\u001b[0m",
      "\u001b[1;31mUnboundLocalError\u001b[0m                         Traceback (most recent call last)",
      "Cell \u001b[1;32mIn[1], line 127\u001b[0m, in \u001b[0;36mMiniPlayer.update_ui\u001b[1;34m(self)\u001b[0m\n\u001b[0;32m    123\u001b[0m \u001b[38;5;28;01mif\u001b[39;00m \u001b[38;5;129;01mnot\u001b[39;00m \u001b[38;5;28mself\u001b[39m\u001b[38;5;241m.\u001b[39mdata_queue\u001b[38;5;241m.\u001b[39mempty():\n\u001b[0;32m    124\u001b[0m     val \u001b[38;5;241m=\u001b[39m \u001b[38;5;28mself\u001b[39m\u001b[38;5;241m.\u001b[39mdata_queue\u001b[38;5;241m.\u001b[39mget()\n\u001b[1;32m--> 127\u001b[0m \u001b[38;5;28;01mif\u001b[39;00m \u001b[43mval\u001b[49m \u001b[38;5;241m==\u001b[39m \u001b[38;5;124m'\u001b[39m\u001b[38;5;124m<\u001b[39m\u001b[38;5;124m'\u001b[39m:\n\u001b[0;32m    128\u001b[0m     \u001b[38;5;28mself\u001b[39m\u001b[38;5;241m.\u001b[39mmediaplayer\u001b[38;5;241m.\u001b[39mset_rate(\u001b[38;5;28mself\u001b[39m\u001b[38;5;241m.\u001b[39mmediaplayer\u001b[38;5;241m.\u001b[39mget_rate() \u001b[38;5;241m*\u001b[39m \u001b[38;5;241m0.5\u001b[39m)\n\u001b[0;32m    129\u001b[0m     \u001b[38;5;28;01mreturn\u001b[39;00m\n",
      "\u001b[1;31mUnboundLocalError\u001b[0m: local variable 'val' referenced before assignment"
     ]
    },
    {
     "ename": "UnboundLocalError",
     "evalue": "local variable 'val' referenced before assignment",
     "output_type": "error",
     "traceback": [
      "\u001b[1;31m---------------------------------------------------------------------------\u001b[0m",
      "\u001b[1;31mUnboundLocalError\u001b[0m                         Traceback (most recent call last)",
      "Cell \u001b[1;32mIn[1], line 127\u001b[0m, in \u001b[0;36mMiniPlayer.update_ui\u001b[1;34m(self)\u001b[0m\n\u001b[0;32m    123\u001b[0m \u001b[38;5;28;01mif\u001b[39;00m \u001b[38;5;129;01mnot\u001b[39;00m \u001b[38;5;28mself\u001b[39m\u001b[38;5;241m.\u001b[39mdata_queue\u001b[38;5;241m.\u001b[39mempty():\n\u001b[0;32m    124\u001b[0m     val \u001b[38;5;241m=\u001b[39m \u001b[38;5;28mself\u001b[39m\u001b[38;5;241m.\u001b[39mdata_queue\u001b[38;5;241m.\u001b[39mget()\n\u001b[1;32m--> 127\u001b[0m \u001b[38;5;28;01mif\u001b[39;00m \u001b[43mval\u001b[49m \u001b[38;5;241m==\u001b[39m \u001b[38;5;124m'\u001b[39m\u001b[38;5;124m<\u001b[39m\u001b[38;5;124m'\u001b[39m:\n\u001b[0;32m    128\u001b[0m     \u001b[38;5;28mself\u001b[39m\u001b[38;5;241m.\u001b[39mmediaplayer\u001b[38;5;241m.\u001b[39mset_rate(\u001b[38;5;28mself\u001b[39m\u001b[38;5;241m.\u001b[39mmediaplayer\u001b[38;5;241m.\u001b[39mget_rate() \u001b[38;5;241m*\u001b[39m \u001b[38;5;241m0.5\u001b[39m)\n\u001b[0;32m    129\u001b[0m     \u001b[38;5;28;01mreturn\u001b[39;00m\n",
      "\u001b[1;31mUnboundLocalError\u001b[0m: local variable 'val' referenced before assignment"
     ]
    },
    {
     "ename": "UnboundLocalError",
     "evalue": "local variable 'val' referenced before assignment",
     "output_type": "error",
     "traceback": [
      "\u001b[1;31m---------------------------------------------------------------------------\u001b[0m",
      "\u001b[1;31mUnboundLocalError\u001b[0m                         Traceback (most recent call last)",
      "Cell \u001b[1;32mIn[1], line 127\u001b[0m, in \u001b[0;36mMiniPlayer.update_ui\u001b[1;34m(self)\u001b[0m\n\u001b[0;32m    123\u001b[0m \u001b[38;5;28;01mif\u001b[39;00m \u001b[38;5;129;01mnot\u001b[39;00m \u001b[38;5;28mself\u001b[39m\u001b[38;5;241m.\u001b[39mdata_queue\u001b[38;5;241m.\u001b[39mempty():\n\u001b[0;32m    124\u001b[0m     val \u001b[38;5;241m=\u001b[39m \u001b[38;5;28mself\u001b[39m\u001b[38;5;241m.\u001b[39mdata_queue\u001b[38;5;241m.\u001b[39mget()\n\u001b[1;32m--> 127\u001b[0m \u001b[38;5;28;01mif\u001b[39;00m \u001b[43mval\u001b[49m \u001b[38;5;241m==\u001b[39m \u001b[38;5;124m'\u001b[39m\u001b[38;5;124m<\u001b[39m\u001b[38;5;124m'\u001b[39m:\n\u001b[0;32m    128\u001b[0m     \u001b[38;5;28mself\u001b[39m\u001b[38;5;241m.\u001b[39mmediaplayer\u001b[38;5;241m.\u001b[39mset_rate(\u001b[38;5;28mself\u001b[39m\u001b[38;5;241m.\u001b[39mmediaplayer\u001b[38;5;241m.\u001b[39mget_rate() \u001b[38;5;241m*\u001b[39m \u001b[38;5;241m0.5\u001b[39m)\n\u001b[0;32m    129\u001b[0m     \u001b[38;5;28;01mreturn\u001b[39;00m\n",
      "\u001b[1;31mUnboundLocalError\u001b[0m: local variable 'val' referenced before assignment"
     ]
    },
    {
     "ename": "UnboundLocalError",
     "evalue": "local variable 'val' referenced before assignment",
     "output_type": "error",
     "traceback": [
      "\u001b[1;31m---------------------------------------------------------------------------\u001b[0m",
      "\u001b[1;31mUnboundLocalError\u001b[0m                         Traceback (most recent call last)",
      "Cell \u001b[1;32mIn[1], line 127\u001b[0m, in \u001b[0;36mMiniPlayer.update_ui\u001b[1;34m(self)\u001b[0m\n\u001b[0;32m    123\u001b[0m \u001b[38;5;28;01mif\u001b[39;00m \u001b[38;5;129;01mnot\u001b[39;00m \u001b[38;5;28mself\u001b[39m\u001b[38;5;241m.\u001b[39mdata_queue\u001b[38;5;241m.\u001b[39mempty():\n\u001b[0;32m    124\u001b[0m     val \u001b[38;5;241m=\u001b[39m \u001b[38;5;28mself\u001b[39m\u001b[38;5;241m.\u001b[39mdata_queue\u001b[38;5;241m.\u001b[39mget()\n\u001b[1;32m--> 127\u001b[0m \u001b[38;5;28;01mif\u001b[39;00m \u001b[43mval\u001b[49m \u001b[38;5;241m==\u001b[39m \u001b[38;5;124m'\u001b[39m\u001b[38;5;124m<\u001b[39m\u001b[38;5;124m'\u001b[39m:\n\u001b[0;32m    128\u001b[0m     \u001b[38;5;28mself\u001b[39m\u001b[38;5;241m.\u001b[39mmediaplayer\u001b[38;5;241m.\u001b[39mset_rate(\u001b[38;5;28mself\u001b[39m\u001b[38;5;241m.\u001b[39mmediaplayer\u001b[38;5;241m.\u001b[39mget_rate() \u001b[38;5;241m*\u001b[39m \u001b[38;5;241m0.5\u001b[39m)\n\u001b[0;32m    129\u001b[0m     \u001b[38;5;28;01mreturn\u001b[39;00m\n",
      "\u001b[1;31mUnboundLocalError\u001b[0m: local variable 'val' referenced before assignment"
     ]
    },
    {
     "ename": "UnboundLocalError",
     "evalue": "local variable 'val' referenced before assignment",
     "output_type": "error",
     "traceback": [
      "\u001b[1;31m---------------------------------------------------------------------------\u001b[0m",
      "\u001b[1;31mUnboundLocalError\u001b[0m                         Traceback (most recent call last)",
      "Cell \u001b[1;32mIn[1], line 127\u001b[0m, in \u001b[0;36mMiniPlayer.update_ui\u001b[1;34m(self)\u001b[0m\n\u001b[0;32m    123\u001b[0m \u001b[38;5;28;01mif\u001b[39;00m \u001b[38;5;129;01mnot\u001b[39;00m \u001b[38;5;28mself\u001b[39m\u001b[38;5;241m.\u001b[39mdata_queue\u001b[38;5;241m.\u001b[39mempty():\n\u001b[0;32m    124\u001b[0m     val \u001b[38;5;241m=\u001b[39m \u001b[38;5;28mself\u001b[39m\u001b[38;5;241m.\u001b[39mdata_queue\u001b[38;5;241m.\u001b[39mget()\n\u001b[1;32m--> 127\u001b[0m \u001b[38;5;28;01mif\u001b[39;00m \u001b[43mval\u001b[49m \u001b[38;5;241m==\u001b[39m \u001b[38;5;124m'\u001b[39m\u001b[38;5;124m<\u001b[39m\u001b[38;5;124m'\u001b[39m:\n\u001b[0;32m    128\u001b[0m     \u001b[38;5;28mself\u001b[39m\u001b[38;5;241m.\u001b[39mmediaplayer\u001b[38;5;241m.\u001b[39mset_rate(\u001b[38;5;28mself\u001b[39m\u001b[38;5;241m.\u001b[39mmediaplayer\u001b[38;5;241m.\u001b[39mget_rate() \u001b[38;5;241m*\u001b[39m \u001b[38;5;241m0.5\u001b[39m)\n\u001b[0;32m    129\u001b[0m     \u001b[38;5;28;01mreturn\u001b[39;00m\n",
      "\u001b[1;31mUnboundLocalError\u001b[0m: local variable 'val' referenced before assignment"
     ]
    },
    {
     "ename": "UnboundLocalError",
     "evalue": "local variable 'val' referenced before assignment",
     "output_type": "error",
     "traceback": [
      "\u001b[1;31m---------------------------------------------------------------------------\u001b[0m",
      "\u001b[1;31mUnboundLocalError\u001b[0m                         Traceback (most recent call last)",
      "Cell \u001b[1;32mIn[1], line 127\u001b[0m, in \u001b[0;36mMiniPlayer.update_ui\u001b[1;34m(self)\u001b[0m\n\u001b[0;32m    123\u001b[0m \u001b[38;5;28;01mif\u001b[39;00m \u001b[38;5;129;01mnot\u001b[39;00m \u001b[38;5;28mself\u001b[39m\u001b[38;5;241m.\u001b[39mdata_queue\u001b[38;5;241m.\u001b[39mempty():\n\u001b[0;32m    124\u001b[0m     val \u001b[38;5;241m=\u001b[39m \u001b[38;5;28mself\u001b[39m\u001b[38;5;241m.\u001b[39mdata_queue\u001b[38;5;241m.\u001b[39mget()\n\u001b[1;32m--> 127\u001b[0m \u001b[38;5;28;01mif\u001b[39;00m \u001b[43mval\u001b[49m \u001b[38;5;241m==\u001b[39m \u001b[38;5;124m'\u001b[39m\u001b[38;5;124m<\u001b[39m\u001b[38;5;124m'\u001b[39m:\n\u001b[0;32m    128\u001b[0m     \u001b[38;5;28mself\u001b[39m\u001b[38;5;241m.\u001b[39mmediaplayer\u001b[38;5;241m.\u001b[39mset_rate(\u001b[38;5;28mself\u001b[39m\u001b[38;5;241m.\u001b[39mmediaplayer\u001b[38;5;241m.\u001b[39mget_rate() \u001b[38;5;241m*\u001b[39m \u001b[38;5;241m0.5\u001b[39m)\n\u001b[0;32m    129\u001b[0m     \u001b[38;5;28;01mreturn\u001b[39;00m\n",
      "\u001b[1;31mUnboundLocalError\u001b[0m: local variable 'val' referenced before assignment"
     ]
    },
    {
     "ename": "UnboundLocalError",
     "evalue": "local variable 'val' referenced before assignment",
     "output_type": "error",
     "traceback": [
      "\u001b[1;31m---------------------------------------------------------------------------\u001b[0m",
      "\u001b[1;31mUnboundLocalError\u001b[0m                         Traceback (most recent call last)",
      "Cell \u001b[1;32mIn[1], line 127\u001b[0m, in \u001b[0;36mMiniPlayer.update_ui\u001b[1;34m(self)\u001b[0m\n\u001b[0;32m    123\u001b[0m \u001b[38;5;28;01mif\u001b[39;00m \u001b[38;5;129;01mnot\u001b[39;00m \u001b[38;5;28mself\u001b[39m\u001b[38;5;241m.\u001b[39mdata_queue\u001b[38;5;241m.\u001b[39mempty():\n\u001b[0;32m    124\u001b[0m     val \u001b[38;5;241m=\u001b[39m \u001b[38;5;28mself\u001b[39m\u001b[38;5;241m.\u001b[39mdata_queue\u001b[38;5;241m.\u001b[39mget()\n\u001b[1;32m--> 127\u001b[0m \u001b[38;5;28;01mif\u001b[39;00m \u001b[43mval\u001b[49m \u001b[38;5;241m==\u001b[39m \u001b[38;5;124m'\u001b[39m\u001b[38;5;124m<\u001b[39m\u001b[38;5;124m'\u001b[39m:\n\u001b[0;32m    128\u001b[0m     \u001b[38;5;28mself\u001b[39m\u001b[38;5;241m.\u001b[39mmediaplayer\u001b[38;5;241m.\u001b[39mset_rate(\u001b[38;5;28mself\u001b[39m\u001b[38;5;241m.\u001b[39mmediaplayer\u001b[38;5;241m.\u001b[39mget_rate() \u001b[38;5;241m*\u001b[39m \u001b[38;5;241m0.5\u001b[39m)\n\u001b[0;32m    129\u001b[0m     \u001b[38;5;28;01mreturn\u001b[39;00m\n",
      "\u001b[1;31mUnboundLocalError\u001b[0m: local variable 'val' referenced before assignment"
     ]
    },
    {
     "ename": "UnboundLocalError",
     "evalue": "local variable 'val' referenced before assignment",
     "output_type": "error",
     "traceback": [
      "\u001b[1;31m---------------------------------------------------------------------------\u001b[0m",
      "\u001b[1;31mUnboundLocalError\u001b[0m                         Traceback (most recent call last)",
      "Cell \u001b[1;32mIn[1], line 127\u001b[0m, in \u001b[0;36mMiniPlayer.update_ui\u001b[1;34m(self)\u001b[0m\n\u001b[0;32m    123\u001b[0m \u001b[38;5;28;01mif\u001b[39;00m \u001b[38;5;129;01mnot\u001b[39;00m \u001b[38;5;28mself\u001b[39m\u001b[38;5;241m.\u001b[39mdata_queue\u001b[38;5;241m.\u001b[39mempty():\n\u001b[0;32m    124\u001b[0m     val \u001b[38;5;241m=\u001b[39m \u001b[38;5;28mself\u001b[39m\u001b[38;5;241m.\u001b[39mdata_queue\u001b[38;5;241m.\u001b[39mget()\n\u001b[1;32m--> 127\u001b[0m \u001b[38;5;28;01mif\u001b[39;00m \u001b[43mval\u001b[49m \u001b[38;5;241m==\u001b[39m \u001b[38;5;124m'\u001b[39m\u001b[38;5;124m<\u001b[39m\u001b[38;5;124m'\u001b[39m:\n\u001b[0;32m    128\u001b[0m     \u001b[38;5;28mself\u001b[39m\u001b[38;5;241m.\u001b[39mmediaplayer\u001b[38;5;241m.\u001b[39mset_rate(\u001b[38;5;28mself\u001b[39m\u001b[38;5;241m.\u001b[39mmediaplayer\u001b[38;5;241m.\u001b[39mget_rate() \u001b[38;5;241m*\u001b[39m \u001b[38;5;241m0.5\u001b[39m)\n\u001b[0;32m    129\u001b[0m     \u001b[38;5;28;01mreturn\u001b[39;00m\n",
      "\u001b[1;31mUnboundLocalError\u001b[0m: local variable 'val' referenced before assignment"
     ]
    },
    {
     "ename": "UnboundLocalError",
     "evalue": "local variable 'val' referenced before assignment",
     "output_type": "error",
     "traceback": [
      "\u001b[1;31m---------------------------------------------------------------------------\u001b[0m",
      "\u001b[1;31mUnboundLocalError\u001b[0m                         Traceback (most recent call last)",
      "Cell \u001b[1;32mIn[1], line 127\u001b[0m, in \u001b[0;36mMiniPlayer.update_ui\u001b[1;34m(self)\u001b[0m\n\u001b[0;32m    123\u001b[0m \u001b[38;5;28;01mif\u001b[39;00m \u001b[38;5;129;01mnot\u001b[39;00m \u001b[38;5;28mself\u001b[39m\u001b[38;5;241m.\u001b[39mdata_queue\u001b[38;5;241m.\u001b[39mempty():\n\u001b[0;32m    124\u001b[0m     val \u001b[38;5;241m=\u001b[39m \u001b[38;5;28mself\u001b[39m\u001b[38;5;241m.\u001b[39mdata_queue\u001b[38;5;241m.\u001b[39mget()\n\u001b[1;32m--> 127\u001b[0m \u001b[38;5;28;01mif\u001b[39;00m \u001b[43mval\u001b[49m \u001b[38;5;241m==\u001b[39m \u001b[38;5;124m'\u001b[39m\u001b[38;5;124m<\u001b[39m\u001b[38;5;124m'\u001b[39m:\n\u001b[0;32m    128\u001b[0m     \u001b[38;5;28mself\u001b[39m\u001b[38;5;241m.\u001b[39mmediaplayer\u001b[38;5;241m.\u001b[39mset_rate(\u001b[38;5;28mself\u001b[39m\u001b[38;5;241m.\u001b[39mmediaplayer\u001b[38;5;241m.\u001b[39mget_rate() \u001b[38;5;241m*\u001b[39m \u001b[38;5;241m0.5\u001b[39m)\n\u001b[0;32m    129\u001b[0m     \u001b[38;5;28;01mreturn\u001b[39;00m\n",
      "\u001b[1;31mUnboundLocalError\u001b[0m: local variable 'val' referenced before assignment"
     ]
    },
    {
     "ename": "UnboundLocalError",
     "evalue": "local variable 'val' referenced before assignment",
     "output_type": "error",
     "traceback": [
      "\u001b[1;31m---------------------------------------------------------------------------\u001b[0m",
      "\u001b[1;31mUnboundLocalError\u001b[0m                         Traceback (most recent call last)",
      "Cell \u001b[1;32mIn[1], line 127\u001b[0m, in \u001b[0;36mMiniPlayer.update_ui\u001b[1;34m(self)\u001b[0m\n\u001b[0;32m    123\u001b[0m \u001b[38;5;28;01mif\u001b[39;00m \u001b[38;5;129;01mnot\u001b[39;00m \u001b[38;5;28mself\u001b[39m\u001b[38;5;241m.\u001b[39mdata_queue\u001b[38;5;241m.\u001b[39mempty():\n\u001b[0;32m    124\u001b[0m     val \u001b[38;5;241m=\u001b[39m \u001b[38;5;28mself\u001b[39m\u001b[38;5;241m.\u001b[39mdata_queue\u001b[38;5;241m.\u001b[39mget()\n\u001b[1;32m--> 127\u001b[0m \u001b[38;5;28;01mif\u001b[39;00m \u001b[43mval\u001b[49m \u001b[38;5;241m==\u001b[39m \u001b[38;5;124m'\u001b[39m\u001b[38;5;124m<\u001b[39m\u001b[38;5;124m'\u001b[39m:\n\u001b[0;32m    128\u001b[0m     \u001b[38;5;28mself\u001b[39m\u001b[38;5;241m.\u001b[39mmediaplayer\u001b[38;5;241m.\u001b[39mset_rate(\u001b[38;5;28mself\u001b[39m\u001b[38;5;241m.\u001b[39mmediaplayer\u001b[38;5;241m.\u001b[39mget_rate() \u001b[38;5;241m*\u001b[39m \u001b[38;5;241m0.5\u001b[39m)\n\u001b[0;32m    129\u001b[0m     \u001b[38;5;28;01mreturn\u001b[39;00m\n",
      "\u001b[1;31mUnboundLocalError\u001b[0m: local variable 'val' referenced before assignment"
     ]
    },
    {
     "ename": "UnboundLocalError",
     "evalue": "local variable 'val' referenced before assignment",
     "output_type": "error",
     "traceback": [
      "\u001b[1;31m---------------------------------------------------------------------------\u001b[0m",
      "\u001b[1;31mUnboundLocalError\u001b[0m                         Traceback (most recent call last)",
      "Cell \u001b[1;32mIn[1], line 127\u001b[0m, in \u001b[0;36mMiniPlayer.update_ui\u001b[1;34m(self)\u001b[0m\n\u001b[0;32m    123\u001b[0m \u001b[38;5;28;01mif\u001b[39;00m \u001b[38;5;129;01mnot\u001b[39;00m \u001b[38;5;28mself\u001b[39m\u001b[38;5;241m.\u001b[39mdata_queue\u001b[38;5;241m.\u001b[39mempty():\n\u001b[0;32m    124\u001b[0m     val \u001b[38;5;241m=\u001b[39m \u001b[38;5;28mself\u001b[39m\u001b[38;5;241m.\u001b[39mdata_queue\u001b[38;5;241m.\u001b[39mget()\n\u001b[1;32m--> 127\u001b[0m \u001b[38;5;28;01mif\u001b[39;00m \u001b[43mval\u001b[49m \u001b[38;5;241m==\u001b[39m \u001b[38;5;124m'\u001b[39m\u001b[38;5;124m<\u001b[39m\u001b[38;5;124m'\u001b[39m:\n\u001b[0;32m    128\u001b[0m     \u001b[38;5;28mself\u001b[39m\u001b[38;5;241m.\u001b[39mmediaplayer\u001b[38;5;241m.\u001b[39mset_rate(\u001b[38;5;28mself\u001b[39m\u001b[38;5;241m.\u001b[39mmediaplayer\u001b[38;5;241m.\u001b[39mget_rate() \u001b[38;5;241m*\u001b[39m \u001b[38;5;241m0.5\u001b[39m)\n\u001b[0;32m    129\u001b[0m     \u001b[38;5;28;01mreturn\u001b[39;00m\n",
      "\u001b[1;31mUnboundLocalError\u001b[0m: local variable 'val' referenced before assignment"
     ]
    },
    {
     "ename": "UnboundLocalError",
     "evalue": "local variable 'val' referenced before assignment",
     "output_type": "error",
     "traceback": [
      "\u001b[1;31m---------------------------------------------------------------------------\u001b[0m",
      "\u001b[1;31mUnboundLocalError\u001b[0m                         Traceback (most recent call last)",
      "Cell \u001b[1;32mIn[1], line 127\u001b[0m, in \u001b[0;36mMiniPlayer.update_ui\u001b[1;34m(self)\u001b[0m\n\u001b[0;32m    123\u001b[0m \u001b[38;5;28;01mif\u001b[39;00m \u001b[38;5;129;01mnot\u001b[39;00m \u001b[38;5;28mself\u001b[39m\u001b[38;5;241m.\u001b[39mdata_queue\u001b[38;5;241m.\u001b[39mempty():\n\u001b[0;32m    124\u001b[0m     val \u001b[38;5;241m=\u001b[39m \u001b[38;5;28mself\u001b[39m\u001b[38;5;241m.\u001b[39mdata_queue\u001b[38;5;241m.\u001b[39mget()\n\u001b[1;32m--> 127\u001b[0m \u001b[38;5;28;01mif\u001b[39;00m \u001b[43mval\u001b[49m \u001b[38;5;241m==\u001b[39m \u001b[38;5;124m'\u001b[39m\u001b[38;5;124m<\u001b[39m\u001b[38;5;124m'\u001b[39m:\n\u001b[0;32m    128\u001b[0m     \u001b[38;5;28mself\u001b[39m\u001b[38;5;241m.\u001b[39mmediaplayer\u001b[38;5;241m.\u001b[39mset_rate(\u001b[38;5;28mself\u001b[39m\u001b[38;5;241m.\u001b[39mmediaplayer\u001b[38;5;241m.\u001b[39mget_rate() \u001b[38;5;241m*\u001b[39m \u001b[38;5;241m0.5\u001b[39m)\n\u001b[0;32m    129\u001b[0m     \u001b[38;5;28;01mreturn\u001b[39;00m\n",
      "\u001b[1;31mUnboundLocalError\u001b[0m: local variable 'val' referenced before assignment"
     ]
    },
    {
     "ename": "UnboundLocalError",
     "evalue": "local variable 'val' referenced before assignment",
     "output_type": "error",
     "traceback": [
      "\u001b[1;31m---------------------------------------------------------------------------\u001b[0m",
      "\u001b[1;31mUnboundLocalError\u001b[0m                         Traceback (most recent call last)",
      "Cell \u001b[1;32mIn[1], line 127\u001b[0m, in \u001b[0;36mMiniPlayer.update_ui\u001b[1;34m(self)\u001b[0m\n\u001b[0;32m    123\u001b[0m \u001b[38;5;28;01mif\u001b[39;00m \u001b[38;5;129;01mnot\u001b[39;00m \u001b[38;5;28mself\u001b[39m\u001b[38;5;241m.\u001b[39mdata_queue\u001b[38;5;241m.\u001b[39mempty():\n\u001b[0;32m    124\u001b[0m     val \u001b[38;5;241m=\u001b[39m \u001b[38;5;28mself\u001b[39m\u001b[38;5;241m.\u001b[39mdata_queue\u001b[38;5;241m.\u001b[39mget()\n\u001b[1;32m--> 127\u001b[0m \u001b[38;5;28;01mif\u001b[39;00m \u001b[43mval\u001b[49m \u001b[38;5;241m==\u001b[39m \u001b[38;5;124m'\u001b[39m\u001b[38;5;124m<\u001b[39m\u001b[38;5;124m'\u001b[39m:\n\u001b[0;32m    128\u001b[0m     \u001b[38;5;28mself\u001b[39m\u001b[38;5;241m.\u001b[39mmediaplayer\u001b[38;5;241m.\u001b[39mset_rate(\u001b[38;5;28mself\u001b[39m\u001b[38;5;241m.\u001b[39mmediaplayer\u001b[38;5;241m.\u001b[39mget_rate() \u001b[38;5;241m*\u001b[39m \u001b[38;5;241m0.5\u001b[39m)\n\u001b[0;32m    129\u001b[0m     \u001b[38;5;28;01mreturn\u001b[39;00m\n",
      "\u001b[1;31mUnboundLocalError\u001b[0m: local variable 'val' referenced before assignment"
     ]
    },
    {
     "ename": "UnboundLocalError",
     "evalue": "local variable 'val' referenced before assignment",
     "output_type": "error",
     "traceback": [
      "\u001b[1;31m---------------------------------------------------------------------------\u001b[0m",
      "\u001b[1;31mUnboundLocalError\u001b[0m                         Traceback (most recent call last)",
      "Cell \u001b[1;32mIn[1], line 127\u001b[0m, in \u001b[0;36mMiniPlayer.update_ui\u001b[1;34m(self)\u001b[0m\n\u001b[0;32m    123\u001b[0m \u001b[38;5;28;01mif\u001b[39;00m \u001b[38;5;129;01mnot\u001b[39;00m \u001b[38;5;28mself\u001b[39m\u001b[38;5;241m.\u001b[39mdata_queue\u001b[38;5;241m.\u001b[39mempty():\n\u001b[0;32m    124\u001b[0m     val \u001b[38;5;241m=\u001b[39m \u001b[38;5;28mself\u001b[39m\u001b[38;5;241m.\u001b[39mdata_queue\u001b[38;5;241m.\u001b[39mget()\n\u001b[1;32m--> 127\u001b[0m \u001b[38;5;28;01mif\u001b[39;00m \u001b[43mval\u001b[49m \u001b[38;5;241m==\u001b[39m \u001b[38;5;124m'\u001b[39m\u001b[38;5;124m<\u001b[39m\u001b[38;5;124m'\u001b[39m:\n\u001b[0;32m    128\u001b[0m     \u001b[38;5;28mself\u001b[39m\u001b[38;5;241m.\u001b[39mmediaplayer\u001b[38;5;241m.\u001b[39mset_rate(\u001b[38;5;28mself\u001b[39m\u001b[38;5;241m.\u001b[39mmediaplayer\u001b[38;5;241m.\u001b[39mget_rate() \u001b[38;5;241m*\u001b[39m \u001b[38;5;241m0.5\u001b[39m)\n\u001b[0;32m    129\u001b[0m     \u001b[38;5;28;01mreturn\u001b[39;00m\n",
      "\u001b[1;31mUnboundLocalError\u001b[0m: local variable 'val' referenced before assignment"
     ]
    },
    {
     "ename": "UnboundLocalError",
     "evalue": "local variable 'val' referenced before assignment",
     "output_type": "error",
     "traceback": [
      "\u001b[1;31m---------------------------------------------------------------------------\u001b[0m",
      "\u001b[1;31mUnboundLocalError\u001b[0m                         Traceback (most recent call last)",
      "Cell \u001b[1;32mIn[1], line 127\u001b[0m, in \u001b[0;36mMiniPlayer.update_ui\u001b[1;34m(self)\u001b[0m\n\u001b[0;32m    123\u001b[0m \u001b[38;5;28;01mif\u001b[39;00m \u001b[38;5;129;01mnot\u001b[39;00m \u001b[38;5;28mself\u001b[39m\u001b[38;5;241m.\u001b[39mdata_queue\u001b[38;5;241m.\u001b[39mempty():\n\u001b[0;32m    124\u001b[0m     val \u001b[38;5;241m=\u001b[39m \u001b[38;5;28mself\u001b[39m\u001b[38;5;241m.\u001b[39mdata_queue\u001b[38;5;241m.\u001b[39mget()\n\u001b[1;32m--> 127\u001b[0m \u001b[38;5;28;01mif\u001b[39;00m \u001b[43mval\u001b[49m \u001b[38;5;241m==\u001b[39m \u001b[38;5;124m'\u001b[39m\u001b[38;5;124m<\u001b[39m\u001b[38;5;124m'\u001b[39m:\n\u001b[0;32m    128\u001b[0m     \u001b[38;5;28mself\u001b[39m\u001b[38;5;241m.\u001b[39mmediaplayer\u001b[38;5;241m.\u001b[39mset_rate(\u001b[38;5;28mself\u001b[39m\u001b[38;5;241m.\u001b[39mmediaplayer\u001b[38;5;241m.\u001b[39mget_rate() \u001b[38;5;241m*\u001b[39m \u001b[38;5;241m0.5\u001b[39m)\n\u001b[0;32m    129\u001b[0m     \u001b[38;5;28;01mreturn\u001b[39;00m\n",
      "\u001b[1;31mUnboundLocalError\u001b[0m: local variable 'val' referenced before assignment"
     ]
    },
    {
     "ename": "UnboundLocalError",
     "evalue": "local variable 'val' referenced before assignment",
     "output_type": "error",
     "traceback": [
      "\u001b[1;31m---------------------------------------------------------------------------\u001b[0m",
      "\u001b[1;31mUnboundLocalError\u001b[0m                         Traceback (most recent call last)",
      "Cell \u001b[1;32mIn[1], line 127\u001b[0m, in \u001b[0;36mMiniPlayer.update_ui\u001b[1;34m(self)\u001b[0m\n\u001b[0;32m    123\u001b[0m \u001b[38;5;28;01mif\u001b[39;00m \u001b[38;5;129;01mnot\u001b[39;00m \u001b[38;5;28mself\u001b[39m\u001b[38;5;241m.\u001b[39mdata_queue\u001b[38;5;241m.\u001b[39mempty():\n\u001b[0;32m    124\u001b[0m     val \u001b[38;5;241m=\u001b[39m \u001b[38;5;28mself\u001b[39m\u001b[38;5;241m.\u001b[39mdata_queue\u001b[38;5;241m.\u001b[39mget()\n\u001b[1;32m--> 127\u001b[0m \u001b[38;5;28;01mif\u001b[39;00m \u001b[43mval\u001b[49m \u001b[38;5;241m==\u001b[39m \u001b[38;5;124m'\u001b[39m\u001b[38;5;124m<\u001b[39m\u001b[38;5;124m'\u001b[39m:\n\u001b[0;32m    128\u001b[0m     \u001b[38;5;28mself\u001b[39m\u001b[38;5;241m.\u001b[39mmediaplayer\u001b[38;5;241m.\u001b[39mset_rate(\u001b[38;5;28mself\u001b[39m\u001b[38;5;241m.\u001b[39mmediaplayer\u001b[38;5;241m.\u001b[39mget_rate() \u001b[38;5;241m*\u001b[39m \u001b[38;5;241m0.5\u001b[39m)\n\u001b[0;32m    129\u001b[0m     \u001b[38;5;28;01mreturn\u001b[39;00m\n",
      "\u001b[1;31mUnboundLocalError\u001b[0m: local variable 'val' referenced before assignment"
     ]
    },
    {
     "ename": "UnboundLocalError",
     "evalue": "local variable 'val' referenced before assignment",
     "output_type": "error",
     "traceback": [
      "\u001b[1;31m---------------------------------------------------------------------------\u001b[0m",
      "\u001b[1;31mUnboundLocalError\u001b[0m                         Traceback (most recent call last)",
      "Cell \u001b[1;32mIn[1], line 127\u001b[0m, in \u001b[0;36mMiniPlayer.update_ui\u001b[1;34m(self)\u001b[0m\n\u001b[0;32m    123\u001b[0m \u001b[38;5;28;01mif\u001b[39;00m \u001b[38;5;129;01mnot\u001b[39;00m \u001b[38;5;28mself\u001b[39m\u001b[38;5;241m.\u001b[39mdata_queue\u001b[38;5;241m.\u001b[39mempty():\n\u001b[0;32m    124\u001b[0m     val \u001b[38;5;241m=\u001b[39m \u001b[38;5;28mself\u001b[39m\u001b[38;5;241m.\u001b[39mdata_queue\u001b[38;5;241m.\u001b[39mget()\n\u001b[1;32m--> 127\u001b[0m \u001b[38;5;28;01mif\u001b[39;00m \u001b[43mval\u001b[49m \u001b[38;5;241m==\u001b[39m \u001b[38;5;124m'\u001b[39m\u001b[38;5;124m<\u001b[39m\u001b[38;5;124m'\u001b[39m:\n\u001b[0;32m    128\u001b[0m     \u001b[38;5;28mself\u001b[39m\u001b[38;5;241m.\u001b[39mmediaplayer\u001b[38;5;241m.\u001b[39mset_rate(\u001b[38;5;28mself\u001b[39m\u001b[38;5;241m.\u001b[39mmediaplayer\u001b[38;5;241m.\u001b[39mget_rate() \u001b[38;5;241m*\u001b[39m \u001b[38;5;241m0.5\u001b[39m)\n\u001b[0;32m    129\u001b[0m     \u001b[38;5;28;01mreturn\u001b[39;00m\n",
      "\u001b[1;31mUnboundLocalError\u001b[0m: local variable 'val' referenced before assignment"
     ]
    },
    {
     "ename": "UnboundLocalError",
     "evalue": "local variable 'val' referenced before assignment",
     "output_type": "error",
     "traceback": [
      "\u001b[1;31m---------------------------------------------------------------------------\u001b[0m",
      "\u001b[1;31mUnboundLocalError\u001b[0m                         Traceback (most recent call last)",
      "Cell \u001b[1;32mIn[1], line 127\u001b[0m, in \u001b[0;36mMiniPlayer.update_ui\u001b[1;34m(self)\u001b[0m\n\u001b[0;32m    123\u001b[0m \u001b[38;5;28;01mif\u001b[39;00m \u001b[38;5;129;01mnot\u001b[39;00m \u001b[38;5;28mself\u001b[39m\u001b[38;5;241m.\u001b[39mdata_queue\u001b[38;5;241m.\u001b[39mempty():\n\u001b[0;32m    124\u001b[0m     val \u001b[38;5;241m=\u001b[39m \u001b[38;5;28mself\u001b[39m\u001b[38;5;241m.\u001b[39mdata_queue\u001b[38;5;241m.\u001b[39mget()\n\u001b[1;32m--> 127\u001b[0m \u001b[38;5;28;01mif\u001b[39;00m \u001b[43mval\u001b[49m \u001b[38;5;241m==\u001b[39m \u001b[38;5;124m'\u001b[39m\u001b[38;5;124m<\u001b[39m\u001b[38;5;124m'\u001b[39m:\n\u001b[0;32m    128\u001b[0m     \u001b[38;5;28mself\u001b[39m\u001b[38;5;241m.\u001b[39mmediaplayer\u001b[38;5;241m.\u001b[39mset_rate(\u001b[38;5;28mself\u001b[39m\u001b[38;5;241m.\u001b[39mmediaplayer\u001b[38;5;241m.\u001b[39mget_rate() \u001b[38;5;241m*\u001b[39m \u001b[38;5;241m0.5\u001b[39m)\n\u001b[0;32m    129\u001b[0m     \u001b[38;5;28;01mreturn\u001b[39;00m\n",
      "\u001b[1;31mUnboundLocalError\u001b[0m: local variable 'val' referenced before assignment"
     ]
    },
    {
     "ename": "UnboundLocalError",
     "evalue": "local variable 'val' referenced before assignment",
     "output_type": "error",
     "traceback": [
      "\u001b[1;31m---------------------------------------------------------------------------\u001b[0m",
      "\u001b[1;31mUnboundLocalError\u001b[0m                         Traceback (most recent call last)",
      "Cell \u001b[1;32mIn[1], line 127\u001b[0m, in \u001b[0;36mMiniPlayer.update_ui\u001b[1;34m(self)\u001b[0m\n\u001b[0;32m    123\u001b[0m \u001b[38;5;28;01mif\u001b[39;00m \u001b[38;5;129;01mnot\u001b[39;00m \u001b[38;5;28mself\u001b[39m\u001b[38;5;241m.\u001b[39mdata_queue\u001b[38;5;241m.\u001b[39mempty():\n\u001b[0;32m    124\u001b[0m     val \u001b[38;5;241m=\u001b[39m \u001b[38;5;28mself\u001b[39m\u001b[38;5;241m.\u001b[39mdata_queue\u001b[38;5;241m.\u001b[39mget()\n\u001b[1;32m--> 127\u001b[0m \u001b[38;5;28;01mif\u001b[39;00m \u001b[43mval\u001b[49m \u001b[38;5;241m==\u001b[39m \u001b[38;5;124m'\u001b[39m\u001b[38;5;124m<\u001b[39m\u001b[38;5;124m'\u001b[39m:\n\u001b[0;32m    128\u001b[0m     \u001b[38;5;28mself\u001b[39m\u001b[38;5;241m.\u001b[39mmediaplayer\u001b[38;5;241m.\u001b[39mset_rate(\u001b[38;5;28mself\u001b[39m\u001b[38;5;241m.\u001b[39mmediaplayer\u001b[38;5;241m.\u001b[39mget_rate() \u001b[38;5;241m*\u001b[39m \u001b[38;5;241m0.5\u001b[39m)\n\u001b[0;32m    129\u001b[0m     \u001b[38;5;28;01mreturn\u001b[39;00m\n",
      "\u001b[1;31mUnboundLocalError\u001b[0m: local variable 'val' referenced before assignment"
     ]
    },
    {
     "ename": "UnboundLocalError",
     "evalue": "local variable 'val' referenced before assignment",
     "output_type": "error",
     "traceback": [
      "\u001b[1;31m---------------------------------------------------------------------------\u001b[0m",
      "\u001b[1;31mUnboundLocalError\u001b[0m                         Traceback (most recent call last)",
      "Cell \u001b[1;32mIn[1], line 127\u001b[0m, in \u001b[0;36mMiniPlayer.update_ui\u001b[1;34m(self)\u001b[0m\n\u001b[0;32m    123\u001b[0m \u001b[38;5;28;01mif\u001b[39;00m \u001b[38;5;129;01mnot\u001b[39;00m \u001b[38;5;28mself\u001b[39m\u001b[38;5;241m.\u001b[39mdata_queue\u001b[38;5;241m.\u001b[39mempty():\n\u001b[0;32m    124\u001b[0m     val \u001b[38;5;241m=\u001b[39m \u001b[38;5;28mself\u001b[39m\u001b[38;5;241m.\u001b[39mdata_queue\u001b[38;5;241m.\u001b[39mget()\n\u001b[1;32m--> 127\u001b[0m \u001b[38;5;28;01mif\u001b[39;00m \u001b[43mval\u001b[49m \u001b[38;5;241m==\u001b[39m \u001b[38;5;124m'\u001b[39m\u001b[38;5;124m<\u001b[39m\u001b[38;5;124m'\u001b[39m:\n\u001b[0;32m    128\u001b[0m     \u001b[38;5;28mself\u001b[39m\u001b[38;5;241m.\u001b[39mmediaplayer\u001b[38;5;241m.\u001b[39mset_rate(\u001b[38;5;28mself\u001b[39m\u001b[38;5;241m.\u001b[39mmediaplayer\u001b[38;5;241m.\u001b[39mget_rate() \u001b[38;5;241m*\u001b[39m \u001b[38;5;241m0.5\u001b[39m)\n\u001b[0;32m    129\u001b[0m     \u001b[38;5;28;01mreturn\u001b[39;00m\n",
      "\u001b[1;31mUnboundLocalError\u001b[0m: local variable 'val' referenced before assignment"
     ]
    },
    {
     "ename": "UnboundLocalError",
     "evalue": "local variable 'val' referenced before assignment",
     "output_type": "error",
     "traceback": [
      "\u001b[1;31m---------------------------------------------------------------------------\u001b[0m",
      "\u001b[1;31mUnboundLocalError\u001b[0m                         Traceback (most recent call last)",
      "Cell \u001b[1;32mIn[1], line 127\u001b[0m, in \u001b[0;36mMiniPlayer.update_ui\u001b[1;34m(self)\u001b[0m\n\u001b[0;32m    123\u001b[0m \u001b[38;5;28;01mif\u001b[39;00m \u001b[38;5;129;01mnot\u001b[39;00m \u001b[38;5;28mself\u001b[39m\u001b[38;5;241m.\u001b[39mdata_queue\u001b[38;5;241m.\u001b[39mempty():\n\u001b[0;32m    124\u001b[0m     val \u001b[38;5;241m=\u001b[39m \u001b[38;5;28mself\u001b[39m\u001b[38;5;241m.\u001b[39mdata_queue\u001b[38;5;241m.\u001b[39mget()\n\u001b[1;32m--> 127\u001b[0m \u001b[38;5;28;01mif\u001b[39;00m \u001b[43mval\u001b[49m \u001b[38;5;241m==\u001b[39m \u001b[38;5;124m'\u001b[39m\u001b[38;5;124m<\u001b[39m\u001b[38;5;124m'\u001b[39m:\n\u001b[0;32m    128\u001b[0m     \u001b[38;5;28mself\u001b[39m\u001b[38;5;241m.\u001b[39mmediaplayer\u001b[38;5;241m.\u001b[39mset_rate(\u001b[38;5;28mself\u001b[39m\u001b[38;5;241m.\u001b[39mmediaplayer\u001b[38;5;241m.\u001b[39mget_rate() \u001b[38;5;241m*\u001b[39m \u001b[38;5;241m0.5\u001b[39m)\n\u001b[0;32m    129\u001b[0m     \u001b[38;5;28;01mreturn\u001b[39;00m\n",
      "\u001b[1;31mUnboundLocalError\u001b[0m: local variable 'val' referenced before assignment"
     ]
    },
    {
     "ename": "UnboundLocalError",
     "evalue": "local variable 'val' referenced before assignment",
     "output_type": "error",
     "traceback": [
      "\u001b[1;31m---------------------------------------------------------------------------\u001b[0m",
      "\u001b[1;31mUnboundLocalError\u001b[0m                         Traceback (most recent call last)",
      "Cell \u001b[1;32mIn[1], line 127\u001b[0m, in \u001b[0;36mMiniPlayer.update_ui\u001b[1;34m(self)\u001b[0m\n\u001b[0;32m    123\u001b[0m \u001b[38;5;28;01mif\u001b[39;00m \u001b[38;5;129;01mnot\u001b[39;00m \u001b[38;5;28mself\u001b[39m\u001b[38;5;241m.\u001b[39mdata_queue\u001b[38;5;241m.\u001b[39mempty():\n\u001b[0;32m    124\u001b[0m     val \u001b[38;5;241m=\u001b[39m \u001b[38;5;28mself\u001b[39m\u001b[38;5;241m.\u001b[39mdata_queue\u001b[38;5;241m.\u001b[39mget()\n\u001b[1;32m--> 127\u001b[0m \u001b[38;5;28;01mif\u001b[39;00m \u001b[43mval\u001b[49m \u001b[38;5;241m==\u001b[39m \u001b[38;5;124m'\u001b[39m\u001b[38;5;124m<\u001b[39m\u001b[38;5;124m'\u001b[39m:\n\u001b[0;32m    128\u001b[0m     \u001b[38;5;28mself\u001b[39m\u001b[38;5;241m.\u001b[39mmediaplayer\u001b[38;5;241m.\u001b[39mset_rate(\u001b[38;5;28mself\u001b[39m\u001b[38;5;241m.\u001b[39mmediaplayer\u001b[38;5;241m.\u001b[39mget_rate() \u001b[38;5;241m*\u001b[39m \u001b[38;5;241m0.5\u001b[39m)\n\u001b[0;32m    129\u001b[0m     \u001b[38;5;28;01mreturn\u001b[39;00m\n",
      "\u001b[1;31mUnboundLocalError\u001b[0m: local variable 'val' referenced before assignment"
     ]
    },
    {
     "ename": "UnboundLocalError",
     "evalue": "local variable 'val' referenced before assignment",
     "output_type": "error",
     "traceback": [
      "\u001b[1;31m---------------------------------------------------------------------------\u001b[0m",
      "\u001b[1;31mUnboundLocalError\u001b[0m                         Traceback (most recent call last)",
      "Cell \u001b[1;32mIn[1], line 127\u001b[0m, in \u001b[0;36mMiniPlayer.update_ui\u001b[1;34m(self)\u001b[0m\n\u001b[0;32m    123\u001b[0m \u001b[38;5;28;01mif\u001b[39;00m \u001b[38;5;129;01mnot\u001b[39;00m \u001b[38;5;28mself\u001b[39m\u001b[38;5;241m.\u001b[39mdata_queue\u001b[38;5;241m.\u001b[39mempty():\n\u001b[0;32m    124\u001b[0m     val \u001b[38;5;241m=\u001b[39m \u001b[38;5;28mself\u001b[39m\u001b[38;5;241m.\u001b[39mdata_queue\u001b[38;5;241m.\u001b[39mget()\n\u001b[1;32m--> 127\u001b[0m \u001b[38;5;28;01mif\u001b[39;00m \u001b[43mval\u001b[49m \u001b[38;5;241m==\u001b[39m \u001b[38;5;124m'\u001b[39m\u001b[38;5;124m<\u001b[39m\u001b[38;5;124m'\u001b[39m:\n\u001b[0;32m    128\u001b[0m     \u001b[38;5;28mself\u001b[39m\u001b[38;5;241m.\u001b[39mmediaplayer\u001b[38;5;241m.\u001b[39mset_rate(\u001b[38;5;28mself\u001b[39m\u001b[38;5;241m.\u001b[39mmediaplayer\u001b[38;5;241m.\u001b[39mget_rate() \u001b[38;5;241m*\u001b[39m \u001b[38;5;241m0.5\u001b[39m)\n\u001b[0;32m    129\u001b[0m     \u001b[38;5;28;01mreturn\u001b[39;00m\n",
      "\u001b[1;31mUnboundLocalError\u001b[0m: local variable 'val' referenced before assignment"
     ]
    },
    {
     "ename": "UnboundLocalError",
     "evalue": "local variable 'val' referenced before assignment",
     "output_type": "error",
     "traceback": [
      "\u001b[1;31m---------------------------------------------------------------------------\u001b[0m",
      "\u001b[1;31mUnboundLocalError\u001b[0m                         Traceback (most recent call last)",
      "Cell \u001b[1;32mIn[1], line 127\u001b[0m, in \u001b[0;36mMiniPlayer.update_ui\u001b[1;34m(self)\u001b[0m\n\u001b[0;32m    123\u001b[0m \u001b[38;5;28;01mif\u001b[39;00m \u001b[38;5;129;01mnot\u001b[39;00m \u001b[38;5;28mself\u001b[39m\u001b[38;5;241m.\u001b[39mdata_queue\u001b[38;5;241m.\u001b[39mempty():\n\u001b[0;32m    124\u001b[0m     val \u001b[38;5;241m=\u001b[39m \u001b[38;5;28mself\u001b[39m\u001b[38;5;241m.\u001b[39mdata_queue\u001b[38;5;241m.\u001b[39mget()\n\u001b[1;32m--> 127\u001b[0m \u001b[38;5;28;01mif\u001b[39;00m \u001b[43mval\u001b[49m \u001b[38;5;241m==\u001b[39m \u001b[38;5;124m'\u001b[39m\u001b[38;5;124m<\u001b[39m\u001b[38;5;124m'\u001b[39m:\n\u001b[0;32m    128\u001b[0m     \u001b[38;5;28mself\u001b[39m\u001b[38;5;241m.\u001b[39mmediaplayer\u001b[38;5;241m.\u001b[39mset_rate(\u001b[38;5;28mself\u001b[39m\u001b[38;5;241m.\u001b[39mmediaplayer\u001b[38;5;241m.\u001b[39mget_rate() \u001b[38;5;241m*\u001b[39m \u001b[38;5;241m0.5\u001b[39m)\n\u001b[0;32m    129\u001b[0m     \u001b[38;5;28;01mreturn\u001b[39;00m\n",
      "\u001b[1;31mUnboundLocalError\u001b[0m: local variable 'val' referenced before assignment"
     ]
    },
    {
     "ename": "UnboundLocalError",
     "evalue": "local variable 'val' referenced before assignment",
     "output_type": "error",
     "traceback": [
      "\u001b[1;31m---------------------------------------------------------------------------\u001b[0m",
      "\u001b[1;31mUnboundLocalError\u001b[0m                         Traceback (most recent call last)",
      "Cell \u001b[1;32mIn[1], line 127\u001b[0m, in \u001b[0;36mMiniPlayer.update_ui\u001b[1;34m(self)\u001b[0m\n\u001b[0;32m    123\u001b[0m \u001b[38;5;28;01mif\u001b[39;00m \u001b[38;5;129;01mnot\u001b[39;00m \u001b[38;5;28mself\u001b[39m\u001b[38;5;241m.\u001b[39mdata_queue\u001b[38;5;241m.\u001b[39mempty():\n\u001b[0;32m    124\u001b[0m     val \u001b[38;5;241m=\u001b[39m \u001b[38;5;28mself\u001b[39m\u001b[38;5;241m.\u001b[39mdata_queue\u001b[38;5;241m.\u001b[39mget()\n\u001b[1;32m--> 127\u001b[0m \u001b[38;5;28;01mif\u001b[39;00m \u001b[43mval\u001b[49m \u001b[38;5;241m==\u001b[39m \u001b[38;5;124m'\u001b[39m\u001b[38;5;124m<\u001b[39m\u001b[38;5;124m'\u001b[39m:\n\u001b[0;32m    128\u001b[0m     \u001b[38;5;28mself\u001b[39m\u001b[38;5;241m.\u001b[39mmediaplayer\u001b[38;5;241m.\u001b[39mset_rate(\u001b[38;5;28mself\u001b[39m\u001b[38;5;241m.\u001b[39mmediaplayer\u001b[38;5;241m.\u001b[39mget_rate() \u001b[38;5;241m*\u001b[39m \u001b[38;5;241m0.5\u001b[39m)\n\u001b[0;32m    129\u001b[0m     \u001b[38;5;28;01mreturn\u001b[39;00m\n",
      "\u001b[1;31mUnboundLocalError\u001b[0m: local variable 'val' referenced before assignment"
     ]
    },
    {
     "ename": "UnboundLocalError",
     "evalue": "local variable 'val' referenced before assignment",
     "output_type": "error",
     "traceback": [
      "\u001b[1;31m---------------------------------------------------------------------------\u001b[0m",
      "\u001b[1;31mUnboundLocalError\u001b[0m                         Traceback (most recent call last)",
      "Cell \u001b[1;32mIn[1], line 127\u001b[0m, in \u001b[0;36mMiniPlayer.update_ui\u001b[1;34m(self)\u001b[0m\n\u001b[0;32m    123\u001b[0m \u001b[38;5;28;01mif\u001b[39;00m \u001b[38;5;129;01mnot\u001b[39;00m \u001b[38;5;28mself\u001b[39m\u001b[38;5;241m.\u001b[39mdata_queue\u001b[38;5;241m.\u001b[39mempty():\n\u001b[0;32m    124\u001b[0m     val \u001b[38;5;241m=\u001b[39m \u001b[38;5;28mself\u001b[39m\u001b[38;5;241m.\u001b[39mdata_queue\u001b[38;5;241m.\u001b[39mget()\n\u001b[1;32m--> 127\u001b[0m \u001b[38;5;28;01mif\u001b[39;00m \u001b[43mval\u001b[49m \u001b[38;5;241m==\u001b[39m \u001b[38;5;124m'\u001b[39m\u001b[38;5;124m<\u001b[39m\u001b[38;5;124m'\u001b[39m:\n\u001b[0;32m    128\u001b[0m     \u001b[38;5;28mself\u001b[39m\u001b[38;5;241m.\u001b[39mmediaplayer\u001b[38;5;241m.\u001b[39mset_rate(\u001b[38;5;28mself\u001b[39m\u001b[38;5;241m.\u001b[39mmediaplayer\u001b[38;5;241m.\u001b[39mget_rate() \u001b[38;5;241m*\u001b[39m \u001b[38;5;241m0.5\u001b[39m)\n\u001b[0;32m    129\u001b[0m     \u001b[38;5;28;01mreturn\u001b[39;00m\n",
      "\u001b[1;31mUnboundLocalError\u001b[0m: local variable 'val' referenced before assignment"
     ]
    },
    {
     "ename": "UnboundLocalError",
     "evalue": "local variable 'val' referenced before assignment",
     "output_type": "error",
     "traceback": [
      "\u001b[1;31m---------------------------------------------------------------------------\u001b[0m",
      "\u001b[1;31mUnboundLocalError\u001b[0m                         Traceback (most recent call last)",
      "Cell \u001b[1;32mIn[1], line 127\u001b[0m, in \u001b[0;36mMiniPlayer.update_ui\u001b[1;34m(self)\u001b[0m\n\u001b[0;32m    123\u001b[0m \u001b[38;5;28;01mif\u001b[39;00m \u001b[38;5;129;01mnot\u001b[39;00m \u001b[38;5;28mself\u001b[39m\u001b[38;5;241m.\u001b[39mdata_queue\u001b[38;5;241m.\u001b[39mempty():\n\u001b[0;32m    124\u001b[0m     val \u001b[38;5;241m=\u001b[39m \u001b[38;5;28mself\u001b[39m\u001b[38;5;241m.\u001b[39mdata_queue\u001b[38;5;241m.\u001b[39mget()\n\u001b[1;32m--> 127\u001b[0m \u001b[38;5;28;01mif\u001b[39;00m \u001b[43mval\u001b[49m \u001b[38;5;241m==\u001b[39m \u001b[38;5;124m'\u001b[39m\u001b[38;5;124m<\u001b[39m\u001b[38;5;124m'\u001b[39m:\n\u001b[0;32m    128\u001b[0m     \u001b[38;5;28mself\u001b[39m\u001b[38;5;241m.\u001b[39mmediaplayer\u001b[38;5;241m.\u001b[39mset_rate(\u001b[38;5;28mself\u001b[39m\u001b[38;5;241m.\u001b[39mmediaplayer\u001b[38;5;241m.\u001b[39mget_rate() \u001b[38;5;241m*\u001b[39m \u001b[38;5;241m0.5\u001b[39m)\n\u001b[0;32m    129\u001b[0m     \u001b[38;5;28;01mreturn\u001b[39;00m\n",
      "\u001b[1;31mUnboundLocalError\u001b[0m: local variable 'val' referenced before assignment"
     ]
    },
    {
     "ename": "UnboundLocalError",
     "evalue": "local variable 'val' referenced before assignment",
     "output_type": "error",
     "traceback": [
      "\u001b[1;31m---------------------------------------------------------------------------\u001b[0m",
      "\u001b[1;31mUnboundLocalError\u001b[0m                         Traceback (most recent call last)",
      "Cell \u001b[1;32mIn[1], line 127\u001b[0m, in \u001b[0;36mMiniPlayer.update_ui\u001b[1;34m(self)\u001b[0m\n\u001b[0;32m    123\u001b[0m \u001b[38;5;28;01mif\u001b[39;00m \u001b[38;5;129;01mnot\u001b[39;00m \u001b[38;5;28mself\u001b[39m\u001b[38;5;241m.\u001b[39mdata_queue\u001b[38;5;241m.\u001b[39mempty():\n\u001b[0;32m    124\u001b[0m     val \u001b[38;5;241m=\u001b[39m \u001b[38;5;28mself\u001b[39m\u001b[38;5;241m.\u001b[39mdata_queue\u001b[38;5;241m.\u001b[39mget()\n\u001b[1;32m--> 127\u001b[0m \u001b[38;5;28;01mif\u001b[39;00m \u001b[43mval\u001b[49m \u001b[38;5;241m==\u001b[39m \u001b[38;5;124m'\u001b[39m\u001b[38;5;124m<\u001b[39m\u001b[38;5;124m'\u001b[39m:\n\u001b[0;32m    128\u001b[0m     \u001b[38;5;28mself\u001b[39m\u001b[38;5;241m.\u001b[39mmediaplayer\u001b[38;5;241m.\u001b[39mset_rate(\u001b[38;5;28mself\u001b[39m\u001b[38;5;241m.\u001b[39mmediaplayer\u001b[38;5;241m.\u001b[39mget_rate() \u001b[38;5;241m*\u001b[39m \u001b[38;5;241m0.5\u001b[39m)\n\u001b[0;32m    129\u001b[0m     \u001b[38;5;28;01mreturn\u001b[39;00m\n",
      "\u001b[1;31mUnboundLocalError\u001b[0m: local variable 'val' referenced before assignment"
     ]
    },
    {
     "ename": "UnboundLocalError",
     "evalue": "local variable 'val' referenced before assignment",
     "output_type": "error",
     "traceback": [
      "\u001b[1;31m---------------------------------------------------------------------------\u001b[0m",
      "\u001b[1;31mUnboundLocalError\u001b[0m                         Traceback (most recent call last)",
      "Cell \u001b[1;32mIn[1], line 127\u001b[0m, in \u001b[0;36mMiniPlayer.update_ui\u001b[1;34m(self)\u001b[0m\n\u001b[0;32m    123\u001b[0m \u001b[38;5;28;01mif\u001b[39;00m \u001b[38;5;129;01mnot\u001b[39;00m \u001b[38;5;28mself\u001b[39m\u001b[38;5;241m.\u001b[39mdata_queue\u001b[38;5;241m.\u001b[39mempty():\n\u001b[0;32m    124\u001b[0m     val \u001b[38;5;241m=\u001b[39m \u001b[38;5;28mself\u001b[39m\u001b[38;5;241m.\u001b[39mdata_queue\u001b[38;5;241m.\u001b[39mget()\n\u001b[1;32m--> 127\u001b[0m \u001b[38;5;28;01mif\u001b[39;00m \u001b[43mval\u001b[49m \u001b[38;5;241m==\u001b[39m \u001b[38;5;124m'\u001b[39m\u001b[38;5;124m<\u001b[39m\u001b[38;5;124m'\u001b[39m:\n\u001b[0;32m    128\u001b[0m     \u001b[38;5;28mself\u001b[39m\u001b[38;5;241m.\u001b[39mmediaplayer\u001b[38;5;241m.\u001b[39mset_rate(\u001b[38;5;28mself\u001b[39m\u001b[38;5;241m.\u001b[39mmediaplayer\u001b[38;5;241m.\u001b[39mget_rate() \u001b[38;5;241m*\u001b[39m \u001b[38;5;241m0.5\u001b[39m)\n\u001b[0;32m    129\u001b[0m     \u001b[38;5;28;01mreturn\u001b[39;00m\n",
      "\u001b[1;31mUnboundLocalError\u001b[0m: local variable 'val' referenced before assignment"
     ]
    },
    {
     "ename": "UnboundLocalError",
     "evalue": "local variable 'val' referenced before assignment",
     "output_type": "error",
     "traceback": [
      "\u001b[1;31m---------------------------------------------------------------------------\u001b[0m",
      "\u001b[1;31mUnboundLocalError\u001b[0m                         Traceback (most recent call last)",
      "Cell \u001b[1;32mIn[1], line 127\u001b[0m, in \u001b[0;36mMiniPlayer.update_ui\u001b[1;34m(self)\u001b[0m\n\u001b[0;32m    123\u001b[0m \u001b[38;5;28;01mif\u001b[39;00m \u001b[38;5;129;01mnot\u001b[39;00m \u001b[38;5;28mself\u001b[39m\u001b[38;5;241m.\u001b[39mdata_queue\u001b[38;5;241m.\u001b[39mempty():\n\u001b[0;32m    124\u001b[0m     val \u001b[38;5;241m=\u001b[39m \u001b[38;5;28mself\u001b[39m\u001b[38;5;241m.\u001b[39mdata_queue\u001b[38;5;241m.\u001b[39mget()\n\u001b[1;32m--> 127\u001b[0m \u001b[38;5;28;01mif\u001b[39;00m \u001b[43mval\u001b[49m \u001b[38;5;241m==\u001b[39m \u001b[38;5;124m'\u001b[39m\u001b[38;5;124m<\u001b[39m\u001b[38;5;124m'\u001b[39m:\n\u001b[0;32m    128\u001b[0m     \u001b[38;5;28mself\u001b[39m\u001b[38;5;241m.\u001b[39mmediaplayer\u001b[38;5;241m.\u001b[39mset_rate(\u001b[38;5;28mself\u001b[39m\u001b[38;5;241m.\u001b[39mmediaplayer\u001b[38;5;241m.\u001b[39mget_rate() \u001b[38;5;241m*\u001b[39m \u001b[38;5;241m0.5\u001b[39m)\n\u001b[0;32m    129\u001b[0m     \u001b[38;5;28;01mreturn\u001b[39;00m\n",
      "\u001b[1;31mUnboundLocalError\u001b[0m: local variable 'val' referenced before assignment"
     ]
    },
    {
     "ename": "UnboundLocalError",
     "evalue": "local variable 'val' referenced before assignment",
     "output_type": "error",
     "traceback": [
      "\u001b[1;31m---------------------------------------------------------------------------\u001b[0m",
      "\u001b[1;31mUnboundLocalError\u001b[0m                         Traceback (most recent call last)",
      "Cell \u001b[1;32mIn[1], line 127\u001b[0m, in \u001b[0;36mMiniPlayer.update_ui\u001b[1;34m(self)\u001b[0m\n\u001b[0;32m    123\u001b[0m \u001b[38;5;28;01mif\u001b[39;00m \u001b[38;5;129;01mnot\u001b[39;00m \u001b[38;5;28mself\u001b[39m\u001b[38;5;241m.\u001b[39mdata_queue\u001b[38;5;241m.\u001b[39mempty():\n\u001b[0;32m    124\u001b[0m     val \u001b[38;5;241m=\u001b[39m \u001b[38;5;28mself\u001b[39m\u001b[38;5;241m.\u001b[39mdata_queue\u001b[38;5;241m.\u001b[39mget()\n\u001b[1;32m--> 127\u001b[0m \u001b[38;5;28;01mif\u001b[39;00m \u001b[43mval\u001b[49m \u001b[38;5;241m==\u001b[39m \u001b[38;5;124m'\u001b[39m\u001b[38;5;124m<\u001b[39m\u001b[38;5;124m'\u001b[39m:\n\u001b[0;32m    128\u001b[0m     \u001b[38;5;28mself\u001b[39m\u001b[38;5;241m.\u001b[39mmediaplayer\u001b[38;5;241m.\u001b[39mset_rate(\u001b[38;5;28mself\u001b[39m\u001b[38;5;241m.\u001b[39mmediaplayer\u001b[38;5;241m.\u001b[39mget_rate() \u001b[38;5;241m*\u001b[39m \u001b[38;5;241m0.5\u001b[39m)\n\u001b[0;32m    129\u001b[0m     \u001b[38;5;28;01mreturn\u001b[39;00m\n",
      "\u001b[1;31mUnboundLocalError\u001b[0m: local variable 'val' referenced before assignment"
     ]
    },
    {
     "ename": "UnboundLocalError",
     "evalue": "local variable 'val' referenced before assignment",
     "output_type": "error",
     "traceback": [
      "\u001b[1;31m---------------------------------------------------------------------------\u001b[0m",
      "\u001b[1;31mUnboundLocalError\u001b[0m                         Traceback (most recent call last)",
      "Cell \u001b[1;32mIn[1], line 127\u001b[0m, in \u001b[0;36mMiniPlayer.update_ui\u001b[1;34m(self)\u001b[0m\n\u001b[0;32m    123\u001b[0m \u001b[38;5;28;01mif\u001b[39;00m \u001b[38;5;129;01mnot\u001b[39;00m \u001b[38;5;28mself\u001b[39m\u001b[38;5;241m.\u001b[39mdata_queue\u001b[38;5;241m.\u001b[39mempty():\n\u001b[0;32m    124\u001b[0m     val \u001b[38;5;241m=\u001b[39m \u001b[38;5;28mself\u001b[39m\u001b[38;5;241m.\u001b[39mdata_queue\u001b[38;5;241m.\u001b[39mget()\n\u001b[1;32m--> 127\u001b[0m \u001b[38;5;28;01mif\u001b[39;00m \u001b[43mval\u001b[49m \u001b[38;5;241m==\u001b[39m \u001b[38;5;124m'\u001b[39m\u001b[38;5;124m<\u001b[39m\u001b[38;5;124m'\u001b[39m:\n\u001b[0;32m    128\u001b[0m     \u001b[38;5;28mself\u001b[39m\u001b[38;5;241m.\u001b[39mmediaplayer\u001b[38;5;241m.\u001b[39mset_rate(\u001b[38;5;28mself\u001b[39m\u001b[38;5;241m.\u001b[39mmediaplayer\u001b[38;5;241m.\u001b[39mget_rate() \u001b[38;5;241m*\u001b[39m \u001b[38;5;241m0.5\u001b[39m)\n\u001b[0;32m    129\u001b[0m     \u001b[38;5;28;01mreturn\u001b[39;00m\n",
      "\u001b[1;31mUnboundLocalError\u001b[0m: local variable 'val' referenced before assignment"
     ]
    },
    {
     "ename": "UnboundLocalError",
     "evalue": "local variable 'val' referenced before assignment",
     "output_type": "error",
     "traceback": [
      "\u001b[1;31m---------------------------------------------------------------------------\u001b[0m",
      "\u001b[1;31mUnboundLocalError\u001b[0m                         Traceback (most recent call last)",
      "Cell \u001b[1;32mIn[1], line 127\u001b[0m, in \u001b[0;36mMiniPlayer.update_ui\u001b[1;34m(self)\u001b[0m\n\u001b[0;32m    123\u001b[0m \u001b[38;5;28;01mif\u001b[39;00m \u001b[38;5;129;01mnot\u001b[39;00m \u001b[38;5;28mself\u001b[39m\u001b[38;5;241m.\u001b[39mdata_queue\u001b[38;5;241m.\u001b[39mempty():\n\u001b[0;32m    124\u001b[0m     val \u001b[38;5;241m=\u001b[39m \u001b[38;5;28mself\u001b[39m\u001b[38;5;241m.\u001b[39mdata_queue\u001b[38;5;241m.\u001b[39mget()\n\u001b[1;32m--> 127\u001b[0m \u001b[38;5;28;01mif\u001b[39;00m \u001b[43mval\u001b[49m \u001b[38;5;241m==\u001b[39m \u001b[38;5;124m'\u001b[39m\u001b[38;5;124m<\u001b[39m\u001b[38;5;124m'\u001b[39m:\n\u001b[0;32m    128\u001b[0m     \u001b[38;5;28mself\u001b[39m\u001b[38;5;241m.\u001b[39mmediaplayer\u001b[38;5;241m.\u001b[39mset_rate(\u001b[38;5;28mself\u001b[39m\u001b[38;5;241m.\u001b[39mmediaplayer\u001b[38;5;241m.\u001b[39mget_rate() \u001b[38;5;241m*\u001b[39m \u001b[38;5;241m0.5\u001b[39m)\n\u001b[0;32m    129\u001b[0m     \u001b[38;5;28;01mreturn\u001b[39;00m\n",
      "\u001b[1;31mUnboundLocalError\u001b[0m: local variable 'val' referenced before assignment"
     ]
    },
    {
     "ename": "UnboundLocalError",
     "evalue": "local variable 'val' referenced before assignment",
     "output_type": "error",
     "traceback": [
      "\u001b[1;31m---------------------------------------------------------------------------\u001b[0m",
      "\u001b[1;31mUnboundLocalError\u001b[0m                         Traceback (most recent call last)",
      "Cell \u001b[1;32mIn[1], line 127\u001b[0m, in \u001b[0;36mMiniPlayer.update_ui\u001b[1;34m(self)\u001b[0m\n\u001b[0;32m    123\u001b[0m \u001b[38;5;28;01mif\u001b[39;00m \u001b[38;5;129;01mnot\u001b[39;00m \u001b[38;5;28mself\u001b[39m\u001b[38;5;241m.\u001b[39mdata_queue\u001b[38;5;241m.\u001b[39mempty():\n\u001b[0;32m    124\u001b[0m     val \u001b[38;5;241m=\u001b[39m \u001b[38;5;28mself\u001b[39m\u001b[38;5;241m.\u001b[39mdata_queue\u001b[38;5;241m.\u001b[39mget()\n\u001b[1;32m--> 127\u001b[0m \u001b[38;5;28;01mif\u001b[39;00m \u001b[43mval\u001b[49m \u001b[38;5;241m==\u001b[39m \u001b[38;5;124m'\u001b[39m\u001b[38;5;124m<\u001b[39m\u001b[38;5;124m'\u001b[39m:\n\u001b[0;32m    128\u001b[0m     \u001b[38;5;28mself\u001b[39m\u001b[38;5;241m.\u001b[39mmediaplayer\u001b[38;5;241m.\u001b[39mset_rate(\u001b[38;5;28mself\u001b[39m\u001b[38;5;241m.\u001b[39mmediaplayer\u001b[38;5;241m.\u001b[39mget_rate() \u001b[38;5;241m*\u001b[39m \u001b[38;5;241m0.5\u001b[39m)\n\u001b[0;32m    129\u001b[0m     \u001b[38;5;28;01mreturn\u001b[39;00m\n",
      "\u001b[1;31mUnboundLocalError\u001b[0m: local variable 'val' referenced before assignment"
     ]
    },
    {
     "ename": "UnboundLocalError",
     "evalue": "local variable 'val' referenced before assignment",
     "output_type": "error",
     "traceback": [
      "\u001b[1;31m---------------------------------------------------------------------------\u001b[0m",
      "\u001b[1;31mUnboundLocalError\u001b[0m                         Traceback (most recent call last)",
      "Cell \u001b[1;32mIn[1], line 127\u001b[0m, in \u001b[0;36mMiniPlayer.update_ui\u001b[1;34m(self)\u001b[0m\n\u001b[0;32m    123\u001b[0m \u001b[38;5;28;01mif\u001b[39;00m \u001b[38;5;129;01mnot\u001b[39;00m \u001b[38;5;28mself\u001b[39m\u001b[38;5;241m.\u001b[39mdata_queue\u001b[38;5;241m.\u001b[39mempty():\n\u001b[0;32m    124\u001b[0m     val \u001b[38;5;241m=\u001b[39m \u001b[38;5;28mself\u001b[39m\u001b[38;5;241m.\u001b[39mdata_queue\u001b[38;5;241m.\u001b[39mget()\n\u001b[1;32m--> 127\u001b[0m \u001b[38;5;28;01mif\u001b[39;00m \u001b[43mval\u001b[49m \u001b[38;5;241m==\u001b[39m \u001b[38;5;124m'\u001b[39m\u001b[38;5;124m<\u001b[39m\u001b[38;5;124m'\u001b[39m:\n\u001b[0;32m    128\u001b[0m     \u001b[38;5;28mself\u001b[39m\u001b[38;5;241m.\u001b[39mmediaplayer\u001b[38;5;241m.\u001b[39mset_rate(\u001b[38;5;28mself\u001b[39m\u001b[38;5;241m.\u001b[39mmediaplayer\u001b[38;5;241m.\u001b[39mget_rate() \u001b[38;5;241m*\u001b[39m \u001b[38;5;241m0.5\u001b[39m)\n\u001b[0;32m    129\u001b[0m     \u001b[38;5;28;01mreturn\u001b[39;00m\n",
      "\u001b[1;31mUnboundLocalError\u001b[0m: local variable 'val' referenced before assignment"
     ]
    },
    {
     "ename": "UnboundLocalError",
     "evalue": "local variable 'val' referenced before assignment",
     "output_type": "error",
     "traceback": [
      "\u001b[1;31m---------------------------------------------------------------------------\u001b[0m",
      "\u001b[1;31mUnboundLocalError\u001b[0m                         Traceback (most recent call last)",
      "Cell \u001b[1;32mIn[1], line 127\u001b[0m, in \u001b[0;36mMiniPlayer.update_ui\u001b[1;34m(self)\u001b[0m\n\u001b[0;32m    123\u001b[0m \u001b[38;5;28;01mif\u001b[39;00m \u001b[38;5;129;01mnot\u001b[39;00m \u001b[38;5;28mself\u001b[39m\u001b[38;5;241m.\u001b[39mdata_queue\u001b[38;5;241m.\u001b[39mempty():\n\u001b[0;32m    124\u001b[0m     val \u001b[38;5;241m=\u001b[39m \u001b[38;5;28mself\u001b[39m\u001b[38;5;241m.\u001b[39mdata_queue\u001b[38;5;241m.\u001b[39mget()\n\u001b[1;32m--> 127\u001b[0m \u001b[38;5;28;01mif\u001b[39;00m \u001b[43mval\u001b[49m \u001b[38;5;241m==\u001b[39m \u001b[38;5;124m'\u001b[39m\u001b[38;5;124m<\u001b[39m\u001b[38;5;124m'\u001b[39m:\n\u001b[0;32m    128\u001b[0m     \u001b[38;5;28mself\u001b[39m\u001b[38;5;241m.\u001b[39mmediaplayer\u001b[38;5;241m.\u001b[39mset_rate(\u001b[38;5;28mself\u001b[39m\u001b[38;5;241m.\u001b[39mmediaplayer\u001b[38;5;241m.\u001b[39mget_rate() \u001b[38;5;241m*\u001b[39m \u001b[38;5;241m0.5\u001b[39m)\n\u001b[0;32m    129\u001b[0m     \u001b[38;5;28;01mreturn\u001b[39;00m\n",
      "\u001b[1;31mUnboundLocalError\u001b[0m: local variable 'val' referenced before assignment"
     ]
    },
    {
     "ename": "UnboundLocalError",
     "evalue": "local variable 'val' referenced before assignment",
     "output_type": "error",
     "traceback": [
      "\u001b[1;31m---------------------------------------------------------------------------\u001b[0m",
      "\u001b[1;31mUnboundLocalError\u001b[0m                         Traceback (most recent call last)",
      "Cell \u001b[1;32mIn[1], line 127\u001b[0m, in \u001b[0;36mMiniPlayer.update_ui\u001b[1;34m(self)\u001b[0m\n\u001b[0;32m    123\u001b[0m \u001b[38;5;28;01mif\u001b[39;00m \u001b[38;5;129;01mnot\u001b[39;00m \u001b[38;5;28mself\u001b[39m\u001b[38;5;241m.\u001b[39mdata_queue\u001b[38;5;241m.\u001b[39mempty():\n\u001b[0;32m    124\u001b[0m     val \u001b[38;5;241m=\u001b[39m \u001b[38;5;28mself\u001b[39m\u001b[38;5;241m.\u001b[39mdata_queue\u001b[38;5;241m.\u001b[39mget()\n\u001b[1;32m--> 127\u001b[0m \u001b[38;5;28;01mif\u001b[39;00m \u001b[43mval\u001b[49m \u001b[38;5;241m==\u001b[39m \u001b[38;5;124m'\u001b[39m\u001b[38;5;124m<\u001b[39m\u001b[38;5;124m'\u001b[39m:\n\u001b[0;32m    128\u001b[0m     \u001b[38;5;28mself\u001b[39m\u001b[38;5;241m.\u001b[39mmediaplayer\u001b[38;5;241m.\u001b[39mset_rate(\u001b[38;5;28mself\u001b[39m\u001b[38;5;241m.\u001b[39mmediaplayer\u001b[38;5;241m.\u001b[39mget_rate() \u001b[38;5;241m*\u001b[39m \u001b[38;5;241m0.5\u001b[39m)\n\u001b[0;32m    129\u001b[0m     \u001b[38;5;28;01mreturn\u001b[39;00m\n",
      "\u001b[1;31mUnboundLocalError\u001b[0m: local variable 'val' referenced before assignment"
     ]
    },
    {
     "ename": "UnboundLocalError",
     "evalue": "local variable 'val' referenced before assignment",
     "output_type": "error",
     "traceback": [
      "\u001b[1;31m---------------------------------------------------------------------------\u001b[0m",
      "\u001b[1;31mUnboundLocalError\u001b[0m                         Traceback (most recent call last)",
      "Cell \u001b[1;32mIn[1], line 127\u001b[0m, in \u001b[0;36mMiniPlayer.update_ui\u001b[1;34m(self)\u001b[0m\n\u001b[0;32m    123\u001b[0m \u001b[38;5;28;01mif\u001b[39;00m \u001b[38;5;129;01mnot\u001b[39;00m \u001b[38;5;28mself\u001b[39m\u001b[38;5;241m.\u001b[39mdata_queue\u001b[38;5;241m.\u001b[39mempty():\n\u001b[0;32m    124\u001b[0m     val \u001b[38;5;241m=\u001b[39m \u001b[38;5;28mself\u001b[39m\u001b[38;5;241m.\u001b[39mdata_queue\u001b[38;5;241m.\u001b[39mget()\n\u001b[1;32m--> 127\u001b[0m \u001b[38;5;28;01mif\u001b[39;00m \u001b[43mval\u001b[49m \u001b[38;5;241m==\u001b[39m \u001b[38;5;124m'\u001b[39m\u001b[38;5;124m<\u001b[39m\u001b[38;5;124m'\u001b[39m:\n\u001b[0;32m    128\u001b[0m     \u001b[38;5;28mself\u001b[39m\u001b[38;5;241m.\u001b[39mmediaplayer\u001b[38;5;241m.\u001b[39mset_rate(\u001b[38;5;28mself\u001b[39m\u001b[38;5;241m.\u001b[39mmediaplayer\u001b[38;5;241m.\u001b[39mget_rate() \u001b[38;5;241m*\u001b[39m \u001b[38;5;241m0.5\u001b[39m)\n\u001b[0;32m    129\u001b[0m     \u001b[38;5;28;01mreturn\u001b[39;00m\n",
      "\u001b[1;31mUnboundLocalError\u001b[0m: local variable 'val' referenced before assignment"
     ]
    },
    {
     "ename": "UnboundLocalError",
     "evalue": "local variable 'val' referenced before assignment",
     "output_type": "error",
     "traceback": [
      "\u001b[1;31m---------------------------------------------------------------------------\u001b[0m",
      "\u001b[1;31mUnboundLocalError\u001b[0m                         Traceback (most recent call last)",
      "Cell \u001b[1;32mIn[1], line 127\u001b[0m, in \u001b[0;36mMiniPlayer.update_ui\u001b[1;34m(self)\u001b[0m\n\u001b[0;32m    123\u001b[0m \u001b[38;5;28;01mif\u001b[39;00m \u001b[38;5;129;01mnot\u001b[39;00m \u001b[38;5;28mself\u001b[39m\u001b[38;5;241m.\u001b[39mdata_queue\u001b[38;5;241m.\u001b[39mempty():\n\u001b[0;32m    124\u001b[0m     val \u001b[38;5;241m=\u001b[39m \u001b[38;5;28mself\u001b[39m\u001b[38;5;241m.\u001b[39mdata_queue\u001b[38;5;241m.\u001b[39mget()\n\u001b[1;32m--> 127\u001b[0m \u001b[38;5;28;01mif\u001b[39;00m \u001b[43mval\u001b[49m \u001b[38;5;241m==\u001b[39m \u001b[38;5;124m'\u001b[39m\u001b[38;5;124m<\u001b[39m\u001b[38;5;124m'\u001b[39m:\n\u001b[0;32m    128\u001b[0m     \u001b[38;5;28mself\u001b[39m\u001b[38;5;241m.\u001b[39mmediaplayer\u001b[38;5;241m.\u001b[39mset_rate(\u001b[38;5;28mself\u001b[39m\u001b[38;5;241m.\u001b[39mmediaplayer\u001b[38;5;241m.\u001b[39mget_rate() \u001b[38;5;241m*\u001b[39m \u001b[38;5;241m0.5\u001b[39m)\n\u001b[0;32m    129\u001b[0m     \u001b[38;5;28;01mreturn\u001b[39;00m\n",
      "\u001b[1;31mUnboundLocalError\u001b[0m: local variable 'val' referenced before assignment"
     ]
    },
    {
     "ename": "UnboundLocalError",
     "evalue": "local variable 'val' referenced before assignment",
     "output_type": "error",
     "traceback": [
      "\u001b[1;31m---------------------------------------------------------------------------\u001b[0m",
      "\u001b[1;31mUnboundLocalError\u001b[0m                         Traceback (most recent call last)",
      "Cell \u001b[1;32mIn[1], line 127\u001b[0m, in \u001b[0;36mMiniPlayer.update_ui\u001b[1;34m(self)\u001b[0m\n\u001b[0;32m    123\u001b[0m \u001b[38;5;28;01mif\u001b[39;00m \u001b[38;5;129;01mnot\u001b[39;00m \u001b[38;5;28mself\u001b[39m\u001b[38;5;241m.\u001b[39mdata_queue\u001b[38;5;241m.\u001b[39mempty():\n\u001b[0;32m    124\u001b[0m     val \u001b[38;5;241m=\u001b[39m \u001b[38;5;28mself\u001b[39m\u001b[38;5;241m.\u001b[39mdata_queue\u001b[38;5;241m.\u001b[39mget()\n\u001b[1;32m--> 127\u001b[0m \u001b[38;5;28;01mif\u001b[39;00m \u001b[43mval\u001b[49m \u001b[38;5;241m==\u001b[39m \u001b[38;5;124m'\u001b[39m\u001b[38;5;124m<\u001b[39m\u001b[38;5;124m'\u001b[39m:\n\u001b[0;32m    128\u001b[0m     \u001b[38;5;28mself\u001b[39m\u001b[38;5;241m.\u001b[39mmediaplayer\u001b[38;5;241m.\u001b[39mset_rate(\u001b[38;5;28mself\u001b[39m\u001b[38;5;241m.\u001b[39mmediaplayer\u001b[38;5;241m.\u001b[39mget_rate() \u001b[38;5;241m*\u001b[39m \u001b[38;5;241m0.5\u001b[39m)\n\u001b[0;32m    129\u001b[0m     \u001b[38;5;28;01mreturn\u001b[39;00m\n",
      "\u001b[1;31mUnboundLocalError\u001b[0m: local variable 'val' referenced before assignment"
     ]
    },
    {
     "ename": "UnboundLocalError",
     "evalue": "local variable 'val' referenced before assignment",
     "output_type": "error",
     "traceback": [
      "\u001b[1;31m---------------------------------------------------------------------------\u001b[0m",
      "\u001b[1;31mUnboundLocalError\u001b[0m                         Traceback (most recent call last)",
      "Cell \u001b[1;32mIn[1], line 127\u001b[0m, in \u001b[0;36mMiniPlayer.update_ui\u001b[1;34m(self)\u001b[0m\n\u001b[0;32m    123\u001b[0m \u001b[38;5;28;01mif\u001b[39;00m \u001b[38;5;129;01mnot\u001b[39;00m \u001b[38;5;28mself\u001b[39m\u001b[38;5;241m.\u001b[39mdata_queue\u001b[38;5;241m.\u001b[39mempty():\n\u001b[0;32m    124\u001b[0m     val \u001b[38;5;241m=\u001b[39m \u001b[38;5;28mself\u001b[39m\u001b[38;5;241m.\u001b[39mdata_queue\u001b[38;5;241m.\u001b[39mget()\n\u001b[1;32m--> 127\u001b[0m \u001b[38;5;28;01mif\u001b[39;00m \u001b[43mval\u001b[49m \u001b[38;5;241m==\u001b[39m \u001b[38;5;124m'\u001b[39m\u001b[38;5;124m<\u001b[39m\u001b[38;5;124m'\u001b[39m:\n\u001b[0;32m    128\u001b[0m     \u001b[38;5;28mself\u001b[39m\u001b[38;5;241m.\u001b[39mmediaplayer\u001b[38;5;241m.\u001b[39mset_rate(\u001b[38;5;28mself\u001b[39m\u001b[38;5;241m.\u001b[39mmediaplayer\u001b[38;5;241m.\u001b[39mget_rate() \u001b[38;5;241m*\u001b[39m \u001b[38;5;241m0.5\u001b[39m)\n\u001b[0;32m    129\u001b[0m     \u001b[38;5;28;01mreturn\u001b[39;00m\n",
      "\u001b[1;31mUnboundLocalError\u001b[0m: local variable 'val' referenced before assignment"
     ]
    },
    {
     "ename": "UnboundLocalError",
     "evalue": "local variable 'val' referenced before assignment",
     "output_type": "error",
     "traceback": [
      "\u001b[1;31m---------------------------------------------------------------------------\u001b[0m",
      "\u001b[1;31mUnboundLocalError\u001b[0m                         Traceback (most recent call last)",
      "Cell \u001b[1;32mIn[1], line 127\u001b[0m, in \u001b[0;36mMiniPlayer.update_ui\u001b[1;34m(self)\u001b[0m\n\u001b[0;32m    123\u001b[0m \u001b[38;5;28;01mif\u001b[39;00m \u001b[38;5;129;01mnot\u001b[39;00m \u001b[38;5;28mself\u001b[39m\u001b[38;5;241m.\u001b[39mdata_queue\u001b[38;5;241m.\u001b[39mempty():\n\u001b[0;32m    124\u001b[0m     val \u001b[38;5;241m=\u001b[39m \u001b[38;5;28mself\u001b[39m\u001b[38;5;241m.\u001b[39mdata_queue\u001b[38;5;241m.\u001b[39mget()\n\u001b[1;32m--> 127\u001b[0m \u001b[38;5;28;01mif\u001b[39;00m \u001b[43mval\u001b[49m \u001b[38;5;241m==\u001b[39m \u001b[38;5;124m'\u001b[39m\u001b[38;5;124m<\u001b[39m\u001b[38;5;124m'\u001b[39m:\n\u001b[0;32m    128\u001b[0m     \u001b[38;5;28mself\u001b[39m\u001b[38;5;241m.\u001b[39mmediaplayer\u001b[38;5;241m.\u001b[39mset_rate(\u001b[38;5;28mself\u001b[39m\u001b[38;5;241m.\u001b[39mmediaplayer\u001b[38;5;241m.\u001b[39mget_rate() \u001b[38;5;241m*\u001b[39m \u001b[38;5;241m0.5\u001b[39m)\n\u001b[0;32m    129\u001b[0m     \u001b[38;5;28;01mreturn\u001b[39;00m\n",
      "\u001b[1;31mUnboundLocalError\u001b[0m: local variable 'val' referenced before assignment"
     ]
    },
    {
     "ename": "UnboundLocalError",
     "evalue": "local variable 'val' referenced before assignment",
     "output_type": "error",
     "traceback": [
      "\u001b[1;31m---------------------------------------------------------------------------\u001b[0m",
      "\u001b[1;31mUnboundLocalError\u001b[0m                         Traceback (most recent call last)",
      "Cell \u001b[1;32mIn[1], line 127\u001b[0m, in \u001b[0;36mMiniPlayer.update_ui\u001b[1;34m(self)\u001b[0m\n\u001b[0;32m    123\u001b[0m \u001b[38;5;28;01mif\u001b[39;00m \u001b[38;5;129;01mnot\u001b[39;00m \u001b[38;5;28mself\u001b[39m\u001b[38;5;241m.\u001b[39mdata_queue\u001b[38;5;241m.\u001b[39mempty():\n\u001b[0;32m    124\u001b[0m     val \u001b[38;5;241m=\u001b[39m \u001b[38;5;28mself\u001b[39m\u001b[38;5;241m.\u001b[39mdata_queue\u001b[38;5;241m.\u001b[39mget()\n\u001b[1;32m--> 127\u001b[0m \u001b[38;5;28;01mif\u001b[39;00m \u001b[43mval\u001b[49m \u001b[38;5;241m==\u001b[39m \u001b[38;5;124m'\u001b[39m\u001b[38;5;124m<\u001b[39m\u001b[38;5;124m'\u001b[39m:\n\u001b[0;32m    128\u001b[0m     \u001b[38;5;28mself\u001b[39m\u001b[38;5;241m.\u001b[39mmediaplayer\u001b[38;5;241m.\u001b[39mset_rate(\u001b[38;5;28mself\u001b[39m\u001b[38;5;241m.\u001b[39mmediaplayer\u001b[38;5;241m.\u001b[39mget_rate() \u001b[38;5;241m*\u001b[39m \u001b[38;5;241m0.5\u001b[39m)\n\u001b[0;32m    129\u001b[0m     \u001b[38;5;28;01mreturn\u001b[39;00m\n",
      "\u001b[1;31mUnboundLocalError\u001b[0m: local variable 'val' referenced before assignment"
     ]
    },
    {
     "ename": "UnboundLocalError",
     "evalue": "local variable 'val' referenced before assignment",
     "output_type": "error",
     "traceback": [
      "\u001b[1;31m---------------------------------------------------------------------------\u001b[0m",
      "\u001b[1;31mUnboundLocalError\u001b[0m                         Traceback (most recent call last)",
      "Cell \u001b[1;32mIn[1], line 127\u001b[0m, in \u001b[0;36mMiniPlayer.update_ui\u001b[1;34m(self)\u001b[0m\n\u001b[0;32m    123\u001b[0m \u001b[38;5;28;01mif\u001b[39;00m \u001b[38;5;129;01mnot\u001b[39;00m \u001b[38;5;28mself\u001b[39m\u001b[38;5;241m.\u001b[39mdata_queue\u001b[38;5;241m.\u001b[39mempty():\n\u001b[0;32m    124\u001b[0m     val \u001b[38;5;241m=\u001b[39m \u001b[38;5;28mself\u001b[39m\u001b[38;5;241m.\u001b[39mdata_queue\u001b[38;5;241m.\u001b[39mget()\n\u001b[1;32m--> 127\u001b[0m \u001b[38;5;28;01mif\u001b[39;00m \u001b[43mval\u001b[49m \u001b[38;5;241m==\u001b[39m \u001b[38;5;124m'\u001b[39m\u001b[38;5;124m<\u001b[39m\u001b[38;5;124m'\u001b[39m:\n\u001b[0;32m    128\u001b[0m     \u001b[38;5;28mself\u001b[39m\u001b[38;5;241m.\u001b[39mmediaplayer\u001b[38;5;241m.\u001b[39mset_rate(\u001b[38;5;28mself\u001b[39m\u001b[38;5;241m.\u001b[39mmediaplayer\u001b[38;5;241m.\u001b[39mget_rate() \u001b[38;5;241m*\u001b[39m \u001b[38;5;241m0.5\u001b[39m)\n\u001b[0;32m    129\u001b[0m     \u001b[38;5;28;01mreturn\u001b[39;00m\n",
      "\u001b[1;31mUnboundLocalError\u001b[0m: local variable 'val' referenced before assignment"
     ]
    },
    {
     "ename": "SystemExit",
     "evalue": "0",
     "output_type": "error",
     "traceback": [
      "An exception has occurred, use %tb to see the full traceback.\n",
      "\u001b[1;31mSystemExit\u001b[0m\u001b[1;31m:\u001b[0m 0\n"
     ]
    }
   ],
   "source": [
    "#! /usr/bin/env python3\n",
    "#\n",
    "# PyQt5-based video-sync example for VLC Python bindings\n",
    "# Copyright (C) 2009-2010 the VideoLAN team\n",
    "#\n",
    "# This program is free software; you can redistribute it and/or modify\n",
    "# it under the terms of the GNU General Public License as published by\n",
    "# the Free Software Foundation; either version 2 of the License, or\n",
    "# (at your option) any later version.\n",
    "#\n",
    "# This program is distributed in the hope that it will be useful,\n",
    "# but WITHOUT ANY WARRANTY; without even the implied warranty of\n",
    "# MERCHANTABILITY or FITNESS FOR A PARTICULAR PURPOSE.  See the\n",
    "# GNU General Public License for more details.\n",
    "#\n",
    "# You should have received a copy of the GNU General Public License\n",
    "# along with this program; if not, write to the Free Software\n",
    "# Foundation, Inc., 51 Franklin Street, Fifth Floor, Boston MA 02110-1301, USA.\n",
    "#\n",
    "\"\"\"\n",
    "This module contains a bare-bones VLC player class to play videos.\n",
    "\n",
    "Author: Saveliy Yusufov, Columbia University, sy2685@columbia.edu\n",
    "Date: 25 January 2019\n",
    "\"\"\"\n",
    "\n",
    "import os\n",
    "import sys\n",
    "import queue\n",
    "import platform\n",
    "\n",
    "from PyQt5 import QtWidgets, QtGui, QtCore\n",
    "import vlc\n",
    "from network import Client\n",
    "\n",
    "\n",
    "class MiniPlayer(QtWidgets.QMainWindow):\n",
    "    \"\"\"Stripped-down PyQt5-based media player class to sync with \"master\" video.\n",
    "    \"\"\"\n",
    "\n",
    "    def __init__(self, data_queue, master=None):\n",
    "        QtWidgets.QMainWindow.__init__(self, master)\n",
    "        self.setWindowTitle(\"Mini Player\")\n",
    "        self.statusbar = self.statusBar()\n",
    "        self.statusbar.showMessage(\"Ready\")\n",
    "\n",
    "        # Create a basic vlc instance\n",
    "        self.instance = vlc.Instance()\n",
    "\n",
    "        self.media = None\n",
    "\n",
    "        # Create an empty vlc media player\n",
    "        self.mediaplayer = self.instance.media_player_new()\n",
    "\n",
    "        self.init_ui()\n",
    "        self.open_file()\n",
    "\n",
    "        self.timer = QtCore.QTimer(self)\n",
    "        self.timer.setInterval(10)\n",
    "        self.timer.timeout.connect(self.update_ui)\n",
    "\n",
    "        self.data_queue = data_queue\n",
    "        self.timer.start()\n",
    "\n",
    "    def init_ui(self):\n",
    "        \"\"\"Set up the user interface\n",
    "        \"\"\"\n",
    "        self.widget = QtWidgets.QWidget(self)\n",
    "        self.setCentralWidget(self.widget)\n",
    "\n",
    "        # In this widget, the video will be drawn\n",
    "        if platform.system() == \"Darwin\":  # for MacOS\n",
    "            self.videoframe = QtWidgets.QMacCocoaViewContainer(0)\n",
    "        else:\n",
    "            self.videoframe = QtWidgets.QFrame()\n",
    "\n",
    "        self.palette = self.videoframe.palette()\n",
    "        self.palette.setColor(QtGui.QPalette.Window, QtGui.QColor(0, 0, 0))\n",
    "        self.videoframe.setPalette(self.palette)\n",
    "        self.videoframe.setAutoFillBackground(True)\n",
    "\n",
    "        self.vboxlayout = QtWidgets.QVBoxLayout()\n",
    "        self.vboxlayout.addWidget(self.videoframe)\n",
    "        self.widget.setLayout(self.vboxlayout)\n",
    "\n",
    "    def open_file(self):\n",
    "        \"\"\"Open a media file in a MediaPlayer\n",
    "        \"\"\"\n",
    "        dialog_txt = \"Choose Media File\"\n",
    "        filename = \"KakaoTalk_20230530_102950729.mp4\"\n",
    "        if not filename:\n",
    "            return\n",
    "\n",
    "        # getOpenFileName returns a tuple, so use only the actual file name\n",
    "        self.media = self.instance.media_new(filename)\n",
    "\n",
    "        # Put the media in the media player\n",
    "        self.mediaplayer.set_media(self.media)\n",
    "\n",
    "        # Parse the metadata of the file\n",
    "        self.media.parse()\n",
    "\n",
    "        # Set the title of the track as the window title\n",
    "        self.setWindowTitle(\"{}\".format(self.media.get_meta(0)))\n",
    "\n",
    "        # The media player has to be 'connected' to the QFrame (otherwise the\n",
    "        # video would be displayed in it's own window). This is platform\n",
    "        # specific, so we must give the ID of the QFrame (or similar object) to\n",
    "        # vlc. Different platforms have different functions for this\n",
    "        if platform.system() == \"Linux\":  # for Linux using the X Server\n",
    "            self.mediaplayer.set_xwindow(int(self.videoframe.winId()))\n",
    "        elif platform.system() == \"Windows\":  # for Windows\n",
    "            self.mediaplayer.set_hwnd(int(self.videoframe.winId()))\n",
    "        elif platform.system() == \"Darwin\":  # for MacOS\n",
    "            self.mediaplayer.set_nsobject(int(self.videoframe.winId()))\n",
    "\n",
    "        # Start playing the video as soon as it loads\n",
    "        self.mediaplayer.play()\n",
    "\n",
    "    def update_ui(self):\n",
    "        self.update_statusbar()\n",
    "\n",
    "        try:\n",
    "            val = self.data_queue.get(block=False)\n",
    "        except queue.Empty:\n",
    "            return\n",
    "\n",
    "        if val == '<':\n",
    "            self.mediaplayer.set_rate(self.mediaplayer.get_rate() * 0.5)\n",
    "            return\n",
    "        if val == '>':\n",
    "            self.mediaplayer.set_rate(self.mediaplayer.get_rate() * 2)\n",
    "            return\n",
    "        if val == 'P':\n",
    "            self.mediaplayer.play()\n",
    "            return\n",
    "        if val == 'p':\n",
    "            self.mediaplayer.pause()\n",
    "            return\n",
    "        if val == 'S':\n",
    "            self.mediaplayer.stop()\n",
    "            return\n",
    "\n",
    "        val = int(val)\n",
    "        if val != self.mediaplayer.get_time():\n",
    "            self.mediaplayer.set_time(val)\n",
    "            \n",
    "    def handle_end_reached(self, event):\n",
    "        if event.type == vlc.EventType.MediaPlayerEndReached:\n",
    "            self.mediaplayer.stop()\n",
    "            self.mediaplayer.play()\n",
    "            \n",
    "            \n",
    "    def update_statusbar(self):\n",
    "        mtime = QtCore.QTime(0, 0, 0, 0)\n",
    "        time = mtime.addMSecs(self.mediaplayer.get_time())\n",
    "        self.statusbar.showMessage(time.toString())\n",
    "        \n",
    "    \n",
    "\n",
    "\n",
    "def main():\n",
    "    \"\"\"Entry point for our simple vlc player\n",
    "    \"\"\"\n",
    "    app = QtWidgets.QApplication(sys.argv)\n",
    "\n",
    "    data_queue = queue.Queue()\n",
    "\n",
    "    player = MiniPlayer(data_queue)\n",
    "    player.show()\n",
    "    player.resize(480, 480)\n",
    "\n",
    "    _ = Client(\"localhost\", 8888, data_queue)\n",
    "    sys.exit(app.exec_())\n",
    "\n",
    "\n",
    "if __name__ == \"__main__\":\n",
    "    main()\n"
   ]
  },
  {
   "cell_type": "code",
   "execution_count": null,
   "id": "a4355637",
   "metadata": {},
   "outputs": [],
   "source": []
  },
  {
   "cell_type": "code",
   "execution_count": 7,
   "id": "5af4c3a4",
   "metadata": {},
   "outputs": [
    {
     "name": "stderr",
     "output_type": "stream",
     "text": [
      "2023-05-31 19:13:02,060 - network - INFO - Connecting to localhost port 8888\n",
      "2023-05-31 19:13:02,065 - network - INFO - New data receiver thread started.\n"
     ]
    },
    {
     "ename": "SystemExit",
     "evalue": "0",
     "output_type": "error",
     "traceback": [
      "An exception has occurred, use %tb to see the full traceback.\n",
      "\u001b[1;31mSystemExit\u001b[0m\u001b[1;31m:\u001b[0m 0\n"
     ]
    }
   ],
   "source": [
    "#! /usr/bin/env python3\n",
    "#\n",
    "# PyQt5-based video-sync example for VLC Python bindings\n",
    "# Copyright (C) 2009-2010 the VideoLAN team\n",
    "#\n",
    "# This program is free software; you can redistribute it and/or modify\n",
    "# it under the terms of the GNU General Public License as published by\n",
    "# the Free Software Foundation; either version 2 of the License, or\n",
    "# (at your option) any later version.\n",
    "#\n",
    "# This program is distributed in the hope that it will be useful,\n",
    "# but WITHOUT ANY WARRANTY; without even the implied warranty of\n",
    "# MERCHANTABILITY or FITNESS FOR A PARTICULAR PURPOSE.  See the\n",
    "# GNU General Public License for more details.\n",
    "#\n",
    "# You should have received a copy of the GNU General Public License\n",
    "# along with this program; if not, write to the Free Software\n",
    "# Foundation, Inc., 51 Franklin Street, Fifth Floor, Boston MA 02110-1301, USA.\n",
    "#\n",
    "\"\"\"\n",
    "This module contains a bare-bones VLC player class to play videos.\n",
    "\n",
    "Author: Saveliy Yusufov, Columbia University, sy2685@columbia.edu\n",
    "Date: 25 January 2019\n",
    "\"\"\"\n",
    "\n",
    "import os\n",
    "import sys\n",
    "import queue\n",
    "import platform\n",
    "\n",
    "from PyQt5 import QtWidgets, QtGui, QtCore\n",
    "import vlc\n",
    "from network import Client\n",
    "\n",
    "\n",
    "class MiniPlayer(QtWidgets.QMainWindow):\n",
    "    \"\"\"Stripped-down PyQt5-based media player class to sync with \"master\" video.\n",
    "    \"\"\"\n",
    "\n",
    "    def __init__(self, data_queue, master=None):\n",
    "        QtWidgets.QMainWindow.__init__(self, master)\n",
    "        self.setWindowTitle(\"Mini Player\")\n",
    "        self.statusbar = self.statusBar()\n",
    "        self.statusbar.showMessage(\"Ready\")\n",
    "\n",
    "        # Create a basic vlc instance\n",
    "        self.instance = vlc.Instance()\n",
    "\n",
    "        self.media = None\n",
    "\n",
    "        # Create an empty vlc media player\n",
    "        self.mediaplayer = self.instance.media_player_new()\n",
    "\n",
    "        self.init_ui()\n",
    "        self.open_file()\n",
    "\n",
    "        self.timer = QtCore.QTimer(self)\n",
    "        self.timer.setInterval(10)\n",
    "        self.timer.timeout.connect(self.update_ui)\n",
    "\n",
    "        self.data_queue = data_queue\n",
    "        self.timer.start()\n",
    "\n",
    "    def init_ui(self):\n",
    "        \"\"\"Set up the user interface\n",
    "        \"\"\"\n",
    "        self.widget = QtWidgets.QWidget(self)\n",
    "        self.setCentralWidget(self.widget)\n",
    "\n",
    "        # In this widget, the video will be drawn\n",
    "        if platform.system() == \"Darwin\":  # for MacOS\n",
    "            self.videoframe = QtWidgets.QMacCocoaViewContainer(0)\n",
    "        else:\n",
    "            self.videoframe = QtWidgets.QFrame()\n",
    "\n",
    "        self.palette = self.videoframe.palette()\n",
    "        self.palette.setColor(QtGui.QPalette.Window, QtGui.QColor(0, 0, 0))\n",
    "        self.videoframe.setPalette(self.palette)\n",
    "        self.videoframe.setAutoFillBackground(True)\n",
    "\n",
    "        self.vboxlayout = QtWidgets.QVBoxLayout()\n",
    "        self.vboxlayout.addWidget(self.videoframe)\n",
    "        self.widget.setLayout(self.vboxlayout)\n",
    "\n",
    "    def open_file(self):\n",
    "        \"\"\"Open a media file in a MediaPlayer\n",
    "        \"\"\"\n",
    "        dialog_txt = \"Choose Media File\"\n",
    "        filename = \"KakaoTalk_20230530_102950729.mp4\"\n",
    "        if not filename:\n",
    "            return\n",
    "\n",
    "        # getOpenFileName returns a tuple, so use only the actual file name\n",
    "        self.media = self.instance.media_new(filename)\n",
    "\n",
    "        # Put the media in the media player\n",
    "        self.mediaplayer.set_media(self.media)\n",
    "\n",
    "        # Parse the metadata of the file\n",
    "        self.media.parse()\n",
    "\n",
    "        # Set the title of the track as the window title\n",
    "        self.setWindowTitle(\"{}\".format(self.media.get_meta(0)))\n",
    "\n",
    "        # The media player has to be 'connected' to the QFrame (otherwise the\n",
    "        # video would be displayed in it's own window). This is platform\n",
    "        # specific, so we must give the ID of the QFrame (or similar object) to\n",
    "        # vlc. Different platforms have different functions for this\n",
    "        if platform.system() == \"Linux\":  # for Linux using the X Server\n",
    "            self.mediaplayer.set_xwindow(int(self.videoframe.winId()))\n",
    "        elif platform.system() == \"Windows\":  # for Windows\n",
    "            self.mediaplayer.set_hwnd(int(self.videoframe.winId()))\n",
    "        elif platform.system() == \"Darwin\":  # for MacOS\n",
    "            self.mediaplayer.set_nsobject(int(self.videoframe.winId()))\n",
    "\n",
    "        # Start playing the video as soon as it loads\n",
    "        self.mediaplayer.play()\n",
    "\n",
    "    def update_ui(self):\n",
    "        self.update_statusbar()\n",
    "\n",
    "        if self.mediaplayer.is_playing()==0:\n",
    "                self.mediaplayer.stop()\n",
    "                self.mediaplayer.set_position(0.0)\n",
    "                self.mediaplayer.play()\n",
    "            \n",
    "            \n",
    "    def update_statusbar(self):\n",
    "        mtime = QtCore.QTime(0, 0, 0, 0)\n",
    "        time = mtime.addMSecs(self.mediaplayer.get_time())\n",
    "        self.statusbar.showMessage(time.toString())\n",
    "        \n",
    "    \n",
    "\n",
    "\n",
    "def main():\n",
    "    \"\"\"Entry point for our simple vlc player\n",
    "    \"\"\"\n",
    "    app = QtWidgets.QApplication(sys.argv)\n",
    "\n",
    "    data_queue = queue.Queue()\n",
    "\n",
    "    player = MiniPlayer(data_queue)\n",
    "    player.show()\n",
    "    player.resize(480, 480)\n",
    "\n",
    "    _ = Client(\"localhost\", 8888, data_queue)\n",
    "    sys.exit(app.exec_())\n",
    "\n",
    "\n",
    "if __name__ == \"__main__\":\n",
    "    main()\n"
   ]
  },
  {
   "cell_type": "code",
   "execution_count": null,
   "id": "f55844a8",
   "metadata": {},
   "outputs": [],
   "source": []
  }
 ],
 "metadata": {
  "kernelspec": {
   "display_name": "Python 3 (ipykernel)",
   "language": "python",
   "name": "python3"
  },
  "language_info": {
   "codemirror_mode": {
    "name": "ipython",
    "version": 3
   },
   "file_extension": ".py",
   "mimetype": "text/x-python",
   "name": "python",
   "nbconvert_exporter": "python",
   "pygments_lexer": "ipython3",
   "version": "3.10.9"
  }
 },
 "nbformat": 4,
 "nbformat_minor": 5
}
